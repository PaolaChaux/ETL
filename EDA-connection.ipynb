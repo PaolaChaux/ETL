{
 "cells": [
  {
   "cell_type": "code",
   "execution_count": 3,
   "metadata": {},
   "outputs": [],
   "source": [
    "import pandas as pd\n",
    "import json\n",
    "import psycopg2"
   ]
  },
  {
   "cell_type": "code",
   "execution_count": 2,
   "metadata": {},
   "outputs": [],
   "source": [
    "newdf = pd.read_csv('water_cleaned.csv', sep=',')"
   ]
  },
  {
   "cell_type": "code",
   "execution_count": 4,
   "metadata": {},
   "outputs": [
    {
     "name": "stdout",
     "output_type": "stream",
     "text": [
      "Conexión exitosa!!\n"
     ]
    },
    {
     "data": {
      "text/plain": [
       "<connection object at 0x0000021864BA2460; dsn: 'user=postgres password=xxx dbname=db_water host=localhost', closed: 0>"
      ]
     },
     "execution_count": 4,
     "metadata": {},
     "output_type": "execute_result"
    }
   ],
   "source": [
    "def create_connection():\n",
    "    try:\n",
    "        with open('db_config.json') as file:\n",
    "            config = json.load(file)\n",
    "        connection = psycopg2.connect(\n",
    "            host='localhost',\n",
    "            user=config[\"user\"],\n",
    "            password=config[\"password\"],\n",
    "            database='db_water'\n",
    "        )\n",
    "        print('Conexión exitosa!!')\n",
    "    except psycopg2.Error as e:\n",
    "        connection = None\n",
    "        print('No se puede conectar:', e)\n",
    "    return connection\n",
    "create_connection()"
   ]
  },
  {
   "cell_type": "markdown",
   "metadata": {},
   "source": [
    "Creating a new table to insert the data the new dataframe after EDA"
   ]
  },
  {
   "cell_type": "code",
   "execution_count": 6,
   "metadata": {},
   "outputs": [
    {
     "name": "stdout",
     "output_type": "stream",
     "text": [
      "Conexión exitosa!!\n",
      "Tabla creada con éxito en la base de datos db_water.\n"
     ]
    }
   ],
   "source": [
    "def create_tabla():\n",
    "    connection = create_connection()\n",
    "    if connection is not None:\n",
    "        try:\n",
    "            cursor = connection.cursor()\n",
    "            cursor.execute(\"\"\"\n",
    "                CREATE TABLE IF NOT EXISTS tabla_data_cleaned (\n",
    "                        id SERIAL PRIMARY KEY,\n",
    "                        ano DATE NOT NULL,\n",
    "                        nombre_departamento VARCHAR(255) NOT NULL,\n",
    "                        div_dpto INT NOT NULL,\n",
    "                        nombre_municipio VARCHAR(255) NOT NULL,\n",
    "                        divi_muni INT NOT NULL,\n",
    "                        irca_minimo FLOAT NOT NULL,\n",
    "                        irca_maximo FLOAT NOT NULL,\n",
    "                        irca_promedio FLOAT NOT NULL,\n",
    "                        nombre_parametro_analisis2 VARCHAR(255) NOT NULL,\n",
    "                        numero_parametros_promedio INT NOT NULL,\n",
    "                        rango_irca VARCHAR(255) NOT NULL,\n",
    "                        porcentaje_muestras_tratadas FLOAT NOT NULL,\n",
    "                        diferencia_muestras_tratadas_sin_tratar INT NOT NULL,\n",
    "                        rango_parametros_analizados INT NOT NULL\n",
    "                    );\n",
    "                \"\"\")\n",
    "            connection.commit()\n",
    "            print(\"Tabla creada con éxito en la base de datos db_water.\")\n",
    "        except psycopg2.Error as e:\n",
    "            print(f\"Error al crear la tabla en db_water: {e}\")\n",
    "        finally:\n",
    "            cursor.close()\n",
    "            connection.close()\n",
    "    else:\n",
    "        print(\"No se pudo establecer la conexión con la base de datos db_water.\")\n",
    "\n",
    "create_tabla()\n"
   ]
  },
  {
   "cell_type": "markdown",
   "metadata": {},
   "source": [
    "Insert data the resulting dataframe "
   ]
  },
  {
   "cell_type": "code",
   "execution_count": 8,
   "metadata": {},
   "outputs": [
    {
     "name": "stdout",
     "output_type": "stream",
     "text": [
      "Conexión exitosa!!\n",
      "Datos insertados exitosamente\n"
     ]
    }
   ],
   "source": [
    "def insertar_datos_agua(df):\n",
    "    connection = create_connection()\n",
    "    cursor = connection.cursor()\n",
    "    query = \"\"\"\n",
    "    INSERT INTO tabla_data_cleaned (ano, nombre_departamento, div_dpto, nombre_municipio, divi_muni, irca_minimo, irca_maximo, irca_promedio, nombre_parametro_analisis2, numero_parametros_promedio, rango_irca, porcentaje_muestras_tratadas, diferencia_muestras_tratadas_sin_tratar, rango_parametros_analizados)\n",
    "    VALUES (%s, %s, %s, %s, %s, %s, %s, %s, %s, %s, %s, %s, %s, %s)\n",
    "    \"\"\"\n",
    "    try:\n",
    "        for index, row in df.iterrows():\n",
    "            data = (row[\"año\"], row[\"nombre_departamento\"], row[\"div_dpto\"], row[\"nombre_municipio\"], row[\"divi_muni\"],\n",
    "                    row[\"irca_minimo\"], row[\"irca_maximo\"], row[\"irca_promedio\"], row[\"nombre_parametro_analisis2\"],\n",
    "                    row[\"numero_parametros_promedio\"], row[\"rango_irca\"], row[\"porcentaje_muestras_tratadas\"],\n",
    "                    row[\"diferencia_muestras_tratadas_sin_tratar\"], row[\"rango_parametros_analizados\"])\n",
    "            cursor.execute(query, data)\n",
    "        connection.commit()\n",
    "        print(\"Datos insertados exitosamente\")\n",
    "    except (Exception, psycopg2.DatabaseError) as error:\n",
    "        print(error)\n",
    "    finally:\n",
    "        cursor.close()\n",
    "        connection.close()\n",
    "        \n",
    "insertar_datos_agua(newdf)\n"
   ]
  }
 ],
 "metadata": {
  "kernelspec": {
   "display_name": "Python 3",
   "language": "python",
   "name": "python3"
  },
  "language_info": {
   "codemirror_mode": {
    "name": "ipython",
    "version": 3
   },
   "file_extension": ".py",
   "mimetype": "text/x-python",
   "name": "python",
   "nbconvert_exporter": "python",
   "pygments_lexer": "ipython3",
   "version": "3.11.5"
  }
 },
 "nbformat": 4,
 "nbformat_minor": 2
}
