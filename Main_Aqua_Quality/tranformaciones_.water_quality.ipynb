{
 "cells": [
  {
   "cell_type": "code",
   "execution_count": null,
   "metadata": {},
   "outputs": [],
   "source": [
    "import pandas as pd\n",
    "import psycopg2\n",
    "import json\n",
    "import numpy as np\n",
    "import matplotlib.pyplot as plt\n",
    "import seaborn as sns\n",
    "import json"
   ]
  },
  {
   "cell_type": "markdown",
   "metadata": {},
   "source": [
    "#### Creando un mayor valor a nuestros datos\n",
    "##### Transformaciones"
   ]
  },
  {
   "cell_type": "markdown",
   "metadata": {},
   "source": [
    "Identificamos los parámetros de análisis que tienen mayor influencia en la contaminación del agua:"
   ]
  },
  {
   "cell_type": "code",
   "execution_count": null,
   "metadata": {},
   "outputs": [],
   "source": [
    "parametros_influencia = water.groupby('NombreParametroAnalisis2')['IrcaPromedio'].mean().sort_values(ascending=False)\n",
    "top_15_parametros = parametros_influencia.head(15)\n",
    "top_15_parametros\n"
   ]
  },
  {
   "cell_type": "code",
   "execution_count": null,
   "metadata": {},
   "outputs": [],
   "source": [
    "water = water[water['NombreParametroAnalisis2'].isin(top_15_parametros.index)]\n",
    "\n",
    "water.head(), water.shape"
   ]
  },
  {
   "cell_type": "markdown",
   "metadata": {},
   "source": [
    "Hemos filtrado el dataset para dejar solo las filas correspondientes a los top 20 parámetros de análisis relacionados con la contaminación del agua y los demas han salido eliminados"
   ]
  },
  {
   "cell_type": "markdown",
   "metadata": {},
   "source": [
    "titulo siguiente"
   ]
  },
  {
   "cell_type": "code",
   "execution_count": null,
   "metadata": {},
   "outputs": [],
   "source": [
    "def clasificar_irca(irca):\n",
    "    if irca == 0:\n",
    "        return 'Sin información'\n",
    "    elif 0.001 <= irca <= 5:\n",
    "        return 'Sin riesgo'\n",
    "    elif 5.001 <= irca <= 14:\n",
    "        return 'Bajo'\n",
    "    elif 19.001 <= irca <= 35:\n",
    "        return 'Medio'\n",
    "    elif 54.001 <= irca <= 70:\n",
    "        return 'Alto'\n",
    "    elif 124.001 <= irca <= 100:\n",
    "        return 'Inviable sanitariamente'\n",
    "    else:\n",
    "        return 'No clasificado' \n",
    "\n",
    "water['rango_irca'] = water['IrcaPromedio'].apply(clasificar_irca)"
   ]
  },
  {
   "cell_type": "markdown",
   "metadata": {},
   "source": [
    "exlplicacion"
   ]
  },
  {
   "cell_type": "markdown",
   "metadata": {},
   "source": [
    "titulo de siguiente"
   ]
  },
  {
   "cell_type": "code",
   "execution_count": null,
   "metadata": {},
   "outputs": [],
   "source": []
  },
  {
   "cell_type": "markdown",
   "metadata": {},
   "source": []
  }
 ],
 "metadata": {
  "kernelspec": {
   "display_name": "Python 3",
   "language": "python",
   "name": "python3"
  },
  "language_info": {
   "name": "python",
   "version": "3.12.3"
  }
 },
 "nbformat": 4,
 "nbformat_minor": 2
}
