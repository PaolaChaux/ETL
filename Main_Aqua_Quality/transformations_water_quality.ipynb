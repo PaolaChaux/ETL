{
 "cells": [
  {
   "cell_type": "code",
   "execution_count": 2,
   "metadata": {},
   "outputs": [],
   "source": [
    "import pandas as pd\n",
    "import numpy as np\n",
    "from sklearn.preprocessing import MinMaxScaler\n",
    "import logging"
   ]
  },
  {
   "cell_type": "code",
   "execution_count": 3,
   "metadata": {},
   "outputs": [
    {
     "name": "stdout",
     "output_type": "stream",
     "text": [
      "    Año NombreDepartamento  Div_dpto NombreMunicipio  Divi_muni IrcaMinimo  \\\n",
      "0  2010            Bolívar        13        El Guamo      13248          0   \n",
      "1  2010            Bolívar        13        El Guamo      13248          0   \n",
      "2  2010            Bolívar        13        El Guamo      13248          0   \n",
      "3  2010            Bolívar        13        El Guamo      13248          0   \n",
      "4  2010            Bolívar        13        El Guamo      13248          0   \n",
      "\n",
      "  IrcaMaximo IrcaPromedio NombreParametroAnalisis2  MuestrasEvaluadas  \\\n",
      "0        100        37,32        Alcanilidad Total                 67   \n",
      "1        100        37,32                 Aluminio                 67   \n",
      "2        100        37,32                 Arsénico                 67   \n",
      "3        100        37,32                   Cadmio                 67   \n",
      "4        100        37,32                   Calcio                 67   \n",
      "\n",
      "   MuestrasTratadas  MuestrasSinTratar  NumeroParametrosMinimo  \\\n",
      "0                67                  0                       2   \n",
      "1                67                  0                       2   \n",
      "2                67                  0                       2   \n",
      "3                67                  0                       2   \n",
      "4                67                  0                       2   \n",
      "\n",
      "   NumeroParametrosMaximo  NumeroParametrosPromedio ResultadoMinimo  \\\n",
      "0                       7                         2              23   \n",
      "1                       7                         2             NaN   \n",
      "2                       7                         2             NaN   \n",
      "3                       7                         2             NaN   \n",
      "4                       7                         2              14   \n",
      "\n",
      "  ResultadoMaximo ResultadoPromedio  \n",
      "0              23                23  \n",
      "1             NaN               NaN  \n",
      "2             NaN               NaN  \n",
      "3             NaN               NaN  \n",
      "4              14                14  \n"
     ]
    }
   ],
   "source": [
    "water = pd.read_csv(\"C:\\\\Users\\\\JSLV3\\\\Documents\\\\watersucia.csv\",  delimiter=';' )\n",
    "water.head()"
   ]
  },
  {
   "cell_type": "markdown",
   "metadata": {},
   "source": [
    "## Creating greater value from our data\n",
    "### Transformations"
   ]
  },
  {
   "cell_type": "markdown",
   "metadata": {},
   "source": [
    "##### We identified the analysis parameters that have the greatest influence on water pollution:"
   ]
  },
  {
   "cell_type": "markdown",
   "metadata": {},
   "source": [
    "Conversión de Tipos de Datos"
   ]
  },
  {
   "cell_type": "code",
   "execution_count": 4,
   "metadata": {},
   "outputs": [
    {
     "name": "stdout",
     "output_type": "stream",
     "text": [
      "<class 'pandas.core.frame.DataFrame'>\n",
      "RangeIndex: 408311 entries, 0 to 408310\n",
      "Data columns (total 3 columns):\n",
      " #   Column        Non-Null Count   Dtype  \n",
      "---  ------        --------------   -----  \n",
      " 0   IrcaMinimo    408311 non-null  float64\n",
      " 1   IrcaMaximo    408311 non-null  float64\n",
      " 2   IrcaPromedio  408311 non-null  float64\n",
      "dtypes: float64(3)\n",
      "memory usage: 9.3 MB\n"
     ]
    },
    {
     "data": {
      "text/plain": [
       "(None,\n",
       "    IrcaMinimo  IrcaMaximo  IrcaPromedio\n",
       " 0         0.0       100.0         37.32\n",
       " 1         0.0       100.0         37.32\n",
       " 2         0.0       100.0         37.32\n",
       " 3         0.0       100.0         37.32\n",
       " 4         0.0       100.0         37.32)"
      ]
     },
     "execution_count": 4,
     "metadata": {},
     "output_type": "execute_result"
    }
   ],
   "source": [
    "# Convertir las columnas IrcaMinimo, IrcaMaximo, y IrcaPromedio a flotante\n",
    "water['IrcaMinimo'] = water['IrcaMinimo'].str.replace(',', '.').astype(float)\n",
    "water['IrcaMaximo'] = water['IrcaMaximo'].str.replace(',', '.').astype(float)\n",
    "water['IrcaPromedio'] = water['IrcaPromedio'].str.replace(',', '.').astype(float)\n",
    "\n",
    "# Mostrar la información actualizada del dataset para confirmar los cambios\n",
    "water[['IrcaMinimo', 'IrcaMaximo', 'IrcaPromedio']].info(), water[['IrcaMinimo', 'IrcaMaximo', 'IrcaPromedio']].head()\n"
   ]
  },
  {
   "cell_type": "markdown",
   "metadata": {},
   "source": [
    "IrcaMinimo, IrcaMaximo, IrcaPromedio: Estas columnas contienen valores numéricos que estaban en formato de texto y utilizaban comas como separadores decimales. La conversión a flotante es crucial porque permite realizar cálculos numéricos adecuados, que son esenciales para cualquier análisis estadístico, comparaciones o visualizaciones que impliquen estos valores."
   ]
  },
  {
   "cell_type": "markdown",
   "metadata": {},
   "source": [
    "Normalización de Datos"
   ]
  },
  {
   "cell_type": "code",
   "execution_count": 5,
   "metadata": {},
   "outputs": [
    {
     "data": {
      "text/html": [
       "<div>\n",
       "<style scoped>\n",
       "    .dataframe tbody tr th:only-of-type {\n",
       "        vertical-align: middle;\n",
       "    }\n",
       "\n",
       "    .dataframe tbody tr th {\n",
       "        vertical-align: top;\n",
       "    }\n",
       "\n",
       "    .dataframe thead th {\n",
       "        text-align: right;\n",
       "    }\n",
       "</style>\n",
       "<table border=\"1\" class=\"dataframe\">\n",
       "  <thead>\n",
       "    <tr style=\"text-align: right;\">\n",
       "      <th></th>\n",
       "      <th>MuestrasEvaluadas</th>\n",
       "      <th>MuestrasTratadas</th>\n",
       "      <th>MuestrasSinTratar</th>\n",
       "    </tr>\n",
       "  </thead>\n",
       "  <tbody>\n",
       "    <tr>\n",
       "      <th>0</th>\n",
       "      <td>0.00171</td>\n",
       "      <td>0.001768</td>\n",
       "      <td>0.0</td>\n",
       "    </tr>\n",
       "    <tr>\n",
       "      <th>1</th>\n",
       "      <td>0.00171</td>\n",
       "      <td>0.001768</td>\n",
       "      <td>0.0</td>\n",
       "    </tr>\n",
       "    <tr>\n",
       "      <th>2</th>\n",
       "      <td>0.00171</td>\n",
       "      <td>0.001768</td>\n",
       "      <td>0.0</td>\n",
       "    </tr>\n",
       "    <tr>\n",
       "      <th>3</th>\n",
       "      <td>0.00171</td>\n",
       "      <td>0.001768</td>\n",
       "      <td>0.0</td>\n",
       "    </tr>\n",
       "    <tr>\n",
       "      <th>4</th>\n",
       "      <td>0.00171</td>\n",
       "      <td>0.001768</td>\n",
       "      <td>0.0</td>\n",
       "    </tr>\n",
       "  </tbody>\n",
       "</table>\n",
       "</div>"
      ],
      "text/plain": [
       "   MuestrasEvaluadas  MuestrasTratadas  MuestrasSinTratar\n",
       "0            0.00171          0.001768                0.0\n",
       "1            0.00171          0.001768                0.0\n",
       "2            0.00171          0.001768                0.0\n",
       "3            0.00171          0.001768                0.0\n",
       "4            0.00171          0.001768                0.0"
      ]
     },
     "execution_count": 5,
     "metadata": {},
     "output_type": "execute_result"
    }
   ],
   "source": [
    "scaler = MinMaxScaler()\n",
    "columns_to_scale = ['MuestrasEvaluadas', 'MuestrasTratadas', 'MuestrasSinTratar']\n",
    "\n",
    "water[columns_to_scale] = scaler.fit_transform(water[columns_to_scale])\n",
    "\n",
    "water[columns_to_scale].head()"
   ]
  },
  {
   "cell_type": "markdown",
   "metadata": {},
   "source": [
    "MuestrasEvaluadas, MuestrasTratadas, MuestrasSinTratar: La normalización a una escala de 0 a 1 de estas columnas es fundamental para preparar los datos para algoritmos de aprendizaje automático y para facilitar comparaciones directas entre variables que originalmente tienen diferentes escalas y rangos. Por ejemplo, si una variable típicamente varía entre 0 y 1000 y otra entre 0 y 1000000, la normalización permite que ambas contribuyan equitativamente a los análisis sin que una domine debido a su mayor magnitud."
   ]
  },
  {
   "cell_type": "code",
   "execution_count": 6,
   "metadata": {},
   "outputs": [],
   "source": [
    "def standardize_column_names(df):\n",
    "    df.columns = df.columns.str.lower().str.replace(' ', '_')\n",
    "    logging.info(\"Column names standardized\")\n",
    "    return df\n",
    "\n",
    "def clean_text_data(df):\n",
    "    \"\"\" Limpia y estandariza texto en columnas específicas. \"\"\"\n",
    "    df['nombredepartamento'] = df['nombredepartamento'].str.capitalize()  # Primera letra en mayúscula, el resto en minúscula\n",
    "    df['nombremunicipio'] = df['nombremunicipio'].str.capitalize()\n",
    "    return df\n",
    "\n",
    "\n"
   ]
  },
  {
   "cell_type": "markdown",
   "metadata": {},
   "source": []
  },
  {
   "cell_type": "code",
   "execution_count": 7,
   "metadata": {},
   "outputs": [
    {
     "data": {
      "text/plain": [
       "NombreParametroAnalisis2\n",
       "ph                               23.941989\n",
       "Cromo total                      23.941989\n",
       "Olor                             23.941989\n",
       "Mesófilos                        23.941989\n",
       "Mercurio                         23.941989\n",
       "Manganeso                        23.941989\n",
       "Magnesio                         23.941989\n",
       "Hierro total                     23.941989\n",
       "Organofosforados y carbamatos    23.941989\n",
       "Alcanilidad Total                23.941989\n",
       "Fosfatos                         23.941989\n",
       "Fluoruros                        23.941989\n",
       "Plomo                            23.941989\n",
       "E.coli                           23.941989\n",
       "Dureza total                     23.941989\n",
       "Name: IrcaPromedio, dtype: float64"
      ]
     },
     "execution_count": 7,
     "metadata": {},
     "output_type": "execute_result"
    }
   ],
   "source": [
    "parametros_influencia = water.groupby('NombreParametroAnalisis2')['IrcaPromedio'].mean().sort_values(ascending=False)\n",
    "top_15_parametros = parametros_influencia.head(15)\n",
    "top_15_parametros"
   ]
  },
  {
   "cell_type": "markdown",
   "metadata": {},
   "source": [
    "All these parameters have an average IRCA of approximately 23.94, suggesting an association with a considerable risk level. This can be useful for prioritizing which water quality parameters need more critical attention in monitoring and treatment programs."
   ]
  },
  {
   "cell_type": "code",
   "execution_count": 8,
   "metadata": {},
   "outputs": [
    {
     "data": {
      "text/plain": [
       "(     Año NombreDepartamento  Div_dpto NombreMunicipio  Divi_muni  IrcaMinimo  \\\n",
       " 0   2010            Bolívar        13        El Guamo      13248         0.0   \n",
       " 13  2010            Bolívar        13        El Guamo      13248         0.0   \n",
       " 14  2010            Bolívar        13        El Guamo      13248         0.0   \n",
       " 15  2010            Bolívar        13        El Guamo      13248         0.0   \n",
       " 16  2010            Bolívar        13        El Guamo      13248         0.0   \n",
       " \n",
       "     IrcaMaximo  IrcaPromedio NombreParametroAnalisis2  MuestrasEvaluadas  \\\n",
       " 0        100.0         37.32        Alcanilidad Total            0.00171   \n",
       " 13       100.0         37.32              Cromo total            0.00171   \n",
       " 14       100.0         37.32             Dureza total            0.00171   \n",
       " 15       100.0         37.32                   E.coli            0.00171   \n",
       " 16       100.0         37.32                Fluoruros            0.00171   \n",
       " \n",
       "     MuestrasTratadas  MuestrasSinTratar  NumeroParametrosMinimo  \\\n",
       " 0           0.001768                0.0                       2   \n",
       " 13          0.001768                0.0                       2   \n",
       " 14          0.001768                0.0                       2   \n",
       " 15          0.001768                0.0                       2   \n",
       " 16          0.001768                0.0                       2   \n",
       " \n",
       "     NumeroParametrosMaximo  NumeroParametrosPromedio ResultadoMinimo  \\\n",
       " 0                        7                         2              23   \n",
       " 13                       7                         2             NaN   \n",
       " 14                       7                         2              68   \n",
       " 15                       7                         2               0   \n",
       " 16                       7                         2             NaN   \n",
       " \n",
       "    ResultadoMaximo ResultadoPromedio  \n",
       " 0               23                23  \n",
       " 13             NaN               NaN  \n",
       " 14              68                68  \n",
       " 15               1              0,13  \n",
       " 16             NaN               NaN  ,\n",
       " (142770, 18))"
      ]
     },
     "execution_count": 8,
     "metadata": {},
     "output_type": "execute_result"
    }
   ],
   "source": [
    "water = water[water['NombreParametroAnalisis2'].isin(top_15_parametros.index)]\n",
    "\n",
    "water.head(), water.shape"
   ]
  },
  {
   "cell_type": "markdown",
   "metadata": {},
   "source": [
    "We have filtered the dataset to only leave the rows corresponding to the top 15 analysis parameters related to water pollution, and the rest have been removed."
   ]
  },
  {
   "cell_type": "markdown",
   "metadata": {},
   "source": [
    "##### Classification of the Water Quality Risk Index (IRCA)"
   ]
  },
  {
   "cell_type": "code",
   "execution_count": 9,
   "metadata": {},
   "outputs": [
    {
     "name": "stdout",
     "output_type": "stream",
     "text": [
      "     rango_irca  IrcaPromedio\n",
      "0   Riesgo alto         37.32\n",
      "13  Riesgo alto         37.32\n",
      "14  Riesgo alto         37.32\n",
      "15  Riesgo alto         37.32\n",
      "16  Riesgo alto         37.32\n"
     ]
    }
   ],
   "source": [
    "def clasificar_irca(irca):\n",
    "    try:\n",
    "        # Si irca ya es numérico (float), no se intenta reemplazar comas\n",
    "        if not isinstance(irca, float):\n",
    "            irca = float(irca.replace(',', '.'))\n",
    "        if irca == 0:\n",
    "            return 'Sin información'\n",
    "        elif 0.001 <= irca <= 5:\n",
    "            return 'Sin riesgo'\n",
    "        elif 5.001 <= irca <= 14:\n",
    "            return 'Riesgo bajo'\n",
    "        elif 14.001 <= irca <= 35:\n",
    "            return 'Riesgo medio'\n",
    "        elif 35.001 <= irca <= 80:\n",
    "            return 'Riesgo alto'\n",
    "        elif 80.001 <= irca <= 100:\n",
    "            return 'Inviable sanitariamente'\n",
    "        else:\n",
    "            return 'No clasificado'\n",
    "    except ValueError:\n",
    "        return 'No clasificado'\n",
    "\n",
    "water['rango_irca'] = water['IrcaPromedio'].apply(clasificar_irca)\n",
    "print(water[['rango_irca','IrcaPromedio']].head())\n"
   ]
  },
  {
   "cell_type": "markdown",
   "metadata": {},
   "source": [
    "\n",
    "The classify_irca function transforms the numerical value of the Average IRCA into descriptive categories ranging from 'No risk' to 'Sanitarily unviable', facilitating the interpretation and decision-making in water quality management. This categorization is crucial for public health and environmental analyses, as it simplifies data visualization, allows for quick comparisons between regions, and is essential for modeling and predicting water quality, resulting in more effective interventions and evidence-based policies."
   ]
  },
  {
   "cell_type": "code",
   "execution_count": 10,
   "metadata": {},
   "outputs": [
    {
     "name": "stdout",
     "output_type": "stream",
     "text": [
      "     Año NombreDepartamento  Div_dpto NombreMunicipio  Divi_muni  IrcaMinimo  \\\n",
      "0   2010            Bolívar        13        El Guamo      13248         0.0   \n",
      "13  2010            Bolívar        13        El Guamo      13248         0.0   \n",
      "14  2010            Bolívar        13        El Guamo      13248         0.0   \n",
      "15  2010            Bolívar        13        El Guamo      13248         0.0   \n",
      "16  2010            Bolívar        13        El Guamo      13248         0.0   \n",
      "\n",
      "    IrcaMaximo  IrcaPromedio NombreParametroAnalisis2  MuestrasEvaluadas  \\\n",
      "0        100.0         37.32        Alcanilidad Total            0.00171   \n",
      "13       100.0         37.32              Cromo total            0.00171   \n",
      "14       100.0         37.32             Dureza total            0.00171   \n",
      "15       100.0         37.32                   E.coli            0.00171   \n",
      "16       100.0         37.32                Fluoruros            0.00171   \n",
      "\n",
      "    MuestrasTratadas  MuestrasSinTratar  NumeroParametrosMinimo  \\\n",
      "0           0.001768                0.0                       2   \n",
      "13          0.001768                0.0                       2   \n",
      "14          0.001768                0.0                       2   \n",
      "15          0.001768                0.0                       2   \n",
      "16          0.001768                0.0                       2   \n",
      "\n",
      "    NumeroParametrosMaximo  NumeroParametrosPromedio ResultadoMinimo  \\\n",
      "0                        7                         2              23   \n",
      "13                       7                         2             NaN   \n",
      "14                       7                         2              68   \n",
      "15                       7                         2               0   \n",
      "16                       7                         2             NaN   \n",
      "\n",
      "   ResultadoMaximo ResultadoPromedio   rango_irca  \\\n",
      "0               23                23  Riesgo alto   \n",
      "13             NaN               NaN  Riesgo alto   \n",
      "14              68                68  Riesgo alto   \n",
      "15               1              0,13  Riesgo alto   \n",
      "16             NaN               NaN  Riesgo alto   \n",
      "\n",
      "    porcentaje_muestras_tratadas  \n",
      "0                     103.400628  \n",
      "13                    103.400628  \n",
      "14                    103.400628  \n",
      "15                    103.400628  \n",
      "16                    103.400628  \n"
     ]
    }
   ],
   "source": [
    "water['porcentaje_muestras_tratadas'] = (water['MuestrasTratadas'] / water['MuestrasEvaluadas']) * 100\n",
    "print(water.head())"
   ]
  },
  {
   "cell_type": "markdown",
   "metadata": {},
   "source": [
    "Esta métrica cuantifica el éxito de los esfuerzos de tratamiento al revelar qué porción de las muestras de agua evaluadas han sido efectivamente tratadas. Un porcentaje elevado refleja una operación de tratamiento efectiva y una cobertura amplia, aspectos cruciales para la salud pública. Por otro lado, un porcentaje más bajo puede señalar oportunidades de mejora en la infraestructura o en las operaciones de tratamiento. "
   ]
  },
  {
   "cell_type": "markdown",
   "metadata": {},
   "source": [
    "Amplitud de Evaluación de Calidad del Agua:"
   ]
  },
  {
   "cell_type": "code",
   "execution_count": 11,
   "metadata": {},
   "outputs": [
    {
     "name": "stdout",
     "output_type": "stream",
     "text": [
      "    NumeroParametrosMaximo  NumeroParametrosPromedio  \\\n",
      "0                        7                         2   \n",
      "13                       7                         2   \n",
      "14                       7                         2   \n",
      "15                       7                         2   \n",
      "16                       7                         2   \n",
      "\n",
      "    rango_parametros_analizados  \n",
      "0                             5  \n",
      "13                            5  \n",
      "14                            5  \n",
      "15                            5  \n",
      "16                            5  \n"
     ]
    }
   ],
   "source": [
    "water['rango_parametros_analizados'] = water['NumeroParametrosMaximo'] - water['NumeroParametrosPromedio']\n",
    "\n",
    "print(water[['NumeroParametrosMaximo', 'NumeroParametrosPromedio', 'rango_parametros_analizados']].head())"
   ]
  },
  {
   "cell_type": "markdown",
   "metadata": {},
   "source": [
    "Esta columna se deriva de la diferencia entre el número máximo posible de parámetros que se podrían examinar y el número promedio de parámetros que efectivamente se han analizado en las pruebas de calidad del agua. Al calcular esta diferencia, obtenemos una perspectiva directa sobre la amplitud de las pruebas realizadas."
   ]
  },
  {
   "cell_type": "markdown",
   "metadata": {},
   "source": [
    "##### Data Cleaning and Variable Selection"
   ]
  },
  {
   "cell_type": "code",
   "execution_count": 12,
   "metadata": {},
   "outputs": [],
   "source": [
    "water = water.drop(['ResultadoMinimo', 'ResultadoMaximo', 'ResultadoPromedio'], axis=1)"
   ]
  },
  {
   "cell_type": "markdown",
   "metadata": {},
   "source": [
    "\n",
    "To obtain a deeper understanding of the methodology and justification behind the removal of the 'Minimum Result', 'Maximum Result', and 'Average Result' columns, we invite you to consult the EDA_water_quality file. This document contains our exploratory data analysis, which distills key criteria and reveals significant insights that have guided the cleaning of our dataset."
   ]
  },
  {
   "cell_type": "code",
   "execution_count": 13,
   "metadata": {},
   "outputs": [
    {
     "data": {
      "text/html": [
       "<div>\n",
       "<style scoped>\n",
       "    .dataframe tbody tr th:only-of-type {\n",
       "        vertical-align: middle;\n",
       "    }\n",
       "\n",
       "    .dataframe tbody tr th {\n",
       "        vertical-align: top;\n",
       "    }\n",
       "\n",
       "    .dataframe thead th {\n",
       "        text-align: right;\n",
       "    }\n",
       "</style>\n",
       "<table border=\"1\" class=\"dataframe\">\n",
       "  <thead>\n",
       "    <tr style=\"text-align: right;\">\n",
       "      <th></th>\n",
       "      <th>Año</th>\n",
       "      <th>NombreDepartamento</th>\n",
       "      <th>Div_dpto</th>\n",
       "      <th>NombreMunicipio</th>\n",
       "      <th>Divi_muni</th>\n",
       "      <th>IrcaMinimo</th>\n",
       "      <th>IrcaMaximo</th>\n",
       "      <th>IrcaPromedio</th>\n",
       "      <th>NombreParametroAnalisis2</th>\n",
       "      <th>NumeroParametrosPromedio</th>\n",
       "      <th>rango_irca</th>\n",
       "      <th>porcentaje_muestras_tratadas</th>\n",
       "      <th>rango_parametros_analizados</th>\n",
       "    </tr>\n",
       "  </thead>\n",
       "  <tbody>\n",
       "    <tr>\n",
       "      <th>0</th>\n",
       "      <td>2010</td>\n",
       "      <td>Bolívar</td>\n",
       "      <td>13</td>\n",
       "      <td>El Guamo</td>\n",
       "      <td>13248</td>\n",
       "      <td>0.0</td>\n",
       "      <td>100.0</td>\n",
       "      <td>37.32</td>\n",
       "      <td>Alcanilidad Total</td>\n",
       "      <td>2</td>\n",
       "      <td>Riesgo alto</td>\n",
       "      <td>103.400628</td>\n",
       "      <td>5</td>\n",
       "    </tr>\n",
       "    <tr>\n",
       "      <th>13</th>\n",
       "      <td>2010</td>\n",
       "      <td>Bolívar</td>\n",
       "      <td>13</td>\n",
       "      <td>El Guamo</td>\n",
       "      <td>13248</td>\n",
       "      <td>0.0</td>\n",
       "      <td>100.0</td>\n",
       "      <td>37.32</td>\n",
       "      <td>Cromo total</td>\n",
       "      <td>2</td>\n",
       "      <td>Riesgo alto</td>\n",
       "      <td>103.400628</td>\n",
       "      <td>5</td>\n",
       "    </tr>\n",
       "    <tr>\n",
       "      <th>14</th>\n",
       "      <td>2010</td>\n",
       "      <td>Bolívar</td>\n",
       "      <td>13</td>\n",
       "      <td>El Guamo</td>\n",
       "      <td>13248</td>\n",
       "      <td>0.0</td>\n",
       "      <td>100.0</td>\n",
       "      <td>37.32</td>\n",
       "      <td>Dureza total</td>\n",
       "      <td>2</td>\n",
       "      <td>Riesgo alto</td>\n",
       "      <td>103.400628</td>\n",
       "      <td>5</td>\n",
       "    </tr>\n",
       "    <tr>\n",
       "      <th>15</th>\n",
       "      <td>2010</td>\n",
       "      <td>Bolívar</td>\n",
       "      <td>13</td>\n",
       "      <td>El Guamo</td>\n",
       "      <td>13248</td>\n",
       "      <td>0.0</td>\n",
       "      <td>100.0</td>\n",
       "      <td>37.32</td>\n",
       "      <td>E.coli</td>\n",
       "      <td>2</td>\n",
       "      <td>Riesgo alto</td>\n",
       "      <td>103.400628</td>\n",
       "      <td>5</td>\n",
       "    </tr>\n",
       "    <tr>\n",
       "      <th>16</th>\n",
       "      <td>2010</td>\n",
       "      <td>Bolívar</td>\n",
       "      <td>13</td>\n",
       "      <td>El Guamo</td>\n",
       "      <td>13248</td>\n",
       "      <td>0.0</td>\n",
       "      <td>100.0</td>\n",
       "      <td>37.32</td>\n",
       "      <td>Fluoruros</td>\n",
       "      <td>2</td>\n",
       "      <td>Riesgo alto</td>\n",
       "      <td>103.400628</td>\n",
       "      <td>5</td>\n",
       "    </tr>\n",
       "  </tbody>\n",
       "</table>\n",
       "</div>"
      ],
      "text/plain": [
       "     Año NombreDepartamento  Div_dpto NombreMunicipio  Divi_muni  IrcaMinimo  \\\n",
       "0   2010            Bolívar        13        El Guamo      13248         0.0   \n",
       "13  2010            Bolívar        13        El Guamo      13248         0.0   \n",
       "14  2010            Bolívar        13        El Guamo      13248         0.0   \n",
       "15  2010            Bolívar        13        El Guamo      13248         0.0   \n",
       "16  2010            Bolívar        13        El Guamo      13248         0.0   \n",
       "\n",
       "    IrcaMaximo  IrcaPromedio NombreParametroAnalisis2  \\\n",
       "0        100.0         37.32        Alcanilidad Total   \n",
       "13       100.0         37.32              Cromo total   \n",
       "14       100.0         37.32             Dureza total   \n",
       "15       100.0         37.32                   E.coli   \n",
       "16       100.0         37.32                Fluoruros   \n",
       "\n",
       "    NumeroParametrosPromedio   rango_irca  porcentaje_muestras_tratadas  \\\n",
       "0                          2  Riesgo alto                    103.400628   \n",
       "13                         2  Riesgo alto                    103.400628   \n",
       "14                         2  Riesgo alto                    103.400628   \n",
       "15                         2  Riesgo alto                    103.400628   \n",
       "16                         2  Riesgo alto                    103.400628   \n",
       "\n",
       "    rango_parametros_analizados  \n",
       "0                             5  \n",
       "13                            5  \n",
       "14                            5  \n",
       "15                            5  \n",
       "16                            5  "
      ]
     },
     "execution_count": 13,
     "metadata": {},
     "output_type": "execute_result"
    }
   ],
   "source": [
    "columnas_a_eliminar = ['MuestrasTratadas', 'MuestrasEvaluadas', 'MuestrasSinTratar',\n",
    "                      'NumeroParametrosMinimo', 'NumeroParametrosMaximo']\n",
    "water = water.drop(columns=columnas_a_eliminar)\n",
    "\n",
    "\n",
    "water.head()"
   ]
  },
  {
   "cell_type": "code",
   "execution_count": 16,
   "metadata": {},
   "outputs": [
    {
     "name": "stdout",
     "output_type": "stream",
     "text": [
      "     año nombre_departamento  div_dpto nombre_municipio  divi_muni  \\\n",
      "0   2010             Bolívar        13         El Guamo      13248   \n",
      "13  2010             Bolívar        13         El Guamo      13248   \n",
      "14  2010             Bolívar        13         El Guamo      13248   \n",
      "15  2010             Bolívar        13         El Guamo      13248   \n",
      "16  2010             Bolívar        13         El Guamo      13248   \n",
      "\n",
      "    irca_minimo  irca_maximo  irca_promedio nombre_parametro_analisis  \\\n",
      "0           0.0        100.0          37.32         Alcanilidad Total   \n",
      "13          0.0        100.0          37.32               Cromo total   \n",
      "14          0.0        100.0          37.32              Dureza total   \n",
      "15          0.0        100.0          37.32                    E.coli   \n",
      "16          0.0        100.0          37.32                 Fluoruros   \n",
      "\n",
      "    numero_parametros_promedio   rango_irca  rango_parametros_analizados  \\\n",
      "0                            2  Riesgo alto                   103.400628   \n",
      "13                           2  Riesgo alto                   103.400628   \n",
      "14                           2  Riesgo alto                   103.400628   \n",
      "15                           2  Riesgo alto                   103.400628   \n",
      "16                           2  Riesgo alto                   103.400628   \n",
      "\n",
      "    porcentaje_muestras_tratadas  \n",
      "0                              5  \n",
      "13                             5  \n",
      "14                             5  \n",
      "15                             5  \n",
      "16                             5  \n"
     ]
    }
   ],
   "source": [
    "new_column_names = [\n",
    "    \"año\", \n",
    "    \"nombre_departamento\", \n",
    "    \"div_dpto\", \n",
    "    \"nombre_municipio\", \n",
    "    \"divi_muni\", \n",
    "    \"irca_minimo\", \n",
    "    \"irca_maximo\", \n",
    "    \"irca_promedio\", \n",
    "    \"nombre_parametro_analisis\", \n",
    "    \"numero_parametros_promedio\", \n",
    "    \"rango_irca\",\n",
    "    \"rango_parametros_analizados\",\n",
    "    \"porcentaje_muestras_tratadas\"\n",
    "    \n",
    "    \n",
    "]\n",
    "water.columns = new_column_names\n",
    "print(water.head())"
   ]
  },
  {
   "cell_type": "code",
   "execution_count": 17,
   "metadata": {},
   "outputs": [],
   "source": [
    "water.to_csv('water_cleaned.csv', index=False)"
   ]
  }
 ],
 "metadata": {
  "kernelspec": {
   "display_name": "Python 3",
   "language": "python",
   "name": "python3"
  },
  "language_info": {
   "codemirror_mode": {
    "name": "ipython",
    "version": 3
   },
   "file_extension": ".py",
   "mimetype": "text/x-python",
   "name": "python",
   "nbconvert_exporter": "python",
   "pygments_lexer": "ipython3",
   "version": "3.12.2"
  }
 },
 "nbformat": 4,
 "nbformat_minor": 2
}
