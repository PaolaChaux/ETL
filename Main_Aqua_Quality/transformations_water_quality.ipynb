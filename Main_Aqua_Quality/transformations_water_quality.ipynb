{
 "cells": [
  {
   "cell_type": "code",
   "execution_count": null,
   "metadata": {},
   "outputs": [],
   "source": [
    "import pandas as pd\n",
    "import psycopg2\n",
    "import json\n",
    "import numpy as np\n",
    "import matplotlib.pyplot as plt\n",
    "import seaborn as sns\n",
    "import json"
   ]
  },
  {
   "cell_type": "code",
   "execution_count": null,
   "metadata": {},
   "outputs": [],
   "source": []
  },
  {
   "cell_type": "markdown",
   "metadata": {},
   "source": [
    "## Creando un mayor valor a nuestros datos\n",
    "### Transformaciones"
   ]
  },
  {
   "cell_type": "markdown",
   "metadata": {},
   "source": [
    "##### Identificamos los parámetros de análisis que tienen mayor influencia en la contaminación del agua:"
   ]
  },
  {
   "cell_type": "code",
   "execution_count": null,
   "metadata": {},
   "outputs": [],
   "source": [
    "parametros_influencia = water.groupby('NombreParametroAnalisis2')['IrcaPromedio'].mean().sort_values(ascending=False)\n",
    "top_15_parametros = parametros_influencia.head(15)\n",
    "top_15_parametros\n"
   ]
  },
  {
   "cell_type": "markdown",
   "metadata": {},
   "source": [
    "Todos estos parámetros tienen una media de IRCA de aproximadamente 23.94, lo que sugiere una asociación con un nivel de riesgo considerable. Esto puede ser útil para priorizar qué parámetros de calidad del agua necesitan atención más crítica en los programas de monitoreo y tratamiento."
   ]
  },
  {
   "cell_type": "code",
   "execution_count": null,
   "metadata": {},
   "outputs": [],
   "source": [
    "water = water[water['NombreParametroAnalisis2'].isin(top_15_parametros.index)]\n",
    "\n",
    "water.head(), water.shape"
   ]
  },
  {
   "cell_type": "markdown",
   "metadata": {},
   "source": [
    "Hemos filtrado el dataset para dejar solo las filas correspondientes al top 15 parámetros de análisis relacionados con la contaminación del agua y los demas han salido eliminados"
   ]
  },
  {
   "cell_type": "markdown",
   "metadata": {},
   "source": [
    "##### Clasificación del Índice de Riesgo de la Calidad del Agua (IRCA)"
   ]
  },
  {
   "cell_type": "code",
   "execution_count": null,
   "metadata": {},
   "outputs": [],
   "source": [
    "def clasificar_irca(irca):\n",
    "    try:\n",
    "        irca = float(irca.replace(',', '.'))\n",
    "        if irca == 0:\n",
    "            return 'Sin información'\n",
    "        elif 0.001 <= irca <= 5:\n",
    "            return 'Sin riesgo'\n",
    "        elif 5.001 <= irca <= 14:\n",
    "            return 'Riesgo bajo'\n",
    "        elif 14.001 <= irca <= 35:\n",
    "            return 'Riesgo medio'\n",
    "        elif 35.001 <= irca <= 80:\n",
    "            return 'Riesgo alto'\n",
    "        elif 80.001 <= irca <= 100:\n",
    "            return 'Inviable sanitariamente'\n",
    "        else:\n",
    "            return 'No clasificado'\n",
    "    except ValueError:\n",
    "        return 'No clasificado'\n",
    "\n",
    "water['rango_irca'] = water['IrcaPromedio'].apply(clasificar_irca)"
   ]
  },
  {
   "cell_type": "markdown",
   "metadata": {},
   "source": [
    "La función clasificar_irca transforma el valor numérico del IrcaPromedio en categorías descriptivas que van desde 'Sin riesgo' hasta 'Inviable sanitariamente', facilitando la interpretación y toma de decisiones en la gestión de la calidad del agua. Esta categorización es crucial para los análisis de salud pública y ambientales, ya que simplifica la visualización de los datos, permite una comparación rápida entre regiones y es esencial para modelar y prever la calidad del agua, lo que resulta en intervenciones más efectivas y políticas basadas en evidencia."
   ]
  },
  {
   "cell_type": "markdown",
   "metadata": {},
   "source": [
    "titulo de siguiente"
   ]
  },
  {
   "cell_type": "code",
   "execution_count": null,
   "metadata": {},
   "outputs": [],
   "source": []
  },
  {
   "cell_type": "markdown",
   "metadata": {},
   "source": []
  },
  {
   "cell_type": "code",
   "execution_count": null,
   "metadata": {},
   "outputs": [],
   "source": [
    "water = water.drop(['ResultadoMinimo', 'ResultadoMaximo', 'ResultadoPromedio'], axis=1)"
   ]
  },
  {
   "cell_type": "code",
   "execution_count": null,
   "metadata": {},
   "outputs": [],
   "source": [
    "columnas_a_eliminar = ['MuestrasTratadas', 'MuestrasEvaluadas', 'MuestrasSinTratar',\n",
    "                      'NumeroParametrosMinimo', 'NumeroParametrosMaximo', 'EsAtipico']\n",
    "water = water.drop(columns=columnas_a_eliminar)\n",
    "\n",
    "\n",
    "water.head()"
   ]
  },
  {
   "cell_type": "code",
   "execution_count": null,
   "metadata": {},
   "outputs": [],
   "source": [
    "new_column_names = [\n",
    "    \"año\", \n",
    "    \"nombre_departamento\", \n",
    "    \"div_dpto\", \n",
    "    \"nombre_municipio\", \n",
    "    \"divi_muni\", \n",
    "    \"irca_minimo\", \n",
    "    \"irca_maximo\", \n",
    "    \"irca_promedio\", \n",
    "    \"rango_irca\", \n",
    "    \"nombre_parametro_analisis\", \n",
    "    \"numero_parametros_promedio\", \n",
    "    \"rango_parametros_analizados\",\n",
    "    \"diferencia_muestras_tratadas_sin_tratar\"\n",
    "    \n",
    "]\n",
    "water.columns = new_column_names\n",
    "print(water.head())"
   ]
  }
 ],
 "metadata": {
  "kernelspec": {
   "display_name": "Python 3",
   "language": "python",
   "name": "python3"
  },
  "language_info": {
   "name": "python",
   "version": "3.12.2"
  }
 },
 "nbformat": 4,
 "nbformat_minor": 2
}
