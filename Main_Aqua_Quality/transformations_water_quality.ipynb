{
 "cells": [
  {
   "cell_type": "code",
   "execution_count": 1,
   "metadata": {},
   "outputs": [],
   "source": [
    "import pandas as pd\n",
    "import numpy as np\n",
    "from sklearn.preprocessing import MinMaxScaler\n",
    "import logging"
   ]
  },
  {
   "cell_type": "code",
   "execution_count": 2,
   "metadata": {},
   "outputs": [
    {
     "name": "stdout",
     "output_type": "stream",
     "text": [
      "    Año NombreDepartamento  Div_dpto NombreMunicipio  Divi_muni IrcaMinimo  \\\n",
      "0  2010            Bolívar        13        El Guamo      13248          0   \n",
      "1  2010            Bolívar        13        El Guamo      13248          0   \n",
      "2  2010            Bolívar        13        El Guamo      13248          0   \n",
      "3  2010            Bolívar        13        El Guamo      13248          0   \n",
      "4  2010            Bolívar        13        El Guamo      13248          0   \n",
      "\n",
      "  IrcaMaximo IrcaPromedio NombreParametroAnalisis2  MuestrasEvaluadas  \\\n",
      "0        100        37,32        Alcanilidad Total                 67   \n",
      "1        100        37,32                 Aluminio                 67   \n",
      "2        100        37,32                 Arsénico                 67   \n",
      "3        100        37,32                   Cadmio                 67   \n",
      "4        100        37,32                   Calcio                 67   \n",
      "\n",
      "   MuestrasTratadas  MuestrasSinTratar  NumeroParametrosMinimo  \\\n",
      "0                67                  0                       2   \n",
      "1                67                  0                       2   \n",
      "2                67                  0                       2   \n",
      "3                67                  0                       2   \n",
      "4                67                  0                       2   \n",
      "\n",
      "   NumeroParametrosMaximo  NumeroParametrosPromedio ResultadoMinimo  \\\n",
      "0                       7                         2              23   \n",
      "1                       7                         2             NaN   \n",
      "2                       7                         2             NaN   \n",
      "3                       7                         2             NaN   \n",
      "4                       7                         2              14   \n",
      "\n",
      "  ResultadoMaximo ResultadoPromedio  \n",
      "0              23                23  \n",
      "1             NaN               NaN  \n",
      "2             NaN               NaN  \n",
      "3             NaN               NaN  \n",
      "4              14                14  \n"
     ]
    }
   ],
   "source": [
    "# Utilizando raw string para la ruta del archivo\n",
    "archivo_csv = r\"C:\\Users\\JSLV3\\Documents\\5to Semestre\\ETL\\Proyecto Water Quality\\1ra parte\\watersucia.csv\"\n",
    "\n",
    "# Cargar los datos desde el archivo CSV\n",
    "water = pd.read_csv(archivo_csv, delimiter=';')\n",
    "\n",
    "# Mostrar las primeras filas del DataFrame\n",
    "print(water.head())\n",
    "\n"
   ]
  },
  {
   "cell_type": "markdown",
   "metadata": {},
   "source": [
    "## Creating greater value from our data\n",
    "### Transformations"
   ]
  },
  {
   "cell_type": "markdown",
   "metadata": {},
   "source": [
    "##### We identified the analysis parameters that have the greatest influence on water pollution:"
   ]
  },
  {
   "cell_type": "markdown",
   "metadata": {},
   "source": [
    "Conversión de Tipos de Datos"
   ]
  },
  {
   "cell_type": "code",
   "execution_count": 3,
   "metadata": {},
   "outputs": [
    {
     "name": "stdout",
     "output_type": "stream",
     "text": [
      "<class 'pandas.core.frame.DataFrame'>\n",
      "RangeIndex: 408311 entries, 0 to 408310\n",
      "Data columns (total 3 columns):\n",
      " #   Column        Non-Null Count   Dtype  \n",
      "---  ------        --------------   -----  \n",
      " 0   IrcaMinimo    408311 non-null  float64\n",
      " 1   IrcaMaximo    408311 non-null  float64\n",
      " 2   IrcaPromedio  408311 non-null  float64\n",
      "dtypes: float64(3)\n",
      "memory usage: 9.3 MB\n"
     ]
    },
    {
     "data": {
      "text/plain": [
       "(None,\n",
       "    IrcaMinimo  IrcaMaximo  IrcaPromedio\n",
       " 0         0.0       100.0         37.32\n",
       " 1         0.0       100.0         37.32\n",
       " 2         0.0       100.0         37.32\n",
       " 3         0.0       100.0         37.32\n",
       " 4         0.0       100.0         37.32)"
      ]
     },
     "execution_count": 3,
     "metadata": {},
     "output_type": "execute_result"
    }
   ],
   "source": [
    "# Convertir las columnas IrcaMinimo, IrcaMaximo, y IrcaPromedio a flotante\n",
    "water['IrcaMinimo'] = water['IrcaMinimo'].str.replace(',', '.').astype(float)\n",
    "water['IrcaMaximo'] = water['IrcaMaximo'].str.replace(',', '.').astype(float)\n",
    "water['IrcaPromedio'] = water['IrcaPromedio'].str.replace(',', '.').astype(float)\n",
    "\n",
    "# Mostrar la información actualizada del dataset para confirmar los cambios\n",
    "water[['IrcaMinimo', 'IrcaMaximo', 'IrcaPromedio']].info(), water[['IrcaMinimo', 'IrcaMaximo', 'IrcaPromedio']].head()\n"
   ]
  },
  {
   "cell_type": "markdown",
   "metadata": {},
   "source": [
    "IrcaMinimo, IrcaMaximo, IrcaPromedio: Estas columnas contienen valores numéricos que estaban en formato de texto y utilizaban comas como separadores decimales. La conversión a flotante es crucial porque permite realizar cálculos numéricos adecuados, que son esenciales para cualquier análisis estadístico, comparaciones o visualizaciones que impliquen estos valores."
   ]
  },
  {
   "cell_type": "markdown",
   "metadata": {},
   "source": [
    "Normalización de Datos"
   ]
  },
  {
   "cell_type": "code",
   "execution_count": 4,
   "metadata": {},
   "outputs": [
    {
     "ename": "NameError",
     "evalue": "name 'MinMaxScaler' is not defined",
     "output_type": "error",
     "traceback": [
      "\u001b[1;31m---------------------------------------------------------------------------\u001b[0m",
      "\u001b[1;31mNameError\u001b[0m                                 Traceback (most recent call last)",
      "Cell \u001b[1;32mIn[4], line 1\u001b[0m\n\u001b[1;32m----> 1\u001b[0m scaler \u001b[38;5;241m=\u001b[39m \u001b[43mMinMaxScaler\u001b[49m()\n\u001b[0;32m      2\u001b[0m columns_to_scale \u001b[38;5;241m=\u001b[39m [\u001b[38;5;124m'\u001b[39m\u001b[38;5;124mMuestrasEvaluadas\u001b[39m\u001b[38;5;124m'\u001b[39m, \u001b[38;5;124m'\u001b[39m\u001b[38;5;124mMuestrasTratadas\u001b[39m\u001b[38;5;124m'\u001b[39m, \u001b[38;5;124m'\u001b[39m\u001b[38;5;124mMuestrasSinTratar\u001b[39m\u001b[38;5;124m'\u001b[39m]\n\u001b[0;32m      4\u001b[0m water[columns_to_scale] \u001b[38;5;241m=\u001b[39m scaler\u001b[38;5;241m.\u001b[39mfit_transform(water[columns_to_scale])\n",
      "\u001b[1;31mNameError\u001b[0m: name 'MinMaxScaler' is not defined"
     ]
    }
   ],
   "source": [
    "scaler = MinMaxScaler()\n",
    "columns_to_scale = ['MuestrasEvaluadas', 'MuestrasTratadas', 'MuestrasSinTratar']\n",
    "\n",
    "water[columns_to_scale] = scaler.fit_transform(water[columns_to_scale])\n",
    "\n",
    "water[columns_to_scale].head()"
   ]
  },
  {
   "cell_type": "markdown",
   "metadata": {},
   "source": [
    "MuestrasEvaluadas, MuestrasTratadas, MuestrasSinTratar: La normalización a una escala de 0 a 1 de estas columnas es fundamental para preparar los datos para algoritmos de aprendizaje automático y para facilitar comparaciones directas entre variables que originalmente tienen diferentes escalas y rangos. Por ejemplo, si una variable típicamente varía entre 0 y 1000 y otra entre 0 y 1000000, la normalización permite que ambas contribuyan equitativamente a los análisis sin que una domine debido a su mayor magnitud."
   ]
  },
  {
   "cell_type": "code",
   "execution_count": 5,
   "metadata": {},
   "outputs": [],
   "source": [
    "def standardize_column_names(df):\n",
    "    df.columns = df.columns.str.lower().str.replace(' ', '_')\n",
    "    logging.info(\"Column names standardized\")\n",
    "    return df\n",
    "\n",
    "def clean_text_data(df):\n",
    "    \"\"\" Limpia y estandariza texto en columnas específicas. \"\"\"\n",
    "    df['nombredepartamento'] = df['nombredepartamento'].str.capitalize()  # Primera letra en mayúscula, el resto en minúscula\n",
    "    df['nombremunicipio'] = df['nombremunicipio'].str.capitalize()\n",
    "    return df\n",
    "\n",
    "\n"
   ]
  },
  {
   "cell_type": "markdown",
   "metadata": {},
   "source": []
  },
  {
   "cell_type": "markdown",
   "metadata": {},
   "source": []
  },
  {
   "cell_type": "code",
   "execution_count": 6,
   "metadata": {},
   "outputs": [
    {
     "data": {
      "text/plain": [
       "NombreParametroAnalisis2\n",
       "ph                               23.941989\n",
       "Cromo total                      23.941989\n",
       "Olor                             23.941989\n",
       "Mesófilos                        23.941989\n",
       "Mercurio                         23.941989\n",
       "Manganeso                        23.941989\n",
       "Magnesio                         23.941989\n",
       "Hierro total                     23.941989\n",
       "Organofosforados y carbamatos    23.941989\n",
       "Alcanilidad Total                23.941989\n",
       "Fosfatos                         23.941989\n",
       "Fluoruros                        23.941989\n",
       "Plomo                            23.941989\n",
       "E.coli                           23.941989\n",
       "Dureza total                     23.941989\n",
       "Name: IrcaPromedio, dtype: float64"
      ]
     },
     "execution_count": 6,
     "metadata": {},
     "output_type": "execute_result"
    }
   ],
   "source": [
    "parametros_influencia = water.groupby('NombreParametroAnalisis2')['IrcaPromedio'].mean().sort_values(ascending=False)\n",
    "top_15_parametros = parametros_influencia.head(15)\n",
    "top_15_parametros"
   ]
  },
  {
   "cell_type": "markdown",
   "metadata": {},
   "source": [
    "All these parameters have an average IRCA of approximately 23.94, suggesting an association with a considerable risk level. This can be useful for prioritizing which water quality parameters need more critical attention in monitoring and treatment programs."
   ]
  },
  {
   "cell_type": "code",
   "execution_count": 7,
   "metadata": {},
   "outputs": [
    {
     "data": {
      "text/plain": [
       "(     Año NombreDepartamento  Div_dpto NombreMunicipio  Divi_muni  IrcaMinimo  \\\n",
       " 0   2010            Bolívar        13        El Guamo      13248         0.0   \n",
       " 13  2010            Bolívar        13        El Guamo      13248         0.0   \n",
       " 14  2010            Bolívar        13        El Guamo      13248         0.0   \n",
       " 15  2010            Bolívar        13        El Guamo      13248         0.0   \n",
       " 16  2010            Bolívar        13        El Guamo      13248         0.0   \n",
       " \n",
       "     IrcaMaximo  IrcaPromedio NombreParametroAnalisis2  MuestrasEvaluadas  \\\n",
       " 0        100.0         37.32        Alcanilidad Total                 67   \n",
       " 13       100.0         37.32              Cromo total                 67   \n",
       " 14       100.0         37.32             Dureza total                 67   \n",
       " 15       100.0         37.32                   E.coli                 67   \n",
       " 16       100.0         37.32                Fluoruros                 67   \n",
       " \n",
       "     MuestrasTratadas  MuestrasSinTratar  NumeroParametrosMinimo  \\\n",
       " 0                 67                  0                       2   \n",
       " 13                67                  0                       2   \n",
       " 14                67                  0                       2   \n",
       " 15                67                  0                       2   \n",
       " 16                67                  0                       2   \n",
       " \n",
       "     NumeroParametrosMaximo  NumeroParametrosPromedio ResultadoMinimo  \\\n",
       " 0                        7                         2              23   \n",
       " 13                       7                         2             NaN   \n",
       " 14                       7                         2              68   \n",
       " 15                       7                         2               0   \n",
       " 16                       7                         2             NaN   \n",
       " \n",
       "    ResultadoMaximo ResultadoPromedio  \n",
       " 0               23                23  \n",
       " 13             NaN               NaN  \n",
       " 14              68                68  \n",
       " 15               1              0,13  \n",
       " 16             NaN               NaN  ,\n",
       " (142770, 18))"
      ]
     },
     "execution_count": 7,
     "metadata": {},
     "output_type": "execute_result"
    }
   ],
   "source": [
    "water = water[water['NombreParametroAnalisis2'].isin(top_15_parametros.index)]\n",
    "\n",
    "water.head(), water.shape"
   ]
  },
  {
   "cell_type": "markdown",
   "metadata": {},
   "source": [
    "We have filtered the dataset to only leave the rows corresponding to the top 15 analysis parameters related to water pollution, and the rest have been removed."
   ]
  },
  {
   "cell_type": "markdown",
   "metadata": {},
   "source": []
  },
  {
   "cell_type": "code",
   "execution_count": 12,
   "metadata": {},
   "outputs": [
    {
     "data": {
      "text/html": [
       "<div>\n",
       "<style scoped>\n",
       "    .dataframe tbody tr th:only-of-type {\n",
       "        vertical-align: middle;\n",
       "    }\n",
       "\n",
       "    .dataframe tbody tr th {\n",
       "        vertical-align: top;\n",
       "    }\n",
       "\n",
       "    .dataframe thead th {\n",
       "        text-align: right;\n",
       "    }\n",
       "</style>\n",
       "<table border=\"1\" class=\"dataframe\">\n",
       "  <thead>\n",
       "    <tr style=\"text-align: right;\">\n",
       "      <th></th>\n",
       "      <th>cobertura_analisis</th>\n",
       "    </tr>\n",
       "  </thead>\n",
       "  <tbody>\n",
       "    <tr>\n",
       "      <th>0</th>\n",
       "      <td>0.045706</td>\n",
       "    </tr>\n",
       "    <tr>\n",
       "      <th>13</th>\n",
       "      <td>0.045706</td>\n",
       "    </tr>\n",
       "    <tr>\n",
       "      <th>14</th>\n",
       "      <td>0.045706</td>\n",
       "    </tr>\n",
       "    <tr>\n",
       "      <th>15</th>\n",
       "      <td>0.045706</td>\n",
       "    </tr>\n",
       "    <tr>\n",
       "      <th>16</th>\n",
       "      <td>0.045706</td>\n",
       "    </tr>\n",
       "  </tbody>\n",
       "</table>\n",
       "</div>"
      ],
      "text/plain": [
       "    cobertura_analisis\n",
       "0             0.045706\n",
       "13            0.045706\n",
       "14            0.045706\n",
       "15            0.045706\n",
       "16            0.045706"
      ]
     },
     "execution_count": 12,
     "metadata": {},
     "output_type": "execute_result"
    }
   ],
   "source": [
    "max_parametros = water['NumeroParametrosMaximo'].max()\n",
    "\n",
    "water['cobertura_analisis'] = (\n",
    "    (water['NumeroParametrosPromedio'] / max_parametros) *\n",
    "    (1 - ((water['NumeroParametrosMaximo'] - water['NumeroParametrosMinimo']) / max_parametros))\n",
    ")\n",
    "\n",
    "water[['cobertura_analisis']].head()"
   ]
  },
  {
   "cell_type": "markdown",
   "metadata": {},
   "source": []
  },
  {
   "cell_type": "markdown",
   "metadata": {},
   "source": [
    "##### Classification of the Water Quality Risk Index (IRCA)"
   ]
  },
  {
   "cell_type": "code",
   "execution_count": 13,
   "metadata": {},
   "outputs": [
    {
     "name": "stdout",
     "output_type": "stream",
     "text": [
      "     rango_irca  IrcaPromedio\n",
      "0   Riesgo alto         37.32\n",
      "13  Riesgo alto         37.32\n",
      "14  Riesgo alto         37.32\n",
      "15  Riesgo alto         37.32\n",
      "16  Riesgo alto         37.32\n"
     ]
    }
   ],
   "source": [
    "def clasificar_irca(irca):\n",
    "    try:\n",
    "        # Si irca ya es numérico (float), no se intenta reemplazar comas\n",
    "        if not isinstance(irca, float):\n",
    "            irca = float(irca.replace(',', '.'))\n",
    "        if irca == 0:\n",
    "            return 'Sin información'\n",
    "        elif 0.001 <= irca <= 5:\n",
    "            return 'Sin riesgo'\n",
    "        elif 5.001 <= irca <= 14:\n",
    "            return 'Riesgo bajo'\n",
    "        elif 14.001 <= irca <= 35:\n",
    "            return 'Riesgo medio'\n",
    "        elif 35.001 <= irca <= 80:\n",
    "            return 'Riesgo alto'\n",
    "        elif 80.001 <= irca <= 100:\n",
    "            return 'Inviable sanitariamente'\n",
    "        else:\n",
    "            return 'No clasificado'\n",
    "    except ValueError:\n",
    "        return 'No clasificado'\n",
    "\n",
    "water['rango_irca'] = water['IrcaPromedio'].apply(clasificar_irca)\n",
    "print(water[['rango_irca','IrcaPromedio']].head())\n"
   ]
  },
  {
   "cell_type": "markdown",
   "metadata": {},
   "source": [
    "\n",
    "The classify_irca function transforms the numerical value of the Average IRCA into descriptive categories ranging from 'No risk' to 'Sanitarily unviable', facilitating the interpretation and decision-making in water quality management. This categorization is crucial for public health and environmental analyses, as it simplifies data visualization, allows for quick comparisons between regions, and is essential for modeling and predicting water quality, resulting in more effective interventions and evidence-based policies."
   ]
  },
  {
   "cell_type": "code",
   "execution_count": 14,
   "metadata": {},
   "outputs": [
    {
     "name": "stdout",
     "output_type": "stream",
     "text": [
      "     Año NombreDepartamento  Div_dpto NombreMunicipio  Divi_muni  IrcaMinimo  \\\n",
      "0   2010            Bolívar        13        El Guamo      13248         0.0   \n",
      "13  2010            Bolívar        13        El Guamo      13248         0.0   \n",
      "14  2010            Bolívar        13        El Guamo      13248         0.0   \n",
      "15  2010            Bolívar        13        El Guamo      13248         0.0   \n",
      "16  2010            Bolívar        13        El Guamo      13248         0.0   \n",
      "\n",
      "    IrcaMaximo  IrcaPromedio NombreParametroAnalisis2  MuestrasEvaluadas  ...  \\\n",
      "0        100.0         37.32        Alcanilidad Total                 67  ...   \n",
      "13       100.0         37.32              Cromo total                 67  ...   \n",
      "14       100.0         37.32             Dureza total                 67  ...   \n",
      "15       100.0         37.32                   E.coli                 67  ...   \n",
      "16       100.0         37.32                Fluoruros                 67  ...   \n",
      "\n",
      "    NumeroParametrosMinimo  NumeroParametrosMaximo  NumeroParametrosPromedio  \\\n",
      "0                        2                       7                         2   \n",
      "13                       2                       7                         2   \n",
      "14                       2                       7                         2   \n",
      "15                       2                       7                         2   \n",
      "16                       2                       7                         2   \n",
      "\n",
      "    ResultadoMinimo  ResultadoMaximo ResultadoPromedio cobertura_analisis  \\\n",
      "0                23               23                23           0.045706   \n",
      "13              NaN              NaN               NaN           0.045706   \n",
      "14               68               68                68           0.045706   \n",
      "15                0                1              0,13           0.045706   \n",
      "16              NaN              NaN               NaN           0.045706   \n",
      "\n",
      "     rango_irca  porcentaje_muestras_tratadas rango_parametros_analizados  \n",
      "0   Riesgo alto                         100.0                           5  \n",
      "13  Riesgo alto                         100.0                           5  \n",
      "14  Riesgo alto                         100.0                           5  \n",
      "15  Riesgo alto                         100.0                           5  \n",
      "16  Riesgo alto                         100.0                           5  \n",
      "\n",
      "[5 rows x 22 columns]\n"
     ]
    }
   ],
   "source": [
    "water['porcentaje_muestras_tratadas'] = (water['MuestrasTratadas'] / water['MuestrasEvaluadas']) * 100\n",
    "\n",
    "# Mostrar las primeras filas para confirmar la creación de la columna\n",
    "print(water.head())\n"
   ]
  },
  {
   "cell_type": "markdown",
   "metadata": {},
   "source": [
    "Esta métrica cuantifica el éxito de los esfuerzos de tratamiento al revelar qué porción de las muestras de agua evaluadas han sido efectivamente tratadas. Un porcentaje elevado refleja una operación de tratamiento efectiva y una cobertura amplia, aspectos cruciales para la salud pública. Por otro lado, un porcentaje más bajo puede señalar oportunidades de mejora en la infraestructura o en las operaciones de tratamiento. "
   ]
  },
  {
   "cell_type": "markdown",
   "metadata": {},
   "source": [
    "Amplitud de Evaluación de Calidad del Agua:"
   ]
  },
  {
   "cell_type": "code",
   "execution_count": 15,
   "metadata": {},
   "outputs": [
    {
     "name": "stdout",
     "output_type": "stream",
     "text": [
      "    NumeroParametrosMaximo  NumeroParametrosPromedio  \\\n",
      "0                        7                         2   \n",
      "13                       7                         2   \n",
      "14                       7                         2   \n",
      "15                       7                         2   \n",
      "16                       7                         2   \n",
      "\n",
      "    rango_parametros_analizados  \n",
      "0                             5  \n",
      "13                            5  \n",
      "14                            5  \n",
      "15                            5  \n",
      "16                            5  \n"
     ]
    }
   ],
   "source": [
    "water['rango_parametros_analizados'] = water['NumeroParametrosMaximo'] - water['NumeroParametrosPromedio']\n",
    "\n",
    "print(water[['NumeroParametrosMaximo', 'NumeroParametrosPromedio', 'rango_parametros_analizados']].head())\n"
   ]
  },
  {
   "cell_type": "markdown",
   "metadata": {},
   "source": [
    "Esta columna se deriva de la diferencia entre el número máximo posible de parámetros que se podrían examinar y el número promedio de parámetros que efectivamente se han analizado en las pruebas de calidad del agua. Al calcular esta diferencia, obtenemos una perspectiva directa sobre la amplitud de las pruebas realizadas."
   ]
  },
  {
   "cell_type": "markdown",
   "metadata": {},
   "source": [
    "##### Treatment Category"
   ]
  },
  {
   "cell_type": "code",
   "execution_count": 16,
   "metadata": {},
   "outputs": [
    {
     "data": {
      "text/html": [
       "<div>\n",
       "<style scoped>\n",
       "    .dataframe tbody tr th:only-of-type {\n",
       "        vertical-align: middle;\n",
       "    }\n",
       "\n",
       "    .dataframe tbody tr th {\n",
       "        vertical-align: top;\n",
       "    }\n",
       "\n",
       "    .dataframe thead th {\n",
       "        text-align: right;\n",
       "    }\n",
       "</style>\n",
       "<table border=\"1\" class=\"dataframe\">\n",
       "  <thead>\n",
       "    <tr style=\"text-align: right;\">\n",
       "      <th></th>\n",
       "      <th>Año</th>\n",
       "      <th>NombreDepartamento</th>\n",
       "      <th>Div_dpto</th>\n",
       "      <th>NombreMunicipio</th>\n",
       "      <th>Divi_muni</th>\n",
       "      <th>IrcaMinimo</th>\n",
       "      <th>IrcaMaximo</th>\n",
       "      <th>IrcaPromedio</th>\n",
       "      <th>NombreParametroAnalisis2</th>\n",
       "      <th>MuestrasEvaluadas</th>\n",
       "      <th>...</th>\n",
       "      <th>NumeroParametrosMaximo</th>\n",
       "      <th>NumeroParametrosPromedio</th>\n",
       "      <th>ResultadoMinimo</th>\n",
       "      <th>ResultadoMaximo</th>\n",
       "      <th>ResultadoPromedio</th>\n",
       "      <th>cobertura_analisis</th>\n",
       "      <th>rango_irca</th>\n",
       "      <th>porcentaje_muestras_tratadas</th>\n",
       "      <th>rango_parametros_analizados</th>\n",
       "      <th>TratamientoCategoría</th>\n",
       "    </tr>\n",
       "  </thead>\n",
       "  <tbody>\n",
       "    <tr>\n",
       "      <th>0</th>\n",
       "      <td>2010</td>\n",
       "      <td>Bolívar</td>\n",
       "      <td>13</td>\n",
       "      <td>El Guamo</td>\n",
       "      <td>13248</td>\n",
       "      <td>0.0</td>\n",
       "      <td>100.0</td>\n",
       "      <td>37.32</td>\n",
       "      <td>Alcanilidad Total</td>\n",
       "      <td>67</td>\n",
       "      <td>...</td>\n",
       "      <td>7</td>\n",
       "      <td>2</td>\n",
       "      <td>23</td>\n",
       "      <td>23</td>\n",
       "      <td>23</td>\n",
       "      <td>0.045706</td>\n",
       "      <td>Riesgo alto</td>\n",
       "      <td>100.0</td>\n",
       "      <td>5</td>\n",
       "      <td>Tratamiento completo</td>\n",
       "    </tr>\n",
       "    <tr>\n",
       "      <th>13</th>\n",
       "      <td>2010</td>\n",
       "      <td>Bolívar</td>\n",
       "      <td>13</td>\n",
       "      <td>El Guamo</td>\n",
       "      <td>13248</td>\n",
       "      <td>0.0</td>\n",
       "      <td>100.0</td>\n",
       "      <td>37.32</td>\n",
       "      <td>Cromo total</td>\n",
       "      <td>67</td>\n",
       "      <td>...</td>\n",
       "      <td>7</td>\n",
       "      <td>2</td>\n",
       "      <td>NaN</td>\n",
       "      <td>NaN</td>\n",
       "      <td>NaN</td>\n",
       "      <td>0.045706</td>\n",
       "      <td>Riesgo alto</td>\n",
       "      <td>100.0</td>\n",
       "      <td>5</td>\n",
       "      <td>Tratamiento completo</td>\n",
       "    </tr>\n",
       "    <tr>\n",
       "      <th>14</th>\n",
       "      <td>2010</td>\n",
       "      <td>Bolívar</td>\n",
       "      <td>13</td>\n",
       "      <td>El Guamo</td>\n",
       "      <td>13248</td>\n",
       "      <td>0.0</td>\n",
       "      <td>100.0</td>\n",
       "      <td>37.32</td>\n",
       "      <td>Dureza total</td>\n",
       "      <td>67</td>\n",
       "      <td>...</td>\n",
       "      <td>7</td>\n",
       "      <td>2</td>\n",
       "      <td>68</td>\n",
       "      <td>68</td>\n",
       "      <td>68</td>\n",
       "      <td>0.045706</td>\n",
       "      <td>Riesgo alto</td>\n",
       "      <td>100.0</td>\n",
       "      <td>5</td>\n",
       "      <td>Tratamiento completo</td>\n",
       "    </tr>\n",
       "    <tr>\n",
       "      <th>15</th>\n",
       "      <td>2010</td>\n",
       "      <td>Bolívar</td>\n",
       "      <td>13</td>\n",
       "      <td>El Guamo</td>\n",
       "      <td>13248</td>\n",
       "      <td>0.0</td>\n",
       "      <td>100.0</td>\n",
       "      <td>37.32</td>\n",
       "      <td>E.coli</td>\n",
       "      <td>67</td>\n",
       "      <td>...</td>\n",
       "      <td>7</td>\n",
       "      <td>2</td>\n",
       "      <td>0</td>\n",
       "      <td>1</td>\n",
       "      <td>0,13</td>\n",
       "      <td>0.045706</td>\n",
       "      <td>Riesgo alto</td>\n",
       "      <td>100.0</td>\n",
       "      <td>5</td>\n",
       "      <td>Tratamiento completo</td>\n",
       "    </tr>\n",
       "    <tr>\n",
       "      <th>16</th>\n",
       "      <td>2010</td>\n",
       "      <td>Bolívar</td>\n",
       "      <td>13</td>\n",
       "      <td>El Guamo</td>\n",
       "      <td>13248</td>\n",
       "      <td>0.0</td>\n",
       "      <td>100.0</td>\n",
       "      <td>37.32</td>\n",
       "      <td>Fluoruros</td>\n",
       "      <td>67</td>\n",
       "      <td>...</td>\n",
       "      <td>7</td>\n",
       "      <td>2</td>\n",
       "      <td>NaN</td>\n",
       "      <td>NaN</td>\n",
       "      <td>NaN</td>\n",
       "      <td>0.045706</td>\n",
       "      <td>Riesgo alto</td>\n",
       "      <td>100.0</td>\n",
       "      <td>5</td>\n",
       "      <td>Tratamiento completo</td>\n",
       "    </tr>\n",
       "  </tbody>\n",
       "</table>\n",
       "<p>5 rows × 23 columns</p>\n",
       "</div>"
      ],
      "text/plain": [
       "     Año NombreDepartamento  Div_dpto NombreMunicipio  Divi_muni  IrcaMinimo  \\\n",
       "0   2010            Bolívar        13        El Guamo      13248         0.0   \n",
       "13  2010            Bolívar        13        El Guamo      13248         0.0   \n",
       "14  2010            Bolívar        13        El Guamo      13248         0.0   \n",
       "15  2010            Bolívar        13        El Guamo      13248         0.0   \n",
       "16  2010            Bolívar        13        El Guamo      13248         0.0   \n",
       "\n",
       "    IrcaMaximo  IrcaPromedio NombreParametroAnalisis2  MuestrasEvaluadas  ...  \\\n",
       "0        100.0         37.32        Alcanilidad Total                 67  ...   \n",
       "13       100.0         37.32              Cromo total                 67  ...   \n",
       "14       100.0         37.32             Dureza total                 67  ...   \n",
       "15       100.0         37.32                   E.coli                 67  ...   \n",
       "16       100.0         37.32                Fluoruros                 67  ...   \n",
       "\n",
       "    NumeroParametrosMaximo  NumeroParametrosPromedio  ResultadoMinimo  \\\n",
       "0                        7                         2               23   \n",
       "13                       7                         2              NaN   \n",
       "14                       7                         2               68   \n",
       "15                       7                         2                0   \n",
       "16                       7                         2              NaN   \n",
       "\n",
       "    ResultadoMaximo  ResultadoPromedio cobertura_analisis   rango_irca  \\\n",
       "0                23                 23           0.045706  Riesgo alto   \n",
       "13              NaN                NaN           0.045706  Riesgo alto   \n",
       "14               68                 68           0.045706  Riesgo alto   \n",
       "15                1               0,13           0.045706  Riesgo alto   \n",
       "16              NaN                NaN           0.045706  Riesgo alto   \n",
       "\n",
       "   porcentaje_muestras_tratadas  rango_parametros_analizados  \\\n",
       "0                         100.0                            5   \n",
       "13                        100.0                            5   \n",
       "14                        100.0                            5   \n",
       "15                        100.0                            5   \n",
       "16                        100.0                            5   \n",
       "\n",
       "    TratamientoCategoría  \n",
       "0   Tratamiento completo  \n",
       "13  Tratamiento completo  \n",
       "14  Tratamiento completo  \n",
       "15  Tratamiento completo  \n",
       "16  Tratamiento completo  \n",
       "\n",
       "[5 rows x 23 columns]"
      ]
     },
     "execution_count": 16,
     "metadata": {},
     "output_type": "execute_result"
    }
   ],
   "source": [
    "def categorize_treatment(row):\n",
    "    if row['MuestrasTratadas'] == 0:\n",
    "        return 'Sin tratamiento'\n",
    "    elif row['MuestrasTratadas'] == row['MuestrasEvaluadas']:\n",
    "        return 'Tratamiento completo'\n",
    "    else:\n",
    "        return 'Tratamiento parcial'\n",
    "\n",
    "water['TratamientoCategoría'] = water.apply(categorize_treatment, axis=1)\n",
    "water.head()\n"
   ]
  },
  {
   "cell_type": "markdown",
   "metadata": {},
   "source": [
    "\n",
    "The \"Treatment Category\" column classifies each set of water samples according to the degree of treatment they have received. This classification helps understand the management and effectiveness of treatment processes implemented in different locations. The categories are:\n",
    "\n",
    "No treatment: Indicates that none of the evaluated samples were treated.\n",
    "\n",
    "Partial treatment: Indicates that a portion of the evaluated samples was treated, but not all.\n",
    "\n",
    "Complete treatment: Indicates that all evaluated samples were treated."
   ]
  },
  {
   "cell_type": "markdown",
   "metadata": {},
   "source": [
    "##### Data Cleaning and Variable Selection"
   ]
  },
  {
   "cell_type": "code",
   "execution_count": 17,
   "metadata": {},
   "outputs": [],
   "source": [
    "water = water.drop(['ResultadoMinimo', 'ResultadoMaximo', 'ResultadoPromedio'], axis=1)"
   ]
  },
  {
   "cell_type": "markdown",
   "metadata": {},
   "source": [
    "\n",
    "To obtain a deeper understanding of the methodology and justification behind the removal of the 'Minimum Result', 'Maximum Result', and 'Average Result' columns, we invite you to consult the EDA_water_quality file. This document contains our exploratory data analysis, which distills key criteria and reveals significant insights that have guided the cleaning of our dataset."
   ]
  },
  {
   "cell_type": "code",
   "execution_count": 20,
   "metadata": {},
   "outputs": [
    {
     "ename": "KeyError",
     "evalue": "\"['MuestrasTratadas', 'MuestrasEvaluadas', 'MuestrasSinTratar', 'NumeroParametrosMinimo', 'NumeroParametrosMaximo'] not found in axis\"",
     "output_type": "error",
     "traceback": [
      "\u001b[1;31m---------------------------------------------------------------------------\u001b[0m",
      "\u001b[1;31mKeyError\u001b[0m                                  Traceback (most recent call last)",
      "Cell \u001b[1;32mIn[20], line 3\u001b[0m\n\u001b[0;32m      1\u001b[0m columnas_a_eliminar \u001b[38;5;241m=\u001b[39m [\u001b[38;5;124m'\u001b[39m\u001b[38;5;124mMuestrasTratadas\u001b[39m\u001b[38;5;124m'\u001b[39m, \u001b[38;5;124m'\u001b[39m\u001b[38;5;124mMuestrasEvaluadas\u001b[39m\u001b[38;5;124m'\u001b[39m, \u001b[38;5;124m'\u001b[39m\u001b[38;5;124mMuestrasSinTratar\u001b[39m\u001b[38;5;124m'\u001b[39m,\n\u001b[0;32m      2\u001b[0m                       \u001b[38;5;124m'\u001b[39m\u001b[38;5;124mNumeroParametrosMinimo\u001b[39m\u001b[38;5;124m'\u001b[39m, \u001b[38;5;124m'\u001b[39m\u001b[38;5;124mNumeroParametrosMaximo\u001b[39m\u001b[38;5;124m'\u001b[39m]\n\u001b[1;32m----> 3\u001b[0m water \u001b[38;5;241m=\u001b[39m \u001b[43mwater\u001b[49m\u001b[38;5;241;43m.\u001b[39;49m\u001b[43mdrop\u001b[49m\u001b[43m(\u001b[49m\u001b[43mcolumns\u001b[49m\u001b[38;5;241;43m=\u001b[39;49m\u001b[43mcolumnas_a_eliminar\u001b[49m\u001b[43m)\u001b[49m\n\u001b[0;32m      6\u001b[0m water\u001b[38;5;241m.\u001b[39mhead()\n",
      "File \u001b[1;32mc:\\Users\\JSLV3\\AppData\\Local\\Programs\\Python\\Python312\\Lib\\site-packages\\pandas\\core\\frame.py:5568\u001b[0m, in \u001b[0;36mDataFrame.drop\u001b[1;34m(self, labels, axis, index, columns, level, inplace, errors)\u001b[0m\n\u001b[0;32m   5420\u001b[0m \u001b[38;5;28;01mdef\u001b[39;00m \u001b[38;5;21mdrop\u001b[39m(\n\u001b[0;32m   5421\u001b[0m     \u001b[38;5;28mself\u001b[39m,\n\u001b[0;32m   5422\u001b[0m     labels: IndexLabel \u001b[38;5;241m|\u001b[39m \u001b[38;5;28;01mNone\u001b[39;00m \u001b[38;5;241m=\u001b[39m \u001b[38;5;28;01mNone\u001b[39;00m,\n\u001b[1;32m   (...)\u001b[0m\n\u001b[0;32m   5429\u001b[0m     errors: IgnoreRaise \u001b[38;5;241m=\u001b[39m \u001b[38;5;124m\"\u001b[39m\u001b[38;5;124mraise\u001b[39m\u001b[38;5;124m\"\u001b[39m,\n\u001b[0;32m   5430\u001b[0m ) \u001b[38;5;241m-\u001b[39m\u001b[38;5;241m>\u001b[39m DataFrame \u001b[38;5;241m|\u001b[39m \u001b[38;5;28;01mNone\u001b[39;00m:\n\u001b[0;32m   5431\u001b[0m \u001b[38;5;250m    \u001b[39m\u001b[38;5;124;03m\"\"\"\u001b[39;00m\n\u001b[0;32m   5432\u001b[0m \u001b[38;5;124;03m    Drop specified labels from rows or columns.\u001b[39;00m\n\u001b[0;32m   5433\u001b[0m \n\u001b[1;32m   (...)\u001b[0m\n\u001b[0;32m   5566\u001b[0m \u001b[38;5;124;03m            weight  1.0     0.8\u001b[39;00m\n\u001b[0;32m   5567\u001b[0m \u001b[38;5;124;03m    \"\"\"\u001b[39;00m\n\u001b[1;32m-> 5568\u001b[0m     \u001b[38;5;28;01mreturn\u001b[39;00m \u001b[38;5;28;43msuper\u001b[39;49m\u001b[43m(\u001b[49m\u001b[43m)\u001b[49m\u001b[38;5;241;43m.\u001b[39;49m\u001b[43mdrop\u001b[49m\u001b[43m(\u001b[49m\n\u001b[0;32m   5569\u001b[0m \u001b[43m        \u001b[49m\u001b[43mlabels\u001b[49m\u001b[38;5;241;43m=\u001b[39;49m\u001b[43mlabels\u001b[49m\u001b[43m,\u001b[49m\n\u001b[0;32m   5570\u001b[0m \u001b[43m        \u001b[49m\u001b[43maxis\u001b[49m\u001b[38;5;241;43m=\u001b[39;49m\u001b[43maxis\u001b[49m\u001b[43m,\u001b[49m\n\u001b[0;32m   5571\u001b[0m \u001b[43m        \u001b[49m\u001b[43mindex\u001b[49m\u001b[38;5;241;43m=\u001b[39;49m\u001b[43mindex\u001b[49m\u001b[43m,\u001b[49m\n\u001b[0;32m   5572\u001b[0m \u001b[43m        \u001b[49m\u001b[43mcolumns\u001b[49m\u001b[38;5;241;43m=\u001b[39;49m\u001b[43mcolumns\u001b[49m\u001b[43m,\u001b[49m\n\u001b[0;32m   5573\u001b[0m \u001b[43m        \u001b[49m\u001b[43mlevel\u001b[49m\u001b[38;5;241;43m=\u001b[39;49m\u001b[43mlevel\u001b[49m\u001b[43m,\u001b[49m\n\u001b[0;32m   5574\u001b[0m \u001b[43m        \u001b[49m\u001b[43minplace\u001b[49m\u001b[38;5;241;43m=\u001b[39;49m\u001b[43minplace\u001b[49m\u001b[43m,\u001b[49m\n\u001b[0;32m   5575\u001b[0m \u001b[43m        \u001b[49m\u001b[43merrors\u001b[49m\u001b[38;5;241;43m=\u001b[39;49m\u001b[43merrors\u001b[49m\u001b[43m,\u001b[49m\n\u001b[0;32m   5576\u001b[0m \u001b[43m    \u001b[49m\u001b[43m)\u001b[49m\n",
      "File \u001b[1;32mc:\\Users\\JSLV3\\AppData\\Local\\Programs\\Python\\Python312\\Lib\\site-packages\\pandas\\core\\generic.py:4785\u001b[0m, in \u001b[0;36mNDFrame.drop\u001b[1;34m(self, labels, axis, index, columns, level, inplace, errors)\u001b[0m\n\u001b[0;32m   4783\u001b[0m \u001b[38;5;28;01mfor\u001b[39;00m axis, labels \u001b[38;5;129;01min\u001b[39;00m axes\u001b[38;5;241m.\u001b[39mitems():\n\u001b[0;32m   4784\u001b[0m     \u001b[38;5;28;01mif\u001b[39;00m labels \u001b[38;5;129;01mis\u001b[39;00m \u001b[38;5;129;01mnot\u001b[39;00m \u001b[38;5;28;01mNone\u001b[39;00m:\n\u001b[1;32m-> 4785\u001b[0m         obj \u001b[38;5;241m=\u001b[39m \u001b[43mobj\u001b[49m\u001b[38;5;241;43m.\u001b[39;49m\u001b[43m_drop_axis\u001b[49m\u001b[43m(\u001b[49m\u001b[43mlabels\u001b[49m\u001b[43m,\u001b[49m\u001b[43m \u001b[49m\u001b[43maxis\u001b[49m\u001b[43m,\u001b[49m\u001b[43m \u001b[49m\u001b[43mlevel\u001b[49m\u001b[38;5;241;43m=\u001b[39;49m\u001b[43mlevel\u001b[49m\u001b[43m,\u001b[49m\u001b[43m \u001b[49m\u001b[43merrors\u001b[49m\u001b[38;5;241;43m=\u001b[39;49m\u001b[43merrors\u001b[49m\u001b[43m)\u001b[49m\n\u001b[0;32m   4787\u001b[0m \u001b[38;5;28;01mif\u001b[39;00m inplace:\n\u001b[0;32m   4788\u001b[0m     \u001b[38;5;28mself\u001b[39m\u001b[38;5;241m.\u001b[39m_update_inplace(obj)\n",
      "File \u001b[1;32mc:\\Users\\JSLV3\\AppData\\Local\\Programs\\Python\\Python312\\Lib\\site-packages\\pandas\\core\\generic.py:4827\u001b[0m, in \u001b[0;36mNDFrame._drop_axis\u001b[1;34m(self, labels, axis, level, errors, only_slice)\u001b[0m\n\u001b[0;32m   4825\u001b[0m         new_axis \u001b[38;5;241m=\u001b[39m axis\u001b[38;5;241m.\u001b[39mdrop(labels, level\u001b[38;5;241m=\u001b[39mlevel, errors\u001b[38;5;241m=\u001b[39merrors)\n\u001b[0;32m   4826\u001b[0m     \u001b[38;5;28;01melse\u001b[39;00m:\n\u001b[1;32m-> 4827\u001b[0m         new_axis \u001b[38;5;241m=\u001b[39m \u001b[43maxis\u001b[49m\u001b[38;5;241;43m.\u001b[39;49m\u001b[43mdrop\u001b[49m\u001b[43m(\u001b[49m\u001b[43mlabels\u001b[49m\u001b[43m,\u001b[49m\u001b[43m \u001b[49m\u001b[43merrors\u001b[49m\u001b[38;5;241;43m=\u001b[39;49m\u001b[43merrors\u001b[49m\u001b[43m)\u001b[49m\n\u001b[0;32m   4828\u001b[0m     indexer \u001b[38;5;241m=\u001b[39m axis\u001b[38;5;241m.\u001b[39mget_indexer(new_axis)\n\u001b[0;32m   4830\u001b[0m \u001b[38;5;66;03m# Case for non-unique axis\u001b[39;00m\n\u001b[0;32m   4831\u001b[0m \u001b[38;5;28;01melse\u001b[39;00m:\n",
      "File \u001b[1;32mc:\\Users\\JSLV3\\AppData\\Local\\Programs\\Python\\Python312\\Lib\\site-packages\\pandas\\core\\indexes\\base.py:7070\u001b[0m, in \u001b[0;36mIndex.drop\u001b[1;34m(self, labels, errors)\u001b[0m\n\u001b[0;32m   7068\u001b[0m \u001b[38;5;28;01mif\u001b[39;00m mask\u001b[38;5;241m.\u001b[39many():\n\u001b[0;32m   7069\u001b[0m     \u001b[38;5;28;01mif\u001b[39;00m errors \u001b[38;5;241m!=\u001b[39m \u001b[38;5;124m\"\u001b[39m\u001b[38;5;124mignore\u001b[39m\u001b[38;5;124m\"\u001b[39m:\n\u001b[1;32m-> 7070\u001b[0m         \u001b[38;5;28;01mraise\u001b[39;00m \u001b[38;5;167;01mKeyError\u001b[39;00m(\u001b[38;5;124mf\u001b[39m\u001b[38;5;124m\"\u001b[39m\u001b[38;5;132;01m{\u001b[39;00mlabels[mask]\u001b[38;5;241m.\u001b[39mtolist()\u001b[38;5;132;01m}\u001b[39;00m\u001b[38;5;124m not found in axis\u001b[39m\u001b[38;5;124m\"\u001b[39m)\n\u001b[0;32m   7071\u001b[0m     indexer \u001b[38;5;241m=\u001b[39m indexer[\u001b[38;5;241m~\u001b[39mmask]\n\u001b[0;32m   7072\u001b[0m \u001b[38;5;28;01mreturn\u001b[39;00m \u001b[38;5;28mself\u001b[39m\u001b[38;5;241m.\u001b[39mdelete(indexer)\n",
      "\u001b[1;31mKeyError\u001b[0m: \"['MuestrasTratadas', 'MuestrasEvaluadas', 'MuestrasSinTratar', 'NumeroParametrosMinimo', 'NumeroParametrosMaximo'] not found in axis\""
     ]
    }
   ],
   "source": [
    "columnas_a_eliminar = ['MuestrasTratadas', 'MuestrasEvaluadas', 'MuestrasSinTratar',\n",
    "                      'NumeroParametrosMinimo', 'NumeroParametrosMaximo']\n",
    "water = water.drop(columns=columnas_a_eliminar)\n",
    "\n",
    "\n",
    "water.head()"
   ]
  },
  {
   "cell_type": "code",
   "execution_count": 19,
   "metadata": {},
   "outputs": [
    {
     "ename": "ValueError",
     "evalue": "Length mismatch: Expected axis has 15 elements, new values have 14 elements",
     "output_type": "error",
     "traceback": [
      "\u001b[1;31m---------------------------------------------------------------------------\u001b[0m",
      "\u001b[1;31mValueError\u001b[0m                                Traceback (most recent call last)",
      "Cell \u001b[1;32mIn[19], line 20\u001b[0m\n\u001b[0;32m      1\u001b[0m new_column_names \u001b[38;5;241m=\u001b[39m [\n\u001b[0;32m      2\u001b[0m     \u001b[38;5;124m\"\u001b[39m\u001b[38;5;124maño\u001b[39m\u001b[38;5;124m\"\u001b[39m, \n\u001b[0;32m      3\u001b[0m     \u001b[38;5;124m\"\u001b[39m\u001b[38;5;124mnombre_departamento\u001b[39m\u001b[38;5;124m\"\u001b[39m, \n\u001b[1;32m   (...)\u001b[0m\n\u001b[0;32m     18\u001b[0m     \n\u001b[0;32m     19\u001b[0m ]\n\u001b[1;32m---> 20\u001b[0m \u001b[43mwater\u001b[49m\u001b[38;5;241;43m.\u001b[39;49m\u001b[43mcolumns\u001b[49m \u001b[38;5;241m=\u001b[39m new_column_names\n\u001b[0;32m     21\u001b[0m \u001b[38;5;28mprint\u001b[39m(water\u001b[38;5;241m.\u001b[39mhead())\n",
      "File \u001b[1;32mc:\\Users\\JSLV3\\AppData\\Local\\Programs\\Python\\Python312\\Lib\\site-packages\\pandas\\core\\generic.py:6310\u001b[0m, in \u001b[0;36mNDFrame.__setattr__\u001b[1;34m(self, name, value)\u001b[0m\n\u001b[0;32m   6308\u001b[0m \u001b[38;5;28;01mtry\u001b[39;00m:\n\u001b[0;32m   6309\u001b[0m     \u001b[38;5;28mobject\u001b[39m\u001b[38;5;241m.\u001b[39m\u001b[38;5;21m__getattribute__\u001b[39m(\u001b[38;5;28mself\u001b[39m, name)\n\u001b[1;32m-> 6310\u001b[0m     \u001b[38;5;28;01mreturn\u001b[39;00m \u001b[38;5;28;43mobject\u001b[39;49m\u001b[38;5;241;43m.\u001b[39;49m\u001b[38;5;21;43m__setattr__\u001b[39;49m\u001b[43m(\u001b[49m\u001b[38;5;28;43mself\u001b[39;49m\u001b[43m,\u001b[49m\u001b[43m \u001b[49m\u001b[43mname\u001b[49m\u001b[43m,\u001b[49m\u001b[43m \u001b[49m\u001b[43mvalue\u001b[49m\u001b[43m)\u001b[49m\n\u001b[0;32m   6311\u001b[0m \u001b[38;5;28;01mexcept\u001b[39;00m \u001b[38;5;167;01mAttributeError\u001b[39;00m:\n\u001b[0;32m   6312\u001b[0m     \u001b[38;5;28;01mpass\u001b[39;00m\n",
      "File \u001b[1;32mproperties.pyx:69\u001b[0m, in \u001b[0;36mpandas._libs.properties.AxisProperty.__set__\u001b[1;34m()\u001b[0m\n",
      "File \u001b[1;32mc:\\Users\\JSLV3\\AppData\\Local\\Programs\\Python\\Python312\\Lib\\site-packages\\pandas\\core\\generic.py:813\u001b[0m, in \u001b[0;36mNDFrame._set_axis\u001b[1;34m(self, axis, labels)\u001b[0m\n\u001b[0;32m    808\u001b[0m \u001b[38;5;250m\u001b[39m\u001b[38;5;124;03m\"\"\"\u001b[39;00m\n\u001b[0;32m    809\u001b[0m \u001b[38;5;124;03mThis is called from the cython code when we set the `index` attribute\u001b[39;00m\n\u001b[0;32m    810\u001b[0m \u001b[38;5;124;03mdirectly, e.g. `series.index = [1, 2, 3]`.\u001b[39;00m\n\u001b[0;32m    811\u001b[0m \u001b[38;5;124;03m\"\"\"\u001b[39;00m\n\u001b[0;32m    812\u001b[0m labels \u001b[38;5;241m=\u001b[39m ensure_index(labels)\n\u001b[1;32m--> 813\u001b[0m \u001b[38;5;28;43mself\u001b[39;49m\u001b[38;5;241;43m.\u001b[39;49m\u001b[43m_mgr\u001b[49m\u001b[38;5;241;43m.\u001b[39;49m\u001b[43mset_axis\u001b[49m\u001b[43m(\u001b[49m\u001b[43maxis\u001b[49m\u001b[43m,\u001b[49m\u001b[43m \u001b[49m\u001b[43mlabels\u001b[49m\u001b[43m)\u001b[49m\n\u001b[0;32m    814\u001b[0m \u001b[38;5;28mself\u001b[39m\u001b[38;5;241m.\u001b[39m_clear_item_cache()\n",
      "File \u001b[1;32mc:\\Users\\JSLV3\\AppData\\Local\\Programs\\Python\\Python312\\Lib\\site-packages\\pandas\\core\\internals\\managers.py:238\u001b[0m, in \u001b[0;36mBaseBlockManager.set_axis\u001b[1;34m(self, axis, new_labels)\u001b[0m\n\u001b[0;32m    236\u001b[0m \u001b[38;5;28;01mdef\u001b[39;00m \u001b[38;5;21mset_axis\u001b[39m(\u001b[38;5;28mself\u001b[39m, axis: AxisInt, new_labels: Index) \u001b[38;5;241m-\u001b[39m\u001b[38;5;241m>\u001b[39m \u001b[38;5;28;01mNone\u001b[39;00m:\n\u001b[0;32m    237\u001b[0m     \u001b[38;5;66;03m# Caller is responsible for ensuring we have an Index object.\u001b[39;00m\n\u001b[1;32m--> 238\u001b[0m     \u001b[38;5;28;43mself\u001b[39;49m\u001b[38;5;241;43m.\u001b[39;49m\u001b[43m_validate_set_axis\u001b[49m\u001b[43m(\u001b[49m\u001b[43maxis\u001b[49m\u001b[43m,\u001b[49m\u001b[43m \u001b[49m\u001b[43mnew_labels\u001b[49m\u001b[43m)\u001b[49m\n\u001b[0;32m    239\u001b[0m     \u001b[38;5;28mself\u001b[39m\u001b[38;5;241m.\u001b[39maxes[axis] \u001b[38;5;241m=\u001b[39m new_labels\n",
      "File \u001b[1;32mc:\\Users\\JSLV3\\AppData\\Local\\Programs\\Python\\Python312\\Lib\\site-packages\\pandas\\core\\internals\\base.py:98\u001b[0m, in \u001b[0;36mDataManager._validate_set_axis\u001b[1;34m(self, axis, new_labels)\u001b[0m\n\u001b[0;32m     95\u001b[0m     \u001b[38;5;28;01mpass\u001b[39;00m\n\u001b[0;32m     97\u001b[0m \u001b[38;5;28;01melif\u001b[39;00m new_len \u001b[38;5;241m!=\u001b[39m old_len:\n\u001b[1;32m---> 98\u001b[0m     \u001b[38;5;28;01mraise\u001b[39;00m \u001b[38;5;167;01mValueError\u001b[39;00m(\n\u001b[0;32m     99\u001b[0m         \u001b[38;5;124mf\u001b[39m\u001b[38;5;124m\"\u001b[39m\u001b[38;5;124mLength mismatch: Expected axis has \u001b[39m\u001b[38;5;132;01m{\u001b[39;00mold_len\u001b[38;5;132;01m}\u001b[39;00m\u001b[38;5;124m elements, new \u001b[39m\u001b[38;5;124m\"\u001b[39m\n\u001b[0;32m    100\u001b[0m         \u001b[38;5;124mf\u001b[39m\u001b[38;5;124m\"\u001b[39m\u001b[38;5;124mvalues have \u001b[39m\u001b[38;5;132;01m{\u001b[39;00mnew_len\u001b[38;5;132;01m}\u001b[39;00m\u001b[38;5;124m elements\u001b[39m\u001b[38;5;124m\"\u001b[39m\n\u001b[0;32m    101\u001b[0m     )\n",
      "\u001b[1;31mValueError\u001b[0m: Length mismatch: Expected axis has 15 elements, new values have 14 elements"
     ]
    }
   ],
   "source": [
    "new_column_names = [\n",
    "    \"año\", \n",
    "    \"nombre_departamento\", \n",
    "    \"div_dpto\", \n",
    "    \"nombre_municipio\", \n",
    "    \"divi_muni\", \n",
    "    \"irca_minimo\", \n",
    "    \"irca_maximo\", \n",
    "    \"irca_promedio\", \n",
    "    \"nombre_parametro_analisis\", \n",
    "    \"numero_parametros_promedio\", \n",
    "    \"cobertura_analisis\",\n",
    "    \"rango_irca\",\n",
    "    \"tratamiento_categoría\"\n",
    "    \"rango_parametros_analizados\",\n",
    "    \"porcentaje_muestras_tratadas\"\n",
    "    \n",
    "    \n",
    "]\n",
    "water.columns = new_column_names\n",
    "print(water.head())"
   ]
  },
  {
   "cell_type": "code",
   "execution_count": 37,
   "metadata": {},
   "outputs": [],
   "source": [
    "water.to_csv('water_cleaned.csv', index=False)"
   ]
  }
 ],
 "metadata": {
  "kernelspec": {
   "display_name": "Python 3",
   "language": "python",
   "name": "python3"
  },
  "language_info": {
   "codemirror_mode": {
    "name": "ipython",
    "version": 3
   },
   "file_extension": ".py",
   "mimetype": "text/x-python",
   "name": "python",
   "nbconvert_exporter": "python",
   "pygments_lexer": "ipython3",
   "version": "3.12.2"
  }
 },
 "nbformat": 4,
 "nbformat_minor": 2
}
