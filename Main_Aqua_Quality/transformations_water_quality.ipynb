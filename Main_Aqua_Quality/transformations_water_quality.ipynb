{
 "cells": [
  {
   "cell_type": "code",
   "execution_count": 1,
   "metadata": {},
   "outputs": [],
   "source": [
    "import pandas as pd\n",
    "import numpy as np\n",
    "import json"
   ]
  },
  {
   "cell_type": "code",
   "execution_count": 3,
   "metadata": {},
   "outputs": [
    {
     "name": "stdout",
     "output_type": "stream",
     "text": [
      "    Año NombreDepartamento  Div_dpto NombreMunicipio  Divi_muni IrcaMinimo  \\\n",
      "0  2010            Bolívar        13        El Guamo      13248          0   \n",
      "1  2010            Bolívar        13        El Guamo      13248          0   \n",
      "2  2010            Bolívar        13        El Guamo      13248          0   \n",
      "3  2010            Bolívar        13        El Guamo      13248          0   \n",
      "4  2010            Bolívar        13        El Guamo      13248          0   \n",
      "\n",
      "  IrcaMaximo IrcaPromedio NombreParametroAnalisis2  MuestrasEvaluadas  \\\n",
      "0        100        37,32        Alcanilidad Total                 67   \n",
      "1        100        37,32                 Aluminio                 67   \n",
      "2        100        37,32                 Arsénico                 67   \n",
      "3        100        37,32                   Cadmio                 67   \n",
      "4        100        37,32                   Calcio                 67   \n",
      "\n",
      "   MuestrasTratadas  MuestrasSinTratar  NumeroParametrosMinimo  \\\n",
      "0                67                  0                       2   \n",
      "1                67                  0                       2   \n",
      "2                67                  0                       2   \n",
      "3                67                  0                       2   \n",
      "4                67                  0                       2   \n",
      "\n",
      "   NumeroParametrosMaximo  NumeroParametrosPromedio ResultadoMinimo  \\\n",
      "0                       7                         2              23   \n",
      "1                       7                         2             NaN   \n",
      "2                       7                         2             NaN   \n",
      "3                       7                         2             NaN   \n",
      "4                       7                         2              14   \n",
      "\n",
      "  ResultadoMaximo ResultadoPromedio  \n",
      "0              23                23  \n",
      "1             NaN               NaN  \n",
      "2             NaN               NaN  \n",
      "3             NaN               NaN  \n",
      "4              14                14  \n"
     ]
    }
   ],
   "source": [
    "# Utilizando raw string para la ruta del archivo\n",
    "archivo_csv = r\"C:\\Users\\JSLV3\\Documents\\5to Semestre\\ETL\\Proyecto Water Quality\\1ra parte\\watersucia.csv\"\n",
    "\n",
    "# Cargar los datos desde el archivo CSV\n",
    "water = pd.read_csv(archivo_csv, delimiter=';')\n",
    "\n",
    "# Mostrar las primeras filas del DataFrame\n",
    "print(water.head())\n",
    "\n"
   ]
  },
  {
   "cell_type": "markdown",
   "metadata": {},
   "source": [
    "## Creating greater value from our data\n",
    "### Transformations"
   ]
  },
  {
   "cell_type": "markdown",
   "metadata": {},
   "source": [
    "##### We identified the analysis parameters that have the greatest influence on water pollution:"
   ]
  },
  {
   "cell_type": "code",
   "execution_count": 14,
   "metadata": {},
   "outputs": [
    {
     "data": {
      "text/plain": [
       "NombreParametroAnalisis2\n",
       "Giardia                          6.589981\n",
       "Cryptosporidium                  6.589981\n",
       "Plaguicidas Totales              6.589981\n",
       "Trihalometanos totales           6.561441\n",
       "Molibdeno                        6.561441\n",
       "Nitratos                         6.560811\n",
       "Hierro total                     6.560811\n",
       "Magnesio                         6.560811\n",
       "Manganeso                        6.560811\n",
       "Mercurio                         6.560811\n",
       "Mesófilos                        6.560811\n",
       "Olor                             6.560811\n",
       "Nitritos                         6.560811\n",
       "Fosfatos                         6.560811\n",
       "Organofosforados y carbamatos    6.560811\n",
       "Name: IrcaPromedio, dtype: float64"
      ]
     },
     "execution_count": 14,
     "metadata": {},
     "output_type": "execute_result"
    }
   ],
   "source": [
    "parametros_influencia = water.groupby('NombreParametroAnalisis2')['IrcaPromedio'].mean().sort_values(ascending=False)\n",
    "top_15_parametros = parametros_influencia.head(15)\n",
    "top_15_parametros"
   ]
  },
  {
   "cell_type": "markdown",
   "metadata": {},
   "source": [
    "All these parameters have an average IRCA of approximately 23.94, suggesting an association with a considerable risk level. This can be useful for prioritizing which water quality parameters need more critical attention in monitoring and treatment programs."
   ]
  },
  {
   "cell_type": "code",
   "execution_count": null,
   "metadata": {},
   "outputs": [],
   "source": [
    "water = water[water['NombreParametroAnalisis2'].isin(top_15_parametros.index)]\n",
    "\n",
    "water.head(), water.shape"
   ]
  },
  {
   "cell_type": "markdown",
   "metadata": {},
   "source": [
    "We have filtered the dataset to only leave the rows corresponding to the top 15 analysis parameters related to water pollution, and the rest have been removed."
   ]
  },
  {
   "cell_type": "markdown",
   "metadata": {},
   "source": [
    "##### Classification of the Water Quality Risk Index (IRCA)"
   ]
  },
  {
   "cell_type": "code",
   "execution_count": 6,
   "metadata": {},
   "outputs": [],
   "source": [
    "def clasificar_irca(irca):\n",
    "    try:\n",
    "        irca = float(irca.replace(',', '.'))\n",
    "        if irca == 0:\n",
    "            return 'Sin información'\n",
    "        elif 0.001 <= irca <= 5:\n",
    "            return 'Sin riesgo'\n",
    "        elif 5.001 <= irca <= 14:\n",
    "            return 'Riesgo bajo'\n",
    "        elif 14.001 <= irca <= 35:\n",
    "            return 'Riesgo medio'\n",
    "        elif 35.001 <= irca <= 80:\n",
    "            return 'Riesgo alto'\n",
    "        elif 80.001 <= irca <= 100:\n",
    "            return 'Inviable sanitariamente'\n",
    "        else:\n",
    "            return 'No clasificado'\n",
    "    except ValueError:\n",
    "        return 'No clasificado'\n",
    "\n",
    "water['rango_irca'] = water['IrcaPromedio'].apply(clasificar_irca)"
   ]
  },
  {
   "cell_type": "markdown",
   "metadata": {},
   "source": [
    "\n",
    "The classify_irca function transforms the numerical value of the Average IRCA into descriptive categories ranging from 'No risk' to 'Sanitarily unviable', facilitating the interpretation and decision-making in water quality management. This categorization is crucial for public health and environmental analyses, as it simplifies data visualization, allows for quick comparisons between regions, and is essential for modeling and predicting water quality, resulting in more effective interventions and evidence-based policies."
   ]
  },
  {
   "cell_type": "markdown",
   "metadata": {},
   "source": [
    "##### Treatment Category"
   ]
  },
  {
   "cell_type": "code",
   "execution_count": 7,
   "metadata": {},
   "outputs": [
    {
     "data": {
      "text/html": [
       "<div>\n",
       "<style scoped>\n",
       "    .dataframe tbody tr th:only-of-type {\n",
       "        vertical-align: middle;\n",
       "    }\n",
       "\n",
       "    .dataframe tbody tr th {\n",
       "        vertical-align: top;\n",
       "    }\n",
       "\n",
       "    .dataframe thead th {\n",
       "        text-align: right;\n",
       "    }\n",
       "</style>\n",
       "<table border=\"1\" class=\"dataframe\">\n",
       "  <thead>\n",
       "    <tr style=\"text-align: right;\">\n",
       "      <th></th>\n",
       "      <th>Año</th>\n",
       "      <th>NombreDepartamento</th>\n",
       "      <th>Div_dpto</th>\n",
       "      <th>NombreMunicipio</th>\n",
       "      <th>Divi_muni</th>\n",
       "      <th>IrcaMinimo</th>\n",
       "      <th>IrcaMaximo</th>\n",
       "      <th>IrcaPromedio</th>\n",
       "      <th>NombreParametroAnalisis2</th>\n",
       "      <th>MuestrasEvaluadas</th>\n",
       "      <th>MuestrasTratadas</th>\n",
       "      <th>MuestrasSinTratar</th>\n",
       "      <th>NumeroParametrosMinimo</th>\n",
       "      <th>NumeroParametrosMaximo</th>\n",
       "      <th>NumeroParametrosPromedio</th>\n",
       "      <th>ResultadoMinimo</th>\n",
       "      <th>ResultadoMaximo</th>\n",
       "      <th>ResultadoPromedio</th>\n",
       "      <th>rango_irca</th>\n",
       "      <th>TratamientoCategoría</th>\n",
       "    </tr>\n",
       "  </thead>\n",
       "  <tbody>\n",
       "    <tr>\n",
       "      <th>0</th>\n",
       "      <td>2010</td>\n",
       "      <td>Bolívar</td>\n",
       "      <td>13</td>\n",
       "      <td>El Guamo</td>\n",
       "      <td>13248</td>\n",
       "      <td>0</td>\n",
       "      <td>100</td>\n",
       "      <td>37,32</td>\n",
       "      <td>Alcanilidad Total</td>\n",
       "      <td>67</td>\n",
       "      <td>67</td>\n",
       "      <td>0</td>\n",
       "      <td>2</td>\n",
       "      <td>7</td>\n",
       "      <td>2</td>\n",
       "      <td>23</td>\n",
       "      <td>23</td>\n",
       "      <td>23</td>\n",
       "      <td>Riesgo alto</td>\n",
       "      <td>Tratamiento completo</td>\n",
       "    </tr>\n",
       "    <tr>\n",
       "      <th>1</th>\n",
       "      <td>2010</td>\n",
       "      <td>Bolívar</td>\n",
       "      <td>13</td>\n",
       "      <td>El Guamo</td>\n",
       "      <td>13248</td>\n",
       "      <td>0</td>\n",
       "      <td>100</td>\n",
       "      <td>37,32</td>\n",
       "      <td>Aluminio</td>\n",
       "      <td>67</td>\n",
       "      <td>67</td>\n",
       "      <td>0</td>\n",
       "      <td>2</td>\n",
       "      <td>7</td>\n",
       "      <td>2</td>\n",
       "      <td>NaN</td>\n",
       "      <td>NaN</td>\n",
       "      <td>NaN</td>\n",
       "      <td>Riesgo alto</td>\n",
       "      <td>Tratamiento completo</td>\n",
       "    </tr>\n",
       "    <tr>\n",
       "      <th>2</th>\n",
       "      <td>2010</td>\n",
       "      <td>Bolívar</td>\n",
       "      <td>13</td>\n",
       "      <td>El Guamo</td>\n",
       "      <td>13248</td>\n",
       "      <td>0</td>\n",
       "      <td>100</td>\n",
       "      <td>37,32</td>\n",
       "      <td>Arsénico</td>\n",
       "      <td>67</td>\n",
       "      <td>67</td>\n",
       "      <td>0</td>\n",
       "      <td>2</td>\n",
       "      <td>7</td>\n",
       "      <td>2</td>\n",
       "      <td>NaN</td>\n",
       "      <td>NaN</td>\n",
       "      <td>NaN</td>\n",
       "      <td>Riesgo alto</td>\n",
       "      <td>Tratamiento completo</td>\n",
       "    </tr>\n",
       "    <tr>\n",
       "      <th>3</th>\n",
       "      <td>2010</td>\n",
       "      <td>Bolívar</td>\n",
       "      <td>13</td>\n",
       "      <td>El Guamo</td>\n",
       "      <td>13248</td>\n",
       "      <td>0</td>\n",
       "      <td>100</td>\n",
       "      <td>37,32</td>\n",
       "      <td>Cadmio</td>\n",
       "      <td>67</td>\n",
       "      <td>67</td>\n",
       "      <td>0</td>\n",
       "      <td>2</td>\n",
       "      <td>7</td>\n",
       "      <td>2</td>\n",
       "      <td>NaN</td>\n",
       "      <td>NaN</td>\n",
       "      <td>NaN</td>\n",
       "      <td>Riesgo alto</td>\n",
       "      <td>Tratamiento completo</td>\n",
       "    </tr>\n",
       "    <tr>\n",
       "      <th>4</th>\n",
       "      <td>2010</td>\n",
       "      <td>Bolívar</td>\n",
       "      <td>13</td>\n",
       "      <td>El Guamo</td>\n",
       "      <td>13248</td>\n",
       "      <td>0</td>\n",
       "      <td>100</td>\n",
       "      <td>37,32</td>\n",
       "      <td>Calcio</td>\n",
       "      <td>67</td>\n",
       "      <td>67</td>\n",
       "      <td>0</td>\n",
       "      <td>2</td>\n",
       "      <td>7</td>\n",
       "      <td>2</td>\n",
       "      <td>14</td>\n",
       "      <td>14</td>\n",
       "      <td>14</td>\n",
       "      <td>Riesgo alto</td>\n",
       "      <td>Tratamiento completo</td>\n",
       "    </tr>\n",
       "  </tbody>\n",
       "</table>\n",
       "</div>"
      ],
      "text/plain": [
       "    Año NombreDepartamento  Div_dpto NombreMunicipio  Divi_muni IrcaMinimo  \\\n",
       "0  2010            Bolívar        13        El Guamo      13248          0   \n",
       "1  2010            Bolívar        13        El Guamo      13248          0   \n",
       "2  2010            Bolívar        13        El Guamo      13248          0   \n",
       "3  2010            Bolívar        13        El Guamo      13248          0   \n",
       "4  2010            Bolívar        13        El Guamo      13248          0   \n",
       "\n",
       "  IrcaMaximo IrcaPromedio NombreParametroAnalisis2  MuestrasEvaluadas  \\\n",
       "0        100        37,32        Alcanilidad Total                 67   \n",
       "1        100        37,32                 Aluminio                 67   \n",
       "2        100        37,32                 Arsénico                 67   \n",
       "3        100        37,32                   Cadmio                 67   \n",
       "4        100        37,32                   Calcio                 67   \n",
       "\n",
       "   MuestrasTratadas  MuestrasSinTratar  NumeroParametrosMinimo  \\\n",
       "0                67                  0                       2   \n",
       "1                67                  0                       2   \n",
       "2                67                  0                       2   \n",
       "3                67                  0                       2   \n",
       "4                67                  0                       2   \n",
       "\n",
       "   NumeroParametrosMaximo  NumeroParametrosPromedio ResultadoMinimo  \\\n",
       "0                       7                         2              23   \n",
       "1                       7                         2             NaN   \n",
       "2                       7                         2             NaN   \n",
       "3                       7                         2             NaN   \n",
       "4                       7                         2              14   \n",
       "\n",
       "  ResultadoMaximo ResultadoPromedio   rango_irca  TratamientoCategoría  \n",
       "0              23                23  Riesgo alto  Tratamiento completo  \n",
       "1             NaN               NaN  Riesgo alto  Tratamiento completo  \n",
       "2             NaN               NaN  Riesgo alto  Tratamiento completo  \n",
       "3             NaN               NaN  Riesgo alto  Tratamiento completo  \n",
       "4              14                14  Riesgo alto  Tratamiento completo  "
      ]
     },
     "execution_count": 7,
     "metadata": {},
     "output_type": "execute_result"
    }
   ],
   "source": [
    "def categorize_treatment(row):\n",
    "    if row['MuestrasTratadas'] == 0:\n",
    "        return 'Sin tratamiento'\n",
    "    elif row['MuestrasTratadas'] == row['MuestrasEvaluadas']:\n",
    "        return 'Tratamiento completo'\n",
    "    else:\n",
    "        return 'Tratamiento parcial'\n",
    "\n",
    "water['TratamientoCategoría'] = water.apply(categorize_treatment, axis=1)\n",
    "water.head()\n"
   ]
  },
  {
   "cell_type": "markdown",
   "metadata": {},
   "source": [
    "\n",
    "The \"Treatment Category\" column classifies each set of water samples according to the degree of treatment they have received. This classification helps understand the management and effectiveness of treatment processes implemented in different locations. The categories are:\n",
    "\n",
    "No treatment: Indicates that none of the evaluated samples were treated.\n",
    "\n",
    "Partial treatment: Indicates that a portion of the evaluated samples was treated, but not all.\n",
    "\n",
    "Complete treatment: Indicates that all evaluated samples were treated."
   ]
  },
  {
   "cell_type": "markdown",
   "metadata": {},
   "source": [
    "##### Treatment rate"
   ]
  },
  {
   "cell_type": "code",
   "execution_count": 8,
   "metadata": {},
   "outputs": [
    {
     "name": "stderr",
     "output_type": "stream",
     "text": [
      "C:\\Users\\JSLV3\\AppData\\Local\\Temp\\ipykernel_10352\\1244069758.py:2: FutureWarning: A value is trying to be set on a copy of a DataFrame or Series through chained assignment using an inplace method.\n",
      "The behavior will change in pandas 3.0. This inplace method will never work because the intermediate object on which we are setting values always behaves as a copy.\n",
      "\n",
      "For example, when doing 'df[col].method(value, inplace=True)', try using 'df.method({col: value}, inplace=True)' or df[col] = df[col].method(value) instead, to perform the operation inplace on the original object.\n",
      "\n",
      "\n",
      "  water['TasaTratamiento'].replace([float('inf'), float('-inf'), pd.NA], 0, inplace=True)\n"
     ]
    },
    {
     "data": {
      "text/html": [
       "<div>\n",
       "<style scoped>\n",
       "    .dataframe tbody tr th:only-of-type {\n",
       "        vertical-align: middle;\n",
       "    }\n",
       "\n",
       "    .dataframe tbody tr th {\n",
       "        vertical-align: top;\n",
       "    }\n",
       "\n",
       "    .dataframe thead th {\n",
       "        text-align: right;\n",
       "    }\n",
       "</style>\n",
       "<table border=\"1\" class=\"dataframe\">\n",
       "  <thead>\n",
       "    <tr style=\"text-align: right;\">\n",
       "      <th></th>\n",
       "      <th>NombreDepartamento</th>\n",
       "      <th>NombreMunicipio</th>\n",
       "      <th>Año</th>\n",
       "      <th>MuestrasEvaluadas</th>\n",
       "      <th>MuestrasTratadas</th>\n",
       "      <th>TasaTratamiento</th>\n",
       "    </tr>\n",
       "  </thead>\n",
       "  <tbody>\n",
       "    <tr>\n",
       "      <th>0</th>\n",
       "      <td>Bolívar</td>\n",
       "      <td>El Guamo</td>\n",
       "      <td>2010</td>\n",
       "      <td>67</td>\n",
       "      <td>67</td>\n",
       "      <td>1.0</td>\n",
       "    </tr>\n",
       "    <tr>\n",
       "      <th>1</th>\n",
       "      <td>Bolívar</td>\n",
       "      <td>El Guamo</td>\n",
       "      <td>2010</td>\n",
       "      <td>67</td>\n",
       "      <td>67</td>\n",
       "      <td>1.0</td>\n",
       "    </tr>\n",
       "    <tr>\n",
       "      <th>2</th>\n",
       "      <td>Bolívar</td>\n",
       "      <td>El Guamo</td>\n",
       "      <td>2010</td>\n",
       "      <td>67</td>\n",
       "      <td>67</td>\n",
       "      <td>1.0</td>\n",
       "    </tr>\n",
       "    <tr>\n",
       "      <th>3</th>\n",
       "      <td>Bolívar</td>\n",
       "      <td>El Guamo</td>\n",
       "      <td>2010</td>\n",
       "      <td>67</td>\n",
       "      <td>67</td>\n",
       "      <td>1.0</td>\n",
       "    </tr>\n",
       "    <tr>\n",
       "      <th>4</th>\n",
       "      <td>Bolívar</td>\n",
       "      <td>El Guamo</td>\n",
       "      <td>2010</td>\n",
       "      <td>67</td>\n",
       "      <td>67</td>\n",
       "      <td>1.0</td>\n",
       "    </tr>\n",
       "  </tbody>\n",
       "</table>\n",
       "</div>"
      ],
      "text/plain": [
       "  NombreDepartamento NombreMunicipio   Año  MuestrasEvaluadas  \\\n",
       "0            Bolívar        El Guamo  2010                 67   \n",
       "1            Bolívar        El Guamo  2010                 67   \n",
       "2            Bolívar        El Guamo  2010                 67   \n",
       "3            Bolívar        El Guamo  2010                 67   \n",
       "4            Bolívar        El Guamo  2010                 67   \n",
       "\n",
       "   MuestrasTratadas  TasaTratamiento  \n",
       "0                67              1.0  \n",
       "1                67              1.0  \n",
       "2                67              1.0  \n",
       "3                67              1.0  \n",
       "4                67              1.0  "
      ]
     },
     "execution_count": 8,
     "metadata": {},
     "output_type": "execute_result"
    }
   ],
   "source": [
    "water['TasaTratamiento'] = water['MuestrasTratadas'] / water['MuestrasEvaluadas']\n",
    "water['TasaTratamiento'].replace([float('inf'), float('-inf'), pd.NA], 0, inplace=True)\n",
    "water[['NombreDepartamento', 'NombreMunicipio', 'Año', 'MuestrasEvaluadas', 'MuestrasTratadas', 'TasaTratamiento']].head()"
   ]
  },
  {
   "cell_type": "markdown",
   "metadata": {},
   "source": [
    "The Treatment Rate represents the proportion of water samples treated relative to the total samples evaluated for each record. This rate is a direct indicator of the coverage and effectiveness of treatment strategies implemented in a specific geographic area during a specified period.\n",
    "How to Interpret the Treatment Rate:\n",
    "\n",
    "•\tValue of 1.0: Indicates that 100% of the evaluated samples were treated, suggesting complete coverage and likely effective water treatment procedures.\n",
    "\n",
    "•\tValue less than 1.0 but greater than 0: Suggests that a portion of the evaluated samples was treated. The closer the value is to 1.0, the better the treatment coverage.\n",
    "\n",
    "•\tValue of 0: Indicates that none of the evaluated samples were treated, which may be a cause for concern and could require immediate attention to understand the reasons behind the lack of treatment.\n"
   ]
  },
  {
   "cell_type": "markdown",
   "metadata": {},
   "source": [
    "##### Data Cleaning and Variable Selection"
   ]
  },
  {
   "cell_type": "code",
   "execution_count": 9,
   "metadata": {},
   "outputs": [],
   "source": [
    "water = water.drop(['ResultadoMinimo', 'ResultadoMaximo', 'ResultadoPromedio'], axis=1)"
   ]
  },
  {
   "cell_type": "markdown",
   "metadata": {},
   "source": [
    "\n",
    "To obtain a deeper understanding of the methodology and justification behind the removal of the 'Minimum Result', 'Maximum Result', and 'Average Result' columns, we invite you to consult the EDA_water_quality file. This document contains our exploratory data analysis, which distills key criteria and reveals significant insights that have guided the cleaning of our dataset."
   ]
  },
  {
   "cell_type": "code",
   "execution_count": null,
   "metadata": {},
   "outputs": [],
   "source": [
    "columnas_a_eliminar = ['MuestrasTratadas', 'MuestrasEvaluadas', 'MuestrasSinTratar',\n",
    "                      'NumeroParametrosMinimo', 'NumeroParametrosMaximo', 'EsAtipico']\n",
    "water = water.drop(columns=columnas_a_eliminar)\n",
    "\n",
    "\n",
    "water.head()"
   ]
  },
  {
   "cell_type": "code",
   "execution_count": null,
   "metadata": {},
   "outputs": [],
   "source": [
    "new_column_names = [\n",
    "    \"año\", \n",
    "    \"nombre_departamento\", \n",
    "    \"div_dpto\", \n",
    "    \"nombre_municipio\", \n",
    "    \"divi_muni\", \n",
    "    \"irca_minimo\", \n",
    "    \"irca_maximo\", \n",
    "    \"irca_promedio\", \n",
    "    \"rango_irca\", \n",
    "    \"nombre_parametro_analisis\", \n",
    "    \"numero_parametros_promedio\", \n",
    "    \"TasaTratamiento\"\n",
    "    \"TratamientoCategoría\"   \n",
    "]\n",
    "water.columns = new_column_names\n",
    "print(water.head())"
   ]
  },
  {
   "cell_type": "markdown",
   "metadata": {},
   "source": [
    "### Dimensional Modeling"
   ]
  }
 ],
 "metadata": {
  "kernelspec": {
   "display_name": "Python 3",
   "language": "python",
   "name": "python3"
  },
  "language_info": {
   "codemirror_mode": {
    "name": "ipython",
    "version": 3
   },
   "file_extension": ".py",
   "mimetype": "text/x-python",
   "name": "python",
   "nbconvert_exporter": "python",
   "pygments_lexer": "ipython3",
   "version": "3.12.2"
  }
 },
 "nbformat": 4,
 "nbformat_minor": 2
}
