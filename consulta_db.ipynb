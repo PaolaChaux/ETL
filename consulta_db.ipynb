{
 "cells": [
  {
   "cell_type": "code",
   "execution_count": 2,
   "metadata": {},
   "outputs": [],
   "source": [
    "import pandas as pd\n",
    "import psycopg2\n",
    "import json"
   ]
  },
  {
   "cell_type": "code",
   "execution_count": 3,
   "metadata": {},
   "outputs": [
    {
     "name": "stderr",
     "output_type": "stream",
     "text": [
      "C:\\Users\\PAO\\AppData\\Local\\Temp\\ipykernel_20420\\440775285.py:17: UserWarning: pandas only supports SQLAlchemy connectable (engine/connection) or database string URI or sqlite3 DBAPI2 connection. Other DBAPI2 objects are not tested. Please consider using SQLAlchemy.\n",
      "  df = pd.read_sql(query, connection)\n"
     ]
    },
    {
     "name": "stdout",
     "output_type": "stream",
     "text": [
      "          Año NombreDepartamento  Div_dpto NombreMunicipio  Divi_muni  \\\n",
      "0  2010-01-01            Bolívar        13        El Guamo      13248   \n",
      "1  2010-01-01            Bolívar        13        El Guamo      13248   \n",
      "2  2010-01-01            Bolívar        13        El Guamo      13248   \n",
      "3  2010-01-01            Bolívar        13        El Guamo      13248   \n",
      "4  2010-01-01            Bolívar        13        El Guamo      13248   \n",
      "\n",
      "   IrcaMinimo2  IrcaMaximo  IrcaPromedio NombreParametroAnalisis2  \\\n",
      "0          0.0       100.0         37.32        Alcanilidad Total   \n",
      "1          0.0       100.0         37.32                 Aluminio   \n",
      "2          0.0       100.0         37.32                 Arsénico   \n",
      "3          0.0       100.0         37.32                   Cadmio   \n",
      "4          0.0       100.0         37.32                   Calcio   \n",
      "\n",
      "   MuestrasEvaluadas  NumeroParametrosMinimo  NumeroParametrosMaximo  \\\n",
      "0                 67                       2                       7   \n",
      "1                 67                       2                       7   \n",
      "2                 67                       2                       7   \n",
      "3                 67                       2                       7   \n",
      "4                 67                       2                       7   \n",
      "\n",
      "   NumeroParametrosPromedio  NumeroMuestras  MuestrasNoAptas  \\\n",
      "0                         2               1                0   \n",
      "1                         2               0                0   \n",
      "2                         2               0                0   \n",
      "3                         2               0                0   \n",
      "4                         2               1                0   \n",
      "\n",
      "   PorcentajeNoAptas  ResultadoMinimo  ResultadoMaximo  ResultadoPromedio  \\\n",
      "0                0.0             23.0             23.0               23.0   \n",
      "1                0.0              NaN              NaN                NaN   \n",
      "2                0.0              NaN              NaN                NaN   \n",
      "3                0.0              NaN              NaN                NaN   \n",
      "4                0.0             14.0             14.0               14.0   \n",
      "\n",
      "       Codigo  \n",
      "0  13El Guamo  \n",
      "1  13El Guamo  \n",
      "2  13El Guamo  \n",
      "3  13El Guamo  \n",
      "4  13El Guamo  \n"
     ]
    }
   ],
   "source": [
    "def consultar_datos(filename, db_name, table_name):\n",
    "    try:\n",
    "        with open(filename, 'r') as file:\n",
    "            config = json.load(file)\n",
    "\n",
    "        connection = psycopg2.connect(\n",
    "            host=config[\"host\"],\n",
    "            user=config[\"user\"],\n",
    "            password=config[\"password\"],\n",
    "            dbname=db_name\n",
    "        )\n",
    "\n",
    "        query = f\"SELECT * FROM {table_name}\"\n",
    "        df = pd.read_sql(query, connection)\n",
    "\n",
    "        print(df.head())\n",
    "    except (Exception, psycopg2.DatabaseError) as error:\n",
    "        print(f\"Error al consultar datos: {error}\")\n",
    "    finally:\n",
    "        if connection:\n",
    "            connection.close()\n",
    "\n",
    "if __name__ == \"__main__\":\n",
    "    filename = 'db_config.json'\n",
    "    db_name = 'db_water'\n",
    "    table_name = 'water_table'\n",
    "    consultar_datos(filename, db_name, table_name)\n"
   ]
  }
 ],
 "metadata": {
  "kernelspec": {
   "display_name": "Python 3",
   "language": "python",
   "name": "python3"
  },
  "language_info": {
   "codemirror_mode": {
    "name": "ipython",
    "version": 3
   },
   "file_extension": ".py",
   "mimetype": "text/x-python",
   "name": "python",
   "nbconvert_exporter": "python",
   "pygments_lexer": "ipython3",
   "version": "3.11.5"
  }
 },
 "nbformat": 4,
 "nbformat_minor": 2
}
