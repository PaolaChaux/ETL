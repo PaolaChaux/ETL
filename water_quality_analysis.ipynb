{
 "cells": [
  {
   "cell_type": "code",
   "execution_count": 3,
   "metadata": {},
   "outputs": [],
   "source": [
    "import pandas as pd\n",
    "import psycopg2\n",
    "import json\n",
    "import numpy as np\n",
    "import matplotlib.pyplot as plt\n",
    "import seaborn as sns\n",
    "import json\n"
   ]
  },
  {
   "cell_type": "code",
   "execution_count": 4,
   "metadata": {},
   "outputs": [
    {
     "name": "stdout",
     "output_type": "stream",
     "text": [
      "Conexión exitosa!!\n"
     ]
    },
    {
     "data": {
      "text/plain": [
       "<connection object at 0x000001ADE7EC6790; dsn: 'user=postgres password=xxx dbname=db_water host=localhost', closed: 0>"
      ]
     },
     "execution_count": 4,
     "metadata": {},
     "output_type": "execute_result"
    }
   ],
   "source": [
    "def create_connection():\n",
    "    try:\n",
    "        with open('db_config.json') as file:\n",
    "            config = json.load(file)\n",
    "        connection = psycopg2.connect(\n",
    "            host='localhost',\n",
    "            user=config[\"user\"],\n",
    "            password=config[\"password\"],\n",
    "            database='db_water'\n",
    "        )\n",
    "        print('Conexión exitosa!!')\n",
    "    except psycopg2.Error as e:\n",
    "        connection = None\n",
    "        print('No se puede conectar:', e)\n",
    "    return connection\n",
    "create_connection()"
   ]
  },
  {
   "cell_type": "code",
   "execution_count": 5,
   "metadata": {},
   "outputs": [
    {
     "name": "stdout",
     "output_type": "stream",
     "text": [
      "Conexión exitosa!!\n"
     ]
    },
    {
     "name": "stderr",
     "output_type": "stream",
     "text": [
      "C:\\Users\\PAO\\AppData\\Local\\Temp\\ipykernel_27716\\4258982347.py:15: UserWarning: pandas only supports SQLAlchemy connectable (engine/connection) or database string URI or sqlite3 DBAPI2 connection. Other DBAPI2 objects are not tested. Please consider using SQLAlchemy.\n",
      "  water = pd.read_sql(query, connection)\n"
     ]
    },
    {
     "name": "stdout",
     "output_type": "stream",
     "text": [
      "          Año NombreDepartamento  Div_dpto NombreMunicipio  Divi_muni  \\\n",
      "0  2010-01-01            Bolívar        13        El Guamo      13248   \n",
      "1  2010-01-01            Bolívar        13        El Guamo      13248   \n",
      "2  2010-01-01            Bolívar        13        El Guamo      13248   \n",
      "3  2010-01-01            Bolívar        13        El Guamo      13248   \n",
      "4  2010-01-01            Bolívar        13        El Guamo      13248   \n",
      "\n",
      "   IrcaMinimo  IrcaMaximo  IrcaPromedio NombreParametroAnalisis2  \\\n",
      "0         0.0       100.0         37.32        Alcanilidad Total   \n",
      "1         0.0       100.0         37.32                 Aluminio   \n",
      "2         0.0       100.0         37.32                 Arsénico   \n",
      "3         0.0       100.0         37.32                   Cadmio   \n",
      "4         0.0       100.0         37.32                   Calcio   \n",
      "\n",
      "   MuestrasEvaluadas  NumeroParametrosMinimo  NumeroParametrosMaximo  \\\n",
      "0                 67                       2                       7   \n",
      "1                 67                       2                       7   \n",
      "2                 67                       2                       7   \n",
      "3                 67                       2                       7   \n",
      "4                 67                       2                       7   \n",
      "\n",
      "   NumeroParametrosPromedio  ResultadoMinimo  ResultadoMaximo  \\\n",
      "0                         2             23.0             23.0   \n",
      "1                         2              NaN              NaN   \n",
      "2                         2              NaN              NaN   \n",
      "3                         2              NaN              NaN   \n",
      "4                         2             14.0             14.0   \n",
      "\n",
      "   ResultadoPromedio  \n",
      "0               23.0  \n",
      "1                NaN  \n",
      "2                NaN  \n",
      "3                NaN  \n",
      "4               14.0  \n"
     ]
    }
   ],
   "source": [
    "def consultar_datos(filename, db_name, table_name):\n",
    "    connection = create_connection()\n",
    "    try:\n",
    "        with open(filename, 'r') as file:\n",
    "            config = json.load(file)\n",
    "\n",
    "        connection = psycopg2.connect(\n",
    "            host=config[\"host\"],\n",
    "            user=config[\"user\"],\n",
    "            password=config[\"password\"],\n",
    "            dbname=db_name\n",
    "        )\n",
    "\n",
    "        query = f\"SELECT * FROM {table_name}\"\n",
    "        water = pd.read_sql(query, connection)\n",
    "\n",
    "        return water\n",
    "    except (Exception, psycopg2.DatabaseError) as error:\n",
    "        print(f\"Error al consultar datos: {error}\")\n",
    "        return None\n",
    "    finally:\n",
    "        if connection:\n",
    "            connection.close()\n",
    "\n",
    "if __name__ == \"__main__\":\n",
    "    filename = 'db_config.json'\n",
    "    db_name = 'db_water'\n",
    "    table_name = 'water_table'\n",
    "    water = consultar_datos(filename, db_name, table_name)\n",
    "\n",
    "    if water is not None:\n",
    "        print(water.head())\n"
   ]
  },
  {
   "cell_type": "code",
   "execution_count": 4,
   "metadata": {},
   "outputs": [
    {
     "name": "stdout",
     "output_type": "stream",
     "text": [
      "<class 'pandas.core.frame.DataFrame'>\n",
      "RangeIndex: 408311 entries, 0 to 408310\n",
      "Data columns (total 18 columns):\n",
      " #   Column                    Non-Null Count   Dtype  \n",
      "---  ------                    --------------   -----  \n",
      " 0   Año                       408311 non-null  object \n",
      " 1   NombreDepartamento        408311 non-null  object \n",
      " 2   Div_dpto                  408311 non-null  int64  \n",
      " 3   NombreMunicipio           408311 non-null  object \n",
      " 4   Divi_muni                 408311 non-null  int64  \n",
      " 5   IrcaMinimo                408311 non-null  float64\n",
      " 6   IrcaMaximo                408311 non-null  float64\n",
      " 7   IrcaPromedio              408311 non-null  float64\n",
      " 8   NombreParametroAnalisis2  408311 non-null  object \n",
      " 9   MuestrasEvaluadas         408311 non-null  int64  \n",
      " 10  MuestrasTratadas          408311 non-null  int64  \n",
      " 11  MuestrasSinTratar         408311 non-null  int64  \n",
      " 12  NumeroParametrosMinimo    408311 non-null  int64  \n",
      " 13  NumeroParametrosMaximo    408311 non-null  int64  \n",
      " 14  NumeroParametrosPromedio  408311 non-null  int64  \n",
      " 15  ResultadoMinimo           145950 non-null  float64\n",
      " 16  ResultadoMaximo           145950 non-null  float64\n",
      " 17  ResultadoPromedio         145950 non-null  float64\n",
      "dtypes: float64(6), int64(8), object(4)\n",
      "memory usage: 56.1+ MB\n"
     ]
    }
   ],
   "source": [
    "water.info()"
   ]
  },
  {
   "cell_type": "code",
   "execution_count": 4,
   "metadata": {},
   "outputs": [
    {
     "data": {
      "text/html": [
       "<div>\n",
       "<style scoped>\n",
       "    .dataframe tbody tr th:only-of-type {\n",
       "        vertical-align: middle;\n",
       "    }\n",
       "\n",
       "    .dataframe tbody tr th {\n",
       "        vertical-align: top;\n",
       "    }\n",
       "\n",
       "    .dataframe thead th {\n",
       "        text-align: right;\n",
       "    }\n",
       "</style>\n",
       "<table border=\"1\" class=\"dataframe\">\n",
       "  <thead>\n",
       "    <tr style=\"text-align: right;\">\n",
       "      <th></th>\n",
       "      <th>Div_dpto</th>\n",
       "      <th>Divi_muni</th>\n",
       "      <th>IrcaMinimo</th>\n",
       "      <th>IrcaMaximo</th>\n",
       "      <th>IrcaPromedio</th>\n",
       "      <th>MuestrasEvaluadas</th>\n",
       "      <th>MuestrasTratadas</th>\n",
       "      <th>MuestrasSinTratar</th>\n",
       "      <th>NumeroParametrosMinimo</th>\n",
       "      <th>NumeroParametrosMaximo</th>\n",
       "      <th>NumeroParametrosPromedio</th>\n",
       "      <th>ResultadoMinimo</th>\n",
       "      <th>ResultadoMaximo</th>\n",
       "      <th>ResultadoPromedio</th>\n",
       "    </tr>\n",
       "  </thead>\n",
       "  <tbody>\n",
       "    <tr>\n",
       "      <th>count</th>\n",
       "      <td>408311.000000</td>\n",
       "      <td>408311.000000</td>\n",
       "      <td>408311.000000</td>\n",
       "      <td>408311.000000</td>\n",
       "      <td>408311.000000</td>\n",
       "      <td>408311.000000</td>\n",
       "      <td>408311.000000</td>\n",
       "      <td>408311.000000</td>\n",
       "      <td>408311.000000</td>\n",
       "      <td>408311.000000</td>\n",
       "      <td>408311.000000</td>\n",
       "      <td>145950.000000</td>\n",
       "      <td>1.459500e+05</td>\n",
       "      <td>145950.000000</td>\n",
       "    </tr>\n",
       "    <tr>\n",
       "      <th>mean</th>\n",
       "      <td>37.239367</td>\n",
       "      <td>37581.153307</td>\n",
       "      <td>2.540458</td>\n",
       "      <td>65.297188</td>\n",
       "      <td>23.729879</td>\n",
       "      <td>432.972002</td>\n",
       "      <td>340.066371</td>\n",
       "      <td>92.905631</td>\n",
       "      <td>6.285954</td>\n",
       "      <td>13.380031</td>\n",
       "      <td>9.113401</td>\n",
       "      <td>9.862479</td>\n",
       "      <td>8.427607e+02</td>\n",
       "      <td>81.500645</td>\n",
       "    </tr>\n",
       "    <tr>\n",
       "      <th>std</th>\n",
       "      <td>25.837315</td>\n",
       "      <td>25853.649830</td>\n",
       "      <td>11.118831</td>\n",
       "      <td>33.751641</td>\n",
       "      <td>22.257533</td>\n",
       "      <td>1254.252534</td>\n",
       "      <td>1165.921438</td>\n",
       "      <td>273.226174</td>\n",
       "      <td>3.907431</td>\n",
       "      <td>3.741823</td>\n",
       "      <td>3.576248</td>\n",
       "      <td>123.277709</td>\n",
       "      <td>5.496726e+04</td>\n",
       "      <td>2933.574927</td>\n",
       "    </tr>\n",
       "    <tr>\n",
       "      <th>min</th>\n",
       "      <td>5.000000</td>\n",
       "      <td>5001.000000</td>\n",
       "      <td>0.000000</td>\n",
       "      <td>0.000000</td>\n",
       "      <td>0.000000</td>\n",
       "      <td>2.000000</td>\n",
       "      <td>0.000000</td>\n",
       "      <td>0.000000</td>\n",
       "      <td>1.000000</td>\n",
       "      <td>2.000000</td>\n",
       "      <td>2.000000</td>\n",
       "      <td>-10.000000</td>\n",
       "      <td>-3.000000e-02</td>\n",
       "      <td>-0.520000</td>\n",
       "    </tr>\n",
       "    <tr>\n",
       "      <th>25%</th>\n",
       "      <td>15.000000</td>\n",
       "      <td>15537.000000</td>\n",
       "      <td>0.000000</td>\n",
       "      <td>36.580000</td>\n",
       "      <td>4.630000</td>\n",
       "      <td>124.000000</td>\n",
       "      <td>99.000000</td>\n",
       "      <td>0.000000</td>\n",
       "      <td>2.000000</td>\n",
       "      <td>11.000000</td>\n",
       "      <td>6.000000</td>\n",
       "      <td>0.000000</td>\n",
       "      <td>2.500000e-01</td>\n",
       "      <td>0.100000</td>\n",
       "    </tr>\n",
       "    <tr>\n",
       "      <th>50%</th>\n",
       "      <td>25.000000</td>\n",
       "      <td>25596.000000</td>\n",
       "      <td>0.000000</td>\n",
       "      <td>75.770000</td>\n",
       "      <td>16.820000</td>\n",
       "      <td>214.000000</td>\n",
       "      <td>162.000000</td>\n",
       "      <td>0.000000</td>\n",
       "      <td>6.000000</td>\n",
       "      <td>13.000000</td>\n",
       "      <td>9.000000</td>\n",
       "      <td>0.100000</td>\n",
       "      <td>6.800000e+00</td>\n",
       "      <td>2.350000</td>\n",
       "    </tr>\n",
       "    <tr>\n",
       "      <th>75%</th>\n",
       "      <td>63.000000</td>\n",
       "      <td>63548.000000</td>\n",
       "      <td>0.000000</td>\n",
       "      <td>96.840000</td>\n",
       "      <td>38.710000</td>\n",
       "      <td>408.000000</td>\n",
       "      <td>316.000000</td>\n",
       "      <td>80.000000</td>\n",
       "      <td>9.000000</td>\n",
       "      <td>16.000000</td>\n",
       "      <td>12.000000</td>\n",
       "      <td>5.000000</td>\n",
       "      <td>3.910000e+01</td>\n",
       "      <td>15.000000</td>\n",
       "    </tr>\n",
       "    <tr>\n",
       "      <th>max</th>\n",
       "      <td>99.000000</td>\n",
       "      <td>99773.000000</td>\n",
       "      <td>100.000000</td>\n",
       "      <td>100.000000</td>\n",
       "      <td>100.000000</td>\n",
       "      <td>38014.000000</td>\n",
       "      <td>37893.000000</td>\n",
       "      <td>5810.000000</td>\n",
       "      <td>21.000000</td>\n",
       "      <td>38.000000</td>\n",
       "      <td>21.000000</td>\n",
       "      <td>22308.000000</td>\n",
       "      <td>1.452000e+07</td>\n",
       "      <td>748085.000000</td>\n",
       "    </tr>\n",
       "  </tbody>\n",
       "</table>\n",
       "</div>"
      ],
      "text/plain": [
       "            Div_dpto      Divi_muni     IrcaMinimo     IrcaMaximo  \\\n",
       "count  408311.000000  408311.000000  408311.000000  408311.000000   \n",
       "mean       37.239367   37581.153307       2.540458      65.297188   \n",
       "std        25.837315   25853.649830      11.118831      33.751641   \n",
       "min         5.000000    5001.000000       0.000000       0.000000   \n",
       "25%        15.000000   15537.000000       0.000000      36.580000   \n",
       "50%        25.000000   25596.000000       0.000000      75.770000   \n",
       "75%        63.000000   63548.000000       0.000000      96.840000   \n",
       "max        99.000000   99773.000000     100.000000     100.000000   \n",
       "\n",
       "        IrcaPromedio  MuestrasEvaluadas  MuestrasTratadas  MuestrasSinTratar  \\\n",
       "count  408311.000000      408311.000000     408311.000000      408311.000000   \n",
       "mean       23.729879         432.972002        340.066371          92.905631   \n",
       "std        22.257533        1254.252534       1165.921438         273.226174   \n",
       "min         0.000000           2.000000          0.000000           0.000000   \n",
       "25%         4.630000         124.000000         99.000000           0.000000   \n",
       "50%        16.820000         214.000000        162.000000           0.000000   \n",
       "75%        38.710000         408.000000        316.000000          80.000000   \n",
       "max       100.000000       38014.000000      37893.000000        5810.000000   \n",
       "\n",
       "       NumeroParametrosMinimo  NumeroParametrosMaximo  \\\n",
       "count           408311.000000           408311.000000   \n",
       "mean                 6.285954               13.380031   \n",
       "std                  3.907431                3.741823   \n",
       "min                  1.000000                2.000000   \n",
       "25%                  2.000000               11.000000   \n",
       "50%                  6.000000               13.000000   \n",
       "75%                  9.000000               16.000000   \n",
       "max                 21.000000               38.000000   \n",
       "\n",
       "       NumeroParametrosPromedio  ResultadoMinimo  ResultadoMaximo  \\\n",
       "count             408311.000000    145950.000000     1.459500e+05   \n",
       "mean                   9.113401         9.862479     8.427607e+02   \n",
       "std                    3.576248       123.277709     5.496726e+04   \n",
       "min                    2.000000       -10.000000    -3.000000e-02   \n",
       "25%                    6.000000         0.000000     2.500000e-01   \n",
       "50%                    9.000000         0.100000     6.800000e+00   \n",
       "75%                   12.000000         5.000000     3.910000e+01   \n",
       "max                   21.000000     22308.000000     1.452000e+07   \n",
       "\n",
       "       ResultadoPromedio  \n",
       "count      145950.000000  \n",
       "mean           81.500645  \n",
       "std          2933.574927  \n",
       "min            -0.520000  \n",
       "25%             0.100000  \n",
       "50%             2.350000  \n",
       "75%            15.000000  \n",
       "max        748085.000000  "
      ]
     },
     "execution_count": 4,
     "metadata": {},
     "output_type": "execute_result"
    }
   ],
   "source": [
    "water.describe()"
   ]
  },
  {
   "cell_type": "markdown",
   "metadata": {},
   "source": [
    "We are ensuring that the categorical columns are formatted consistently:"
   ]
  },
  {
   "cell_type": "code",
   "execution_count": 5,
   "metadata": {},
   "outputs": [
    {
     "data": {
      "text/html": [
       "<div>\n",
       "<style scoped>\n",
       "    .dataframe tbody tr th:only-of-type {\n",
       "        vertical-align: middle;\n",
       "    }\n",
       "\n",
       "    .dataframe tbody tr th {\n",
       "        vertical-align: top;\n",
       "    }\n",
       "\n",
       "    .dataframe thead th {\n",
       "        text-align: right;\n",
       "    }\n",
       "</style>\n",
       "<table border=\"1\" class=\"dataframe\">\n",
       "  <thead>\n",
       "    <tr style=\"text-align: right;\">\n",
       "      <th></th>\n",
       "      <th>Año</th>\n",
       "      <th>NombreDepartamento</th>\n",
       "      <th>Div_dpto</th>\n",
       "      <th>NombreMunicipio</th>\n",
       "      <th>Divi_muni</th>\n",
       "      <th>IrcaMinimo</th>\n",
       "      <th>IrcaMaximo</th>\n",
       "      <th>IrcaPromedio</th>\n",
       "      <th>NombreParametroAnalisis2</th>\n",
       "      <th>MuestrasEvaluadas</th>\n",
       "      <th>MuestrasTratadas</th>\n",
       "      <th>MuestrasSinTratar</th>\n",
       "      <th>NumeroParametrosMinimo</th>\n",
       "      <th>NumeroParametrosMaximo</th>\n",
       "      <th>NumeroParametrosPromedio</th>\n",
       "      <th>ResultadoMinimo</th>\n",
       "      <th>ResultadoMaximo</th>\n",
       "      <th>ResultadoPromedio</th>\n",
       "    </tr>\n",
       "  </thead>\n",
       "  <tbody>\n",
       "    <tr>\n",
       "      <th>0</th>\n",
       "      <td>2010-01-01</td>\n",
       "      <td>Bolívar</td>\n",
       "      <td>13</td>\n",
       "      <td>El Guamo</td>\n",
       "      <td>13248</td>\n",
       "      <td>0.0</td>\n",
       "      <td>100.0</td>\n",
       "      <td>37.32</td>\n",
       "      <td>Alcanilidad Total</td>\n",
       "      <td>67</td>\n",
       "      <td>67</td>\n",
       "      <td>0</td>\n",
       "      <td>2</td>\n",
       "      <td>7</td>\n",
       "      <td>2</td>\n",
       "      <td>23.0</td>\n",
       "      <td>23.0</td>\n",
       "      <td>23.0</td>\n",
       "    </tr>\n",
       "    <tr>\n",
       "      <th>1</th>\n",
       "      <td>2010-01-01</td>\n",
       "      <td>Bolívar</td>\n",
       "      <td>13</td>\n",
       "      <td>El Guamo</td>\n",
       "      <td>13248</td>\n",
       "      <td>0.0</td>\n",
       "      <td>100.0</td>\n",
       "      <td>37.32</td>\n",
       "      <td>Aluminio</td>\n",
       "      <td>67</td>\n",
       "      <td>67</td>\n",
       "      <td>0</td>\n",
       "      <td>2</td>\n",
       "      <td>7</td>\n",
       "      <td>2</td>\n",
       "      <td>NaN</td>\n",
       "      <td>NaN</td>\n",
       "      <td>NaN</td>\n",
       "    </tr>\n",
       "    <tr>\n",
       "      <th>2</th>\n",
       "      <td>2010-01-01</td>\n",
       "      <td>Bolívar</td>\n",
       "      <td>13</td>\n",
       "      <td>El Guamo</td>\n",
       "      <td>13248</td>\n",
       "      <td>0.0</td>\n",
       "      <td>100.0</td>\n",
       "      <td>37.32</td>\n",
       "      <td>Arsénico</td>\n",
       "      <td>67</td>\n",
       "      <td>67</td>\n",
       "      <td>0</td>\n",
       "      <td>2</td>\n",
       "      <td>7</td>\n",
       "      <td>2</td>\n",
       "      <td>NaN</td>\n",
       "      <td>NaN</td>\n",
       "      <td>NaN</td>\n",
       "    </tr>\n",
       "    <tr>\n",
       "      <th>3</th>\n",
       "      <td>2010-01-01</td>\n",
       "      <td>Bolívar</td>\n",
       "      <td>13</td>\n",
       "      <td>El Guamo</td>\n",
       "      <td>13248</td>\n",
       "      <td>0.0</td>\n",
       "      <td>100.0</td>\n",
       "      <td>37.32</td>\n",
       "      <td>Cadmio</td>\n",
       "      <td>67</td>\n",
       "      <td>67</td>\n",
       "      <td>0</td>\n",
       "      <td>2</td>\n",
       "      <td>7</td>\n",
       "      <td>2</td>\n",
       "      <td>NaN</td>\n",
       "      <td>NaN</td>\n",
       "      <td>NaN</td>\n",
       "    </tr>\n",
       "    <tr>\n",
       "      <th>4</th>\n",
       "      <td>2010-01-01</td>\n",
       "      <td>Bolívar</td>\n",
       "      <td>13</td>\n",
       "      <td>El Guamo</td>\n",
       "      <td>13248</td>\n",
       "      <td>0.0</td>\n",
       "      <td>100.0</td>\n",
       "      <td>37.32</td>\n",
       "      <td>Calcio</td>\n",
       "      <td>67</td>\n",
       "      <td>67</td>\n",
       "      <td>0</td>\n",
       "      <td>2</td>\n",
       "      <td>7</td>\n",
       "      <td>2</td>\n",
       "      <td>14.0</td>\n",
       "      <td>14.0</td>\n",
       "      <td>14.0</td>\n",
       "    </tr>\n",
       "  </tbody>\n",
       "</table>\n",
       "</div>"
      ],
      "text/plain": [
       "          Año NombreDepartamento  Div_dpto NombreMunicipio  Divi_muni  \\\n",
       "0  2010-01-01            Bolívar        13        El Guamo      13248   \n",
       "1  2010-01-01            Bolívar        13        El Guamo      13248   \n",
       "2  2010-01-01            Bolívar        13        El Guamo      13248   \n",
       "3  2010-01-01            Bolívar        13        El Guamo      13248   \n",
       "4  2010-01-01            Bolívar        13        El Guamo      13248   \n",
       "\n",
       "   IrcaMinimo  IrcaMaximo  IrcaPromedio NombreParametroAnalisis2  \\\n",
       "0         0.0       100.0         37.32        Alcanilidad Total   \n",
       "1         0.0       100.0         37.32                 Aluminio   \n",
       "2         0.0       100.0         37.32                 Arsénico   \n",
       "3         0.0       100.0         37.32                   Cadmio   \n",
       "4         0.0       100.0         37.32                   Calcio   \n",
       "\n",
       "   MuestrasEvaluadas  MuestrasTratadas  MuestrasSinTratar  \\\n",
       "0                 67                67                  0   \n",
       "1                 67                67                  0   \n",
       "2                 67                67                  0   \n",
       "3                 67                67                  0   \n",
       "4                 67                67                  0   \n",
       "\n",
       "   NumeroParametrosMinimo  NumeroParametrosMaximo  NumeroParametrosPromedio  \\\n",
       "0                       2                       7                         2   \n",
       "1                       2                       7                         2   \n",
       "2                       2                       7                         2   \n",
       "3                       2                       7                         2   \n",
       "4                       2                       7                         2   \n",
       "\n",
       "   ResultadoMinimo  ResultadoMaximo  ResultadoPromedio  \n",
       "0             23.0             23.0               23.0  \n",
       "1              NaN              NaN                NaN  \n",
       "2              NaN              NaN                NaN  \n",
       "3              NaN              NaN                NaN  \n",
       "4             14.0             14.0               14.0  "
      ]
     },
     "execution_count": 5,
     "metadata": {},
     "output_type": "execute_result"
    }
   ],
   "source": [
    "water['NombreDepartamento'] = water['NombreDepartamento'].str.title().str.strip()\n",
    "water['NombreMunicipio'] = water['NombreMunicipio'].str.title().str.strip()\n",
    "\n",
    "water.head()\n"
   ]
  },
  {
   "cell_type": "markdown",
   "metadata": {},
   "source": [
    "We converted all the names to a standard format, removed spaces at the beginning and end, and reduced multiple spaces to a single one."
   ]
  },
  {
   "cell_type": "markdown",
   "metadata": {},
   "source": [
    "#### Analyzing missing values"
   ]
  },
  {
   "cell_type": "code",
   "execution_count": 6,
   "metadata": {},
   "outputs": [
    {
     "data": {
      "text/plain": [
       "ResultadoMinimo      262361\n",
       "ResultadoMaximo      262361\n",
       "ResultadoPromedio    262361\n",
       "dtype: int64"
      ]
     },
     "execution_count": 6,
     "metadata": {},
     "output_type": "execute_result"
    }
   ],
   "source": [
    "missing_values = water.isnull().sum()\n",
    "\n",
    "missing_values = missing_values[missing_values > 0]\n",
    "\n",
    "missing_values\n"
   ]
  },
  {
   "cell_type": "markdown",
   "metadata": {},
   "source": [
    "The columns ResultadoMinimo, ResultadoMaximo, and ResultadoPromedio have missing values, with a total of 262,361 missing values in each. This suggests that there are many measurements where these results were not provided or do not apply."
   ]
  },
  {
   "cell_type": "code",
   "execution_count": 7,
   "metadata": {},
   "outputs": [
    {
     "name": "stdout",
     "output_type": "stream",
     "text": [
      "ResultadoMinimo      64.255188\n",
      "ResultadoMaximo      64.255188\n",
      "ResultadoPromedio    64.255188\n",
      "dtype: float64\n"
     ]
    }
   ],
   "source": [
    "missing_percentage = water[['ResultadoMinimo', 'ResultadoMaximo', 'ResultadoPromedio']].isnull().mean() * 100\n",
    "\n",
    "print(missing_percentage)\n"
   ]
  },
  {
   "cell_type": "markdown",
   "metadata": {},
   "source": [
    "We performed an analysis of the distribution of the existing values in ResultadoMinimo, ResultadoMaximo, and ResultadoPromedio to better understand these data:"
   ]
  },
  {
   "cell_type": "code",
   "execution_count": 8,
   "metadata": {},
   "outputs": [
    {
     "data": {
      "text/html": [
       "<div>\n",
       "<style scoped>\n",
       "    .dataframe tbody tr th:only-of-type {\n",
       "        vertical-align: middle;\n",
       "    }\n",
       "\n",
       "    .dataframe tbody tr th {\n",
       "        vertical-align: top;\n",
       "    }\n",
       "\n",
       "    .dataframe thead th {\n",
       "        text-align: right;\n",
       "    }\n",
       "</style>\n",
       "<table border=\"1\" class=\"dataframe\">\n",
       "  <thead>\n",
       "    <tr style=\"text-align: right;\">\n",
       "      <th></th>\n",
       "      <th>ResultadoMinimo</th>\n",
       "      <th>ResultadoMaximo</th>\n",
       "      <th>ResultadoPromedio</th>\n",
       "    </tr>\n",
       "  </thead>\n",
       "  <tbody>\n",
       "    <tr>\n",
       "      <th>count</th>\n",
       "      <td>145950.000000</td>\n",
       "      <td>1.459500e+05</td>\n",
       "      <td>145950.000000</td>\n",
       "    </tr>\n",
       "    <tr>\n",
       "      <th>mean</th>\n",
       "      <td>9.862479</td>\n",
       "      <td>8.427607e+02</td>\n",
       "      <td>81.500645</td>\n",
       "    </tr>\n",
       "    <tr>\n",
       "      <th>std</th>\n",
       "      <td>123.277709</td>\n",
       "      <td>5.496726e+04</td>\n",
       "      <td>2933.574927</td>\n",
       "    </tr>\n",
       "    <tr>\n",
       "      <th>min</th>\n",
       "      <td>-10.000000</td>\n",
       "      <td>-3.000000e-02</td>\n",
       "      <td>-0.520000</td>\n",
       "    </tr>\n",
       "    <tr>\n",
       "      <th>25%</th>\n",
       "      <td>0.000000</td>\n",
       "      <td>2.500000e-01</td>\n",
       "      <td>0.100000</td>\n",
       "    </tr>\n",
       "    <tr>\n",
       "      <th>50%</th>\n",
       "      <td>0.100000</td>\n",
       "      <td>6.800000e+00</td>\n",
       "      <td>2.350000</td>\n",
       "    </tr>\n",
       "    <tr>\n",
       "      <th>75%</th>\n",
       "      <td>5.000000</td>\n",
       "      <td>3.910000e+01</td>\n",
       "      <td>15.000000</td>\n",
       "    </tr>\n",
       "    <tr>\n",
       "      <th>max</th>\n",
       "      <td>22308.000000</td>\n",
       "      <td>1.452000e+07</td>\n",
       "      <td>748085.000000</td>\n",
       "    </tr>\n",
       "  </tbody>\n",
       "</table>\n",
       "</div>"
      ],
      "text/plain": [
       "       ResultadoMinimo  ResultadoMaximo  ResultadoPromedio\n",
       "count    145950.000000     1.459500e+05      145950.000000\n",
       "mean          9.862479     8.427607e+02          81.500645\n",
       "std         123.277709     5.496726e+04        2933.574927\n",
       "min         -10.000000    -3.000000e-02          -0.520000\n",
       "25%           0.000000     2.500000e-01           0.100000\n",
       "50%           0.100000     6.800000e+00           2.350000\n",
       "75%           5.000000     3.910000e+01          15.000000\n",
       "max       22308.000000     1.452000e+07      748085.000000"
      ]
     },
     "execution_count": 8,
     "metadata": {},
     "output_type": "execute_result"
    }
   ],
   "source": [
    "descriptive_stats = water[['ResultadoMinimo', 'ResultadoMaximo', 'ResultadoPromedio']].describe()\n",
    "\n",
    "descriptive_stats"
   ]
  },
  {
   "cell_type": "markdown",
   "metadata": {},
   "source": [
    "The distribution of values in the ResultadoMinimo, ResultadoMaximo, and ResultadoPromedio columns shows a wide range of values, from negative to very large positive ones, indicating significant variability in the data."
   ]
  },
  {
   "cell_type": "markdown",
   "metadata": {},
   "source": [
    "We will perform an analysis to see if there is any correlation between rows with missing data and other variables. This would help us understand if the missing data are related to other characteristics of the data:"
   ]
  },
  {
   "cell_type": "code",
   "execution_count": 9,
   "metadata": {},
   "outputs": [
    {
     "data": {
      "image/png": "[encoded data removed]",
      "text/plain": [
       "<Figure size 1000x800 with 1 Axes>"
      ]
     },
     "metadata": {},
     "output_type": "display_data"
    }
   ],
   "source": [
    "water_numeric = water.select_dtypes(include=[np.number])\n",
    "\n",
    "water_numeric['missing_values'] = water[['ResultadoMinimo', 'ResultadoMaximo', 'ResultadoPromedio']].isnull().any(axis=1)\n",
    "\n",
    "correlation_with_missing = water_numeric.corr()['missing_values'].sort_values()\n",
    "\n",
    "correlation_with_missing = correlation_with_missing.drop('missing_values')\n",
    "\n",
    "plt.figure(figsize=(10, 8))\n",
    "correlation_with_missing.plot(kind='bar')\n",
    "plt.title('Correlación de la presencia de valores faltantes con otras columnas')\n",
    "plt.xlabel('Columnas')\n",
    "plt.ylabel('Correlación con valores faltantes')\n",
    "plt.show()\n"
   ]
  },
  {
   "cell_type": "markdown",
   "metadata": {},
   "source": [
    "The correlation results show that there is no strong correlation with the presence of missing values, as the values are relatively low. This suggests that the missing values may not be systematically related to other numerical variables in our dataset."
   ]
  },
  {
   "cell_type": "markdown",
   "metadata": {},
   "source": [
    "### Is there a way to impute these values based on other available data?"
   ]
  },
  {
   "cell_type": "markdown",
   "metadata": {},
   "source": [
    "Imputation by average:"
   ]
  },
  {
   "cell_type": "code",
   "execution_count": 10,
   "metadata": {},
   "outputs": [
    {
     "name": "stderr",
     "output_type": "stream",
     "text": [
      "C:\\Users\\JSLV3\\AppData\\Local\\Temp\\ipykernel_22244\\2895450698.py:5: FutureWarning: A value is trying to be set on a copy of a DataFrame or Series through chained assignment using an inplace method.\n",
      "The behavior will change in pandas 3.0. This inplace method will never work because the intermediate object on which we are setting values always behaves as a copy.\n",
      "\n",
      "For example, when doing 'df[col].method(value, inplace=True)', try using 'df.method({col: value}, inplace=True)' or df[col] = df[col].method(value) instead, to perform the operation inplace on the original object.\n",
      "\n",
      "\n",
      "  water['ResultadoMinimo'].fillna(promedio_resultado_minimo, inplace=True)\n",
      "C:\\Users\\JSLV3\\AppData\\Local\\Temp\\ipykernel_22244\\2895450698.py:6: FutureWarning: A value is trying to be set on a copy of a DataFrame or Series through chained assignment using an inplace method.\n",
      "The behavior will change in pandas 3.0. This inplace method will never work because the intermediate object on which we are setting values always behaves as a copy.\n",
      "\n",
      "For example, when doing 'df[col].method(value, inplace=True)', try using 'df.method({col: value}, inplace=True)' or df[col] = df[col].method(value) instead, to perform the operation inplace on the original object.\n",
      "\n",
      "\n",
      "  water['ResultadoMaximo'].fillna(promedio_resultado_maximo, inplace=True)\n",
      "C:\\Users\\JSLV3\\AppData\\Local\\Temp\\ipykernel_22244\\2895450698.py:7: FutureWarning: A value is trying to be set on a copy of a DataFrame or Series through chained assignment using an inplace method.\n",
      "The behavior will change in pandas 3.0. This inplace method will never work because the intermediate object on which we are setting values always behaves as a copy.\n",
      "\n",
      "For example, when doing 'df[col].method(value, inplace=True)', try using 'df.method({col: value}, inplace=True)' or df[col] = df[col].method(value) instead, to perform the operation inplace on the original object.\n",
      "\n",
      "\n",
      "  water['ResultadoPromedio'].fillna(promedio_resultado_promedio, inplace=True)\n"
     ]
    },
    {
     "data": {
      "text/html": [
       "<div>\n",
       "<style scoped>\n",
       "    .dataframe tbody tr th:only-of-type {\n",
       "        vertical-align: middle;\n",
       "    }\n",
       "\n",
       "    .dataframe tbody tr th {\n",
       "        vertical-align: top;\n",
       "    }\n",
       "\n",
       "    .dataframe thead th {\n",
       "        text-align: right;\n",
       "    }\n",
       "</style>\n",
       "<table border=\"1\" class=\"dataframe\">\n",
       "  <thead>\n",
       "    <tr style=\"text-align: right;\">\n",
       "      <th></th>\n",
       "      <th>ResultadoMinimo</th>\n",
       "      <th>ResultadoMaximo</th>\n",
       "      <th>ResultadoPromedio</th>\n",
       "    </tr>\n",
       "  </thead>\n",
       "  <tbody>\n",
       "    <tr>\n",
       "      <th>0</th>\n",
       "      <td>23.000000</td>\n",
       "      <td>23.000000</td>\n",
       "      <td>23.000000</td>\n",
       "    </tr>\n",
       "    <tr>\n",
       "      <th>1</th>\n",
       "      <td>9.862479</td>\n",
       "      <td>842.760662</td>\n",
       "      <td>81.500645</td>\n",
       "    </tr>\n",
       "    <tr>\n",
       "      <th>2</th>\n",
       "      <td>9.862479</td>\n",
       "      <td>842.760662</td>\n",
       "      <td>81.500645</td>\n",
       "    </tr>\n",
       "    <tr>\n",
       "      <th>3</th>\n",
       "      <td>9.862479</td>\n",
       "      <td>842.760662</td>\n",
       "      <td>81.500645</td>\n",
       "    </tr>\n",
       "    <tr>\n",
       "      <th>4</th>\n",
       "      <td>14.000000</td>\n",
       "      <td>14.000000</td>\n",
       "      <td>14.000000</td>\n",
       "    </tr>\n",
       "    <tr>\n",
       "      <th>5</th>\n",
       "      <td>9.862479</td>\n",
       "      <td>842.760662</td>\n",
       "      <td>81.500645</td>\n",
       "    </tr>\n",
       "    <tr>\n",
       "      <th>6</th>\n",
       "      <td>9.862479</td>\n",
       "      <td>842.760662</td>\n",
       "      <td>81.500645</td>\n",
       "    </tr>\n",
       "    <tr>\n",
       "      <th>7</th>\n",
       "      <td>5.200000</td>\n",
       "      <td>5.200000</td>\n",
       "      <td>5.200000</td>\n",
       "    </tr>\n",
       "    <tr>\n",
       "      <th>8</th>\n",
       "      <td>9.862479</td>\n",
       "      <td>842.760662</td>\n",
       "      <td>81.500645</td>\n",
       "    </tr>\n",
       "    <tr>\n",
       "      <th>9</th>\n",
       "      <td>0.000000</td>\n",
       "      <td>80.000000</td>\n",
       "      <td>11.230000</td>\n",
       "    </tr>\n",
       "    <tr>\n",
       "      <th>10</th>\n",
       "      <td>9.862479</td>\n",
       "      <td>842.760662</td>\n",
       "      <td>81.500645</td>\n",
       "    </tr>\n",
       "    <tr>\n",
       "      <th>11</th>\n",
       "      <td>9.862479</td>\n",
       "      <td>842.760662</td>\n",
       "      <td>81.500645</td>\n",
       "    </tr>\n",
       "    <tr>\n",
       "      <th>12</th>\n",
       "      <td>9.862479</td>\n",
       "      <td>842.760662</td>\n",
       "      <td>81.500645</td>\n",
       "    </tr>\n",
       "    <tr>\n",
       "      <th>13</th>\n",
       "      <td>9.862479</td>\n",
       "      <td>842.760662</td>\n",
       "      <td>81.500645</td>\n",
       "    </tr>\n",
       "    <tr>\n",
       "      <th>14</th>\n",
       "      <td>68.000000</td>\n",
       "      <td>68.000000</td>\n",
       "      <td>68.000000</td>\n",
       "    </tr>\n",
       "  </tbody>\n",
       "</table>\n",
       "</div>"
      ],
      "text/plain": [
       "    ResultadoMinimo  ResultadoMaximo  ResultadoPromedio\n",
       "0         23.000000        23.000000          23.000000\n",
       "1          9.862479       842.760662          81.500645\n",
       "2          9.862479       842.760662          81.500645\n",
       "3          9.862479       842.760662          81.500645\n",
       "4         14.000000        14.000000          14.000000\n",
       "5          9.862479       842.760662          81.500645\n",
       "6          9.862479       842.760662          81.500645\n",
       "7          5.200000         5.200000           5.200000\n",
       "8          9.862479       842.760662          81.500645\n",
       "9          0.000000        80.000000          11.230000\n",
       "10         9.862479       842.760662          81.500645\n",
       "11         9.862479       842.760662          81.500645\n",
       "12         9.862479       842.760662          81.500645\n",
       "13         9.862479       842.760662          81.500645\n",
       "14        68.000000        68.000000          68.000000"
      ]
     },
     "execution_count": 10,
     "metadata": {},
     "output_type": "execute_result"
    }
   ],
   "source": [
    "promedio_resultado_minimo = water['ResultadoMinimo'].mean()\n",
    "promedio_resultado_maximo = water['ResultadoMaximo'].mean()\n",
    "promedio_resultado_promedio = water['ResultadoPromedio'].mean()\n",
    "\n",
    "water['ResultadoMinimo'].fillna(promedio_resultado_minimo, inplace=True)\n",
    "water['ResultadoMaximo'].fillna(promedio_resultado_maximo, inplace=True)\n",
    "water['ResultadoPromedio'].fillna(promedio_resultado_promedio, inplace=True)\n",
    "\n",
    "water[['ResultadoMinimo', 'ResultadoMaximo', 'ResultadoPromedio']].head(15)"
   ]
  },
  {
   "cell_type": "markdown",
   "metadata": {},
   "source": [
    "By using the average, all missing values are replaced by a single average value, ignoring the essential variability between different samples and locations. This results in a simplified representation that can distort the analysis, especially in studies where differences in pollution levels are critical for determining public health and environmental safety. The uniformity imposed by the average eliminates the ability to detect significant variations in water quality, potentially leading to incorrect interpretations and inadequate decisions based on an incomplete understanding of the data"
   ]
  },
  {
   "cell_type": "markdown",
   "metadata": {},
   "source": [
    "Imputation by median:\n"
   ]
  },
  {
   "cell_type": "code",
   "execution_count": 11,
   "metadata": {},
   "outputs": [
    {
     "name": "stderr",
     "output_type": "stream",
     "text": [
      "C:\\Users\\JSLV3\\AppData\\Local\\Temp\\ipykernel_22244\\3587708736.py:5: FutureWarning: A value is trying to be set on a copy of a DataFrame or Series through chained assignment using an inplace method.\n",
      "The behavior will change in pandas 3.0. This inplace method will never work because the intermediate object on which we are setting values always behaves as a copy.\n",
      "\n",
      "For example, when doing 'df[col].method(value, inplace=True)', try using 'df.method({col: value}, inplace=True)' or df[col] = df[col].method(value) instead, to perform the operation inplace on the original object.\n",
      "\n",
      "\n",
      "  water['ResultadoMinimo'].fillna(mediana_resultado_minimo, inplace=True)\n",
      "C:\\Users\\JSLV3\\AppData\\Local\\Temp\\ipykernel_22244\\3587708736.py:6: FutureWarning: A value is trying to be set on a copy of a DataFrame or Series through chained assignment using an inplace method.\n",
      "The behavior will change in pandas 3.0. This inplace method will never work because the intermediate object on which we are setting values always behaves as a copy.\n",
      "\n",
      "For example, when doing 'df[col].method(value, inplace=True)', try using 'df.method({col: value}, inplace=True)' or df[col] = df[col].method(value) instead, to perform the operation inplace on the original object.\n",
      "\n",
      "\n",
      "  water['ResultadoMaximo'].fillna(mediana_resultado_maximo, inplace=True)\n",
      "C:\\Users\\JSLV3\\AppData\\Local\\Temp\\ipykernel_22244\\3587708736.py:7: FutureWarning: A value is trying to be set on a copy of a DataFrame or Series through chained assignment using an inplace method.\n",
      "The behavior will change in pandas 3.0. This inplace method will never work because the intermediate object on which we are setting values always behaves as a copy.\n",
      "\n",
      "For example, when doing 'df[col].method(value, inplace=True)', try using 'df.method({col: value}, inplace=True)' or df[col] = df[col].method(value) instead, to perform the operation inplace on the original object.\n",
      "\n",
      "\n",
      "  water['ResultadoPromedio'].fillna(mediana_resultado_promedio, inplace=True)\n"
     ]
    },
    {
     "data": {
      "text/html": [
       "<div>\n",
       "<style scoped>\n",
       "    .dataframe tbody tr th:only-of-type {\n",
       "        vertical-align: middle;\n",
       "    }\n",
       "\n",
       "    .dataframe tbody tr th {\n",
       "        vertical-align: top;\n",
       "    }\n",
       "\n",
       "    .dataframe thead th {\n",
       "        text-align: right;\n",
       "    }\n",
       "</style>\n",
       "<table border=\"1\" class=\"dataframe\">\n",
       "  <thead>\n",
       "    <tr style=\"text-align: right;\">\n",
       "      <th></th>\n",
       "      <th>ResultadoMinimo</th>\n",
       "      <th>ResultadoMaximo</th>\n",
       "      <th>ResultadoPromedio</th>\n",
       "    </tr>\n",
       "  </thead>\n",
       "  <tbody>\n",
       "    <tr>\n",
       "      <th>0</th>\n",
       "      <td>23.000000</td>\n",
       "      <td>23.000000</td>\n",
       "      <td>23.000000</td>\n",
       "    </tr>\n",
       "    <tr>\n",
       "      <th>1</th>\n",
       "      <td>9.862479</td>\n",
       "      <td>842.760662</td>\n",
       "      <td>81.500645</td>\n",
       "    </tr>\n",
       "    <tr>\n",
       "      <th>2</th>\n",
       "      <td>9.862479</td>\n",
       "      <td>842.760662</td>\n",
       "      <td>81.500645</td>\n",
       "    </tr>\n",
       "    <tr>\n",
       "      <th>3</th>\n",
       "      <td>9.862479</td>\n",
       "      <td>842.760662</td>\n",
       "      <td>81.500645</td>\n",
       "    </tr>\n",
       "    <tr>\n",
       "      <th>4</th>\n",
       "      <td>14.000000</td>\n",
       "      <td>14.000000</td>\n",
       "      <td>14.000000</td>\n",
       "    </tr>\n",
       "  </tbody>\n",
       "</table>\n",
       "</div>"
      ],
      "text/plain": [
       "   ResultadoMinimo  ResultadoMaximo  ResultadoPromedio\n",
       "0        23.000000        23.000000          23.000000\n",
       "1         9.862479       842.760662          81.500645\n",
       "2         9.862479       842.760662          81.500645\n",
       "3         9.862479       842.760662          81.500645\n",
       "4        14.000000        14.000000          14.000000"
      ]
     },
     "execution_count": 11,
     "metadata": {},
     "output_type": "execute_result"
    }
   ],
   "source": [
    "mediana_resultado_minimo = water['ResultadoMinimo'].median()\n",
    "mediana_resultado_maximo = water['ResultadoMaximo'].median()\n",
    "mediana_resultado_promedio = water['ResultadoPromedio'].median()\n",
    "\n",
    "water['ResultadoMinimo'].fillna(mediana_resultado_minimo, inplace=True)\n",
    "water['ResultadoMaximo'].fillna(mediana_resultado_maximo, inplace=True)\n",
    "water['ResultadoPromedio'].fillna(mediana_resultado_promedio, inplace=True)\n",
    "\n",
    "water[['ResultadoMinimo', 'ResultadoMaximo', 'ResultadoPromedio']].head()"
   ]
  },
  {
   "cell_type": "markdown",
   "metadata": {},
   "source": [
    "Just like in the case of imputation by average, the median assigns a single value to all missing records in a column, ignoring variability and relationships between variables."
   ]
  },
  {
   "cell_type": "markdown",
   "metadata": {},
   "source": [
    "In the context of our work, which involves analyzing water quality through the ResultadoMinimo, ResultadoMaximo, and ResultadoPromedio parameters, we face significant challenges in imputing missing values with general methods like the mean or median. These approaches do not capture the complexity and specific variability of data related to water quality, where each parameter can vary considerably due to geographical, temporal, and environmental factors.\n",
    "\n",
    "Therefore, in this specific case, removing the ResultadoMinimo, ResultadoMaximo, and ResultadoPromedio columns may be the most prudent decision. This action eliminates the risk of introducing significant biases through imputation and allows us to focus on parts of the dataset with complete and accurate information"
   ]
  },
  {
   "cell_type": "code",
   "execution_count": 12,
   "metadata": {},
   "outputs": [],
   "source": [
    "water = water.drop(['ResultadoMinimo', 'ResultadoMaximo', 'ResultadoPromedio'], axis=1)"
   ]
  },
  {
   "cell_type": "markdown",
   "metadata": {},
   "source": [
    "We recheck to ensure that there are no more missing values"
   ]
  },
  {
   "cell_type": "code",
   "execution_count": 13,
   "metadata": {},
   "outputs": [
    {
     "data": {
      "text/plain": [
       "Series([], dtype: int64)"
      ]
     },
     "execution_count": 13,
     "metadata": {},
     "output_type": "execute_result"
    }
   ],
   "source": [
    "water_faltantes = water.isnull().sum()\n",
    "\n",
    "\n",
    "water_faltantes[water_faltantes > 0]"
   ]
  },
  {
   "cell_type": "markdown",
   "metadata": {},
   "source": [
    "#### Investigation of duplicate rows:"
   ]
  },
  {
   "cell_type": "code",
   "execution_count": 14,
   "metadata": {},
   "outputs": [
    {
     "data": {
      "text/plain": [
       "(0, 0)"
      ]
     },
     "execution_count": 14,
     "metadata": {},
     "output_type": "execute_result"
    }
   ],
   "source": [
    "filas_duplicadas_antes = water.duplicated().sum()\n",
    "\n",
    "water = water.drop_duplicates()\n",
    "\n",
    "filas_duplicadas_despues = water.duplicated().sum()\n",
    "\n",
    "filas_duplicadas_antes, filas_duplicadas_despues"
   ]
  },
  {
   "cell_type": "markdown",
   "metadata": {},
   "source": [
    "No duplicate rows were found in the dataset"
   ]
  },
  {
   "cell_type": "markdown",
   "metadata": {},
   "source": [
    "#### Verification of the data types of the columns to ensure they match the content they hold"
   ]
  },
  {
   "cell_type": "code",
   "execution_count": 15,
   "metadata": {},
   "outputs": [
    {
     "data": {
      "text/plain": [
       "Año                          object\n",
       "NombreDepartamento           object\n",
       "Div_dpto                      int64\n",
       "NombreMunicipio              object\n",
       "Divi_muni                     int64\n",
       "IrcaMinimo                  float64\n",
       "IrcaMaximo                  float64\n",
       "IrcaPromedio                float64\n",
       "NombreParametroAnalisis2     object\n",
       "MuestrasEvaluadas             int64\n",
       "MuestrasTratadas              int64\n",
       "MuestrasSinTratar             int64\n",
       "NumeroParametrosMinimo        int64\n",
       "NumeroParametrosMaximo        int64\n",
       "NumeroParametrosPromedio      int64\n",
       "dtype: object"
      ]
     },
     "execution_count": 15,
     "metadata": {},
     "output_type": "execute_result"
    }
   ],
   "source": [
    "tipos_datos_actuales = water.dtypes\n",
    "\n",
    "tipos_datos_actuales"
   ]
  },
  {
   "cell_type": "markdown",
   "metadata": {},
   "source": [
    "Change data type of 'Año':"
   ]
  },
  {
   "cell_type": "code",
   "execution_count": 16,
   "metadata": {},
   "outputs": [
    {
     "data": {
      "text/plain": [
       "Año                         datetime64[ns]\n",
       "NombreDepartamento                  object\n",
       "Div_dpto                             int64\n",
       "NombreMunicipio                     object\n",
       "Divi_muni                            int64\n",
       "IrcaMinimo                         float64\n",
       "IrcaMaximo                         float64\n",
       "IrcaPromedio                       float64\n",
       "NombreParametroAnalisis2            object\n",
       "MuestrasEvaluadas                    int64\n",
       "MuestrasTratadas                     int64\n",
       "MuestrasSinTratar                    int64\n",
       "NumeroParametrosMinimo               int64\n",
       "NumeroParametrosMaximo               int64\n",
       "NumeroParametrosPromedio             int64\n",
       "dtype: object"
      ]
     },
     "execution_count": 16,
     "metadata": {},
     "output_type": "execute_result"
    }
   ],
   "source": [
    "water['Año'] = pd.to_datetime(water['Año'], format='%Y')\n",
    "\n",
    "water.dtypes"
   ]
  },
  {
   "cell_type": "code",
   "execution_count": 17,
   "metadata": {},
   "outputs": [
    {
     "name": "stdout",
     "output_type": "stream",
     "text": [
      "Requirement already satisfied: unidecode in c:\\users\\jslv3\\appdata\\local\\programs\\python\\python312\\lib\\site-packages (1.3.8)\n",
      "Note: you may need to restart the kernel to use updated packages.\n"
     ]
    },
    {
     "data": {
      "text/html": [
       "<div>\n",
       "<style scoped>\n",
       "    .dataframe tbody tr th:only-of-type {\n",
       "        vertical-align: middle;\n",
       "    }\n",
       "\n",
       "    .dataframe tbody tr th {\n",
       "        vertical-align: top;\n",
       "    }\n",
       "\n",
       "    .dataframe thead th {\n",
       "        text-align: right;\n",
       "    }\n",
       "</style>\n",
       "<table border=\"1\" class=\"dataframe\">\n",
       "  <thead>\n",
       "    <tr style=\"text-align: right;\">\n",
       "      <th></th>\n",
       "      <th>Año</th>\n",
       "      <th>NombreDepartamento</th>\n",
       "      <th>Div_dpto</th>\n",
       "      <th>NombreMunicipio</th>\n",
       "      <th>Divi_muni</th>\n",
       "      <th>IrcaMinimo</th>\n",
       "      <th>IrcaMaximo</th>\n",
       "      <th>IrcaPromedio</th>\n",
       "      <th>NombreParametroAnalisis2</th>\n",
       "      <th>MuestrasEvaluadas</th>\n",
       "      <th>MuestrasTratadas</th>\n",
       "      <th>MuestrasSinTratar</th>\n",
       "      <th>NumeroParametrosMinimo</th>\n",
       "      <th>NumeroParametrosMaximo</th>\n",
       "      <th>NumeroParametrosPromedio</th>\n",
       "    </tr>\n",
       "  </thead>\n",
       "  <tbody>\n",
       "    <tr>\n",
       "      <th>0</th>\n",
       "      <td>2010-01-01</td>\n",
       "      <td>Bolivar</td>\n",
       "      <td>13</td>\n",
       "      <td>El Guamo</td>\n",
       "      <td>13248</td>\n",
       "      <td>0.0</td>\n",
       "      <td>100.0</td>\n",
       "      <td>37.32</td>\n",
       "      <td>Alcanilidad Total</td>\n",
       "      <td>67</td>\n",
       "      <td>67</td>\n",
       "      <td>0</td>\n",
       "      <td>2</td>\n",
       "      <td>7</td>\n",
       "      <td>2</td>\n",
       "    </tr>\n",
       "    <tr>\n",
       "      <th>1</th>\n",
       "      <td>2010-01-01</td>\n",
       "      <td>Bolivar</td>\n",
       "      <td>13</td>\n",
       "      <td>El Guamo</td>\n",
       "      <td>13248</td>\n",
       "      <td>0.0</td>\n",
       "      <td>100.0</td>\n",
       "      <td>37.32</td>\n",
       "      <td>Aluminio</td>\n",
       "      <td>67</td>\n",
       "      <td>67</td>\n",
       "      <td>0</td>\n",
       "      <td>2</td>\n",
       "      <td>7</td>\n",
       "      <td>2</td>\n",
       "    </tr>\n",
       "    <tr>\n",
       "      <th>2</th>\n",
       "      <td>2010-01-01</td>\n",
       "      <td>Bolivar</td>\n",
       "      <td>13</td>\n",
       "      <td>El Guamo</td>\n",
       "      <td>13248</td>\n",
       "      <td>0.0</td>\n",
       "      <td>100.0</td>\n",
       "      <td>37.32</td>\n",
       "      <td>Arsenico</td>\n",
       "      <td>67</td>\n",
       "      <td>67</td>\n",
       "      <td>0</td>\n",
       "      <td>2</td>\n",
       "      <td>7</td>\n",
       "      <td>2</td>\n",
       "    </tr>\n",
       "    <tr>\n",
       "      <th>3</th>\n",
       "      <td>2010-01-01</td>\n",
       "      <td>Bolivar</td>\n",
       "      <td>13</td>\n",
       "      <td>El Guamo</td>\n",
       "      <td>13248</td>\n",
       "      <td>0.0</td>\n",
       "      <td>100.0</td>\n",
       "      <td>37.32</td>\n",
       "      <td>Cadmio</td>\n",
       "      <td>67</td>\n",
       "      <td>67</td>\n",
       "      <td>0</td>\n",
       "      <td>2</td>\n",
       "      <td>7</td>\n",
       "      <td>2</td>\n",
       "    </tr>\n",
       "    <tr>\n",
       "      <th>4</th>\n",
       "      <td>2010-01-01</td>\n",
       "      <td>Bolivar</td>\n",
       "      <td>13</td>\n",
       "      <td>El Guamo</td>\n",
       "      <td>13248</td>\n",
       "      <td>0.0</td>\n",
       "      <td>100.0</td>\n",
       "      <td>37.32</td>\n",
       "      <td>Calcio</td>\n",
       "      <td>67</td>\n",
       "      <td>67</td>\n",
       "      <td>0</td>\n",
       "      <td>2</td>\n",
       "      <td>7</td>\n",
       "      <td>2</td>\n",
       "    </tr>\n",
       "  </tbody>\n",
       "</table>\n",
       "</div>"
      ],
      "text/plain": [
       "         Año NombreDepartamento  Div_dpto NombreMunicipio  Divi_muni  \\\n",
       "0 2010-01-01            Bolivar        13        El Guamo      13248   \n",
       "1 2010-01-01            Bolivar        13        El Guamo      13248   \n",
       "2 2010-01-01            Bolivar        13        El Guamo      13248   \n",
       "3 2010-01-01            Bolivar        13        El Guamo      13248   \n",
       "4 2010-01-01            Bolivar        13        El Guamo      13248   \n",
       "\n",
       "   IrcaMinimo  IrcaMaximo  IrcaPromedio NombreParametroAnalisis2  \\\n",
       "0         0.0       100.0         37.32        Alcanilidad Total   \n",
       "1         0.0       100.0         37.32                 Aluminio   \n",
       "2         0.0       100.0         37.32                 Arsenico   \n",
       "3         0.0       100.0         37.32                   Cadmio   \n",
       "4         0.0       100.0         37.32                   Calcio   \n",
       "\n",
       "   MuestrasEvaluadas  MuestrasTratadas  MuestrasSinTratar  \\\n",
       "0                 67                67                  0   \n",
       "1                 67                67                  0   \n",
       "2                 67                67                  0   \n",
       "3                 67                67                  0   \n",
       "4                 67                67                  0   \n",
       "\n",
       "   NumeroParametrosMinimo  NumeroParametrosMaximo  NumeroParametrosPromedio  \n",
       "0                       2                       7                         2  \n",
       "1                       2                       7                         2  \n",
       "2                       2                       7                         2  \n",
       "3                       2                       7                         2  \n",
       "4                       2                       7                         2  "
      ]
     },
     "execution_count": 17,
     "metadata": {},
     "output_type": "execute_result"
    }
   ],
   "source": [
    "%pip install unidecode\n",
    "import pandas as pd\n",
    "from unidecode import unidecode\n",
    "\n",
    "for col in water.select_dtypes(include=['object']).columns:\n",
    "    water[col] = water[col].apply(lambda x: unidecode(x) if isinstance(x, str) else x)\n",
    "\n",
    "water.head()"
   ]
  },
  {
   "cell_type": "markdown",
   "metadata": {},
   "source": []
  },
  {
   "cell_type": "markdown",
   "metadata": {},
   "source": [
    "#### Outliers"
   ]
  },
  {
   "cell_type": "code",
   "execution_count": 18,
   "metadata": {},
   "outputs": [
    {
     "name": "stdout",
     "output_type": "stream",
     "text": [
      "Número de valores atípicos por columna:\n",
      "Div_dpto                        0\n",
      "Divi_muni                       0\n",
      "IrcaMinimo                  32230\n",
      "IrcaMaximo                      0\n",
      "IrcaPromedio                 2439\n",
      "MuestrasEvaluadas           43560\n",
      "MuestrasTratadas            41658\n",
      "MuestrasSinTratar           50383\n",
      "NumeroParametrosMinimo        102\n",
      "NumeroParametrosMaximo       5658\n",
      "NumeroParametrosPromedio        0\n",
      "dtype: int64\n"
     ]
    }
   ],
   "source": [
    "\n",
    "import pandas as pd\n",
    "\n",
    "outliers_count = {}\n",
    "\n",
    "\n",
    "numeric_cols = water.select_dtypes(include=['float64', 'int64']).columns\n",
    "\n",
    "Q1 = water[numeric_cols].quantile(0.25)\n",
    "Q3 = water[numeric_cols].quantile(0.75)\n",
    "IQR = Q3 - Q1\n",
    "\n",
    "\n",
    "limite_inferior = Q1 - 1.5 * IQR\n",
    "limite_superior = Q3 + 1.5 * IQR\n",
    "\n",
    "\n",
    "outliers_count = ((water[numeric_cols] < limite_inferior) | (water[numeric_cols] > limite_superior)).sum()\n",
    "\n",
    "print(\"Número de valores atípicos por columna:\")\n",
    "print(outliers_count)"
   ]
  },
  {
   "cell_type": "markdown",
   "metadata": {},
   "source": [
    "### We will start the imputation of outliers with our most important column 'IRCA promedio'"
   ]
  },
  {
   "cell_type": "code",
   "execution_count": 19,
   "metadata": {},
   "outputs": [
    {
     "data": {
      "image/png": "[encoded data removed]",
      "text/plain": [
       "<Figure size 1000x600 with 1 Axes>"
      ]
     },
     "metadata": {},
     "output_type": "display_data"
    }
   ],
   "source": [
    "import numpy as np\n",
    "import matplotlib.pyplot as plt\n",
    "\n",
    "\n",
    "plt.figure(figsize=(10, 6))\n",
    "\n",
    "\n",
    "bp = plt.boxplot(water['IrcaPromedio'], vert=False, patch_artist=True, showmeans=True,\n",
    "                 boxprops=dict(facecolor='lightblue', color='blue'),\n",
    "                 whiskerprops=dict(color='blue'),\n",
    "                 capprops=dict(color='blue'),\n",
    "                 medianprops=dict(color='red'),\n",
    "                 meanprops=dict(marker='D', markeredgecolor='black', markerfacecolor='yellow'))\n",
    "\n",
    "\n",
    "plt.title('Distribución del IRCA Promedio', fontsize=16)\n",
    "plt.xlabel('IRCA Promedio', fontsize=14)\n",
    "plt.grid(True, linestyle='--', linewidth=0.5, alpha=0.5)\n",
    "plt.tight_layout()\n",
    "\n",
    "\n",
    "median_value = np.median(water['IrcaPromedio'])\n",
    "plt.annotate(f'Mediana: {median_value:.2f}', xy=(median_value, 0.5), xytext=(median_value, 0.6),\n",
    "             arrowprops=dict(facecolor='black', arrowstyle=\"->\"),\n",
    "             horizontalalignment='center', verticalalignment='top')\n",
    "\n",
    "\n",
    "plt.show()"
   ]
  },
  {
   "cell_type": "markdown",
   "metadata": {},
   "source": [
    "The graph shows the distribution of the Average IRCA with a median of approximately 5.47, indicating half of the values below and above this point. The central box encompasses the interquartile range, with points outside the 'whiskers' representing outliers. This highlights the variability in water quality, with some values significantly deviating from the norm, which may indicate areas with specific pollution or water quality issues"
   ]
  },
  {
   "cell_type": "code",
   "execution_count": 21,
   "metadata": {},
   "outputs": [
    {
     "name": "stdout",
     "output_type": "stream",
     "text": [
      "NombreDepartamento\n",
      "Tolima                                                      509\n",
      "Magdalena                                                   410\n",
      "Choco                                                       375\n",
      "Cauca                                                       348\n",
      "Bolivar                                                     312\n",
      "Antioquia                                                   159\n",
      "Cesar                                                        94\n",
      "Vaupes                                                       76\n",
      "Guainia                                                      75\n",
      "Caqueta                                                      47\n",
      "Santander                                                    34\n",
      "Quindio                                                       0\n",
      "Risaralda                                                     0\n",
      "Sucre                                                         0\n",
      "Putumayo                                                      0\n",
      "Norte De Santander                                            0\n",
      "Valle Del Cauca                                               0\n",
      "Narino                                                        0\n",
      "Meta                                                          0\n",
      "Amazonas                                                      0\n",
      "La Guajira                                                    0\n",
      "Huila                                                         0\n",
      "Guaviare                                                      0\n",
      "Cundinamarca                                                  0\n",
      "Cordoba                                                       0\n",
      "Casanare                                                      0\n",
      "Caldas                                                        0\n",
      "Boyaca                                                        0\n",
      "Bogota, D.C.                                                  0\n",
      "Atlantico                                                     0\n",
      "Archipielago De San Andres, Providencia Y Santa Catalina      0\n",
      "Arauca                                                        0\n",
      "Vichada                                                       0\n",
      "Name: EsAtipico, dtype: int64\n"
     ]
    }
   ],
   "source": [
    "water['EsAtipico'] = (water['IrcaPromedio'] < limite_inferior) | (water['IrcaPromedio'] > limite_superior)\n",
    "\n",
    "valores_atipicos_por_departamento = water.groupby('NombreDepartamento')['EsAtipico'].sum()\n",
    "\n",
    "valores_atipicos_por_departamento = valores_atipicos_por_departamento.sort_values(ascending=False)\n",
    "\n",
    "print(valores_atipicos_por_departamento)"
   ]
  },
  {
   "cell_type": "markdown",
   "metadata": {},
   "source": [
    "The analysis of outliers by department shows that Tolima leads the list with 509 outliers, followed by Magdalena with 410, Chocó with 375, Cauca with 348, and Bolívar with 312. These departments have the highest number of water samples with Average IRCA considered atypical, indicating a concerning water quality in these areas."
   ]
  },
  {
   "cell_type": "code",
   "execution_count": 22,
   "metadata": {},
   "outputs": [
    {
     "name": "stdout",
     "output_type": "stream",
     "text": [
      "       NombreMunicipio  IrcaPromedio\n",
      "159888         Zapayan         96.07\n",
      "159889         Zapayan         96.07\n",
      "159890         Zapayan         96.07\n",
      "159891         Zapayan         96.07\n",
      "159892         Zapayan         96.07\n",
      "...                ...           ...\n",
      "169839       Aracataca         92.92\n",
      "169840       Aracataca         92.92\n",
      "169841       Aracataca         92.92\n",
      "169842       Aracataca         92.92\n",
      "169843       Aracataca         92.92\n",
      "\n",
      "[410 rows x 2 columns]\n"
     ]
    }
   ],
   "source": [
    "def obtener_valores_atipicos_por_departamento(df, departamento, limite_inferior, limite_superior):\n",
    "\n",
    "    datos_departamento = df[df['NombreDepartamento'] == departamento]\n",
    "\n",
    "    \n",
    "    valores_atipicos = datos_departamento[\n",
    "        (datos_departamento['IrcaPromedio'] < limite_inferior) |\n",
    "        (datos_departamento['IrcaPromedio'] > limite_superior)\n",
    "    ]\n",
    "\n",
    "    return valores_atipicos\n",
    "\n",
    "nombre_departamento = 'Magdalena' \n",
    "valores_atipicos_departamento = obtener_valores_atipicos_por_departamento(water, nombre_departamento, limite_inferior, limite_superior)\n",
    "\n",
    "\n",
    "print(valores_atipicos_departamento[['NombreMunicipio', 'IrcaPromedio']])\n"
   ]
  },
  {
   "cell_type": "markdown",
   "metadata": {},
   "source": [
    "Estos valores indican una calidad de agua considerablemente pobre, muy por encima de los límites aceptables, lo que resalta serias preocupaciones sobre la seguridad y salubridad del agua en estas áreas del departamento de Magdalena. ​"
   ]
  },
  {
   "cell_type": "markdown",
   "metadata": {},
   "source": [
    "## IRCA minimo"
   ]
  },
  {
   "cell_type": "code",
   "execution_count": 23,
   "metadata": {},
   "outputs": [
    {
     "data": {
      "image/png": "[encoded data removed]",
      "text/plain": [
       "<Figure size 1000x600 with 1 Axes>"
      ]
     },
     "metadata": {},
     "output_type": "display_data"
    }
   ],
   "source": [
    "sns.set(style=\"whitegrid\")\n",
    "\n",
    "plt.figure(figsize=(10, 6))\n",
    "sns.histplot(water['IrcaMinimo'], kde=True, bins=30)\n",
    "plt.title('Distribución de IRCA Mínimo')\n",
    "plt.xlabel('IRCA Mínimo')\n",
    "plt.ylabel('Frecuencia')\n",
    "plt.show()"
   ]
  },
  {
   "cell_type": "markdown",
   "metadata": {},
   "source": [
    "La distribución de IrcaMinimo muestra una concentración de valores en un rango específico, con la presencia de una cola hacia valores más altos. Esta distribución sugiere que, aunque la mayoría de los valores son relativamente bajos (indicando un riesgo bajo a moderado de la calidad del agua), hay una cantidad significativa de valores que se extienden hacia rangos más altos, lo cual podría ser indicativo de situaciones de riesgo más elevado en ciertas áreas."
   ]
  },
  {
   "cell_type": "markdown",
   "metadata": {},
   "source": [
    "Conclusión atipicos de IRCA: Estos resultados son consistentes con el contexto práctico de los datos, donde valores más altos de IRCA minimo y promedio, indican un mayor riesgo asociado con la calidad del agua La presencia de estos valores extremos, lejos de ser errores o anomalías sin significado práctico, subraya la importancia de monitorear y mejorar la calidad del agua en áreas donde el IRCA es alto. Estos análisis resaltan la variabilidad y los desafíos en la gestión de la calidad del agua a nivel local y regional."
   ]
  },
  {
   "cell_type": "markdown",
   "metadata": {},
   "source": [
    "##### Analizando outliers de \"Muestras sin tratar\""
   ]
  },
  {
   "cell_type": "code",
   "execution_count": 9,
   "metadata": {},
   "outputs": [
    {
     "data": {
      "image/png": "[encoded data removed]",
      "text/plain": [
       "<Figure size 1400x700 with 1 Axes>"
      ]
     },
     "metadata": {},
     "output_type": "display_data"
    }
   ],
   "source": [
    "Q1 = water['MuestrasSinTratar'].quantile(0.25)\n",
    "Q3 = water['MuestrasSinTratar'].quantile(0.75)\n",
    "IQR = Q3 - Q1\n",
    "outliers = (water['MuestrasSinTratar'] < (Q1 - 1.5 * IQR)) | (water['MuestrasSinTratar'] > (Q3 + 1.5 * IQR))\n",
    "\n",
    "df_outliers = water[outliers]\n",
    "datos_atipicos_por_año = df_outliers.groupby('Año').size()\n",
    "\n",
    "plt.figure(figsize=(14, 7))\n",
    "datos_atipicos_por_año.plot(kind='bar', color='skyblue', edgecolor='black')\n",
    "\n",
    "plt.title('Cantidad de Datos Atípicos en \"Muestras Sin Tratar\" por Año', fontsize=16)\n",
    "plt.xlabel('Año', fontsize=14)\n",
    "plt.ylabel('Cantidad de Datos Atípicos', fontsize=14)\n",
    "plt.xticks(rotation=45, fontsize=12)\n",
    "plt.yticks(fontsize=12)\n",
    "plt.grid(axis='y', linestyle='--')\n",
    "\n",
    "plt.tight_layout()\n",
    "plt.show()\n",
    "\n"
   ]
  },
  {
   "cell_type": "markdown",
   "metadata": {},
   "source": [
    "La variación en la cantidad de datos atípicos a lo largo de los años puede indicar cambios en las políticas de gestión de agua, mejoras en infraestructuras, o eventos específicos que afectaron la capacidad de tratamiento de agua en ciertos periodos."
   ]
  },
  {
   "cell_type": "code",
   "execution_count": 7,
   "metadata": {},
   "outputs": [
    {
     "name": "stdout",
     "output_type": "stream",
     "text": [
      "NombreDepartamento\n",
      "Bogotá, D.C.       1413.095855\n",
      "Caldas              521.050758\n",
      "Nariño              502.784514\n",
      "Huila               255.915348\n",
      "Vichada             180.272848\n",
      "Risaralda           179.741858\n",
      "Guainía             130.162044\n",
      "Valle del Cauca     108.329025\n",
      "Tolima              105.422952\n",
      "Boyacá               97.465743\n",
      "Name: MuestrasSinTratar, dtype: float64\n"
     ]
    }
   ],
   "source": [
    "promedio_departamental_muestras_sin_tratar = water.groupby('NombreDepartamento')['MuestrasSinTratar'].mean().sort_values(ascending=False)\n",
    "\n",
    "top_departamentos = promedio_departamental_muestras_sin_tratar.head(10)\n",
    "\n",
    "print(top_departamentos)\n"
   ]
  },
  {
   "cell_type": "markdown",
   "metadata": {},
   "source": [
    "La concentración de valores atípicos en ciertos departamentos sugiere la influencia de factores regionales en la gestión del tratamiento del agua. Áreas como Bogotá, D.C., Caldas y Nariño presentan desafíos particulares o condiciones que conducen a un mayor número de muestras sin tratar"
   ]
  },
  {
   "cell_type": "code",
   "execution_count": 6,
   "metadata": {},
   "outputs": [
    {
     "data": {
      "text/html": [
       "<div>\n",
       "<style scoped>\n",
       "    .dataframe tbody tr th:only-of-type {\n",
       "        vertical-align: middle;\n",
       "    }\n",
       "\n",
       "    .dataframe tbody tr th {\n",
       "        vertical-align: top;\n",
       "    }\n",
       "\n",
       "    .dataframe thead th {\n",
       "        text-align: right;\n",
       "    }\n",
       "</style>\n",
       "<table border=\"1\" class=\"dataframe\">\n",
       "  <thead>\n",
       "    <tr style=\"text-align: right;\">\n",
       "      <th></th>\n",
       "      <th>MuestrasSinTratar</th>\n",
       "      <th>IrcaPromedio</th>\n",
       "      <th>MuestrasTratadas</th>\n",
       "    </tr>\n",
       "  </thead>\n",
       "  <tbody>\n",
       "    <tr>\n",
       "      <th>MuestrasSinTratar</th>\n",
       "      <td>1.000000</td>\n",
       "      <td>0.347521</td>\n",
       "      <td>0.218364</td>\n",
       "    </tr>\n",
       "    <tr>\n",
       "      <th>IrcaPromedio</th>\n",
       "      <td>0.347521</td>\n",
       "      <td>1.000000</td>\n",
       "      <td>-0.098954</td>\n",
       "    </tr>\n",
       "    <tr>\n",
       "      <th>MuestrasTratadas</th>\n",
       "      <td>0.218364</td>\n",
       "      <td>-0.098954</td>\n",
       "      <td>1.000000</td>\n",
       "    </tr>\n",
       "  </tbody>\n",
       "</table>\n",
       "</div>"
      ],
      "text/plain": [
       "                   MuestrasSinTratar  IrcaPromedio  MuestrasTratadas\n",
       "MuestrasSinTratar           1.000000      0.347521          0.218364\n",
       "IrcaPromedio                0.347521      1.000000         -0.098954\n",
       "MuestrasTratadas            0.218364     -0.098954          1.000000"
      ]
     },
     "execution_count": 6,
     "metadata": {},
     "output_type": "execute_result"
    }
   ],
   "source": [
    "correlacion = water[['MuestrasSinTratar', 'IrcaPromedio', 'MuestrasTratadas']].corr()\n",
    "\n",
    "correlacion\n"
   ]
  },
  {
   "cell_type": "markdown",
   "metadata": {},
   "source": [
    "La relacion entre MuestrasSinTratar y IrcaPromedioCorrelación indica una relación moderadamente positiva. Esto sugiere que a mayor número de muestras sin tratar, tiende a haber un IRCA promedio más alto, lo que podría indicar una peor calidad del agua asociada con menos tratamiento."
   ]
  },
  {
   "cell_type": "markdown",
   "metadata": {},
   "source": [
    "Los datos atípicos en \"MuestrasSinTratar\" reflejan una combinación de variaciones normales debidas a factores específicos de cada región y período, junto con posibles señales de áreas de preocupación o interés para la gestión de la calidad del agua. Mantener estos valores en el análisis puede proporcionar insights valiosos sobre desafíos y necesidades específicas en el tratamiento y la gestión del agua."
   ]
  },
  {
   "cell_type": "markdown",
   "metadata": {},
   "source": [
    "##### Creando un mayor valor a nuestros datos"
   ]
  },
  {
   "cell_type": "markdown",
   "metadata": {},
   "source": [
    "\n",
    "Identificamos los parámetros de análisis que tienen mayor influencia en la contaminación del agua:"
   ]
  },
  {
   "cell_type": "code",
   "execution_count": 24,
   "metadata": {},
   "outputs": [
    {
     "data": {
      "text/plain": [
       "NombreParametroAnalisis2\n",
       "ph                               23.941989\n",
       "Cromo total                      23.941989\n",
       "Olor                             23.941989\n",
       "Mesofilos                        23.941989\n",
       "Mercurio                         23.941989\n",
       "Manganeso                        23.941989\n",
       "Magnesio                         23.941989\n",
       "Hierro total                     23.941989\n",
       "Organofosforados y carbamatos    23.941989\n",
       "Alcanilidad Total                23.941989\n",
       "Fosfatos                         23.941989\n",
       "Fluoruros                        23.941989\n",
       "Plomo                            23.941989\n",
       "E.coli                           23.941989\n",
       "Dureza total                     23.941989\n",
       "Name: IrcaPromedio, dtype: float64"
      ]
     },
     "execution_count": 24,
     "metadata": {},
     "output_type": "execute_result"
    }
   ],
   "source": [
    "parametros_influencia = water.groupby('NombreParametroAnalisis2')['IrcaPromedio'].mean().sort_values(ascending=False)\n",
    "\n",
    "top_20_parametros = parametros_influencia.head(15)\n",
    "\n",
    "top_20_parametros"
   ]
  },
  {
   "cell_type": "markdown",
   "metadata": {},
   "source": [
    "Todos estos parámetros tienen un valor promedio de \"IrcaPromedio\" de aproximadamente 25, lo que sugiere una influencia significativa en la calidad del agua según este índice"
   ]
  },
  {
   "cell_type": "code",
   "execution_count": 25,
   "metadata": {},
   "outputs": [
    {
     "data": {
      "text/plain": [
       "(          Año NombreDepartamento  Div_dpto NombreMunicipio  Divi_muni  \\\n",
       " 0  2010-01-01            Bolivar        13        El Guamo      13248   \n",
       " 13 2010-01-01            Bolivar        13        El Guamo      13248   \n",
       " 14 2010-01-01            Bolivar        13        El Guamo      13248   \n",
       " 15 2010-01-01            Bolivar        13        El Guamo      13248   \n",
       " 16 2010-01-01            Bolivar        13        El Guamo      13248   \n",
       " \n",
       "     IrcaMinimo  IrcaMaximo  IrcaPromedio NombreParametroAnalisis2  \\\n",
       " 0          0.0       100.0         37.32        Alcanilidad Total   \n",
       " 13         0.0       100.0         37.32              Cromo total   \n",
       " 14         0.0       100.0         37.32             Dureza total   \n",
       " 15         0.0       100.0         37.32                   E.coli   \n",
       " 16         0.0       100.0         37.32                Fluoruros   \n",
       " \n",
       "     MuestrasEvaluadas  MuestrasTratadas  MuestrasSinTratar  \\\n",
       " 0                  67                67                  0   \n",
       " 13                 67                67                  0   \n",
       " 14                 67                67                  0   \n",
       " 15                 67                67                  0   \n",
       " 16                 67                67                  0   \n",
       " \n",
       "     NumeroParametrosMinimo  NumeroParametrosMaximo  NumeroParametrosPromedio  \\\n",
       " 0                        2                       7                         2   \n",
       " 13                       2                       7                         2   \n",
       " 14                       2                       7                         2   \n",
       " 15                       2                       7                         2   \n",
       " 16                       2                       7                         2   \n",
       " \n",
       "     EsAtipico  \n",
       " 0       False  \n",
       " 13      False  \n",
       " 14      False  \n",
       " 15      False  \n",
       " 16      False  ,\n",
       " (142770, 16))"
      ]
     },
     "execution_count": 25,
     "metadata": {},
     "output_type": "execute_result"
    }
   ],
   "source": [
    "water = water[water['NombreParametroAnalisis2'].isin(top_20_parametros.index)]\n",
    "\n",
    "water.head(), water.shape"
   ]
  },
  {
   "cell_type": "markdown",
   "metadata": {},
   "source": [
    "Hemos filtrado el dataset para dejar solo las filas correspondientes a los top 20 parámetros de análisis relacionados con la contaminación del agua y los demas han salido eliminados"
   ]
  },
  {
   "cell_type": "code",
   "execution_count": 26,
   "metadata": {},
   "outputs": [],
   "source": [
    "def clasificar_irca(irca):\n",
    "    if irca == 0:\n",
    "        return 'Sin información'\n",
    "    elif 0.001 <= irca <= 5:\n",
    "        return 'Sin riesgo'\n",
    "    elif 5.001 <= irca <= 14:\n",
    "        return 'Bajo'\n",
    "    elif 19.001 <= irca <= 35:\n",
    "        return 'Medio'\n",
    "    elif 54.001 <= irca <= 70:\n",
    "        return 'Alto'\n",
    "    elif 124.001 <= irca <= 100:\n",
    "        return 'Inviable'\n",
    "    else:\n",
    "        return 'No clasificado' \n",
    "\n",
    "water['rango_irca'] = water['IrcaPromedio'].apply(clasificar_irca)\n"
   ]
  },
  {
   "cell_type": "markdown",
   "metadata": {},
   "source": []
  },
  {
   "cell_type": "code",
   "execution_count": 27,
   "metadata": {},
   "outputs": [
    {
     "data": {
      "text/html": [
       "<div>\n",
       "<style scoped>\n",
       "    .dataframe tbody tr th:only-of-type {\n",
       "        vertical-align: middle;\n",
       "    }\n",
       "\n",
       "    .dataframe tbody tr th {\n",
       "        vertical-align: top;\n",
       "    }\n",
       "\n",
       "    .dataframe thead th {\n",
       "        text-align: right;\n",
       "    }\n",
       "</style>\n",
       "<table border=\"1\" class=\"dataframe\">\n",
       "  <thead>\n",
       "    <tr style=\"text-align: right;\">\n",
       "      <th></th>\n",
       "      <th>MuestrasEvaluadas</th>\n",
       "      <th>MuestrasTratadas</th>\n",
       "      <th>porcentaje_muestras_tratadas</th>\n",
       "    </tr>\n",
       "  </thead>\n",
       "  <tbody>\n",
       "    <tr>\n",
       "      <th>0</th>\n",
       "      <td>67</td>\n",
       "      <td>67</td>\n",
       "      <td>100.0</td>\n",
       "    </tr>\n",
       "    <tr>\n",
       "      <th>13</th>\n",
       "      <td>67</td>\n",
       "      <td>67</td>\n",
       "      <td>100.0</td>\n",
       "    </tr>\n",
       "    <tr>\n",
       "      <th>14</th>\n",
       "      <td>67</td>\n",
       "      <td>67</td>\n",
       "      <td>100.0</td>\n",
       "    </tr>\n",
       "    <tr>\n",
       "      <th>15</th>\n",
       "      <td>67</td>\n",
       "      <td>67</td>\n",
       "      <td>100.0</td>\n",
       "    </tr>\n",
       "    <tr>\n",
       "      <th>16</th>\n",
       "      <td>67</td>\n",
       "      <td>67</td>\n",
       "      <td>100.0</td>\n",
       "    </tr>\n",
       "  </tbody>\n",
       "</table>\n",
       "</div>"
      ],
      "text/plain": [
       "    MuestrasEvaluadas  MuestrasTratadas  porcentaje_muestras_tratadas\n",
       "0                  67                67                         100.0\n",
       "13                 67                67                         100.0\n",
       "14                 67                67                         100.0\n",
       "15                 67                67                         100.0\n",
       "16                 67                67                         100.0"
      ]
     },
     "execution_count": 27,
     "metadata": {},
     "output_type": "execute_result"
    }
   ],
   "source": [
    "water['porcentaje_muestras_tratadas'] = (water['MuestrasTratadas'] / water['MuestrasEvaluadas']) * 100\n",
    "\n",
    "water[[ 'MuestrasEvaluadas', 'MuestrasTratadas', 'porcentaje_muestras_tratadas']].head()\n"
   ]
  },
  {
   "cell_type": "markdown",
   "metadata": {},
   "source": [
    " \"Porcentaje de Muestras Tratadas\" fue generada a partir del dataset original, utilizando las columnas de Muestras Tratadas y Muestras Evaluadas para calcular el porcentaje de agua que ha sido sometida a tratamiento en diversas localidades. "
   ]
  },
  {
   "cell_type": "code",
   "execution_count": 28,
   "metadata": {},
   "outputs": [
    {
     "data": {
      "text/html": [
       "<div>\n",
       "<style scoped>\n",
       "    .dataframe tbody tr th:only-of-type {\n",
       "        vertical-align: middle;\n",
       "    }\n",
       "\n",
       "    .dataframe tbody tr th {\n",
       "        vertical-align: top;\n",
       "    }\n",
       "\n",
       "    .dataframe thead th {\n",
       "        text-align: right;\n",
       "    }\n",
       "</style>\n",
       "<table border=\"1\" class=\"dataframe\">\n",
       "  <thead>\n",
       "    <tr style=\"text-align: right;\">\n",
       "      <th></th>\n",
       "      <th>MuestrasTratadas</th>\n",
       "      <th>MuestrasSinTratar</th>\n",
       "      <th>diferencia_muestras_tratadas_sin_tratar</th>\n",
       "    </tr>\n",
       "  </thead>\n",
       "  <tbody>\n",
       "    <tr>\n",
       "      <th>0</th>\n",
       "      <td>67</td>\n",
       "      <td>0</td>\n",
       "      <td>67</td>\n",
       "    </tr>\n",
       "    <tr>\n",
       "      <th>13</th>\n",
       "      <td>67</td>\n",
       "      <td>0</td>\n",
       "      <td>67</td>\n",
       "    </tr>\n",
       "    <tr>\n",
       "      <th>14</th>\n",
       "      <td>67</td>\n",
       "      <td>0</td>\n",
       "      <td>67</td>\n",
       "    </tr>\n",
       "    <tr>\n",
       "      <th>15</th>\n",
       "      <td>67</td>\n",
       "      <td>0</td>\n",
       "      <td>67</td>\n",
       "    </tr>\n",
       "    <tr>\n",
       "      <th>16</th>\n",
       "      <td>67</td>\n",
       "      <td>0</td>\n",
       "      <td>67</td>\n",
       "    </tr>\n",
       "  </tbody>\n",
       "</table>\n",
       "</div>"
      ],
      "text/plain": [
       "    MuestrasTratadas  MuestrasSinTratar  \\\n",
       "0                 67                  0   \n",
       "13                67                  0   \n",
       "14                67                  0   \n",
       "15                67                  0   \n",
       "16                67                  0   \n",
       "\n",
       "    diferencia_muestras_tratadas_sin_tratar  \n",
       "0                                        67  \n",
       "13                                       67  \n",
       "14                                       67  \n",
       "15                                       67  \n",
       "16                                       67  "
      ]
     },
     "execution_count": 28,
     "metadata": {},
     "output_type": "execute_result"
    }
   ],
   "source": [
    "water['diferencia_muestras_tratadas_sin_tratar'] = abs(water['MuestrasTratadas'] - water['MuestrasSinTratar'])\n",
    "\n",
    "water[['MuestrasTratadas', 'MuestrasSinTratar', 'diferencia_muestras_tratadas_sin_tratar']].head()"
   ]
  },
  {
   "cell_type": "markdown",
   "metadata": {},
   "source": [
    "La columna \"Diferencia entre Muestras Tratadas y Sin Tratar\" fue desarrollada para cuantificar la brecha en el número de muestras de agua que han sido sometidas a tratamiento en comparación con aquellas que no lo han sido dentro de cada conjunto de datos evaluados"
   ]
  },
  {
   "cell_type": "code",
   "execution_count": 29,
   "metadata": {},
   "outputs": [
    {
     "data": {
      "text/html": [
       "<div>\n",
       "<style scoped>\n",
       "    .dataframe tbody tr th:only-of-type {\n",
       "        vertical-align: middle;\n",
       "    }\n",
       "\n",
       "    .dataframe tbody tr th {\n",
       "        vertical-align: top;\n",
       "    }\n",
       "\n",
       "    .dataframe thead th {\n",
       "        text-align: right;\n",
       "    }\n",
       "</style>\n",
       "<table border=\"1\" class=\"dataframe\">\n",
       "  <thead>\n",
       "    <tr style=\"text-align: right;\">\n",
       "      <th></th>\n",
       "      <th>NumeroParametrosMinimo</th>\n",
       "      <th>NumeroParametrosMaximo</th>\n",
       "      <th>rango_parametros_analizados</th>\n",
       "    </tr>\n",
       "  </thead>\n",
       "  <tbody>\n",
       "    <tr>\n",
       "      <th>0</th>\n",
       "      <td>2</td>\n",
       "      <td>7</td>\n",
       "      <td>5</td>\n",
       "    </tr>\n",
       "    <tr>\n",
       "      <th>13</th>\n",
       "      <td>2</td>\n",
       "      <td>7</td>\n",
       "      <td>5</td>\n",
       "    </tr>\n",
       "    <tr>\n",
       "      <th>14</th>\n",
       "      <td>2</td>\n",
       "      <td>7</td>\n",
       "      <td>5</td>\n",
       "    </tr>\n",
       "    <tr>\n",
       "      <th>15</th>\n",
       "      <td>2</td>\n",
       "      <td>7</td>\n",
       "      <td>5</td>\n",
       "    </tr>\n",
       "    <tr>\n",
       "      <th>16</th>\n",
       "      <td>2</td>\n",
       "      <td>7</td>\n",
       "      <td>5</td>\n",
       "    </tr>\n",
       "  </tbody>\n",
       "</table>\n",
       "</div>"
      ],
      "text/plain": [
       "    NumeroParametrosMinimo  NumeroParametrosMaximo  \\\n",
       "0                        2                       7   \n",
       "13                       2                       7   \n",
       "14                       2                       7   \n",
       "15                       2                       7   \n",
       "16                       2                       7   \n",
       "\n",
       "    rango_parametros_analizados  \n",
       "0                             5  \n",
       "13                            5  \n",
       "14                            5  \n",
       "15                            5  \n",
       "16                            5  "
      ]
     },
     "execution_count": 29,
     "metadata": {},
     "output_type": "execute_result"
    }
   ],
   "source": [
    "water['rango_parametros_analizados'] = water['NumeroParametrosMaximo'] - water['NumeroParametrosMinimo']\n",
    "\n",
    "water[[ 'NumeroParametrosMinimo', 'NumeroParametrosMaximo', 'rango_parametros_analizados']].head()"
   ]
  },
  {
   "cell_type": "markdown",
   "metadata": {},
   "source": [
    "La columna \"Rango de Parámetros Analizados\" fue creada para proporcionar una medida de la variabilidad en el análisis de calidad del agua, reflejando la diferencia entre el número máximo y mínimo de parámetros químicos y biológicos examinados en cada muestra."
   ]
  },
  {
   "cell_type": "code",
   "execution_count": 30,
   "metadata": {},
   "outputs": [
    {
     "data": {
      "text/html": [
       "<div>\n",
       "<style scoped>\n",
       "    .dataframe tbody tr th:only-of-type {\n",
       "        vertical-align: middle;\n",
       "    }\n",
       "\n",
       "    .dataframe tbody tr th {\n",
       "        vertical-align: top;\n",
       "    }\n",
       "\n",
       "    .dataframe thead th {\n",
       "        text-align: right;\n",
       "    }\n",
       "</style>\n",
       "<table border=\"1\" class=\"dataframe\">\n",
       "  <thead>\n",
       "    <tr style=\"text-align: right;\">\n",
       "      <th></th>\n",
       "      <th>Año</th>\n",
       "      <th>NombreDepartamento</th>\n",
       "      <th>Div_dpto</th>\n",
       "      <th>NombreMunicipio</th>\n",
       "      <th>Divi_muni</th>\n",
       "      <th>IrcaMinimo</th>\n",
       "      <th>IrcaMaximo</th>\n",
       "      <th>IrcaPromedio</th>\n",
       "      <th>NombreParametroAnalisis2</th>\n",
       "      <th>NumeroParametrosPromedio</th>\n",
       "      <th>rango_irca</th>\n",
       "      <th>porcentaje_muestras_tratadas</th>\n",
       "      <th>diferencia_muestras_tratadas_sin_tratar</th>\n",
       "      <th>rango_parametros_analizados</th>\n",
       "    </tr>\n",
       "  </thead>\n",
       "  <tbody>\n",
       "    <tr>\n",
       "      <th>0</th>\n",
       "      <td>2010-01-01</td>\n",
       "      <td>Bolivar</td>\n",
       "      <td>13</td>\n",
       "      <td>El Guamo</td>\n",
       "      <td>13248</td>\n",
       "      <td>0.0</td>\n",
       "      <td>100.0</td>\n",
       "      <td>37.32</td>\n",
       "      <td>Alcanilidad Total</td>\n",
       "      <td>2</td>\n",
       "      <td>No clasificado</td>\n",
       "      <td>100.0</td>\n",
       "      <td>67</td>\n",
       "      <td>5</td>\n",
       "    </tr>\n",
       "    <tr>\n",
       "      <th>13</th>\n",
       "      <td>2010-01-01</td>\n",
       "      <td>Bolivar</td>\n",
       "      <td>13</td>\n",
       "      <td>El Guamo</td>\n",
       "      <td>13248</td>\n",
       "      <td>0.0</td>\n",
       "      <td>100.0</td>\n",
       "      <td>37.32</td>\n",
       "      <td>Cromo total</td>\n",
       "      <td>2</td>\n",
       "      <td>No clasificado</td>\n",
       "      <td>100.0</td>\n",
       "      <td>67</td>\n",
       "      <td>5</td>\n",
       "    </tr>\n",
       "    <tr>\n",
       "      <th>14</th>\n",
       "      <td>2010-01-01</td>\n",
       "      <td>Bolivar</td>\n",
       "      <td>13</td>\n",
       "      <td>El Guamo</td>\n",
       "      <td>13248</td>\n",
       "      <td>0.0</td>\n",
       "      <td>100.0</td>\n",
       "      <td>37.32</td>\n",
       "      <td>Dureza total</td>\n",
       "      <td>2</td>\n",
       "      <td>No clasificado</td>\n",
       "      <td>100.0</td>\n",
       "      <td>67</td>\n",
       "      <td>5</td>\n",
       "    </tr>\n",
       "    <tr>\n",
       "      <th>15</th>\n",
       "      <td>2010-01-01</td>\n",
       "      <td>Bolivar</td>\n",
       "      <td>13</td>\n",
       "      <td>El Guamo</td>\n",
       "      <td>13248</td>\n",
       "      <td>0.0</td>\n",
       "      <td>100.0</td>\n",
       "      <td>37.32</td>\n",
       "      <td>E.coli</td>\n",
       "      <td>2</td>\n",
       "      <td>No clasificado</td>\n",
       "      <td>100.0</td>\n",
       "      <td>67</td>\n",
       "      <td>5</td>\n",
       "    </tr>\n",
       "    <tr>\n",
       "      <th>16</th>\n",
       "      <td>2010-01-01</td>\n",
       "      <td>Bolivar</td>\n",
       "      <td>13</td>\n",
       "      <td>El Guamo</td>\n",
       "      <td>13248</td>\n",
       "      <td>0.0</td>\n",
       "      <td>100.0</td>\n",
       "      <td>37.32</td>\n",
       "      <td>Fluoruros</td>\n",
       "      <td>2</td>\n",
       "      <td>No clasificado</td>\n",
       "      <td>100.0</td>\n",
       "      <td>67</td>\n",
       "      <td>5</td>\n",
       "    </tr>\n",
       "  </tbody>\n",
       "</table>\n",
       "</div>"
      ],
      "text/plain": [
       "          Año NombreDepartamento  Div_dpto NombreMunicipio  Divi_muni  \\\n",
       "0  2010-01-01            Bolivar        13        El Guamo      13248   \n",
       "13 2010-01-01            Bolivar        13        El Guamo      13248   \n",
       "14 2010-01-01            Bolivar        13        El Guamo      13248   \n",
       "15 2010-01-01            Bolivar        13        El Guamo      13248   \n",
       "16 2010-01-01            Bolivar        13        El Guamo      13248   \n",
       "\n",
       "    IrcaMinimo  IrcaMaximo  IrcaPromedio NombreParametroAnalisis2  \\\n",
       "0          0.0       100.0         37.32        Alcanilidad Total   \n",
       "13         0.0       100.0         37.32              Cromo total   \n",
       "14         0.0       100.0         37.32             Dureza total   \n",
       "15         0.0       100.0         37.32                   E.coli   \n",
       "16         0.0       100.0         37.32                Fluoruros   \n",
       "\n",
       "    NumeroParametrosPromedio      rango_irca  porcentaje_muestras_tratadas  \\\n",
       "0                          2  No clasificado                         100.0   \n",
       "13                         2  No clasificado                         100.0   \n",
       "14                         2  No clasificado                         100.0   \n",
       "15                         2  No clasificado                         100.0   \n",
       "16                         2  No clasificado                         100.0   \n",
       "\n",
       "    diferencia_muestras_tratadas_sin_tratar  rango_parametros_analizados  \n",
       "0                                        67                            5  \n",
       "13                                       67                            5  \n",
       "14                                       67                            5  \n",
       "15                                       67                            5  \n",
       "16                                       67                            5  "
      ]
     },
     "execution_count": 30,
     "metadata": {},
     "output_type": "execute_result"
    }
   ],
   "source": [
    "columnas_a_eliminar = ['MuestrasTratadas', 'MuestrasEvaluadas', 'MuestrasSinTratar',\n",
    "                      'NumeroParametrosMinimo', 'NumeroParametrosMaximo', 'EsAtipico']\n",
    "water = water.drop(columns=columnas_a_eliminar)\n",
    "\n",
    "\n",
    "water.head()"
   ]
  },
  {
   "cell_type": "code",
   "execution_count": 31,
   "metadata": {},
   "outputs": [
    {
     "data": {
      "text/html": [
       "<div>\n",
       "<style scoped>\n",
       "    .dataframe tbody tr th:only-of-type {\n",
       "        vertical-align: middle;\n",
       "    }\n",
       "\n",
       "    .dataframe tbody tr th {\n",
       "        vertical-align: top;\n",
       "    }\n",
       "\n",
       "    .dataframe thead th {\n",
       "        text-align: right;\n",
       "    }\n",
       "</style>\n",
       "<table border=\"1\" class=\"dataframe\">\n",
       "  <thead>\n",
       "    <tr style=\"text-align: right;\">\n",
       "      <th></th>\n",
       "      <th>año</th>\n",
       "      <th>nombredepartamento</th>\n",
       "      <th>div_dpto</th>\n",
       "      <th>nombremunicipio</th>\n",
       "      <th>divi_muni</th>\n",
       "      <th>ircaminimo</th>\n",
       "      <th>ircamaximo</th>\n",
       "      <th>ircapromedio</th>\n",
       "      <th>nombreparametroanalisis2</th>\n",
       "      <th>numeroparametrospromedio</th>\n",
       "      <th>rango_irca</th>\n",
       "      <th>porcentaje_muestras_tratadas</th>\n",
       "      <th>diferencia_muestras_tratadas_sin_tratar</th>\n",
       "      <th>rango_parametros_analizados</th>\n",
       "    </tr>\n",
       "  </thead>\n",
       "  <tbody>\n",
       "    <tr>\n",
       "      <th>0</th>\n",
       "      <td>2010-01-01</td>\n",
       "      <td>Bolivar</td>\n",
       "      <td>13</td>\n",
       "      <td>El Guamo</td>\n",
       "      <td>13248</td>\n",
       "      <td>0.0</td>\n",
       "      <td>100.0</td>\n",
       "      <td>37.32</td>\n",
       "      <td>Alcanilidad Total</td>\n",
       "      <td>2</td>\n",
       "      <td>No clasificado</td>\n",
       "      <td>100.0</td>\n",
       "      <td>67</td>\n",
       "      <td>5</td>\n",
       "    </tr>\n",
       "    <tr>\n",
       "      <th>13</th>\n",
       "      <td>2010-01-01</td>\n",
       "      <td>Bolivar</td>\n",
       "      <td>13</td>\n",
       "      <td>El Guamo</td>\n",
       "      <td>13248</td>\n",
       "      <td>0.0</td>\n",
       "      <td>100.0</td>\n",
       "      <td>37.32</td>\n",
       "      <td>Cromo total</td>\n",
       "      <td>2</td>\n",
       "      <td>No clasificado</td>\n",
       "      <td>100.0</td>\n",
       "      <td>67</td>\n",
       "      <td>5</td>\n",
       "    </tr>\n",
       "    <tr>\n",
       "      <th>14</th>\n",
       "      <td>2010-01-01</td>\n",
       "      <td>Bolivar</td>\n",
       "      <td>13</td>\n",
       "      <td>El Guamo</td>\n",
       "      <td>13248</td>\n",
       "      <td>0.0</td>\n",
       "      <td>100.0</td>\n",
       "      <td>37.32</td>\n",
       "      <td>Dureza total</td>\n",
       "      <td>2</td>\n",
       "      <td>No clasificado</td>\n",
       "      <td>100.0</td>\n",
       "      <td>67</td>\n",
       "      <td>5</td>\n",
       "    </tr>\n",
       "    <tr>\n",
       "      <th>15</th>\n",
       "      <td>2010-01-01</td>\n",
       "      <td>Bolivar</td>\n",
       "      <td>13</td>\n",
       "      <td>El Guamo</td>\n",
       "      <td>13248</td>\n",
       "      <td>0.0</td>\n",
       "      <td>100.0</td>\n",
       "      <td>37.32</td>\n",
       "      <td>E.coli</td>\n",
       "      <td>2</td>\n",
       "      <td>No clasificado</td>\n",
       "      <td>100.0</td>\n",
       "      <td>67</td>\n",
       "      <td>5</td>\n",
       "    </tr>\n",
       "    <tr>\n",
       "      <th>16</th>\n",
       "      <td>2010-01-01</td>\n",
       "      <td>Bolivar</td>\n",
       "      <td>13</td>\n",
       "      <td>El Guamo</td>\n",
       "      <td>13248</td>\n",
       "      <td>0.0</td>\n",
       "      <td>100.0</td>\n",
       "      <td>37.32</td>\n",
       "      <td>Fluoruros</td>\n",
       "      <td>2</td>\n",
       "      <td>No clasificado</td>\n",
       "      <td>100.0</td>\n",
       "      <td>67</td>\n",
       "      <td>5</td>\n",
       "    </tr>\n",
       "  </tbody>\n",
       "</table>\n",
       "</div>"
      ],
      "text/plain": [
       "          año nombredepartamento  div_dpto nombremunicipio  divi_muni  \\\n",
       "0  2010-01-01            Bolivar        13        El Guamo      13248   \n",
       "13 2010-01-01            Bolivar        13        El Guamo      13248   \n",
       "14 2010-01-01            Bolivar        13        El Guamo      13248   \n",
       "15 2010-01-01            Bolivar        13        El Guamo      13248   \n",
       "16 2010-01-01            Bolivar        13        El Guamo      13248   \n",
       "\n",
       "    ircaminimo  ircamaximo  ircapromedio nombreparametroanalisis2  \\\n",
       "0          0.0       100.0         37.32        Alcanilidad Total   \n",
       "13         0.0       100.0         37.32              Cromo total   \n",
       "14         0.0       100.0         37.32             Dureza total   \n",
       "15         0.0       100.0         37.32                   E.coli   \n",
       "16         0.0       100.0         37.32                Fluoruros   \n",
       "\n",
       "    numeroparametrospromedio      rango_irca  porcentaje_muestras_tratadas  \\\n",
       "0                          2  No clasificado                         100.0   \n",
       "13                         2  No clasificado                         100.0   \n",
       "14                         2  No clasificado                         100.0   \n",
       "15                         2  No clasificado                         100.0   \n",
       "16                         2  No clasificado                         100.0   \n",
       "\n",
       "    diferencia_muestras_tratadas_sin_tratar  rango_parametros_analizados  \n",
       "0                                        67                            5  \n",
       "13                                       67                            5  \n",
       "14                                       67                            5  \n",
       "15                                       67                            5  \n",
       "16                                       67                            5  "
      ]
     },
     "execution_count": 31,
     "metadata": {},
     "output_type": "execute_result"
    }
   ],
   "source": [
    "water.columns = water.columns.str.replace(' ', '_').str.lower()\n",
    "water.head()"
   ]
  },
  {
   "cell_type": "code",
   "execution_count": 33,
   "metadata": {},
   "outputs": [
    {
     "name": "stdout",
     "output_type": "stream",
     "text": [
      "          año nombre_departamento  div_dpto nombre_municipio  divi_muni  \\\n",
      "0  2010-01-01             Bolivar        13         El Guamo      13248   \n",
      "13 2010-01-01             Bolivar        13         El Guamo      13248   \n",
      "14 2010-01-01             Bolivar        13         El Guamo      13248   \n",
      "15 2010-01-01             Bolivar        13         El Guamo      13248   \n",
      "16 2010-01-01             Bolivar        13         El Guamo      13248   \n",
      "\n",
      "    irca_minimo  irca_maximo  irca_promedio nombre_parametro_analisis  \\\n",
      "0           0.0        100.0          37.32         Alcanilidad Total   \n",
      "13          0.0        100.0          37.32               Cromo total   \n",
      "14          0.0        100.0          37.32              Dureza total   \n",
      "15          0.0        100.0          37.32                    E.coli   \n",
      "16          0.0        100.0          37.32                 Fluoruros   \n",
      "\n",
      "    numero_parametros_promedio      rango_irca  porcentaje_muestras_tratadas  \\\n",
      "0                            2  No clasificado                         100.0   \n",
      "13                           2  No clasificado                         100.0   \n",
      "14                           2  No clasificado                         100.0   \n",
      "15                           2  No clasificado                         100.0   \n",
      "16                           2  No clasificado                         100.0   \n",
      "\n",
      "    diferencia_muestras_tratadas_sin_tratar  rango_parametros_analizados  \n",
      "0                                        67                            5  \n",
      "13                                       67                            5  \n",
      "14                                       67                            5  \n",
      "15                                       67                            5  \n",
      "16                                       67                            5  \n"
     ]
    }
   ],
   "source": [
    "\n",
    "new_column_names = [\n",
    "    \"año\", \n",
    "    \"nombre_departamento\", \n",
    "    \"div_dpto\", \n",
    "    \"nombre_municipio\", \n",
    "    \"divi_muni\", \n",
    "    \"irca_minimo\", \n",
    "    \"irca_maximo\", \n",
    "    \"irca_promedio\", \n",
    "    \"nombre_parametro_analisis\", \n",
    "    \"numero_parametros_promedio\", \n",
    "    \"rango_irca\", \n",
    "    \"porcentaje_muestras_tratadas\", \n",
    "    \"diferencia_muestras_tratadas_sin_tratar\", \n",
    "    \"rango_parametros_analizados\"\n",
    "]\n",
    "water.columns = new_column_names\n",
    "print(water.head())\n"
   ]
  },
  {
   "cell_type": "markdown",
   "metadata": {},
   "source": [
    "### Exportamos el nuevo archivo con el procesamiento y transformaciones:"
   ]
  },
  {
   "cell_type": "code",
   "execution_count": 34,
   "metadata": {},
   "outputs": [],
   "source": [
    "water.to_csv('water_cleaned.csv', index=False)"
   ]
  }
 ],
 "metadata": {
  "kernelspec": {
   "display_name": "Python 3",
   "language": "python",
   "name": "python3"
  },
  "language_info": {
   "codemirror_mode": {
    "name": "ipython",
    "version": 3
   },
   "file_extension": ".py",
   "mimetype": "text/x-python",
   "name": "python",
   "nbconvert_exporter": "python",
   "pygments_lexer": "ipython3",
   "version": "3.11.5"
  }
 },
 "nbformat": 4,
 "nbformat_minor": 2
}
