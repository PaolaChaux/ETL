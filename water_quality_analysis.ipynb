{
 "cells": [
  {
   "cell_type": "code",
   "execution_count": 1,
   "metadata": {},
   "outputs": [],
   "source": [
    "import pandas as pd\n",
    "import psycopg2\n",
    "import json\n",
    "import numpy as np\n",
    "import matplotlib.pyplot as plt\n",
    "import seaborn as sns\n",
    "from sqlalchemy import create_engine\n",
    "import json\n"
   ]
  },
  {
   "cell_type": "code",
   "execution_count": 2,
   "metadata": {},
   "outputs": [
    {
     "name": "stderr",
     "output_type": "stream",
     "text": [
      "C:\\Users\\PAO\\AppData\\Local\\Temp\\ipykernel_24080\\82420538.py:14: UserWarning: pandas only supports SQLAlchemy connectable (engine/connection) or database string URI or sqlite3 DBAPI2 connection. Other DBAPI2 objects are not tested. Please consider using SQLAlchemy.\n",
      "  water = pd.read_sql(query, connection)\n"
     ]
    },
    {
     "name": "stdout",
     "output_type": "stream",
     "text": [
      "          Año NombreDepartamento  Div_dpto NombreMunicipio  Divi_muni  \\\n",
      "0  2010-01-01            Bolívar        13        El Guamo      13248   \n",
      "1  2010-01-01            Bolívar        13        El Guamo      13248   \n",
      "2  2010-01-01            Bolívar        13        El Guamo      13248   \n",
      "3  2010-01-01            Bolívar        13        El Guamo      13248   \n",
      "4  2010-01-01            Bolívar        13        El Guamo      13248   \n",
      "\n",
      "   IrcaMinimo  IrcaMaximo  IrcaPromedio NombreParametroAnalisis2  \\\n",
      "0         0.0       100.0         37.32        Alcanilidad Total   \n",
      "1         0.0       100.0         37.32                 Aluminio   \n",
      "2         0.0       100.0         37.32                 Arsénico   \n",
      "3         0.0       100.0         37.32                   Cadmio   \n",
      "4         0.0       100.0         37.32                   Calcio   \n",
      "\n",
      "   MuestrasEvaluadas  NumeroParametrosMinimo  NumeroParametrosMaximo  \\\n",
      "0                 67                       2                       7   \n",
      "1                 67                       2                       7   \n",
      "2                 67                       2                       7   \n",
      "3                 67                       2                       7   \n",
      "4                 67                       2                       7   \n",
      "\n",
      "   NumeroParametrosPromedio  ResultadoMinimo  ResultadoMaximo  \\\n",
      "0                         2             23.0             23.0   \n",
      "1                         2              NaN              NaN   \n",
      "2                         2              NaN              NaN   \n",
      "3                         2              NaN              NaN   \n",
      "4                         2             14.0             14.0   \n",
      "\n",
      "   ResultadoPromedio  \n",
      "0               23.0  \n",
      "1                NaN  \n",
      "2                NaN  \n",
      "3                NaN  \n",
      "4               14.0  \n"
     ]
    }
   ],
   "source": [
    "def consultar_datos(filename, db_name, table_name):\n",
    "    try:\n",
    "        with open(filename, 'r') as file:\n",
    "            config = json.load(file)\n",
    "\n",
    "        connection = psycopg2.connect(\n",
    "            host=config[\"host\"],\n",
    "            user=config[\"user\"],\n",
    "            password=config[\"password\"],\n",
    "            dbname=db_name\n",
    "        )\n",
    "\n",
    "        query = f\"SELECT * FROM {table_name}\"\n",
    "        water = pd.read_sql(query, connection)\n",
    "\n",
    "        return water\n",
    "    except (Exception, psycopg2.DatabaseError) as error:\n",
    "        print(f\"Error al consultar datos: {error}\")\n",
    "        return None\n",
    "    finally:\n",
    "        if connection:\n",
    "            connection.close()\n",
    "\n",
    "if __name__ == \"__main__\":\n",
    "    filename = 'db_config.json'\n",
    "    db_name = 'db_water'\n",
    "    table_name = 'water_table'\n",
    "    water = consultar_datos(filename, db_name, table_name)\n",
    "\n",
    "    if water is not None:\n",
    "        print(water.head())\n"
   ]
  },
  {
   "cell_type": "code",
   "execution_count": 72,
   "metadata": {},
   "outputs": [
    {
     "name": "stdout",
     "output_type": "stream",
     "text": [
      "    Año NombreDepartamento  Div_dpto NombreMunicipio  Divi_muni IrcaMinimo2  \\\n",
      "0  2010            Bolívar        13        El Guamo      13248           0   \n",
      "1  2010            Bolívar        13        El Guamo      13248           0   \n",
      "2  2010            Bolívar        13        El Guamo      13248           0   \n",
      "3  2010            Bolívar        13        El Guamo      13248           0   \n",
      "4  2010            Bolívar        13        El Guamo      13248           0   \n",
      "5  2010            Bolívar        13        El Guamo      13248           0   \n",
      "6  2010            Bolívar        13        El Guamo      13248           0   \n",
      "7  2010            Bolívar        13        El Guamo      13248           0   \n",
      "8  2010            Bolívar        13        El Guamo      13248           0   \n",
      "9  2010            Bolívar        13        El Guamo      13248           0   \n",
      "\n",
      "  IrcaMaximo IrcaPromedio     NombreParametroAnalisis2  MuestrasEvaluadas  \\\n",
      "0        100        37,32            Alcanilidad Total                 67   \n",
      "1        100        37,32                     Aluminio                 67   \n",
      "2        100        37,32                     Arsénico                 67   \n",
      "3        100        37,32                       Cadmio                 67   \n",
      "4        100        37,32                       Calcio                 67   \n",
      "5        100        37,32  Cianuro libre y diasociable                 67   \n",
      "6        100        37,32         Cloro residual libre                 67   \n",
      "7        100        37,32                     Cloruros                 67   \n",
      "8        100        37,32                        Cobre                 67   \n",
      "9        100        37,32           Coliformes totales                 67   \n",
      "\n",
      "   ...  NumeroParametrosMinimo  NumeroParametrosMaximo  \\\n",
      "0  ...                       2                       7   \n",
      "1  ...                       2                       7   \n",
      "2  ...                       2                       7   \n",
      "3  ...                       2                       7   \n",
      "4  ...                       2                       7   \n",
      "5  ...                       2                       7   \n",
      "6  ...                       2                       7   \n",
      "7  ...                       2                       7   \n",
      "8  ...                       2                       7   \n",
      "9  ...                       2                       7   \n",
      "\n",
      "   NumeroParametrosPromedio  NumeroMuestras  MuestrasNoAptas  \\\n",
      "0                         2               1                0   \n",
      "1                         2               0                0   \n",
      "2                         2               0                0   \n",
      "3                         2               0                0   \n",
      "4                         2               1                0   \n",
      "5                         2               0                0   \n",
      "6                         2               0                0   \n",
      "7                         2               1                0   \n",
      "8                         2               0                0   \n",
      "9                         2              30               24   \n",
      "\n",
      "   PorcentajeNoAptas  ResultadoMinimo ResultadoMaximo ResultadoPromedio  \\\n",
      "0                  0               23              23                23   \n",
      "1                  0             None            None              None   \n",
      "2                  0             None            None              None   \n",
      "3                  0             None            None              None   \n",
      "4                  0               14              14                14   \n",
      "5                  0             None            None              None   \n",
      "6                  0             None            None              None   \n",
      "7                  0              5,2             5,2               5,2   \n",
      "8                  0             None            None              None   \n",
      "9                 80                0              80             11,23   \n",
      "\n",
      "       Codigo  \n",
      "0  13El Guamo  \n",
      "1  13El Guamo  \n",
      "2  13El Guamo  \n",
      "3  13El Guamo  \n",
      "4  13El Guamo  \n",
      "5  13El Guamo  \n",
      "6  13El Guamo  \n",
      "7  13El Guamo  \n",
      "8  13El Guamo  \n",
      "9  13El Guamo  \n",
      "\n",
      "[10 rows x 22 columns]\n"
     ]
    }
   ],
   "source": [
    "query = \"SELECT * FROM table_water LIMIT 10\"\n",
    "first_lines = pd.read_sql(query, con=engine)\n",
    "\n",
    "print(first_lines)"
   ]
  },
  {
   "cell_type": "markdown",
   "metadata": {},
   "source": [
    "Leeimos las 10 primeras líneas del archivo muestran que:\n",
    "•\tEl archivo utiliza ; (punto y coma) como delimitador.\n",
    "•\tLas líneas siguientes contienen datos, pero notamos que hay campos vacíos representados por la ausencia de valores entre los delimitadores (por ejemplo, ;;;;), lo que puede haber causado el problema de lectura inicial."
   ]
  },
  {
   "cell_type": "code",
   "execution_count": null,
   "metadata": {},
   "outputs": [],
   "source": [
    "water.info()"
   ]
  },
  {
   "cell_type": "code",
   "execution_count": null,
   "metadata": {},
   "outputs": [],
   "source": [
    "water.describe()"
   ]
  },
  {
   "cell_type": "markdown",
   "metadata": {},
   "source": [
    "Nos asegurándonos  que las columnas categoricas estén formateados consistentemente:"
   ]
  },
  {
   "cell_type": "code",
   "execution_count": null,
   "metadata": {},
   "outputs": [],
   "source": [
    "water['NombreDepartamento'] = water['NombreDepartamento'].str.title().str.strip()\n",
    "water['NombreMunicipio'] = water['NombreMunicipio'].str.title().str.strip()\n",
    "\n",
    "water.head()\n"
   ]
  },
  {
   "cell_type": "markdown",
   "metadata": {},
   "source": [
    "Convertimos todos los nombres a un formato estándar  y eliminamos espacios al inicio y al final, y reduciremos los espacios múltiples a uno solo."
   ]
  },
  {
   "cell_type": "markdown",
   "metadata": {},
   "source": [
    "Analizando valores faltantes:"
   ]
  },
  {
   "cell_type": "code",
   "execution_count": 73,
   "metadata": {},
   "outputs": [
    {
     "name": "stdout",
     "output_type": "stream",
     "text": [
      "ResultadoMinimo      63.935478\n",
      "ResultadoMaximo      63.935478\n",
      "ResultadoPromedio    63.935478\n",
      "dtype: float64\n"
     ]
    }
   ],
   "source": [
    "missing_values = water.isnull().sum()\n",
    "\n",
    "missing_values = missing_values[missing_values > 0]\n",
    "\n",
    "missing_values\n"
   ]
  },
  {
   "cell_type": "markdown",
   "metadata": {},
   "source": [
    "Las columnas ResultadoMinimo, ResultadoMaximo y ResultadoPromedio tienen valores faltantes, con un total de 262,361 valores faltantes en cada una. Esto sugiere que hay muchas mediciones en las que estos resultados no se proporcionaron o no aplican."
   ]
  },
  {
   "cell_type": "code",
   "execution_count": null,
   "metadata": {},
   "outputs": [],
   "source": [
    "missing_percentage = water[['ResultadoMinimo', 'ResultadoMaximo', 'ResultadoPromedio']].isnull().mean() * 100\n",
    "\n",
    "print(missing_percentage)\n"
   ]
  },
  {
   "cell_type": "markdown",
   "metadata": {},
   "source": [
    "\n",
    " realizamos un análisis de la distribución de los valores existentes en ResultadoMinimo, ResultadoMaximo, y ResultadoPromedio para entender mejor estos datos:"
   ]
  },
  {
   "cell_type": "code",
   "execution_count": 74,
   "metadata": {},
   "outputs": [
    {
     "data": {
      "text/html": [
       "<div>\n",
       "<style scoped>\n",
       "    .dataframe tbody tr th:only-of-type {\n",
       "        vertical-align: middle;\n",
       "    }\n",
       "\n",
       "    .dataframe tbody tr th {\n",
       "        vertical-align: top;\n",
       "    }\n",
       "\n",
       "    .dataframe thead th {\n",
       "        text-align: right;\n",
       "    }\n",
       "</style>\n",
       "<table border=\"1\" class=\"dataframe\">\n",
       "  <thead>\n",
       "    <tr style=\"text-align: right;\">\n",
       "      <th></th>\n",
       "      <th>ResultadoMinimo</th>\n",
       "      <th>ResultadoMaximo</th>\n",
       "      <th>ResultadoPromedio</th>\n",
       "    </tr>\n",
       "  </thead>\n",
       "  <tbody>\n",
       "    <tr>\n",
       "      <th>count</th>\n",
       "      <td>130973</td>\n",
       "      <td>130973</td>\n",
       "      <td>130973</td>\n",
       "    </tr>\n",
       "    <tr>\n",
       "      <th>unique</th>\n",
       "      <td>3642</td>\n",
       "      <td>8251</td>\n",
       "      <td>16909</td>\n",
       "    </tr>\n",
       "    <tr>\n",
       "      <th>top</th>\n",
       "      <td>0</td>\n",
       "      <td>0</td>\n",
       "      <td>0</td>\n",
       "    </tr>\n",
       "    <tr>\n",
       "      <th>freq</th>\n",
       "      <td>50007</td>\n",
       "      <td>13483</td>\n",
       "      <td>14498</td>\n",
       "    </tr>\n",
       "  </tbody>\n",
       "</table>\n",
       "</div>"
      ],
      "text/plain": [
       "       ResultadoMinimo ResultadoMaximo ResultadoPromedio\n",
       "count           130973          130973            130973\n",
       "unique            3642            8251             16909\n",
       "top                  0               0                 0\n",
       "freq             50007           13483             14498"
      ]
     },
     "execution_count": 74,
     "metadata": {},
     "output_type": "execute_result"
    }
   ],
   "source": [
    "descriptive_stats = water[['ResultadoMinimo', 'ResultadoMaximo', 'ResultadoPromedio']].describe()\n",
    "\n",
    "descriptive_stats"
   ]
  },
  {
   "cell_type": "markdown",
   "metadata": {},
   "source": [
    "La distribución de los valores en las columnas ResultadoMinimo, ResultadoMaximo, y ResultadoPromedio muestra una amplia gama de valores, desde negativos hasta positivos muy grandes, lo que indica una variabilidad significativa en los datos"
   ]
  },
  {
   "cell_type": "markdown",
   "metadata": {},
   "source": [
    "Realizaremos un análisis para ver si hay alguna correlación entre las filas con datos faltantes y otras variables. Esto nos ayudaría a entender si los datos faltantes están relacionados con otras características de los datos:"
   ]
  },
  {
   "cell_type": "code",
   "execution_count": 75,
   "metadata": {},
   "outputs": [
    {
     "name": "stdout",
     "output_type": "stream",
     "text": [
      "NumeroMuestras             -0.233502\n",
      "NumeroParametrosMaximo     -0.231124\n",
      "MuestrasNoAptas            -0.199938\n",
      "NumeroParametrosPromedio   -0.164568\n",
      "NumeroParametrosMinimo     -0.067111\n",
      "MuestrasTratadas           -0.033818\n",
      "MuestrasEvaluadas          -0.031457\n",
      "MuestrasSinTratar          -0.001355\n",
      "Divi_muni                   0.012727\n",
      "Div_dpto                    0.013504\n",
      "Año                         0.071342\n",
      "Name: missing_values, dtype: float64\n"
     ]
    }
   ],
   "source": [
    "water['missing_values'] = water[['ResultadoMinimo', 'ResultadoMaximo', 'ResultadoPromedio']].isnull().any(axis=1)\n",
    "\n",
    "correlation_with_missing = water.corr()['missing_values'].sort_values()\n",
    "\n",
    "correlation_with_missing = correlation_with_missing.drop('missing_values')\n",
    "\n",
    "plt.figure(figsize=(10, 8))\n",
    "correlation_with_missing.plot(kind='bar')\n",
    "plt.title('Correlación de la presencia de valores faltantes con otras columnas')\n",
    "plt.xlabel('Columnas')\n",
    "plt.ylabel('Correlación con valores faltantes')\n",
    "plt.show()"
   ]
  },
  {
   "cell_type": "markdown",
   "metadata": {},
   "source": [
    "Los resultados de la correlación muestran que no hay ninguna correlación fuerte con la presencia de valores faltantes, ya que los valores son relativamente bajos. Esto sugiere que los valores faltantes pueden no estar sistemáticamente relacionados con otras variables numéricas en nuestro dataset."
   ]
  },
  {
   "cell_type": "markdown",
   "metadata": {},
   "source": [
    "¿Existe una manera de imputar estos valores basada en otros datos disponibles?"
   ]
  },
  {
   "cell_type": "markdown",
   "metadata": {},
   "source": [
    "Imputación por promedio:"
   ]
  },
  {
   "cell_type": "code",
   "execution_count": null,
   "metadata": {},
   "outputs": [],
   "source": [
    "promedio_resultado_minimo = water['ResultadoMinimo'].mean()\n",
    "promedio_resultado_maximo = water['ResultadoMaximo'].mean()\n",
    "promedio_resultado_promedio = water['ResultadoPromedio'].mean()\n",
    "\n",
    "water['ResultadoMinimo'].fillna(promedio_resultado_minimo, inplace=True)\n",
    "water['ResultadoMaximo'].fillna(promedio_resultado_maximo, inplace=True)\n",
    "water['ResultadoPromedio'].fillna(promedio_resultado_promedio, inplace=True)\n",
    "\n",
    "water[['ResultadoMinimo', 'ResultadoMaximo', 'ResultadoPromedio']].head(15)"
   ]
  },
  {
   "cell_type": "markdown",
   "metadata": {},
   "source": [
    "Al utilizar el promedio, todos los valores faltantes se reemplazan por un único valor promedio, ignorando la variabilidad esencial entre diferentes muestras y localidades. Esto resulta en una representación simplificada que puede distorsionar el análisis, especialmente en estudios donde las diferencias en los niveles de contaminación son críticas para determinar la salud pública y la seguridad ambiental. La uniformidad impuesta por el promedio elimina la capacidad de detectar variaciones importantes en la calidad del agua, llevando potencialmente a interpretaciones erróneas y decisiones inadecuadas basadas en un entendimiento incompleto de los datos."
   ]
  },
  {
   "cell_type": "markdown",
   "metadata": {},
   "source": [
    "Imputación por mediana:"
   ]
  },
  {
   "cell_type": "code",
   "execution_count": null,
   "metadata": {},
   "outputs": [],
   "source": [
    "mediana_resultado_minimo = water['ResultadoMinimo'].median()\n",
    "mediana_resultado_maximo = water['ResultadoMaximo'].median()\n",
    "mediana_resultado_promedio = water['ResultadoPromedio'].median()\n",
    "\n",
    "water['ResultadoMinimo'].fillna(mediana_resultado_minimo, inplace=True)\n",
    "water['ResultadoMaximo'].fillna(mediana_resultado_maximo, inplace=True)\n",
    "water['ResultadoPromedio'].fillna(mediana_resultado_promedio, inplace=True)\n",
    "\n",
    "water[['ResultadoMinimo', 'ResultadoMaximo', 'ResultadoPromedio']].head()"
   ]
  },
  {
   "cell_type": "markdown",
   "metadata": {},
   "source": [
    "Al igual que en el caso de la imputación por promedio, la mediana asigna un único valor a todos los registros faltantes de una columna, ignorando la variabilidad y las relaciones entre variables"
   ]
  },
  {
   "cell_type": "markdown",
   "metadata": {},
   "source": [
    "En el contexto de nuestro trabajo, que implica analizar la calidad del agua a través de los parámetros ResultadoMinimo, ResultadoMaximo, y ResultadoPromedio, enfrentamos desafíos significativos al imputar los valores faltantes con métodos generales como el promedio o la mediana. Estos enfoques no capturan la complejidad y la variabilidad específica de los datos relacionados con la calidad del agua, donde cada parámetro puede variar considerablemente por factores geográficos, temporales y ambientales.\n",
    "\n",
    "Por lo tanto, en este caso específico, la eliminación de las columnas ResultadoMinimo, ResultadoMaximo, y ResultadoPromedio puede ser la decisión más prudente. Esta acción elimina el riesgo de introducir sesgos significativos a través de la imputación y nos permite enfocarnos en partes del conjunto de datos con información completa y precisa"
   ]
  },
  {
   "cell_type": "code",
   "execution_count": null,
   "metadata": {},
   "outputs": [],
   "source": [
    "water = water.drop(['ResultadoMinimo', 'ResultadoMaximo', 'ResultadoPromedio'], axis=1)"
   ]
  },
  {
   "cell_type": "markdown",
   "metadata": {},
   "source": [
    "Volvemos a revisar que no se presenten mas valores faltantes:"
   ]
  },
  {
   "cell_type": "code",
   "execution_count": null,
   "metadata": {},
   "outputs": [],
   "source": [
    "water_faltantes = water.isnull().sum()\n",
    "\n",
    "\n",
    "water_faltantes[water_faltantes > 0]"
   ]
  },
  {
   "cell_type": "markdown",
   "metadata": {},
   "source": [
    "Investigación de filas duplicadas:"
   ]
  },
  {
   "cell_type": "code",
   "execution_count": 79,
   "metadata": {},
   "outputs": [
    {
     "data": {
      "text/plain": [
       "(0, 0)"
      ]
     },
     "execution_count": 79,
     "metadata": {},
     "output_type": "execute_result"
    }
   ],
   "source": [
    "filas_duplicadas_antes = water.duplicated().sum()\n",
    "\n",
    "water = water.drop_duplicates()\n",
    "\n",
    "filas_duplicadas_despues = water.duplicated().sum()\n",
    "\n",
    "filas_duplicadas_antes, filas_duplicadas_despues"
   ]
  },
  {
   "cell_type": "markdown",
   "metadata": {},
   "source": [
    "No se encontraron filas duplicadas en el dataset"
   ]
  },
  {
   "cell_type": "markdown",
   "metadata": {},
   "source": [
    " Verificación de los tipos de datos de las columnas para asegurar que coincidan con el contenido que albergan."
   ]
  },
  {
   "cell_type": "code",
   "execution_count": 81,
   "metadata": {},
   "outputs": [
    {
     "data": {
      "text/plain": [
       "Año                          int64\n",
       "NombreDepartamento          object\n",
       "Div_dpto                     int64\n",
       "NombreMunicipio             object\n",
       "Divi_muni                    int64\n",
       "IrcaMinimo2                 object\n",
       "IrcaMaximo                  object\n",
       "IrcaPromedio                object\n",
       "NombreParametroAnalisis2    object\n",
       "MuestrasEvaluadas            int64\n",
       "MuestrasTratadas             int64\n",
       "MuestrasSinTratar            int64\n",
       "NumeroParametrosMinimo       int64\n",
       "NumeroParametrosMaximo       int64\n",
       "NumeroParametrosPromedio     int64\n",
       "NumeroMuestras               int64\n",
       "MuestrasNoAptas              int64\n",
       "PorcentajeNoAptas           object\n",
       "Codigo                      object\n",
       "missing_values                bool\n",
       "dtype: object"
      ]
     },
     "execution_count": 81,
     "metadata": {},
     "output_type": "execute_result"
    }
   ],
   "source": [
    "tipos_datos_actuales = water.dtypes\n",
    "\n",
    "tipos_datos_actuales"
   ]
  },
  {
   "cell_type": "markdown",
   "metadata": {},
   "source": [
    "Cambio tipo de dato de \"Año\":"
   ]
  },
  {
   "cell_type": "code",
   "execution_count": 65,
   "metadata": {},
   "outputs": [
    {
     "data": {
      "text/plain": [
       "Año                         datetime64[ns]\n",
       "NombreDepartamento                  object\n",
       "Div_dpto                             int64\n",
       "NombreMunicipio                     object\n",
       "Divi_muni                            int64\n",
       "IrcaMinimo2                         object\n",
       "IrcaMaximo                          object\n",
       "IrcaPromedio                        object\n",
       "NombreParametroAnalisis2            object\n",
       "MuestrasEvaluadas                    int64\n",
       "MuestrasTratadas                     int64\n",
       "MuestrasSinTratar                    int64\n",
       "NumeroParametrosMinimo               int64\n",
       "NumeroParametrosMaximo               int64\n",
       "NumeroParametrosPromedio             int64\n",
       "NumeroMuestras                       int64\n",
       "MuestrasNoAptas                      int64\n",
       "PorcentajeNoAptas                   object\n",
       "Codigo                              object\n",
       "missing_values                        bool\n",
       "dtype: object"
      ]
     },
     "execution_count": 65,
     "metadata": {},
     "output_type": "execute_result"
    }
   ],
   "source": [
    "water['Año'] = pd.to_datetime(water['Año'], format='%Y')\n",
    "\n",
    "water.dtypes"
   ]
  },
  {
   "cell_type": "markdown",
   "metadata": {},
   "source": []
  },
  {
   "cell_type": "code",
   "execution_count": 66,
   "metadata": {},
   "outputs": [
    {
     "data": {
      "text/html": [
       "<div>\n",
       "<style scoped>\n",
       "    .dataframe tbody tr th:only-of-type {\n",
       "        vertical-align: middle;\n",
       "    }\n",
       "\n",
       "    .dataframe tbody tr th {\n",
       "        vertical-align: top;\n",
       "    }\n",
       "\n",
       "    .dataframe thead th {\n",
       "        text-align: right;\n",
       "    }\n",
       "</style>\n",
       "<table border=\"1\" class=\"dataframe\">\n",
       "  <thead>\n",
       "    <tr style=\"text-align: right;\">\n",
       "      <th></th>\n",
       "      <th>Año</th>\n",
       "      <th>NombreDepartamento</th>\n",
       "      <th>NombreMunicipio</th>\n",
       "      <th>IrcaMinimo2</th>\n",
       "      <th>IrcaMaximo</th>\n",
       "      <th>IrcaPromedio</th>\n",
       "      <th>NombreParametroAnalisis2</th>\n",
       "      <th>MuestrasEvaluadas</th>\n",
       "      <th>MuestrasTratadas</th>\n",
       "      <th>MuestrasSinTratar</th>\n",
       "      <th>NumeroParametrosMinimo</th>\n",
       "      <th>NumeroParametrosMaximo</th>\n",
       "      <th>NumeroParametrosPromedio</th>\n",
       "      <th>NumeroMuestras</th>\n",
       "      <th>MuestrasNoAptas</th>\n",
       "    </tr>\n",
       "  </thead>\n",
       "  <tbody>\n",
       "    <tr>\n",
       "      <th>0</th>\n",
       "      <td>2010-01-01</td>\n",
       "      <td>Bolívar</td>\n",
       "      <td>El Guamo</td>\n",
       "      <td>0</td>\n",
       "      <td>100</td>\n",
       "      <td>37,32</td>\n",
       "      <td>Alcanilidad Total</td>\n",
       "      <td>67</td>\n",
       "      <td>67</td>\n",
       "      <td>0</td>\n",
       "      <td>2</td>\n",
       "      <td>7</td>\n",
       "      <td>2</td>\n",
       "      <td>1</td>\n",
       "      <td>0</td>\n",
       "    </tr>\n",
       "    <tr>\n",
       "      <th>1</th>\n",
       "      <td>2010-01-01</td>\n",
       "      <td>Bolívar</td>\n",
       "      <td>El Guamo</td>\n",
       "      <td>0</td>\n",
       "      <td>100</td>\n",
       "      <td>37,32</td>\n",
       "      <td>Aluminio</td>\n",
       "      <td>67</td>\n",
       "      <td>67</td>\n",
       "      <td>0</td>\n",
       "      <td>2</td>\n",
       "      <td>7</td>\n",
       "      <td>2</td>\n",
       "      <td>0</td>\n",
       "      <td>0</td>\n",
       "    </tr>\n",
       "    <tr>\n",
       "      <th>2</th>\n",
       "      <td>2010-01-01</td>\n",
       "      <td>Bolívar</td>\n",
       "      <td>El Guamo</td>\n",
       "      <td>0</td>\n",
       "      <td>100</td>\n",
       "      <td>37,32</td>\n",
       "      <td>Arsénico</td>\n",
       "      <td>67</td>\n",
       "      <td>67</td>\n",
       "      <td>0</td>\n",
       "      <td>2</td>\n",
       "      <td>7</td>\n",
       "      <td>2</td>\n",
       "      <td>0</td>\n",
       "      <td>0</td>\n",
       "    </tr>\n",
       "    <tr>\n",
       "      <th>3</th>\n",
       "      <td>2010-01-01</td>\n",
       "      <td>Bolívar</td>\n",
       "      <td>El Guamo</td>\n",
       "      <td>0</td>\n",
       "      <td>100</td>\n",
       "      <td>37,32</td>\n",
       "      <td>Cadmio</td>\n",
       "      <td>67</td>\n",
       "      <td>67</td>\n",
       "      <td>0</td>\n",
       "      <td>2</td>\n",
       "      <td>7</td>\n",
       "      <td>2</td>\n",
       "      <td>0</td>\n",
       "      <td>0</td>\n",
       "    </tr>\n",
       "    <tr>\n",
       "      <th>4</th>\n",
       "      <td>2010-01-01</td>\n",
       "      <td>Bolívar</td>\n",
       "      <td>El Guamo</td>\n",
       "      <td>0</td>\n",
       "      <td>100</td>\n",
       "      <td>37,32</td>\n",
       "      <td>Calcio</td>\n",
       "      <td>67</td>\n",
       "      <td>67</td>\n",
       "      <td>0</td>\n",
       "      <td>2</td>\n",
       "      <td>7</td>\n",
       "      <td>2</td>\n",
       "      <td>1</td>\n",
       "      <td>0</td>\n",
       "    </tr>\n",
       "  </tbody>\n",
       "</table>\n",
       "</div>"
      ],
      "text/plain": [
       "         Año NombreDepartamento NombreMunicipio IrcaMinimo2 IrcaMaximo  \\\n",
       "0 2010-01-01            Bolívar        El Guamo           0        100   \n",
       "1 2010-01-01            Bolívar        El Guamo           0        100   \n",
       "2 2010-01-01            Bolívar        El Guamo           0        100   \n",
       "3 2010-01-01            Bolívar        El Guamo           0        100   \n",
       "4 2010-01-01            Bolívar        El Guamo           0        100   \n",
       "\n",
       "  IrcaPromedio NombreParametroAnalisis2  MuestrasEvaluadas  MuestrasTratadas  \\\n",
       "0        37,32        Alcanilidad Total                 67                67   \n",
       "1        37,32                 Aluminio                 67                67   \n",
       "2        37,32                 Arsénico                 67                67   \n",
       "3        37,32                   Cadmio                 67                67   \n",
       "4        37,32                   Calcio                 67                67   \n",
       "\n",
       "   MuestrasSinTratar  NumeroParametrosMinimo  NumeroParametrosMaximo  \\\n",
       "0                  0                       2                       7   \n",
       "1                  0                       2                       7   \n",
       "2                  0                       2                       7   \n",
       "3                  0                       2                       7   \n",
       "4                  0                       2                       7   \n",
       "\n",
       "   NumeroParametrosPromedio  NumeroMuestras  MuestrasNoAptas  \n",
       "0                         2               1                0  \n",
       "1                         2               0                0  \n",
       "2                         2               0                0  \n",
       "3                         2               0                0  \n",
       "4                         2               1                0  "
      ]
     },
     "execution_count": 66,
     "metadata": {},
     "output_type": "execute_result"
    }
   ],
   "source": [
    "%pip install unidecode\n",
    "import pandas as pd\n",
    "from unidecode import unidecode\n",
    "\n",
    "for col in water.select_dtypes(include=['object']).columns:\n",
    "    water[col] = water[col].apply(lambda x: unidecode(x) if isinstance(x, str) else x)\n",
    "\n",
    "water.head()"
   ]
  },
  {
   "cell_type": "markdown",
   "metadata": {},
   "source": []
  },
  {
   "cell_type": "code",
   "execution_count": null,
   "metadata": {},
   "outputs": [],
   "source": [
    "water = water.drop(columns=[ 'missing_values'])\n",
    "\n",
    "\n",
    "water.head()"
   ]
  },
  {
   "cell_type": "markdown",
   "metadata": {},
   "source": []
  },
  {
   "cell_type": "markdown",
   "metadata": {},
   "source": [
    "Valores atipicos "
   ]
  },
  {
   "cell_type": "code",
   "execution_count": null,
   "metadata": {},
   "outputs": [],
   "source": [
    "\n",
    "import pandas as pd\n",
    "\n",
    "outliers_count = {}\n",
    "\n",
    "\n",
    "numeric_cols = water.select_dtypes(include=['float64', 'int64']).columns\n",
    "\n",
    "Q1 = water[numeric_cols].quantile(0.25)\n",
    "Q3 = water[numeric_cols].quantile(0.75)\n",
    "IQR = Q3 - Q1\n",
    "\n",
    "\n",
    "limite_inferior = Q1 - 1.5 * IQR\n",
    "limite_superior = Q3 + 1.5 * IQR\n",
    "\n",
    "\n",
    "outliers_count = ((water[numeric_cols] < limite_inferior) | (water[numeric_cols] > limite_superior)).sum()\n",
    "\n",
    "print(\"Número de valores atípicos por columna:\")\n",
    "print(outliers_count)"
   ]
  },
  {
   "cell_type": "markdown",
   "metadata": {},
   "source": [
    "Iniciaremos la imputación de valores atipicos con nuestra columna de mayor importancia \"IRCA PROMEDIO\""
   ]
  },
  {
   "cell_type": "code",
   "execution_count": null,
   "metadata": {},
   "outputs": [],
   "source": [
    "import numpy as np\n",
    "import matplotlib.pyplot as plt\n",
    "\n",
    "\n",
    "plt.figure(figsize=(10, 6))\n",
    "\n",
    "\n",
    "bp = plt.boxplot(water['IrcaPromedio'], vert=False, patch_artist=True, showmeans=True,\n",
    "                 boxprops=dict(facecolor='lightblue', color='blue'),\n",
    "                 whiskerprops=dict(color='blue'),\n",
    "                 capprops=dict(color='blue'),\n",
    "                 medianprops=dict(color='red'),\n",
    "                 meanprops=dict(marker='D', markeredgecolor='black', markerfacecolor='yellow'))\n",
    "\n",
    "\n",
    "plt.title('Distribución del IRCA Promedio', fontsize=16)\n",
    "plt.xlabel('IRCA Promedio', fontsize=14)\n",
    "plt.grid(True, linestyle='--', linewidth=0.5, alpha=0.5)\n",
    "plt.tight_layout()\n",
    "\n",
    "\n",
    "median_value = np.median(water['IrcaPromedio'])\n",
    "plt.annotate(f'Mediana: {median_value:.2f}', xy=(median_value, 0.5), xytext=(median_value, 0.6),\n",
    "             arrowprops=dict(facecolor='black', arrowstyle=\"->\"),\n",
    "             horizontalalignment='center', verticalalignment='top')\n",
    "\n",
    "\n",
    "plt.show()"
   ]
  },
  {
   "cell_type": "markdown",
   "metadata": {},
   "source": [
    "que vemos en el grafico?"
   ]
  },
  {
   "cell_type": "code",
   "execution_count": null,
   "metadata": {},
   "outputs": [],
   "source": [
    "Q1 = water['IrcaPromedio'].quantile(0.25)\n",
    "Q3 = water['IrcaPromedio'].quantile(0.75)\n",
    "IQR = Q3 - Q1\n",
    "\n",
    "\n",
    "limite_inferior = Q1 - 1.5 * IQR\n",
    "limite_superior = Q3 + 1.5 * IQR\n",
    "\n",
    "valores_atipicos = water[(water['IrcaPromedio'] < limite_inferior) | (water['IrcaPromedio'] > limite_superior)]\n",
    "\n",
    "muestras_atipicas_detalles = valores_atipicos[['Año', 'NombreDepartamento', 'NombreMunicipio', 'IrcaPromedio']]\n",
    "\n",
    "print(muestras_atipicas_detalles.head())"
   ]
  },
  {
   "cell_type": "code",
   "execution_count": null,
   "metadata": {},
   "outputs": [],
   "source": [
    "water['EsAtipico'] = (water['IrcaPromedio'] < limite_inferior) | (water['IrcaPromedio'] > limite_superior)\n",
    "\n",
    "valores_atipicos_por_departamento = water.groupby('NombreDepartamento')['EsAtipico'].sum()\n",
    "\n",
    "valores_atipicos_por_departamento = valores_atipicos_por_departamento.sort_values(ascending=False)\n",
    "\n",
    "print(valores_atipicos_por_departamento)"
   ]
  },
  {
   "cell_type": "code",
   "execution_count": null,
   "metadata": {},
   "outputs": [],
   "source": [
    "def obtener_valores_atipicos_por_departamento(df, departamento, limite_inferior, limite_superior):\n",
    "\n",
    "    datos_departamento = df[df['NombreDepartamento'] == departamento]\n",
    "\n",
    "    \n",
    "    valores_atipicos = datos_departamento[\n",
    "        (datos_departamento['IrcaPromedio'] < limite_inferior) |\n",
    "        (datos_departamento['IrcaPromedio'] > limite_superior)\n",
    "    ]\n",
    "\n",
    "    return valores_atipicos\n",
    "\n",
    "nombre_departamento = 'Magdalena' #Cambia el deartamento que desees observar\n",
    "valores_atipicos_departamento = obtener_valores_atipicos_por_departamento(water, nombre_departamento, limite_inferior, limite_superior)\n",
    "\n",
    "\n",
    "print(valores_atipicos_departamento[['NombreMunicipio', 'IrcaPromedio']])\n"
   ]
  },
  {
   "cell_type": "markdown",
   "metadata": {},
   "source": [
    "explicacion de por que los vamos a dejar los atipicos"
   ]
  },
  {
   "cell_type": "markdown",
   "metadata": {},
   "source": [
    "Valor atipicos de IRCA minimo"
   ]
  },
  {
   "cell_type": "code",
   "execution_count": null,
   "metadata": {},
   "outputs": [],
   "source": [
    "sns.set(style=\"whitegrid\")\n",
    "\n",
    "plt.figure(figsize=(10, 6))\n",
    "sns.histplot(water['IrcaMinimo2'], kde=True, bins=30)\n",
    "plt.title('Distribución de IRCA Mínimo')\n",
    "plt.xlabel('IRCA Mínimo')\n",
    "plt.ylabel('Frecuencia')\n",
    "plt.show()"
   ]
  },
  {
   "cell_type": "markdown",
   "metadata": {},
   "source": [
    "La distribución de IrcaMinimo muestra una concentración de valores en un rango específico, con la presencia de una cola hacia valores más altos. Esta distribución sugiere que, aunque la mayoría de los valores son relativamente bajos (indicando un riesgo bajo a moderado de la calidad del agua), hay una cantidad significativa de valores que se extienden hacia rangos más altos, lo cual podría ser indicativo de situaciones de riesgo más elevado en ciertas áreas."
   ]
  },
  {
   "cell_type": "markdown",
   "metadata": {},
   "source": [
    "Conclusión atipicos de IRCA: Estos resultados son consistentes con el contexto práctico de los datos, donde valores más altos de IRCA minimo y promedio, indican un mayor riesgo asociado con la calidad del agua La presencia de estos valores extremos, lejos de ser errores o anomalías sin significado práctico, subraya la importancia de monitorear y mejorar la calidad del agua en áreas donde el IRCA es alto. Estos análisis resaltan la variabilidad y los desafíos en la gestión de la calidad del agua a nivel local y regional."
   ]
  },
  {
   "cell_type": "markdown",
   "metadata": {},
   "source": [
    "Creando analisis más detallado sobre la calidad del agua en nuestros datos:"
   ]
  },
  {
   "cell_type": "markdown",
   "metadata": {},
   "source": [
    "\n",
    "Identificamos los parámetros de análisis que tienen mayor influencia en la contaminación del agua:"
   ]
  },
  {
   "cell_type": "code",
   "execution_count": null,
   "metadata": {},
   "outputs": [],
   "source": [
    "parametros_influencia = water.groupby('NombreParametroAnalisis2')['IrcaPromedio'].mean().sort_values(ascending=False)\n",
    "\n",
    "top_20_parametros = parametros_influencia.head(15)\n",
    "\n",
    "top_20_parametros"
   ]
  },
  {
   "cell_type": "markdown",
   "metadata": {},
   "source": [
    "Todos estos parámetros tienen un valor promedio de \"IrcaPromedio\" de aproximadamente 25, lo que sugiere una influencia significativa en la calidad del agua según este índice"
   ]
  },
  {
   "cell_type": "code",
   "execution_count": null,
   "metadata": {},
   "outputs": [],
   "source": [
    "water = water[water['NombreParametroAnalisis2'].isin(top_20_parametros.index)]\n",
    "\n",
    "water.head(), water.shape"
   ]
  },
  {
   "cell_type": "markdown",
   "metadata": {},
   "source": [
    "Hemos filtrado el dataset para dejar solo las filas correspondientes a los top 20 parámetros de análisis relacionados con la contaminación del agua y los demas han salido eliminados"
   ]
  },
  {
   "cell_type": "markdown",
   "metadata": {},
   "source": [
    "Transformación de columnas:"
   ]
  },
  {
   "cell_type": "code",
   "execution_count": null,
   "metadata": {},
   "outputs": [],
   "source": [
    "def clasificar_irca(irca):\n",
    "    if irca == 0:\n",
    "        return 'Sin información'\n",
    "    elif 0.001 <= irca <= 5:\n",
    "        return 'Sin riesgo'\n",
    "    elif 5.001 <= irca <= 14:\n",
    "        return 'Bajo'\n",
    "    elif 19.001 <= irca <= 35:\n",
    "        return 'Medio'\n",
    "    elif 54.001 <= irca <= 70:\n",
    "        return 'Alto'\n",
    "    elif 124.001 <= irca <= 100:\n",
    "        return 'Inviable'\n",
    "    else:\n",
    "        return 'No clasificado' \n",
    "\n",
    "water['rango_irca'] = water['IrcaPromedio'].apply(clasificar_irca)\n"
   ]
  },
  {
   "cell_type": "markdown",
   "metadata": {},
   "source": []
  },
  {
   "cell_type": "code",
   "execution_count": null,
   "metadata": {},
   "outputs": [],
   "source": [
    "water['porcentaje_muestras_tratadas'] = (water['MuestrasTratadas'] / water['MuestrasEvaluadas']) * 100\n",
    "\n",
    "water[[ 'MuestrasEvaluadas', 'MuestrasTratadas', 'porcentaje_muestras_tratadas']].head()\n"
   ]
  },
  {
   "cell_type": "markdown",
   "metadata": {},
   "source": [
    " \"Porcentaje de Muestras Tratadas\" fue generada a partir del dataset original, utilizando las columnas de Muestras Tratadas y Muestras Evaluadas para calcular el porcentaje de agua que ha sido sometida a tratamiento en diversas localidades. "
   ]
  },
  {
   "cell_type": "code",
   "execution_count": null,
   "metadata": {},
   "outputs": [],
   "source": [
    "water['diferencia_muestras_tratadas_sin_tratar'] = abs(water['MuestrasTratadas'] - water['MuestrasSinTratar'])\n",
    "\n",
    "water[['MuestrasTratadas', 'MuestrasSinTratar', 'diferencia_muestras_tratadas_sin_tratar']].head()"
   ]
  },
  {
   "cell_type": "markdown",
   "metadata": {},
   "source": [
    "La columna \"Diferencia entre Muestras Tratadas y Sin Tratar\" fue desarrollada para cuantificar la brecha en el número de muestras de agua que han sido sometidas a tratamiento en comparación con aquellas que no lo han sido dentro de cada conjunto de datos evaluados"
   ]
  },
  {
   "cell_type": "code",
   "execution_count": null,
   "metadata": {},
   "outputs": [],
   "source": [
    "water['rango_parametros_analizados'] = water['NumeroParametrosMaximo'] - water['NumeroParametrosMinimo']\n",
    "\n",
    "water[[ 'NumeroParametrosMinimo', 'NumeroParametrosMaximo', 'rango_parametros_analizados']].head()"
   ]
  },
  {
   "cell_type": "markdown",
   "metadata": {},
   "source": [
    "La columna \"Rango de Parámetros Analizados\" fue creada para proporcionar una medida de la variabilidad en el análisis de calidad del agua, reflejando la diferencia entre el número máximo y mínimo de parámetros químicos y biológicos examinados en cada muestra."
   ]
  },
  {
   "cell_type": "code",
   "execution_count": null,
   "metadata": {},
   "outputs": [],
   "source": [
    "columnas_a_eliminar = ['MuestrasTratadas', 'MuestrasEvaluadas', 'MuestrasSinTratar',\n",
    "                      'NumeroParametrosMinimo', 'NumeroParametrosMaximo']\n",
    "water = water.drop(columns=columnas_a_eliminar)\n",
    "\n",
    "\n",
    "water.head()"
   ]
  },
  {
   "cell_type": "markdown",
   "metadata": {},
   "source": [
    "Exportamos el nuevo archivo con el procesamiento y transformaciones:"
   ]
  },
  {
   "cell_type": "code",
   "execution_count": null,
   "metadata": {},
   "outputs": [],
   "source": [
    "water.to_csv('water_cleaned.csv', index=False)"
   ]
  }
 ],
 "metadata": {
  "kernelspec": {
   "display_name": "Python 3",
   "language": "python",
   "name": "python3"
  },
  "language_info": {
   "codemirror_mode": {
    "name": "ipython",
    "version": 3
   },
   "file_extension": ".py",
   "mimetype": "text/x-python",
   "name": "python",
   "nbconvert_exporter": "python",
   "pygments_lexer": "ipython3",
   "version": "3.12.2"
  }
 },
 "nbformat": 4,
 "nbformat_minor": 2
}
