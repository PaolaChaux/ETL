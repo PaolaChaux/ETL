{
 "cells": [
  {
   "cell_type": "code",
   "execution_count": 1,
   "metadata": {},
   "outputs": [],
   "source": [
    "from powerbiclient import QuickVisualize, get_dataset_config, Report\n",
    "from powerbiclient.authentication import DeviceCodeLoginAuthentication\n",
    "from powerbiclient import Report, models\n",
    "import pandas as pd\n",
    "import psycopg2\n",
    "import json"
   ]
  },
  {
   "cell_type": "code",
   "execution_count": 2,
   "metadata": {},
   "outputs": [
    {
     "name": "stdout",
     "output_type": "stream",
     "text": [
      "Performing device flow authentication. Please follow the instructions below.\n",
      "To sign in, use a web browser to open the page https://microsoft.com/devicelogin and enter the code B3TMCWHLS to authenticate.\n",
      "\n",
      "Device flow authentication successfully completed.\n",
      "You are now logged in .\n",
      "\n",
      "The result should be passed only to trusted code in your notebook.\n"
     ]
    }
   ],
   "source": [
    "device_auth = DeviceCodeLoginAuthentication()"
   ]
  },
  {
   "cell_type": "code",
   "execution_count": 10,
   "metadata": {},
   "outputs": [
    {
     "name": "stderr",
     "output_type": "stream",
     "text": [
      "C:\\Users\\PAO\\AppData\\Local\\Temp\\ipykernel_17776\\1698179622.py:18: UserWarning: pandas only supports SQLAlchemy connectable (engine/connection) or database string URI or sqlite3 DBAPI2 connection. Other DBAPI2 objects are not tested. Please consider using SQLAlchemy.\n",
      "  water = pd.read_sql(query, connection)\n"
     ]
    },
    {
     "name": "stdout",
     "output_type": "stream",
     "text": [
      "          Año NombreDepartamento  Div_dpto NombreMunicipio  Divi_muni  \\\n",
      "0  2010-01-01            Bolívar        13        El Guamo      13248   \n",
      "1  2010-01-01            Bolívar        13        El Guamo      13248   \n",
      "2  2010-01-01            Bolívar        13        El Guamo      13248   \n",
      "3  2010-01-01            Bolívar        13        El Guamo      13248   \n",
      "4  2010-01-01            Bolívar        13        El Guamo      13248   \n",
      "\n",
      "   IrcaMinimo  IrcaMaximo  IrcaPromedio NombreParametroAnalisis2  \\\n",
      "0         0.0       100.0         37.32        Alcanilidad Total   \n",
      "1         0.0       100.0         37.32                 Aluminio   \n",
      "2         0.0       100.0         37.32                 Arsénico   \n",
      "3         0.0       100.0         37.32                   Cadmio   \n",
      "4         0.0       100.0         37.32                   Calcio   \n",
      "\n",
      "   MuestrasEvaluadas  NumeroParametrosMinimo  NumeroParametrosMaximo  \\\n",
      "0                 67                       2                       7   \n",
      "1                 67                       2                       7   \n",
      "2                 67                       2                       7   \n",
      "3                 67                       2                       7   \n",
      "4                 67                       2                       7   \n",
      "\n",
      "   NumeroParametrosPromedio  ResultadoMinimo  ResultadoMaximo  \\\n",
      "0                         2             23.0             23.0   \n",
      "1                         2              NaN              NaN   \n",
      "2                         2              NaN              NaN   \n",
      "3                         2              NaN              NaN   \n",
      "4                         2             14.0             14.0   \n",
      "\n",
      "   ResultadoPromedio  \n",
      "0               23.0  \n",
      "1                NaN  \n",
      "2                NaN  \n",
      "3                NaN  \n",
      "4               14.0  \n"
     ]
    }
   ],
   "source": [
    "import psycopg2\n",
    "import pandas as pd\n",
    "import json\n",
    "\n",
    "def consultar_datos(filename, db_name, table_name):\n",
    "    try:\n",
    "        with open(filename, 'r') as file:\n",
    "            config = json.load(file)\n",
    "\n",
    "        connection = psycopg2.connect(\n",
    "            host=config[\"host\"],\n",
    "            user=config[\"user\"],\n",
    "            password=config[\"password\"],\n",
    "            dbname=db_name\n",
    "        )\n",
    "\n",
    "        query = f\"SELECT * FROM {table_name}\"\n",
    "        water = pd.read_sql(query, connection)\n",
    "\n",
    "        return water  # Devolver el DataFrame\n",
    "    except (Exception, psycopg2.DatabaseError) as error:\n",
    "        print(f\"Error al consultar datos: {error}\")\n",
    "        return None  # Devolver None en caso de error\n",
    "    finally:\n",
    "        if connection:\n",
    "            connection.close()\n",
    "\n",
    "if __name__ == \"__main__\":\n",
    "    filename = 'db_config.json'\n",
    "    db_name = 'db_water'\n",
    "    table_name = 'water_table'\n",
    "    water = consultar_datos(filename, db_name, table_name)  \n",
    "\n",
    "    if water is not None:\n",
    "        print(water.head())  # Imprimir las primeras filas del DataFrame\n"
   ]
  },
  {
   "cell_type": "code",
   "execution_count": null,
   "metadata": {},
   "outputs": [],
   "source": [
    "water = pd.read_csv('water_cleaned.csv', sep=';')"
   ]
  },
  {
   "cell_type": "code",
   "execution_count": 11,
   "metadata": {},
   "outputs": [],
   "source": [
    "PBI_visualize = QuickVisualize(get_dataset_config(water), auth=device_auth)"
   ]
  },
  {
   "cell_type": "code",
   "execution_count": 17,
   "metadata": {},
   "outputs": [
    {
     "data": {
      "application/vnd.jupyter.widget-view+json": {
       "model_id": "3afe5afbf43242f3874b1134ecc1bcab",
       "version_major": 2,
       "version_minor": 0
      },
      "text/plain": [
       "QuickVisualize()"
      ]
     },
     "execution_count": 17,
     "metadata": {},
     "output_type": "execute_result"
    },
    {
     "ename": "",
     "evalue": "",
     "output_type": "error",
     "traceback": [
      "\u001b[1;31mThe Kernel crashed while executing code in the current cell or a previous cell. \n",
      "\u001b[1;31mPlease review the code in the cell(s) to identify a possible cause of the failure. \n",
      "\u001b[1;31mClick <a href='https://aka.ms/vscodeJupyterKernelCrash'>here</a> for more info. \n",
      "\u001b[1;31mView Jupyter <a href='command:jupyter.viewOutput'>log</a> for further details."
     ]
    }
   ],
   "source": [
    "PBI_visualize"
   ]
  },
  {
   "cell_type": "code",
   "execution_count": null,
   "metadata": {},
   "outputs": [],
   "source": [
    "group_id=\"6992ceb5-f515-4523-9dbd-74f8a6a6b474\"\n",
    "report_id=\"8c89e0db-8dc1-48b7-a068-cd1761e837ab\""
   ]
  },
  {
   "cell_type": "code",
   "execution_count": null,
   "metadata": {},
   "outputs": [],
   "source": [
    "report = Report(group_id=group_id, report_id=report_id, auth=device_auth)\n",
    "report"
   ]
  }
 ],
 "metadata": {
  "kernelspec": {
   "display_name": "Python 3",
   "language": "python",
   "name": "python3"
  },
  "language_info": {
   "codemirror_mode": {
    "name": "ipython",
    "version": 3
   },
   "file_extension": ".py",
   "mimetype": "text/x-python",
   "name": "python",
   "nbconvert_exporter": "python",
   "pygments_lexer": "ipython3",
   "version": "3.11.5"
  }
 },
 "nbformat": 4,
 "nbformat_minor": 2
}
