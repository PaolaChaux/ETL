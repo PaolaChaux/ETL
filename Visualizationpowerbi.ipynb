{
 "cells": [
  {
   "cell_type": "code",
   "execution_count": 2,
   "metadata": {},
   "outputs": [],
   "source": [
    "from powerbiclient import QuickVisualize, get_dataset_config, Report\n",
    "from powerbiclient.authentication import DeviceCodeLoginAuthentication\n",
    "from powerbiclient import Report, models\n",
    "import pandas as pd\n",
    "import psycopg2\n",
    "import json"
   ]
  },
  {
   "cell_type": "code",
   "execution_count": 3,
   "metadata": {},
   "outputs": [
    {
     "name": "stdout",
     "output_type": "stream",
     "text": [
      "Performing device flow authentication. Please follow the instructions below.\n",
      "To sign in, use a web browser to open the page https://microsoft.com/devicelogin and enter the code BQTQEE82R to authenticate.\n",
      "\n",
      "Device flow authentication successfully completed.\n",
      "You are now logged in .\n",
      "\n",
      "The result should be passed only to trusted code in your notebook.\n"
     ]
    }
   ],
   "source": [
    "device_auth = DeviceCodeLoginAuthentication()"
   ]
  },
  {
   "cell_type": "code",
   "execution_count": 10,
   "metadata": {},
   "outputs": [
    {
     "name": "stderr",
     "output_type": "stream",
     "text": [
      "C:\\Users\\PAO\\AppData\\Local\\Temp\\ipykernel_17776\\1698179622.py:18: UserWarning: pandas only supports SQLAlchemy connectable (engine/connection) or database string URI or sqlite3 DBAPI2 connection. Other DBAPI2 objects are not tested. Please consider using SQLAlchemy.\n",
      "  water = pd.read_sql(query, connection)\n"
     ]
    },
    {
     "name": "stdout",
     "output_type": "stream",
     "text": [
      "          Año NombreDepartamento  Div_dpto NombreMunicipio  Divi_muni  \\\n",
      "0  2010-01-01            Bolívar        13        El Guamo      13248   \n",
      "1  2010-01-01            Bolívar        13        El Guamo      13248   \n",
      "2  2010-01-01            Bolívar        13        El Guamo      13248   \n",
      "3  2010-01-01            Bolívar        13        El Guamo      13248   \n",
      "4  2010-01-01            Bolívar        13        El Guamo      13248   \n",
      "\n",
      "   IrcaMinimo  IrcaMaximo  IrcaPromedio NombreParametroAnalisis2  \\\n",
      "0         0.0       100.0         37.32        Alcanilidad Total   \n",
      "1         0.0       100.0         37.32                 Aluminio   \n",
      "2         0.0       100.0         37.32                 Arsénico   \n",
      "3         0.0       100.0         37.32                   Cadmio   \n",
      "4         0.0       100.0         37.32                   Calcio   \n",
      "\n",
      "   MuestrasEvaluadas  NumeroParametrosMinimo  NumeroParametrosMaximo  \\\n",
      "0                 67                       2                       7   \n",
      "1                 67                       2                       7   \n",
      "2                 67                       2                       7   \n",
      "3                 67                       2                       7   \n",
      "4                 67                       2                       7   \n",
      "\n",
      "   NumeroParametrosPromedio  ResultadoMinimo  ResultadoMaximo  \\\n",
      "0                         2             23.0             23.0   \n",
      "1                         2              NaN              NaN   \n",
      "2                         2              NaN              NaN   \n",
      "3                         2              NaN              NaN   \n",
      "4                         2             14.0             14.0   \n",
      "\n",
      "   ResultadoPromedio  \n",
      "0               23.0  \n",
      "1                NaN  \n",
      "2                NaN  \n",
      "3                NaN  \n",
      "4               14.0  \n"
     ]
    }
   ],
   "source": [
    "import psycopg2\n",
    "import pandas as pd\n",
    "import json\n",
    "\n",
    "def consultar_datos(filename, db_name, table_name):\n",
    "    try:\n",
    "        with open(filename, 'r') as file:\n",
    "            config = json.load(file)\n",
    "\n",
    "        connection = psycopg2.connect(\n",
    "            host=config[\"host\"],\n",
    "            user=config[\"user\"],\n",
    "            password=config[\"password\"],\n",
    "            dbname=db_name\n",
    "        )\n",
    "\n",
    "        query = f\"SELECT * FROM {table_name}\"\n",
    "        water = pd.read_sql(query, connection)\n",
    "\n",
    "        return water  # Devolver el DataFrame\n",
    "    except (Exception, psycopg2.DatabaseError) as error:\n",
    "        print(f\"Error al consultar datos: {error}\")\n",
    "        return None  # Devolver None en caso de error\n",
    "    finally:\n",
    "        if connection:\n",
    "            connection.close()\n",
    "\n",
    "if __name__ == \"__main__\":\n",
    "    filename = 'db_config.json'\n",
    "    db_name = 'db_water'\n",
    "    table_name = 'water_table'\n",
    "    water = consultar_datos(filename, db_name, table_name)  \n",
    "\n",
    "    if water is not None:\n",
    "        print(water.head())  # Imprimir las primeras filas del DataFrame\n"
   ]
  },
  {
   "cell_type": "code",
   "execution_count": 6,
   "metadata": {},
   "outputs": [],
   "source": [
    "water = pd.read_csv('water_cleaned.csv', sep=',')"
   ]
  },
  {
   "cell_type": "code",
   "execution_count": 7,
   "metadata": {},
   "outputs": [
    {
     "data": {
      "text/html": [
       "<div>\n",
       "<style scoped>\n",
       "    .dataframe tbody tr th:only-of-type {\n",
       "        vertical-align: middle;\n",
       "    }\n",
       "\n",
       "    .dataframe tbody tr th {\n",
       "        vertical-align: top;\n",
       "    }\n",
       "\n",
       "    .dataframe thead th {\n",
       "        text-align: right;\n",
       "    }\n",
       "</style>\n",
       "<table border=\"1\" class=\"dataframe\">\n",
       "  <thead>\n",
       "    <tr style=\"text-align: right;\">\n",
       "      <th></th>\n",
       "      <th>año</th>\n",
       "      <th>nombre_departamento</th>\n",
       "      <th>div_dpto</th>\n",
       "      <th>nombre_municipio</th>\n",
       "      <th>divi_muni</th>\n",
       "      <th>irca_minimo</th>\n",
       "      <th>irca_maximo</th>\n",
       "      <th>irca_promedio</th>\n",
       "      <th>nombre_parametro_analisis2</th>\n",
       "      <th>numero_parametros_promedio</th>\n",
       "      <th>rango_irca</th>\n",
       "      <th>porcentaje_muestras_tratadas</th>\n",
       "      <th>diferencia_muestras_tratadas_sin_tratar</th>\n",
       "      <th>rango_parametros_analizados</th>\n",
       "    </tr>\n",
       "  </thead>\n",
       "  <tbody>\n",
       "    <tr>\n",
       "      <th>0</th>\n",
       "      <td>2010-01-01</td>\n",
       "      <td>Bolivar</td>\n",
       "      <td>13</td>\n",
       "      <td>El Guamo</td>\n",
       "      <td>13248</td>\n",
       "      <td>0.0</td>\n",
       "      <td>100.0</td>\n",
       "      <td>37.32</td>\n",
       "      <td>Alcanilidad Total</td>\n",
       "      <td>2</td>\n",
       "      <td>No clasificado</td>\n",
       "      <td>100.0</td>\n",
       "      <td>67</td>\n",
       "      <td>5</td>\n",
       "    </tr>\n",
       "    <tr>\n",
       "      <th>1</th>\n",
       "      <td>2010-01-01</td>\n",
       "      <td>Bolivar</td>\n",
       "      <td>13</td>\n",
       "      <td>El Guamo</td>\n",
       "      <td>13248</td>\n",
       "      <td>0.0</td>\n",
       "      <td>100.0</td>\n",
       "      <td>37.32</td>\n",
       "      <td>Cromo total</td>\n",
       "      <td>2</td>\n",
       "      <td>No clasificado</td>\n",
       "      <td>100.0</td>\n",
       "      <td>67</td>\n",
       "      <td>5</td>\n",
       "    </tr>\n",
       "    <tr>\n",
       "      <th>2</th>\n",
       "      <td>2010-01-01</td>\n",
       "      <td>Bolivar</td>\n",
       "      <td>13</td>\n",
       "      <td>El Guamo</td>\n",
       "      <td>13248</td>\n",
       "      <td>0.0</td>\n",
       "      <td>100.0</td>\n",
       "      <td>37.32</td>\n",
       "      <td>Dureza total</td>\n",
       "      <td>2</td>\n",
       "      <td>No clasificado</td>\n",
       "      <td>100.0</td>\n",
       "      <td>67</td>\n",
       "      <td>5</td>\n",
       "    </tr>\n",
       "    <tr>\n",
       "      <th>3</th>\n",
       "      <td>2010-01-01</td>\n",
       "      <td>Bolivar</td>\n",
       "      <td>13</td>\n",
       "      <td>El Guamo</td>\n",
       "      <td>13248</td>\n",
       "      <td>0.0</td>\n",
       "      <td>100.0</td>\n",
       "      <td>37.32</td>\n",
       "      <td>E.coli</td>\n",
       "      <td>2</td>\n",
       "      <td>No clasificado</td>\n",
       "      <td>100.0</td>\n",
       "      <td>67</td>\n",
       "      <td>5</td>\n",
       "    </tr>\n",
       "    <tr>\n",
       "      <th>4</th>\n",
       "      <td>2010-01-01</td>\n",
       "      <td>Bolivar</td>\n",
       "      <td>13</td>\n",
       "      <td>El Guamo</td>\n",
       "      <td>13248</td>\n",
       "      <td>0.0</td>\n",
       "      <td>100.0</td>\n",
       "      <td>37.32</td>\n",
       "      <td>Fluoruros</td>\n",
       "      <td>2</td>\n",
       "      <td>No clasificado</td>\n",
       "      <td>100.0</td>\n",
       "      <td>67</td>\n",
       "      <td>5</td>\n",
       "    </tr>\n",
       "  </tbody>\n",
       "</table>\n",
       "</div>"
      ],
      "text/plain": [
       "          año nombre_departamento  div_dpto nombre_municipio  divi_muni  \\\n",
       "0  2010-01-01             Bolivar        13         El Guamo      13248   \n",
       "1  2010-01-01             Bolivar        13         El Guamo      13248   \n",
       "2  2010-01-01             Bolivar        13         El Guamo      13248   \n",
       "3  2010-01-01             Bolivar        13         El Guamo      13248   \n",
       "4  2010-01-01             Bolivar        13         El Guamo      13248   \n",
       "\n",
       "   irca_minimo  irca_maximo  irca_promedio nombre_parametro_analisis2  \\\n",
       "0          0.0        100.0          37.32          Alcanilidad Total   \n",
       "1          0.0        100.0          37.32                Cromo total   \n",
       "2          0.0        100.0          37.32               Dureza total   \n",
       "3          0.0        100.0          37.32                     E.coli   \n",
       "4          0.0        100.0          37.32                  Fluoruros   \n",
       "\n",
       "   numero_parametros_promedio      rango_irca  porcentaje_muestras_tratadas  \\\n",
       "0                           2  No clasificado                         100.0   \n",
       "1                           2  No clasificado                         100.0   \n",
       "2                           2  No clasificado                         100.0   \n",
       "3                           2  No clasificado                         100.0   \n",
       "4                           2  No clasificado                         100.0   \n",
       "\n",
       "   diferencia_muestras_tratadas_sin_tratar  rango_parametros_analizados  \n",
       "0                                       67                            5  \n",
       "1                                       67                            5  \n",
       "2                                       67                            5  \n",
       "3                                       67                            5  \n",
       "4                                       67                            5  "
      ]
     },
     "execution_count": 7,
     "metadata": {},
     "output_type": "execute_result"
    }
   ],
   "source": [
    "water.head()"
   ]
  },
  {
   "cell_type": "code",
   "execution_count": 10,
   "metadata": {},
   "outputs": [
    {
     "name": "stdout",
     "output_type": "stream",
     "text": [
      "       nombre_departamento nombre_municipio  irca_promedio\n",
      "0                  Bolivar         El Guamo          37.32\n",
      "1                  Bolivar         El Guamo          37.32\n",
      "2                  Bolivar         El Guamo          37.32\n",
      "3                  Bolivar         El Guamo          37.32\n",
      "4                  Bolivar         El Guamo          37.32\n",
      "...                    ...              ...            ...\n",
      "142765           Antioquia         Medellin           2.11\n",
      "142766           Antioquia         Medellin           2.11\n",
      "142767           Antioquia         Medellin           2.11\n",
      "142768           Antioquia         Medellin           2.11\n",
      "142769           Antioquia         Medellin           2.11\n",
      "\n",
      "[142770 rows x 3 columns]\n"
     ]
    }
   ],
   "source": [
    "tabla = water[['nombre_departamento', 'nombre_municipio', 'irca_promedio']]\n",
    "print(tabla)"
   ]
  },
  {
   "cell_type": "code",
   "execution_count": 11,
   "metadata": {},
   "outputs": [
    {
     "name": "stdout",
     "output_type": "stream",
     "text": [
      "                                  nombre_departamento  irca_promedio\n",
      "0                                            Amazonas      27.364167\n",
      "1                                           Antioquia       8.576561\n",
      "2                                              Arauca       1.967778\n",
      "3   Archipielago De San Andres, Providencia Y Sant...      24.171111\n",
      "4                                           Atlantico       9.465217\n",
      "5                                        Bogota, D.C.       7.980000\n",
      "6                                             Bolivar      39.019778\n",
      "7                                              Boyaca      30.270271\n",
      "8                                              Caldas      52.241687\n",
      "9                                             Caqueta      17.385775\n",
      "10                                           Casanare      25.332807\n",
      "11                                              Cauca      20.877709\n",
      "12                                              Cesar      25.570580\n",
      "13                                              Choco      55.492564\n",
      "14                                            Cordoba      21.128289\n",
      "15                                       Cundinamarca       9.336303\n",
      "16                                            Guainia      52.198750\n",
      "17                                           Guaviare      13.044000\n",
      "18                                              Huila      47.746937\n",
      "19                                         La Guajira      18.877712\n",
      "20                                          Magdalena      38.457519\n",
      "21                                               Meta      30.607814\n",
      "22                                             Narino      45.261955\n",
      "23                                 Norte De Santander      22.221457\n",
      "24                                           Putumayo      45.160360\n",
      "25                                            Quindio       3.447315\n",
      "26                                          Risaralda      23.235873\n",
      "27                                          Santander      16.223084\n",
      "28                                              Sucre      21.563664\n",
      "29                                             Tolima      24.101506\n",
      "30                                    Valle Del Cauca      21.414718\n",
      "31                                             Vaupes      49.185000\n",
      "32                                            Vichada      20.567714\n"
     ]
    }
   ],
   "source": [
    "tabla_irca_promedio = water.groupby('nombre_departamento')['irca_promedio'].mean().reset_index()\n",
    "\n",
    "# Imprimimos todos los resultados\n",
    "print(tabla_irca_promedio)"
   ]
  },
  {
   "cell_type": "code",
   "execution_count": 8,
   "metadata": {},
   "outputs": [],
   "source": [
    "PBI_visualize = QuickVisualize(get_dataset_config(water), auth=device_auth)"
   ]
  },
  {
   "cell_type": "code",
   "execution_count": 9,
   "metadata": {},
   "outputs": [
    {
     "data": {
      "application/vnd.jupyter.widget-view+json": {
       "model_id": "383e95eb940642d99c186fbfd93fdc09",
       "version_major": 2,
       "version_minor": 0
      },
      "text/plain": [
       "QuickVisualize()"
      ]
     },
     "execution_count": 9,
     "metadata": {},
     "output_type": "execute_result"
    }
   ],
   "source": [
    "PBI_visualize"
   ]
  },
  {
   "cell_type": "code",
   "execution_count": null,
   "metadata": {},
   "outputs": [],
   "source": [
    "group_id=\"6992ceb5-f515-4523-9dbd-74f8a6a6b474\"\n",
    "report_id=\"8c89e0db-8dc1-48b7-a068-cd1761e837ab\""
   ]
  },
  {
   "cell_type": "code",
   "execution_count": null,
   "metadata": {},
   "outputs": [],
   "source": [
    "report = Report(group_id=group_id, report_id=report_id, auth=device_auth)\n",
    "report"
   ]
  }
 ],
 "metadata": {
  "kernelspec": {
   "display_name": "Python 3",
   "language": "python",
   "name": "python3"
  },
  "language_info": {
   "codemirror_mode": {
    "name": "ipython",
    "version": 3
   },
   "file_extension": ".py",
   "mimetype": "text/x-python",
   "name": "python",
   "nbconvert_exporter": "python",
   "pygments_lexer": "ipython3",
   "version": "3.11.5"
  }
 },
 "nbformat": 4,
 "nbformat_minor": 2
}
