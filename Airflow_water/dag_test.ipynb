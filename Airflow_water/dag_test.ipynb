{
 "cells": [
  {
   "cell_type": "code",
   "execution_count": 1,
   "metadata": {},
   "outputs": [],
   "source": [
    "import pandas as pd\n",
    "import numpy as np\n",
    "from sqlalchemy import create_engine\n",
    "import json\n",
    "import psycopg2\n",
    "from sodapy import Socrata\n",
    "import re\n",
    "from transform_dag import transformations_api"
   ]
  },
  {
   "cell_type": "code",
   "execution_count": 2,
   "metadata": {},
   "outputs": [],
   "source": [
    "def read_db_water():\n",
    "    with open('db_config.json') as file:\n",
    "        db_config = json.load(file)\n",
    "\n",
    "    engine = create_engine(f'postgresql+psycopg2://{db_config[\"user\"]}:{db_config[\"password\"]}@{db_config[\"host\"]}:5433/{db_config[\"dbname\"]}')\n",
    "\n",
    "    water = pd.read_sql('SELECT * FROM water_table', engine)\n",
    "    \n",
    "    \n",
    "    return water"
   ]
  },
  {
   "cell_type": "code",
   "execution_count": 3,
   "metadata": {},
   "outputs": [
    {
     "name": "stdout",
     "output_type": "stream",
     "text": [
      "          Año NombreDepartamento  Div_dpto NombreMunicipio  Divi_muni  \\\n",
      "0  2010-01-01            Bolívar        13        El Guamo      13248   \n",
      "1  2010-01-01            Bolívar        13        El Guamo      13248   \n",
      "2  2010-01-01            Bolívar        13        El Guamo      13248   \n",
      "3  2010-01-01            Bolívar        13        El Guamo      13248   \n",
      "4  2010-01-01            Bolívar        13        El Guamo      13248   \n",
      "\n",
      "   IrcaMinimo  IrcaMaximo  IrcaPromedio NombreParametroAnalisis2  \\\n",
      "0         0.0       100.0         37.32        Alcanilidad Total   \n",
      "1         0.0       100.0         37.32                 Aluminio   \n",
      "2         0.0       100.0         37.32                 Arsénico   \n",
      "3         0.0       100.0         37.32                   Cadmio   \n",
      "4         0.0       100.0         37.32                   Calcio   \n",
      "\n",
      "   MuestrasEvaluadas  MuestrasTratadas  MuestrasSinTratar  \\\n",
      "0                 67                67                  0   \n",
      "1                 67                67                  0   \n",
      "2                 67                67                  0   \n",
      "3                 67                67                  0   \n",
      "4                 67                67                  0   \n",
      "\n",
      "   NumeroParametrosMinimo  NumeroParametrosMaximo  NumeroParametrosPromedio  \\\n",
      "0                       2                       7                         2   \n",
      "1                       2                       7                         2   \n",
      "2                       2                       7                         2   \n",
      "3                       2                       7                         2   \n",
      "4                       2                       7                         2   \n",
      "\n",
      "   ResultadoMinimo  ResultadoMaximo  ResultadoPromedio  \n",
      "0             23.0             23.0               23.0  \n",
      "1              NaN              NaN                NaN  \n",
      "2              NaN              NaN                NaN  \n",
      "3              NaN              NaN                NaN  \n",
      "4             14.0             14.0               14.0  \n"
     ]
    }
   ],
   "source": [
    "water =read_db_water()\n",
    "print(water.head())"
   ]
  },
  {
   "cell_type": "code",
   "execution_count": 3,
   "metadata": {},
   "outputs": [
    {
     "name": "stderr",
     "output_type": "stream",
     "text": [
      "2024-05-18 11:01:26,801 - INFO - Starting transformations on water data.\n",
      "2024-05-18 11:01:26,865 - INFO - Renombrar columnas water successfully.\n",
      "2024-05-18 11:01:26,945 - INFO - Dates converted successfully.\n"
     ]
    },
    {
     "name": "stdout",
     "output_type": "stream",
     "text": [
      "Columnas después de renombrar_columnas_water: Index(['Año', 'nombre_departamento', 'Div_dpto', 'nombre_municipio',\n",
      "       'Divi_muni', 'IrcaMinimo', 'IrcaMaximo', 'irca_promedio',\n",
      "       'nombre_parametro_analisis', 'MuestrasEvaluadas', 'MuestrasTratadas',\n",
      "       'MuestrasSinTratar', 'NumeroParametrosMinimo', 'NumeroParametrosMaximo',\n",
      "       'numero_parametros_promedio', 'ResultadoMinimo', 'ResultadoMaximo',\n",
      "       'ResultadoPromedio'],\n",
      "      dtype='object')\n",
      "Columnas después de dates_water: Index(['Año', 'nombre_departamento', 'Div_dpto', 'nombre_municipio',\n",
      "       'Divi_muni', 'IrcaMinimo', 'IrcaMaximo', 'irca_promedio',\n",
      "       'nombre_parametro_analisis', 'MuestrasEvaluadas', 'MuestrasTratadas',\n",
      "       'MuestrasSinTratar', 'NumeroParametrosMinimo', 'NumeroParametrosMaximo',\n",
      "       'numero_parametros_promedio', 'ResultadoMinimo', 'ResultadoMaximo',\n",
      "       'ResultadoPromedio'],\n",
      "      dtype='object')\n"
     ]
    },
    {
     "name": "stderr",
     "output_type": "stream",
     "text": [
      "2024-05-18 11:01:27,577 - INFO - Normalize text columns water successfully.\n",
      "2024-05-18 11:01:27,648 - INFO - Scaled numerical columns.\n",
      "2024-05-18 11:01:27,716 - INFO - Filtered top influential parameters.\n"
     ]
    },
    {
     "name": "stdout",
     "output_type": "stream",
     "text": [
      "Columnas después de normalize_text_columns_water: Index(['Año', 'nombre_departamento', 'Div_dpto', 'nombre_municipio',\n",
      "       'Divi_muni', 'IrcaMinimo', 'IrcaMaximo', 'irca_promedio',\n",
      "       'nombre_parametro_analisis', 'MuestrasEvaluadas', 'MuestrasTratadas',\n",
      "       'MuestrasSinTratar', 'NumeroParametrosMinimo', 'NumeroParametrosMaximo',\n",
      "       'numero_parametros_promedio', 'ResultadoMinimo', 'ResultadoMaximo',\n",
      "       'ResultadoPromedio'],\n",
      "      dtype='object')\n",
      "Columnas después de scale_columns: Index(['Año', 'nombre_departamento', 'Div_dpto', 'nombre_municipio',\n",
      "       'Divi_muni', 'IrcaMinimo', 'IrcaMaximo', 'irca_promedio',\n",
      "       'nombre_parametro_analisis', 'MuestrasEvaluadas', 'MuestrasTratadas',\n",
      "       'MuestrasSinTratar', 'NumeroParametrosMinimo', 'NumeroParametrosMaximo',\n",
      "       'numero_parametros_promedio', 'ResultadoMinimo', 'ResultadoMaximo',\n",
      "       'ResultadoPromedio'],\n",
      "      dtype='object')\n",
      "Columnas después de filter_top_parameters: Index(['Año', 'nombre_departamento', 'Div_dpto', 'nombre_municipio',\n",
      "       'Divi_muni', 'IrcaMinimo', 'IrcaMaximo', 'irca_promedio',\n",
      "       'nombre_parametro_analisis', 'MuestrasEvaluadas', 'MuestrasTratadas',\n",
      "       'MuestrasSinTratar', 'NumeroParametrosMinimo', 'NumeroParametrosMaximo',\n",
      "       'numero_parametros_promedio', 'ResultadoMinimo', 'ResultadoMaximo',\n",
      "       'ResultadoPromedio', 'is_top_20'],\n",
      "      dtype='object')\n"
     ]
    },
    {
     "name": "stderr",
     "output_type": "stream",
     "text": [
      "2024-05-18 11:01:27,848 - INFO - Classified IRCA values into categories.\n"
     ]
    },
    {
     "name": "stdout",
     "output_type": "stream",
     "text": [
      "Columnas después de classify_irca: Index(['Año', 'nombre_departamento', 'Div_dpto', 'nombre_municipio',\n",
      "       'Divi_muni', 'IrcaMinimo', 'IrcaMaximo', 'irca_promedio',\n",
      "       'nombre_parametro_analisis', 'MuestrasEvaluadas', 'MuestrasTratadas',\n",
      "       'MuestrasSinTratar', 'NumeroParametrosMinimo', 'NumeroParametrosMaximo',\n",
      "       'numero_parametros_promedio', 'ResultadoMinimo', 'ResultadoMaximo',\n",
      "       'ResultadoPromedio', 'is_top_20', 'rango_irca'],\n",
      "      dtype='object')\n"
     ]
    },
    {
     "name": "stderr",
     "output_type": "stream",
     "text": [
      "2024-05-18 11:01:32,367 - INFO - Categorized treatment data.\n"
     ]
    },
    {
     "name": "stdout",
     "output_type": "stream",
     "text": [
      "Columnas después de categorize_treatment: Index(['Año', 'nombre_departamento', 'Div_dpto', 'nombre_municipio',\n",
      "       'Divi_muni', 'IrcaMinimo', 'IrcaMaximo', 'irca_promedio',\n",
      "       'nombre_parametro_analisis', 'MuestrasEvaluadas', 'MuestrasTratadas',\n",
      "       'MuestrasSinTratar', 'NumeroParametrosMinimo', 'NumeroParametrosMaximo',\n",
      "       'numero_parametros_promedio', 'ResultadoMinimo', 'ResultadoMaximo',\n",
      "       'ResultadoPromedio', 'is_top_20', 'rango_irca',\n",
      "       'tratamiento_categoria'],\n",
      "      dtype='object')\n"
     ]
    },
    {
     "name": "stderr",
     "output_type": "stream",
     "text": [
      "2024-05-18 11:01:38,512 - INFO - Calculated critical proportion.\n",
      "2024-05-18 11:01:38,601 - INFO - Dropped unnecessary columns.\n",
      "2024-05-18 11:01:38,604 - INFO - All transformations applied successfully.\n"
     ]
    },
    {
     "name": "stdout",
     "output_type": "stream",
     "text": [
      "Columnas después de calculate_critical_proportion: Index(['Año', 'nombre_departamento', 'Div_dpto', 'nombre_municipio',\n",
      "       'Divi_muni', 'IrcaMinimo', 'IrcaMaximo', 'irca_promedio',\n",
      "       'nombre_parametro_analisis', 'MuestrasEvaluadas', 'MuestrasTratadas',\n",
      "       'MuestrasSinTratar', 'NumeroParametrosMinimo', 'NumeroParametrosMaximo',\n",
      "       'numero_parametros_promedio', 'ResultadoMinimo', 'ResultadoMaximo',\n",
      "       'ResultadoPromedio', 'is_top_20', 'rango_irca', 'tratamiento_categoria',\n",
      "       'proporción_crítica'],\n",
      "      dtype='object')\n",
      "Columnas después de drop_unnecessary_columns_water: Index(['Año', 'nombre_departamento', 'Div_dpto', 'nombre_municipio',\n",
      "       'Divi_muni', 'irca_promedio', 'nombre_parametro_analisis',\n",
      "       'numero_parametros_promedio', 'is_top_20', 'rango_irca',\n",
      "       'tratamiento_categoria', 'proporción_crítica'],\n",
      "      dtype='object')\n",
      "<class 'pandas.core.frame.DataFrame'>\n",
      "RangeIndex: 408311 entries, 0 to 408310\n",
      "Data columns (total 12 columns):\n",
      " #   Column                      Non-Null Count   Dtype         \n",
      "---  ------                      --------------   -----         \n",
      " 0   Año                         408311 non-null  datetime64[ns]\n",
      " 1   nombre_departamento         408311 non-null  object        \n",
      " 2   Div_dpto                    408311 non-null  int64         \n",
      " 3   nombre_municipio            408311 non-null  object        \n",
      " 4   Divi_muni                   408311 non-null  int64         \n",
      " 5   irca_promedio               408311 non-null  float64       \n",
      " 6   nombre_parametro_analisis   408311 non-null  object        \n",
      " 7   numero_parametros_promedio  408311 non-null  int64         \n",
      " 8   is_top_20                   408311 non-null  bool          \n",
      " 9   rango_irca                  408311 non-null  object        \n",
      " 10  tratamiento_categoria       408311 non-null  object        \n",
      " 11  proporción_crítica          408311 non-null  float64       \n",
      "dtypes: bool(1), datetime64[ns](1), float64(2), int64(3), object(5)\n",
      "memory usage: 34.7+ MB\n",
      "None\n",
      "         Año nombre_departamento  Div_dpto nombre_municipio  Divi_muni  \\\n",
      "0 2010-01-01             bolívar        13         el guamo      13248   \n",
      "1 2010-01-01             bolívar        13         el guamo      13248   \n",
      "2 2010-01-01             bolívar        13         el guamo      13248   \n",
      "3 2010-01-01             bolívar        13         el guamo      13248   \n",
      "4 2010-01-01             bolívar        13         el guamo      13248   \n",
      "\n",
      "   irca_promedio nombre_parametro_analisis  numero_parametros_promedio  \\\n",
      "0          37.32         alcanilidad total                           2   \n",
      "1          37.32                  aluminio                           2   \n",
      "2          37.32                  arsénico                           2   \n",
      "3          37.32                    cadmio                           2   \n",
      "4          37.32                    calcio                           2   \n",
      "\n",
      "   is_top_20   rango_irca tratamiento_categoria  proporción_crítica  \n",
      "0       True  Riesgo alto   Tratamiento parcial                 0.5  \n",
      "1       True  Riesgo alto   Tratamiento parcial                 0.5  \n",
      "2      False  Riesgo alto   Tratamiento parcial                 0.5  \n",
      "3      False  Riesgo alto   Tratamiento parcial                 0.5  \n",
      "4      False  Riesgo alto   Tratamiento parcial                 0.5  \n"
     ]
    }
   ],
   "source": [
    "from transform_dag import transformations_water\n",
    "\n",
    "def transform_water():\n",
    "    \n",
    "    water = read_db_water()\n",
    "    \n",
    "    water = transformations_water(water)\n",
    "    \n",
    "    print(water.info())\n",
    "    print(water.head())\n",
    "\n",
    "# Llamar a la función principal para procesar los datos\n",
    "transform_water()\n",
    "\n"
   ]
  },
  {
   "cell_type": "code",
   "execution_count": 4,
   "metadata": {},
   "outputs": [],
   "source": [
    "def extract_api(endpoint):\n",
    "    try:\n",
    "        # Inicializa el cliente de Socrata sin token de aplicación\n",
    "        client = Socrata(\"www.datos.gov.co\", None)\n",
    "\n",
    "        # Obtiene los datos desde el endpoint especificado\n",
    "        results = client.get(endpoint, limit=2000)\n",
    "\n",
    "        # Convierte los resultados en un DataFrame\n",
    "        api = pd.DataFrame.from_records(results)\n",
    "\n",
    "        return api\n",
    "    except Exception as e:\n",
    "        print(f\"Se produjo un error: {e}\")"
   ]
  },
  {
   "cell_type": "code",
   "execution_count": 5,
   "metadata": {},
   "outputs": [
    {
     "name": "stderr",
     "output_type": "stream",
     "text": [
      "2024-05-17 21:46:04,100 - WARNING - Requests made without an app_token will be subject to strict throttling limits.\n"
     ]
    },
    {
     "name": "stdout",
     "output_type": "stream",
     "text": [
      "  fecha_terminacion_proyecto           fecha_de_corte  \\\n",
      "0    2018-12-31T00:00:00.000  2024-04-04T00:00:00.000   \n",
      "1    2018-10-16T00:00:00.000  2024-04-04T00:00:00.000   \n",
      "2    2018-10-08T00:00:00.000  2024-04-04T00:00:00.000   \n",
      "3    2019-06-01T00:00:00.000  2024-04-04T00:00:00.000   \n",
      "4    2019-02-12T00:00:00.000  2024-04-04T00:00:00.000   \n",
      "\n",
      "  c_digo_divipola_departamento departamento c_digo_divipola_municipio  \\\n",
      "0                           18      CAQUETA       18029, 18205, 18610   \n",
      "1                           15       BOYACA                     15693   \n",
      "2                           17       CALDAS                     17050   \n",
      "3                           17       CALDAS                     17446   \n",
      "4                           05    ANTIOQUIA                      5250   \n",
      "\n",
      "                                           municipio  \\\n",
      "0  Albania(CAQ), Curillo(CAQ), San Jose De Fragua...   \n",
      "1                         Santa Rosa De Viterbo(BOY)   \n",
      "2                                      Aranzazu(CAL)   \n",
      "3                                     Marulanda(CAL)   \n",
      "4                                      El Bagre(ANT)   \n",
      "\n",
      "                                           indicador  \\\n",
      "0       Nueva Población Beneficiada Acueducto Urbano   \n",
      "1       Nueva Población Beneficiada Acueducto Urbano   \n",
      "2  Nueva Población Beneficiada Alcantarillado Urbano   \n",
      "3        Nueva Población Beneficiada Acueducto Rural   \n",
      "4       Nueva Población Beneficiada Acueducto Urbano   \n",
      "\n",
      "                                     nombre_proyecto origen aporte_nacion  \\\n",
      "0  CONSTRUCCION SISTEMA DE ACUEDUCTO REGIONAL PAR...    PDA   12110573518   \n",
      "1  CONSTRUCCION RED DE CONDUCCION, REDES DE DISTR...    PDA     557345219   \n",
      "2  OPTIMIZACION SISTEMAS DE ACUEDUCTO Y ALCANTARI...    PDA     491820256   \n",
      "3  MEJORAMIENTO SISTEMA DE ACUEDUCTO EN EL CORREG...    PDA     286128295   \n",
      "4  CONSTRUCCION DEL PLAN MAESTRO DE ACUEDUCTO URB...    PDA             0   \n",
      "\n",
      "  contrapartida estado_seguimiento  \n",
      "0     953340488     En Liquidación  \n",
      "1    2236932650     En Liquidación  \n",
      "2     664819896          Terminado  \n",
      "3     540512429          Terminado  \n",
      "4    4773790842          Liquidado  \n"
     ]
    }
   ],
   "source": [
    "api = extract_api(\"tcwu-r53g\")\n",
    "print(api.head())"
   ]
  },
  {
   "cell_type": "code",
   "execution_count": 5,
   "metadata": {},
   "outputs": [
    {
     "name": "stderr",
     "output_type": "stream",
     "text": [
      "2024-05-18 11:02:56,858 - WARNING - Requests made without an app_token will be subject to strict throttling limits.\n",
      "2024-05-18 11:03:09,377 - INFO - Starting transformations on API data.\n",
      "2024-05-18 11:03:09,380 - INFO - Elimination of parentheses within municipalities successfully.\n",
      "2024-05-18 11:03:09,394 - INFO - Separates records with multiple municipalities into individual rows successfully.\n",
      "2024-05-18 11:03:09,397 - INFO - Elimination of extra spaces and capitalization of each municipality name successful.\n",
      "2024-05-18 11:03:09,412 - INFO - Text columns normalized successfully.\n",
      "2024-05-18 11:03:09,414 - INFO -  Standardized place names API successful.\n",
      "2024-05-18 11:03:09,416 - INFO - Number of municipalities computed successfully.\n",
      "2024-05-18 11:03:09,424 - INFO - Regions mapped successfully.\n",
      "2024-05-18 11:03:09,427 - INFO - Project financing calculated successfully.\n"
     ]
    },
    {
     "ename": "TypeError",
     "evalue": "unsupported operand type(s) for -: 'str' and 'str'",
     "output_type": "error",
     "traceback": [
      "\u001b[1;31m---------------------------------------------------------------------------\u001b[0m",
      "\u001b[1;31mTypeError\u001b[0m                                 Traceback (most recent call last)",
      "File \u001b[1;32mc:\\Users\\JSLV3\\AppData\\Local\\Programs\\Python\\Python312\\Lib\\site-packages\\pandas\\core\\ops\\array_ops.py:218\u001b[0m, in \u001b[0;36m_na_arithmetic_op\u001b[1;34m(left, right, op, is_cmp)\u001b[0m\n\u001b[0;32m    217\u001b[0m \u001b[38;5;28;01mtry\u001b[39;00m:\n\u001b[1;32m--> 218\u001b[0m     result \u001b[38;5;241m=\u001b[39m \u001b[43mfunc\u001b[49m\u001b[43m(\u001b[49m\u001b[43mleft\u001b[49m\u001b[43m,\u001b[49m\u001b[43m \u001b[49m\u001b[43mright\u001b[49m\u001b[43m)\u001b[49m\n\u001b[0;32m    219\u001b[0m \u001b[38;5;28;01mexcept\u001b[39;00m \u001b[38;5;167;01mTypeError\u001b[39;00m:\n",
      "File \u001b[1;32mc:\\Users\\JSLV3\\AppData\\Local\\Programs\\Python\\Python312\\Lib\\site-packages\\pandas\\core\\computation\\expressions.py:242\u001b[0m, in \u001b[0;36mevaluate\u001b[1;34m(op, a, b, use_numexpr)\u001b[0m\n\u001b[0;32m    240\u001b[0m     \u001b[38;5;28;01mif\u001b[39;00m use_numexpr:\n\u001b[0;32m    241\u001b[0m         \u001b[38;5;66;03m# error: \"None\" not callable\u001b[39;00m\n\u001b[1;32m--> 242\u001b[0m         \u001b[38;5;28;01mreturn\u001b[39;00m \u001b[43m_evaluate\u001b[49m\u001b[43m(\u001b[49m\u001b[43mop\u001b[49m\u001b[43m,\u001b[49m\u001b[43m \u001b[49m\u001b[43mop_str\u001b[49m\u001b[43m,\u001b[49m\u001b[43m \u001b[49m\u001b[43ma\u001b[49m\u001b[43m,\u001b[49m\u001b[43m \u001b[49m\u001b[43mb\u001b[49m\u001b[43m)\u001b[49m  \u001b[38;5;66;03m# type: ignore[misc]\u001b[39;00m\n\u001b[0;32m    243\u001b[0m \u001b[38;5;28;01mreturn\u001b[39;00m _evaluate_standard(op, op_str, a, b)\n",
      "File \u001b[1;32mc:\\Users\\JSLV3\\AppData\\Local\\Programs\\Python\\Python312\\Lib\\site-packages\\pandas\\core\\computation\\expressions.py:73\u001b[0m, in \u001b[0;36m_evaluate_standard\u001b[1;34m(op, op_str, a, b)\u001b[0m\n\u001b[0;32m     72\u001b[0m     _store_test_result(\u001b[38;5;28;01mFalse\u001b[39;00m)\n\u001b[1;32m---> 73\u001b[0m \u001b[38;5;28;01mreturn\u001b[39;00m \u001b[43mop\u001b[49m\u001b[43m(\u001b[49m\u001b[43ma\u001b[49m\u001b[43m,\u001b[49m\u001b[43m \u001b[49m\u001b[43mb\u001b[49m\u001b[43m)\u001b[49m\n",
      "\u001b[1;31mTypeError\u001b[0m: unsupported operand type(s) for -: 'str' and 'str'",
      "\nDuring handling of the above exception, another exception occurred:\n",
      "\u001b[1;31mTypeError\u001b[0m                                 Traceback (most recent call last)",
      "Cell \u001b[1;32mIn[5], line 12\u001b[0m\n\u001b[0;32m      8\u001b[0m     api \u001b[38;5;241m=\u001b[39m transformations_api(api)\n\u001b[0;32m     10\u001b[0m     \u001b[38;5;28mprint\u001b[39m(api\u001b[38;5;241m.\u001b[39mhead())\n\u001b[1;32m---> 12\u001b[0m \u001b[43mtransform_api\u001b[49m\u001b[43m(\u001b[49m\u001b[43m)\u001b[49m\n",
      "Cell \u001b[1;32mIn[5], line 8\u001b[0m, in \u001b[0;36mtransform_api\u001b[1;34m()\u001b[0m\n\u001b[0;32m      4\u001b[0m pd\u001b[38;5;241m.\u001b[39mset_option(\u001b[38;5;124m'\u001b[39m\u001b[38;5;124mdisplay.max_rows\u001b[39m\u001b[38;5;124m'\u001b[39m, \u001b[38;5;28;01mNone\u001b[39;00m)  \u001b[38;5;66;03m# Ninguna limitación en el número de filas a mostrar\u001b[39;00m\n\u001b[0;32m      6\u001b[0m api \u001b[38;5;241m=\u001b[39m extract_api(\u001b[38;5;124m\"\u001b[39m\u001b[38;5;124mtcwu-r53g\u001b[39m\u001b[38;5;124m\"\u001b[39m)\n\u001b[1;32m----> 8\u001b[0m api \u001b[38;5;241m=\u001b[39m \u001b[43mtransformations_api\u001b[49m\u001b[43m(\u001b[49m\u001b[43mapi\u001b[49m\u001b[43m)\u001b[49m\n\u001b[0;32m     10\u001b[0m \u001b[38;5;28mprint\u001b[39m(api\u001b[38;5;241m.\u001b[39mhead())\n",
      "File \u001b[1;32mc:\\Users\\JSLV3\\Documents\\5to Semestre\\ETL\\Proyecto Water Quality\\ETL-Proyect\\Airflow_water\\transform_dag.py:265\u001b[0m, in \u001b[0;36mtransformations_api\u001b[1;34m(api)\u001b[0m\n\u001b[0;32m    262\u001b[0m api \u001b[38;5;241m=\u001b[39m calculate_financing(api)\n\u001b[0;32m    263\u001b[0m logging\u001b[38;5;241m.\u001b[39minfo(\u001b[38;5;124m\"\u001b[39m\u001b[38;5;124mProject financing calculated successfully.\u001b[39m\u001b[38;5;124m\"\u001b[39m)\n\u001b[1;32m--> 265\u001b[0m api \u001b[38;5;241m=\u001b[39m \u001b[43mcalculate_project_duration\u001b[49m\u001b[43m(\u001b[49m\u001b[43mapi\u001b[49m\u001b[43m)\u001b[49m\n\u001b[0;32m    266\u001b[0m logging\u001b[38;5;241m.\u001b[39minfo(\u001b[38;5;124m\"\u001b[39m\u001b[38;5;124mProject duration calculated successfully.\u001b[39m\u001b[38;5;124m\"\u001b[39m)\n\u001b[0;32m    268\u001b[0m api \u001b[38;5;241m=\u001b[39m drop_unnecessary_columns(api)\n",
      "File \u001b[1;32mc:\\Users\\JSLV3\\Documents\\5to Semestre\\ETL\\Proyecto Water Quality\\ETL-Proyect\\Airflow_water\\transform_dag.py:229\u001b[0m, in \u001b[0;36mcalculate_project_duration\u001b[1;34m(api)\u001b[0m\n\u001b[0;32m    228\u001b[0m \u001b[38;5;28;01mdef\u001b[39;00m \u001b[38;5;21mcalculate_project_duration\u001b[39m(api):\n\u001b[1;32m--> 229\u001b[0m     api[\u001b[38;5;124m'\u001b[39m\u001b[38;5;124mduracion_proyecto_dias\u001b[39m\u001b[38;5;124m'\u001b[39m] \u001b[38;5;241m=\u001b[39m (\u001b[43mapi\u001b[49m\u001b[43m[\u001b[49m\u001b[38;5;124;43m'\u001b[39;49m\u001b[38;5;124;43mfecha_de_corte\u001b[39;49m\u001b[38;5;124;43m'\u001b[39;49m\u001b[43m]\u001b[49m\u001b[43m \u001b[49m\u001b[38;5;241;43m-\u001b[39;49m\u001b[43m \u001b[49m\u001b[43mapi\u001b[49m\u001b[43m[\u001b[49m\u001b[38;5;124;43m'\u001b[39;49m\u001b[38;5;124;43mfecha_terminacion_proyecto\u001b[39;49m\u001b[38;5;124;43m'\u001b[39;49m\u001b[43m]\u001b[49m)\u001b[38;5;241m.\u001b[39mdt\u001b[38;5;241m.\u001b[39mdays\n\u001b[0;32m    230\u001b[0m     \u001b[38;5;28;01mreturn\u001b[39;00m api\n",
      "File \u001b[1;32mc:\\Users\\JSLV3\\AppData\\Local\\Programs\\Python\\Python312\\Lib\\site-packages\\pandas\\core\\ops\\common.py:76\u001b[0m, in \u001b[0;36m_unpack_zerodim_and_defer.<locals>.new_method\u001b[1;34m(self, other)\u001b[0m\n\u001b[0;32m     72\u001b[0m             \u001b[38;5;28;01mreturn\u001b[39;00m \u001b[38;5;28mNotImplemented\u001b[39m\n\u001b[0;32m     74\u001b[0m other \u001b[38;5;241m=\u001b[39m item_from_zerodim(other)\n\u001b[1;32m---> 76\u001b[0m \u001b[38;5;28;01mreturn\u001b[39;00m \u001b[43mmethod\u001b[49m\u001b[43m(\u001b[49m\u001b[38;5;28;43mself\u001b[39;49m\u001b[43m,\u001b[49m\u001b[43m \u001b[49m\u001b[43mother\u001b[49m\u001b[43m)\u001b[49m\n",
      "File \u001b[1;32mc:\\Users\\JSLV3\\AppData\\Local\\Programs\\Python\\Python312\\Lib\\site-packages\\pandas\\core\\arraylike.py:194\u001b[0m, in \u001b[0;36mOpsMixin.__sub__\u001b[1;34m(self, other)\u001b[0m\n\u001b[0;32m    192\u001b[0m \u001b[38;5;129m@unpack_zerodim_and_defer\u001b[39m(\u001b[38;5;124m\"\u001b[39m\u001b[38;5;124m__sub__\u001b[39m\u001b[38;5;124m\"\u001b[39m)\n\u001b[0;32m    193\u001b[0m \u001b[38;5;28;01mdef\u001b[39;00m \u001b[38;5;21m__sub__\u001b[39m(\u001b[38;5;28mself\u001b[39m, other):\n\u001b[1;32m--> 194\u001b[0m     \u001b[38;5;28;01mreturn\u001b[39;00m \u001b[38;5;28;43mself\u001b[39;49m\u001b[38;5;241;43m.\u001b[39;49m\u001b[43m_arith_method\u001b[49m\u001b[43m(\u001b[49m\u001b[43mother\u001b[49m\u001b[43m,\u001b[49m\u001b[43m \u001b[49m\u001b[43moperator\u001b[49m\u001b[38;5;241;43m.\u001b[39;49m\u001b[43msub\u001b[49m\u001b[43m)\u001b[49m\n",
      "File \u001b[1;32mc:\\Users\\JSLV3\\AppData\\Local\\Programs\\Python\\Python312\\Lib\\site-packages\\pandas\\core\\series.py:6126\u001b[0m, in \u001b[0;36mSeries._arith_method\u001b[1;34m(self, other, op)\u001b[0m\n\u001b[0;32m   6124\u001b[0m \u001b[38;5;28;01mdef\u001b[39;00m \u001b[38;5;21m_arith_method\u001b[39m(\u001b[38;5;28mself\u001b[39m, other, op):\n\u001b[0;32m   6125\u001b[0m     \u001b[38;5;28mself\u001b[39m, other \u001b[38;5;241m=\u001b[39m \u001b[38;5;28mself\u001b[39m\u001b[38;5;241m.\u001b[39m_align_for_op(other)\n\u001b[1;32m-> 6126\u001b[0m     \u001b[38;5;28;01mreturn\u001b[39;00m \u001b[43mbase\u001b[49m\u001b[38;5;241;43m.\u001b[39;49m\u001b[43mIndexOpsMixin\u001b[49m\u001b[38;5;241;43m.\u001b[39;49m\u001b[43m_arith_method\u001b[49m\u001b[43m(\u001b[49m\u001b[38;5;28;43mself\u001b[39;49m\u001b[43m,\u001b[49m\u001b[43m \u001b[49m\u001b[43mother\u001b[49m\u001b[43m,\u001b[49m\u001b[43m \u001b[49m\u001b[43mop\u001b[49m\u001b[43m)\u001b[49m\n",
      "File \u001b[1;32mc:\\Users\\JSLV3\\AppData\\Local\\Programs\\Python\\Python312\\Lib\\site-packages\\pandas\\core\\base.py:1382\u001b[0m, in \u001b[0;36mIndexOpsMixin._arith_method\u001b[1;34m(self, other, op)\u001b[0m\n\u001b[0;32m   1379\u001b[0m     rvalues \u001b[38;5;241m=\u001b[39m np\u001b[38;5;241m.\u001b[39marange(rvalues\u001b[38;5;241m.\u001b[39mstart, rvalues\u001b[38;5;241m.\u001b[39mstop, rvalues\u001b[38;5;241m.\u001b[39mstep)\n\u001b[0;32m   1381\u001b[0m \u001b[38;5;28;01mwith\u001b[39;00m np\u001b[38;5;241m.\u001b[39merrstate(\u001b[38;5;28mall\u001b[39m\u001b[38;5;241m=\u001b[39m\u001b[38;5;124m\"\u001b[39m\u001b[38;5;124mignore\u001b[39m\u001b[38;5;124m\"\u001b[39m):\n\u001b[1;32m-> 1382\u001b[0m     result \u001b[38;5;241m=\u001b[39m \u001b[43mops\u001b[49m\u001b[38;5;241;43m.\u001b[39;49m\u001b[43marithmetic_op\u001b[49m\u001b[43m(\u001b[49m\u001b[43mlvalues\u001b[49m\u001b[43m,\u001b[49m\u001b[43m \u001b[49m\u001b[43mrvalues\u001b[49m\u001b[43m,\u001b[49m\u001b[43m \u001b[49m\u001b[43mop\u001b[49m\u001b[43m)\u001b[49m\n\u001b[0;32m   1384\u001b[0m \u001b[38;5;28;01mreturn\u001b[39;00m \u001b[38;5;28mself\u001b[39m\u001b[38;5;241m.\u001b[39m_construct_result(result, name\u001b[38;5;241m=\u001b[39mres_name)\n",
      "File \u001b[1;32mc:\\Users\\JSLV3\\AppData\\Local\\Programs\\Python\\Python312\\Lib\\site-packages\\pandas\\core\\ops\\array_ops.py:283\u001b[0m, in \u001b[0;36marithmetic_op\u001b[1;34m(left, right, op)\u001b[0m\n\u001b[0;32m    279\u001b[0m     _bool_arith_check(op, left, right)  \u001b[38;5;66;03m# type: ignore[arg-type]\u001b[39;00m\n\u001b[0;32m    281\u001b[0m     \u001b[38;5;66;03m# error: Argument 1 to \"_na_arithmetic_op\" has incompatible type\u001b[39;00m\n\u001b[0;32m    282\u001b[0m     \u001b[38;5;66;03m# \"Union[ExtensionArray, ndarray[Any, Any]]\"; expected \"ndarray[Any, Any]\"\u001b[39;00m\n\u001b[1;32m--> 283\u001b[0m     res_values \u001b[38;5;241m=\u001b[39m \u001b[43m_na_arithmetic_op\u001b[49m\u001b[43m(\u001b[49m\u001b[43mleft\u001b[49m\u001b[43m,\u001b[49m\u001b[43m \u001b[49m\u001b[43mright\u001b[49m\u001b[43m,\u001b[49m\u001b[43m \u001b[49m\u001b[43mop\u001b[49m\u001b[43m)\u001b[49m  \u001b[38;5;66;03m# type: ignore[arg-type]\u001b[39;00m\n\u001b[0;32m    285\u001b[0m \u001b[38;5;28;01mreturn\u001b[39;00m res_values\n",
      "File \u001b[1;32mc:\\Users\\JSLV3\\AppData\\Local\\Programs\\Python\\Python312\\Lib\\site-packages\\pandas\\core\\ops\\array_ops.py:227\u001b[0m, in \u001b[0;36m_na_arithmetic_op\u001b[1;34m(left, right, op, is_cmp)\u001b[0m\n\u001b[0;32m    219\u001b[0m \u001b[38;5;28;01mexcept\u001b[39;00m \u001b[38;5;167;01mTypeError\u001b[39;00m:\n\u001b[0;32m    220\u001b[0m     \u001b[38;5;28;01mif\u001b[39;00m \u001b[38;5;129;01mnot\u001b[39;00m is_cmp \u001b[38;5;129;01mand\u001b[39;00m (\n\u001b[0;32m    221\u001b[0m         left\u001b[38;5;241m.\u001b[39mdtype \u001b[38;5;241m==\u001b[39m \u001b[38;5;28mobject\u001b[39m \u001b[38;5;129;01mor\u001b[39;00m \u001b[38;5;28mgetattr\u001b[39m(right, \u001b[38;5;124m\"\u001b[39m\u001b[38;5;124mdtype\u001b[39m\u001b[38;5;124m\"\u001b[39m, \u001b[38;5;28;01mNone\u001b[39;00m) \u001b[38;5;241m==\u001b[39m \u001b[38;5;28mobject\u001b[39m\n\u001b[0;32m    222\u001b[0m     ):\n\u001b[1;32m   (...)\u001b[0m\n\u001b[0;32m    225\u001b[0m         \u001b[38;5;66;03m# Don't do this for comparisons, as that will handle complex numbers\u001b[39;00m\n\u001b[0;32m    226\u001b[0m         \u001b[38;5;66;03m#  incorrectly, see GH#32047\u001b[39;00m\n\u001b[1;32m--> 227\u001b[0m         result \u001b[38;5;241m=\u001b[39m \u001b[43m_masked_arith_op\u001b[49m\u001b[43m(\u001b[49m\u001b[43mleft\u001b[49m\u001b[43m,\u001b[49m\u001b[43m \u001b[49m\u001b[43mright\u001b[49m\u001b[43m,\u001b[49m\u001b[43m \u001b[49m\u001b[43mop\u001b[49m\u001b[43m)\u001b[49m\n\u001b[0;32m    228\u001b[0m     \u001b[38;5;28;01melse\u001b[39;00m:\n\u001b[0;32m    229\u001b[0m         \u001b[38;5;28;01mraise\u001b[39;00m\n",
      "File \u001b[1;32mc:\\Users\\JSLV3\\AppData\\Local\\Programs\\Python\\Python312\\Lib\\site-packages\\pandas\\core\\ops\\array_ops.py:163\u001b[0m, in \u001b[0;36m_masked_arith_op\u001b[1;34m(x, y, op)\u001b[0m\n\u001b[0;32m    161\u001b[0m     \u001b[38;5;66;03m# See GH#5284, GH#5035, GH#19448 for historical reference\u001b[39;00m\n\u001b[0;32m    162\u001b[0m     \u001b[38;5;28;01mif\u001b[39;00m mask\u001b[38;5;241m.\u001b[39many():\n\u001b[1;32m--> 163\u001b[0m         result[mask] \u001b[38;5;241m=\u001b[39m \u001b[43mop\u001b[49m\u001b[43m(\u001b[49m\u001b[43mxrav\u001b[49m\u001b[43m[\u001b[49m\u001b[43mmask\u001b[49m\u001b[43m]\u001b[49m\u001b[43m,\u001b[49m\u001b[43m \u001b[49m\u001b[43myrav\u001b[49m\u001b[43m[\u001b[49m\u001b[43mmask\u001b[49m\u001b[43m]\u001b[49m\u001b[43m)\u001b[49m\n\u001b[0;32m    165\u001b[0m \u001b[38;5;28;01melse\u001b[39;00m:\n\u001b[0;32m    166\u001b[0m     \u001b[38;5;28;01mif\u001b[39;00m \u001b[38;5;129;01mnot\u001b[39;00m is_scalar(y):\n",
      "\u001b[1;31mTypeError\u001b[0m: unsupported operand type(s) for -: 'str' and 'str'"
     ]
    }
   ],
   "source": [
    "\n",
    "def transform_api():\n",
    "    \n",
    "    pd.set_option('display.max_columns', None)  # Ninguna limitación en el número de columnas a mostrar\n",
    "    pd.set_option('display.max_rows', None)  # Ninguna limitación en el número de filas a mostrar\n",
    "    \n",
    "    api = extract_api(\"tcwu-r53g\")\n",
    "    \n",
    "    api = transformations_api(api)\n",
    "    \n",
    "    \n",
    "    print(water.info())\n",
    "    print(api.head())\n",
    "\n",
    "transform_api()"
   ]
  },
  {
   "cell_type": "code",
   "execution_count": 32,
   "metadata": {},
   "outputs": [
    {
     "name": "stdout",
     "output_type": "stream",
     "text": [
      "Municipios con proyectos: 19\n",
      "Número total de filas en el DataFrame resultante: 32355\n",
      "Años disponibles en el DataFrame resultante: [2018 2019]\n"
     ]
    }
   ],
   "source": [
    "api_done_df = pd.read_csv('C:/Users/JSLV3/Documents/5to Semestre/ETL/Proyecto Water Quality/ETL-Proyect/Main_Aqua_Quality/API/DATA/api_done.csv')\n",
    "\n",
    "water_cleaned_df = pd.read_csv('C:/Users/JSLV3/Documents/5to Semestre/ETL/Proyecto Water Quality/water_cleaned.csv')\n",
    "\n",
    "# Convertir columnas de fechas a formato datetime\n",
    "api_done_df['fecha_terminacion_proyecto'] = pd.to_datetime(api_done_df['fecha_terminacion_proyecto'])\n",
    "water_cleaned_df['año'] = pd.to_datetime(water_cleaned_df['año'])\n",
    "\n",
    "\n",
    "\n",
    "# Filtrar el dataset de proyectos para incluir solo los años 2018 y 2019\n",
    "api_done_filtered_df = api_done_df[api_done_df['fecha_terminacion_proyecto'].dt.year.isin([2018, 2019])]\n",
    "\n",
    "\n",
    "\n",
    "\n",
    "\n",
    "# Renombrar la columna 'municipio' a 'nombre_municipio' y 'fecha_terminacion_proyecto' a 'fecha_proyecto'\n",
    "api_done_filtered_df = api_done_filtered_df.rename(columns={'municipio': 'nombre_municipio', 'fecha_terminacion_proyecto': 'fecha_proyecto'})\n",
    "\n",
    "# Función para limpiar y dividir nombres de municipios en el dataset de proyectos\n",
    "def clean_and_split_municipios(municipios):\n",
    "    # Eliminar texto entre paréntesis y caracteres especiales\n",
    "    cleaned = re.sub(r'\\(.*?\\)', '', municipios).replace(',', '').strip().lower()\n",
    "    # Dividir si hay múltiples municipios\n",
    "    return [m.strip().title() for m in cleaned.split()]\n",
    "\n",
    "# Aplicar la limpieza y división a los nombres de municipios en el dataset de proyectos\n",
    "api_done_filtered_df['nombre_municipio'] = api_done_filtered_df['nombre_municipio'].apply(lambda x: ', '.join(clean_and_split_municipios(x)))\n",
    "api_done_filtered_df = api_done_filtered_df.assign(nombre_municipio=api_done_filtered_df['nombre_municipio'].str.split(', ')).explode('nombre_municipio').reset_index(drop=True)\n",
    "\n",
    "# Función para limpiar nombres de municipios en el dataset de calidad del agua\n",
    "def clean_municipio_name_simple(name):\n",
    "    return name.strip().title()\n",
    "\n",
    "# Aplicar la limpieza a los nombres de municipios en el dataset de calidad del agua\n",
    "water_cleaned_df['nombre_municipio'] = water_cleaned_df['nombre_municipio'].apply(clean_municipio_name_simple)\n",
    "\n",
    "\n",
    "\n",
    "\n",
    "# Filtrar el dataset de calidad del agua para incluir solo las fechas de medición a partir de 2018\n",
    "water_cleaned_filtered_df = water_cleaned_df[water_cleaned_df['año'].dt.year >= 2018]\n",
    "\n",
    "# Realizar el merge de tipo \"asof\" usando los nombres de municipios normalizados\n",
    "merged_df = pd.merge_asof(\n",
    "    water_cleaned_filtered_df.sort_values('año'),\n",
    "    api_done_filtered_df.sort_values('fecha_proyecto'),\n",
    "    by='nombre_municipio',\n",
    "    left_on='año',\n",
    "    right_on='fecha_proyecto',\n",
    "    direction='backward'\n",
    ")\n",
    "\n",
    "# Eliminar columnas redundantes excepto \"fecha_de_corte\"\n",
    "columns_to_drop = ['c_digo_divipola_departamento', 'departamento', 'c_digo_divipola_municipio', 'fecha_de_corte', 'num_municipios']\n",
    "merged_df = merged_df.drop(columns=columns_to_drop)\n",
    "\n",
    "# Llenar las entradas faltantes\n",
    "merged_df.fillna({\n",
    "    'indicador': 'Ausencia de proyecto',\n",
    "    'nombre_proyecto': 'Ausencia de proyecto',\n",
    "    'origen': 'Ausencia de proyecto',\n",
    "    'estado_seguimiento': 'Ausencia de proyecto',\n",
    "    'región': 'Ausencia de proyecto',\n",
    "    'aporte_nacion': -1,\n",
    "    'contrapartida': -1,\n",
    "    'total_financiamiento': -1,\n",
    "    'fecha_proyecto': -1,\n",
    "    'duracion_proyecto_dias': -1\n",
    "}, inplace=True)\n",
    "\n",
    "# Resultados\n",
    "print(f\"Municipios con proyectos: {merged_df[merged_df['nombre_proyecto'] != 'Ausencia de proyecto']['nombre_municipio'].nunique()}\")\n",
    "print(f\"Número total de filas en el DataFrame resultante: {merged_df.shape[0]}\")\n",
    "print(f\"Años disponibles en el DataFrame resultante: {merged_df['año'].dt.year.unique()}\")\n",
    "merged_df.to_csv('merged_water.csv', index=False)\n",
    "\n"
   ]
  }
 ],
 "metadata": {
  "kernelspec": {
   "display_name": "Python 3",
   "language": "python",
   "name": "python3"
  },
  "language_info": {
   "codemirror_mode": {
    "name": "ipython",
    "version": 3
   },
   "file_extension": ".py",
   "mimetype": "text/x-python",
   "name": "python",
   "nbconvert_exporter": "python",
   "pygments_lexer": "ipython3",
   "version": "3.12.2"
  }
 },
 "nbformat": 4,
 "nbformat_minor": 2
}
