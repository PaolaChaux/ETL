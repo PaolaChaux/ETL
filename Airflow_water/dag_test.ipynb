{
 "cells": [
  {
   "cell_type": "code",
   "execution_count": 3,
   "metadata": {},
   "outputs": [],
   "source": [
    "import pandas as pd\n",
    "import numpy as np\n",
    "from sqlalchemy import create_engine\n",
    "import json\n",
    "import psycopg2\n",
    "from sodapy import Socrata\n",
    "import re\n",
    "from transform_dag import transformations_api\n",
    "import logging"
   ]
  },
  {
   "cell_type": "code",
   "execution_count": 4,
   "metadata": {},
   "outputs": [],
   "source": [
    "def read_db_water():\n",
    "    with open('db_config.json') as file:\n",
    "        db_config = json.load(file)\n",
    "\n",
    "    engine = create_engine(f'postgresql+psycopg2://{db_config[\"user\"]}:{db_config[\"password\"]}@{db_config[\"host\"]}:5433/{db_config[\"dbname\"]}')\n",
    "\n",
    "    water = pd.read_sql('SELECT * FROM water_table', engine)\n",
    "    \n",
    "    \n",
    "    return water"
   ]
  },
  {
   "cell_type": "code",
   "execution_count": 3,
   "metadata": {},
   "outputs": [
    {
     "name": "stdout",
     "output_type": "stream",
     "text": [
      "          Año NombreDepartamento  Div_dpto NombreMunicipio  Divi_muni  \\\n",
      "0  2010-01-01            Bolívar        13        El Guamo      13248   \n",
      "1  2010-01-01            Bolívar        13        El Guamo      13248   \n",
      "2  2010-01-01            Bolívar        13        El Guamo      13248   \n",
      "3  2010-01-01            Bolívar        13        El Guamo      13248   \n",
      "4  2010-01-01            Bolívar        13        El Guamo      13248   \n",
      "\n",
      "   IrcaMinimo  IrcaMaximo  IrcaPromedio NombreParametroAnalisis2  \\\n",
      "0         0.0       100.0         37.32        Alcanilidad Total   \n",
      "1         0.0       100.0         37.32                 Aluminio   \n",
      "2         0.0       100.0         37.32                 Arsénico   \n",
      "3         0.0       100.0         37.32                   Cadmio   \n",
      "4         0.0       100.0         37.32                   Calcio   \n",
      "\n",
      "   MuestrasEvaluadas  MuestrasTratadas  MuestrasSinTratar  \\\n",
      "0                 67                67                  0   \n",
      "1                 67                67                  0   \n",
      "2                 67                67                  0   \n",
      "3                 67                67                  0   \n",
      "4                 67                67                  0   \n",
      "\n",
      "   NumeroParametrosMinimo  NumeroParametrosMaximo  NumeroParametrosPromedio  \\\n",
      "0                       2                       7                         2   \n",
      "1                       2                       7                         2   \n",
      "2                       2                       7                         2   \n",
      "3                       2                       7                         2   \n",
      "4                       2                       7                         2   \n",
      "\n",
      "   ResultadoMinimo  ResultadoMaximo  ResultadoPromedio  \n",
      "0             23.0             23.0               23.0  \n",
      "1              NaN              NaN                NaN  \n",
      "2              NaN              NaN                NaN  \n",
      "3              NaN              NaN                NaN  \n",
      "4             14.0             14.0               14.0  \n"
     ]
    }
   ],
   "source": [
    "water =read_db_water()\n",
    "print(water.head())"
   ]
  },
  {
   "cell_type": "code",
   "execution_count": 5,
   "metadata": {},
   "outputs": [
    {
     "name": "stderr",
     "output_type": "stream",
     "text": [
      "2024-05-18 20:27:19,245 - INFO - Starting transformations on water data.\n",
      "2024-05-18 20:27:19,343 - INFO - Renombrar columnas water successfully.\n",
      "2024-05-18 20:27:19,445 - INFO - Dates converted successfully.\n"
     ]
    },
    {
     "name": "stdout",
     "output_type": "stream",
     "text": [
      "Columnas después de renombrar_columnas_water: Index(['año', 'nombre_departamento', 'Div_dpto', 'nombre_municipio',\n",
      "       'Divi_muni', 'IrcaMinimo', 'IrcaMaximo', 'irca_promedio',\n",
      "       'nombre_parametro_analisis', 'MuestrasEvaluadas', 'MuestrasTratadas',\n",
      "       'MuestrasSinTratar', 'NumeroParametrosMinimo', 'NumeroParametrosMaximo',\n",
      "       'numero_parametros_promedio', 'ResultadoMinimo', 'ResultadoMaximo',\n",
      "       'ResultadoPromedio'],\n",
      "      dtype='object')\n",
      "Columnas después de dates_water: Index(['año', 'nombre_departamento', 'Div_dpto', 'nombre_municipio',\n",
      "       'Divi_muni', 'IrcaMinimo', 'IrcaMaximo', 'irca_promedio',\n",
      "       'nombre_parametro_analisis', 'MuestrasEvaluadas', 'MuestrasTratadas',\n",
      "       'MuestrasSinTratar', 'NumeroParametrosMinimo', 'NumeroParametrosMaximo',\n",
      "       'numero_parametros_promedio', 'ResultadoMinimo', 'ResultadoMaximo',\n",
      "       'ResultadoPromedio'],\n",
      "      dtype='object')\n"
     ]
    },
    {
     "name": "stderr",
     "output_type": "stream",
     "text": [
      "2024-05-18 20:27:20,151 - INFO - Normalize text columns water successfully.\n",
      "2024-05-18 20:27:20,207 - INFO - Scaled numerical columns.\n",
      "2024-05-18 20:27:20,282 - INFO - Filtered top influential parameters.\n"
     ]
    },
    {
     "name": "stdout",
     "output_type": "stream",
     "text": [
      "Columnas después de normalize_text_columns_water: Index(['año', 'nombre_departamento', 'Div_dpto', 'nombre_municipio',\n",
      "       'Divi_muni', 'IrcaMinimo', 'IrcaMaximo', 'irca_promedio',\n",
      "       'nombre_parametro_analisis', 'MuestrasEvaluadas', 'MuestrasTratadas',\n",
      "       'MuestrasSinTratar', 'NumeroParametrosMinimo', 'NumeroParametrosMaximo',\n",
      "       'numero_parametros_promedio', 'ResultadoMinimo', 'ResultadoMaximo',\n",
      "       'ResultadoPromedio'],\n",
      "      dtype='object')\n",
      "Columnas después de scale_columns: Index(['año', 'nombre_departamento', 'Div_dpto', 'nombre_municipio',\n",
      "       'Divi_muni', 'IrcaMinimo', 'IrcaMaximo', 'irca_promedio',\n",
      "       'nombre_parametro_analisis', 'MuestrasEvaluadas', 'MuestrasTratadas',\n",
      "       'MuestrasSinTratar', 'NumeroParametrosMinimo', 'NumeroParametrosMaximo',\n",
      "       'numero_parametros_promedio', 'ResultadoMinimo', 'ResultadoMaximo',\n",
      "       'ResultadoPromedio'],\n",
      "      dtype='object')\n",
      "Columnas después de filter_top_parameters: Index(['año', 'nombre_departamento', 'Div_dpto', 'nombre_municipio',\n",
      "       'Divi_muni', 'IrcaMinimo', 'IrcaMaximo', 'irca_promedio',\n",
      "       'nombre_parametro_analisis', 'MuestrasEvaluadas', 'MuestrasTratadas',\n",
      "       'MuestrasSinTratar', 'NumeroParametrosMinimo', 'NumeroParametrosMaximo',\n",
      "       'numero_parametros_promedio', 'ResultadoMinimo', 'ResultadoMaximo',\n",
      "       'ResultadoPromedio', 'is_top_20'],\n",
      "      dtype='object')\n"
     ]
    },
    {
     "name": "stderr",
     "output_type": "stream",
     "text": [
      "2024-05-18 20:27:20,434 - INFO - Classified IRCA values into categories.\n"
     ]
    },
    {
     "name": "stdout",
     "output_type": "stream",
     "text": [
      "Columnas después de classify_irca: Index(['año', 'nombre_departamento', 'Div_dpto', 'nombre_municipio',\n",
      "       'Divi_muni', 'IrcaMinimo', 'IrcaMaximo', 'irca_promedio',\n",
      "       'nombre_parametro_analisis', 'MuestrasEvaluadas', 'MuestrasTratadas',\n",
      "       'MuestrasSinTratar', 'NumeroParametrosMinimo', 'NumeroParametrosMaximo',\n",
      "       'numero_parametros_promedio', 'ResultadoMinimo', 'ResultadoMaximo',\n",
      "       'ResultadoPromedio', 'is_top_20', 'rango_irca'],\n",
      "      dtype='object')\n"
     ]
    },
    {
     "name": "stderr",
     "output_type": "stream",
     "text": [
      "2024-05-18 20:27:25,456 - INFO - Categorized treatment data.\n"
     ]
    },
    {
     "name": "stdout",
     "output_type": "stream",
     "text": [
      "Columnas después de categorize_treatment: Index(['año', 'nombre_departamento', 'Div_dpto', 'nombre_municipio',\n",
      "       'Divi_muni', 'IrcaMinimo', 'IrcaMaximo', 'irca_promedio',\n",
      "       'nombre_parametro_analisis', 'MuestrasEvaluadas', 'MuestrasTratadas',\n",
      "       'MuestrasSinTratar', 'NumeroParametrosMinimo', 'NumeroParametrosMaximo',\n",
      "       'numero_parametros_promedio', 'ResultadoMinimo', 'ResultadoMaximo',\n",
      "       'ResultadoPromedio', 'is_top_20', 'rango_irca',\n",
      "       'tratamiento_categoria'],\n",
      "      dtype='object')\n"
     ]
    },
    {
     "name": "stderr",
     "output_type": "stream",
     "text": [
      "2024-05-18 20:27:30,683 - INFO - Calculated critical proportion.\n",
      "2024-05-18 20:27:30,838 - INFO - Dropped unnecessary columns.\n",
      "2024-05-18 20:27:30,845 - INFO - All transformations applied successfully.\n"
     ]
    },
    {
     "name": "stdout",
     "output_type": "stream",
     "text": [
      "Columnas después de calculate_critical_proportion: Index(['año', 'nombre_departamento', 'Div_dpto', 'nombre_municipio',\n",
      "       'Divi_muni', 'IrcaMinimo', 'IrcaMaximo', 'irca_promedio',\n",
      "       'nombre_parametro_analisis', 'MuestrasEvaluadas', 'MuestrasTratadas',\n",
      "       'MuestrasSinTratar', 'NumeroParametrosMinimo', 'NumeroParametrosMaximo',\n",
      "       'numero_parametros_promedio', 'ResultadoMinimo', 'ResultadoMaximo',\n",
      "       'ResultadoPromedio', 'is_top_20', 'rango_irca', 'tratamiento_categoria',\n",
      "       'proporción_crítica'],\n",
      "      dtype='object')\n",
      "Columnas después de drop_unnecessary_columns_water: Index(['año', 'nombre_departamento', 'Div_dpto', 'nombre_municipio',\n",
      "       'Divi_muni', 'irca_promedio', 'nombre_parametro_analisis',\n",
      "       'numero_parametros_promedio', 'is_top_20', 'rango_irca',\n",
      "       'tratamiento_categoria', 'proporción_crítica'],\n",
      "      dtype='object')\n",
      "         año nombre_departamento  Div_dpto nombre_municipio  Divi_muni  \\\n",
      "0 2010-01-01           atlántico         8           manatí       8436   \n",
      "1 2010-01-01           atlántico         8           manatí       8436   \n",
      "2 2010-01-01           atlántico         8           manatí       8436   \n",
      "3 2010-01-01           atlántico         8           manatí       8436   \n",
      "4 2010-01-01           atlántico         8           manatí       8436   \n",
      "\n",
      "   irca_promedio      nombre_parametro_analisis  numero_parametros_promedio  \\\n",
      "0          34.39  organofosforados y carbamatos                           6   \n",
      "1          34.39                             ph                           6   \n",
      "2          34.39                          plomo                           6   \n",
      "3          34.39                          sabor                           6   \n",
      "4          34.39                       sulfatos                           6   \n",
      "\n",
      "   is_top_20    rango_irca tratamiento_categoria  proporción_crítica  \n",
      "0       True  Riesgo medio   Tratamiento parcial            0.446413  \n",
      "1       True  Riesgo medio   Tratamiento parcial            0.446413  \n",
      "2       True  Riesgo medio   Tratamiento parcial            0.446413  \n",
      "3      False  Riesgo medio   Tratamiento parcial            0.446413  \n",
      "4      False  Riesgo medio   Tratamiento parcial            0.446413  \n"
     ]
    }
   ],
   "source": [
    "from transform_dag import transformations_water\n",
    "\n",
    "def transform_water():\n",
    "    \n",
    "    water = read_db_water()\n",
    "    \n",
    "    water = transformations_water(water)\n",
    "    \n",
    "    print(water.head())\n",
    "\n",
    "# Llamar a la función principal para procesar los datos\n",
    "transform_water()\n",
    "\n"
   ]
  },
  {
   "cell_type": "code",
   "execution_count": 6,
   "metadata": {},
   "outputs": [],
   "source": [
    "def extract_api(endpoint):\n",
    "    try:\n",
    "        # Inicializa el cliente de Socrata sin token de aplicación\n",
    "        client = Socrata(\"www.datos.gov.co\", None)\n",
    "\n",
    "        # Obtiene los datos desde el endpoint especificado\n",
    "        results = client.get(endpoint, limit=2000)\n",
    "\n",
    "        # Convierte los resultados en un DataFrame\n",
    "        api = pd.DataFrame.from_records(results)\n",
    "\n",
    "        return api\n",
    "    except Exception as e:\n",
    "        print(f\"Se produjo un error: {e}\")"
   ]
  },
  {
   "cell_type": "code",
   "execution_count": 5,
   "metadata": {},
   "outputs": [
    {
     "name": "stderr",
     "output_type": "stream",
     "text": [
      "2024-05-17 21:46:04,100 - WARNING - Requests made without an app_token will be subject to strict throttling limits.\n"
     ]
    },
    {
     "name": "stdout",
     "output_type": "stream",
     "text": [
      "  fecha_terminacion_proyecto           fecha_de_corte  \\\n",
      "0    2018-12-31T00:00:00.000  2024-04-04T00:00:00.000   \n",
      "1    2018-10-16T00:00:00.000  2024-04-04T00:00:00.000   \n",
      "2    2018-10-08T00:00:00.000  2024-04-04T00:00:00.000   \n",
      "3    2019-06-01T00:00:00.000  2024-04-04T00:00:00.000   \n",
      "4    2019-02-12T00:00:00.000  2024-04-04T00:00:00.000   \n",
      "\n",
      "  c_digo_divipola_departamento departamento c_digo_divipola_municipio  \\\n",
      "0                           18      CAQUETA       18029, 18205, 18610   \n",
      "1                           15       BOYACA                     15693   \n",
      "2                           17       CALDAS                     17050   \n",
      "3                           17       CALDAS                     17446   \n",
      "4                           05    ANTIOQUIA                      5250   \n",
      "\n",
      "                                           municipio  \\\n",
      "0  Albania(CAQ), Curillo(CAQ), San Jose De Fragua...   \n",
      "1                         Santa Rosa De Viterbo(BOY)   \n",
      "2                                      Aranzazu(CAL)   \n",
      "3                                     Marulanda(CAL)   \n",
      "4                                      El Bagre(ANT)   \n",
      "\n",
      "                                           indicador  \\\n",
      "0       Nueva Población Beneficiada Acueducto Urbano   \n",
      "1       Nueva Población Beneficiada Acueducto Urbano   \n",
      "2  Nueva Población Beneficiada Alcantarillado Urbano   \n",
      "3        Nueva Población Beneficiada Acueducto Rural   \n",
      "4       Nueva Población Beneficiada Acueducto Urbano   \n",
      "\n",
      "                                     nombre_proyecto origen aporte_nacion  \\\n",
      "0  CONSTRUCCION SISTEMA DE ACUEDUCTO REGIONAL PAR...    PDA   12110573518   \n",
      "1  CONSTRUCCION RED DE CONDUCCION, REDES DE DISTR...    PDA     557345219   \n",
      "2  OPTIMIZACION SISTEMAS DE ACUEDUCTO Y ALCANTARI...    PDA     491820256   \n",
      "3  MEJORAMIENTO SISTEMA DE ACUEDUCTO EN EL CORREG...    PDA     286128295   \n",
      "4  CONSTRUCCION DEL PLAN MAESTRO DE ACUEDUCTO URB...    PDA             0   \n",
      "\n",
      "  contrapartida estado_seguimiento  \n",
      "0     953340488     En Liquidación  \n",
      "1    2236932650     En Liquidación  \n",
      "2     664819896          Terminado  \n",
      "3     540512429          Terminado  \n",
      "4    4773790842          Liquidado  \n"
     ]
    }
   ],
   "source": [
    "api = extract_api(\"tcwu-r53g\")\n",
    "print(api.head())"
   ]
  },
  {
   "cell_type": "code",
   "execution_count": 7,
   "metadata": {},
   "outputs": [
    {
     "name": "stderr",
     "output_type": "stream",
     "text": [
      "2024-05-18 20:27:57,493 - WARNING - Requests made without an app_token will be subject to strict throttling limits.\n",
      "2024-05-18 20:28:09,838 - INFO - Starting transformations on API data.\n",
      "2024-05-18 20:28:09,871 - INFO - Renombrar columna municipio successful.\n",
      "2024-05-18 20:28:09,944 - INFO - Dates converted successfully.\n",
      "2024-05-18 20:28:09,953 - INFO - Elimination of parentheses within municipalities successfully.\n",
      "2024-05-18 20:28:10,002 - INFO - Separates records with multiple municipalities into individual rows successfully.\n",
      "2024-05-18 20:28:10,005 - INFO - Elimination of extra spaces and capitalization of each municipality name successful.\n",
      "2024-05-18 20:28:10,014 - INFO - Text columns normalized successfully.\n",
      "2024-05-18 20:28:10,018 - INFO -  Standardized place names API successful.\n",
      "2024-05-18 20:28:10,020 - INFO - Number of municipalities computed successfully.\n",
      "2024-05-18 20:28:10,028 - INFO - Regions mapped successfully.\n",
      "2024-05-18 20:28:10,038 - INFO - Project financing calculated successfully.\n",
      "2024-05-18 20:28:10,055 - INFO - Project duration calculated successfully.\n",
      "2024-05-18 20:28:10,058 - INFO - Unnecessary columns dropped successfully.\n",
      "2024-05-18 20:28:10,059 - INFO - All transformations applied successfully.\n"
     ]
    },
    {
     "name": "stdout",
     "output_type": "stream",
     "text": [
      "  fecha_proyecto codigo_departamento departamento c_digo_divipola_municipio  \\\n",
      "0     2018-12-31                  18      CAQUETA       18029, 18205, 18610   \n",
      "1     2018-10-16                  15       BOYACA                     15693   \n",
      "2     2018-10-08                  17       CALDAS                     17050   \n",
      "3     2019-06-01                  17       CALDAS                     17446   \n",
      "4     2019-02-12                  05    ANTIOQUIA                      5250   \n",
      "\n",
      "                       nombre_municipio  \\\n",
      "0  Albania, Curillo, San Jose De Fragua   \n",
      "1                 Santa Rosa De Viterbo   \n",
      "2                              Aranzazu   \n",
      "3                             Marulanda   \n",
      "4                              El Bagre   \n",
      "\n",
      "                                           indicador  \\\n",
      "0       nueva población beneficiada acueducto urbano   \n",
      "1       nueva población beneficiada acueducto urbano   \n",
      "2  nueva población beneficiada alcantarillado urbano   \n",
      "3        nueva población beneficiada acueducto rural   \n",
      "4       nueva población beneficiada acueducto urbano   \n",
      "\n",
      "                                     nombre_proyecto origen  \\\n",
      "0  construccion sistema de acueducto regional par...    pda   \n",
      "1  construccion red de conduccion, redes de distr...    pda   \n",
      "2  optimizacion sistemas de acueducto y alcantari...    pda   \n",
      "3  mejoramiento sistema de acueducto en el correg...    pda   \n",
      "4  construccion del plan maestro de acueducto urb...    pda   \n",
      "\n",
      "  estado_seguimiento                                 municipio  \\\n",
      "0     en liquidación  [Albania,  Curillo,  San Jose De Fragua]   \n",
      "1     en liquidación                   [Santa Rosa De Viterbo]   \n",
      "2          terminado                                [Aranzazu]   \n",
      "3          terminado                               [Marulanda]   \n",
      "4          liquidado                                [El Bagre]   \n",
      "\n",
      "   num_municipios           región  total_financiamiento  \\\n",
      "0               3  Región Amazonía  12110573518953340488   \n",
      "1               1    Región Andina   5573452192236932650   \n",
      "2               1    Región Andina    491820256664819896   \n",
      "3               1    Región Andina    286128295540512429   \n",
      "4               1    Región Andina           04773790842   \n",
      "\n",
      "   duracion_proyecto_dias  \n",
      "0                    1921  \n",
      "1                    1997  \n",
      "2                    2005  \n",
      "3                    1769  \n",
      "4                    1878  \n"
     ]
    }
   ],
   "source": [
    "\n",
    "def transform_api():\n",
    "    \n",
    "    pd.set_option('display.max_columns', None)  # Ninguna limitación en el número de columnas a mostrar\n",
    "    pd.set_option('display.max_rows', None)  # Ninguna limitación en el número de filas a mostrar\n",
    "    \n",
    "    api = extract_api(\"tcwu-r53g\")\n",
    "    \n",
    "    api = transformations_api(api)\n",
    "    \n",
    "\n",
    "    print(api.head())\n",
    "\n",
    "transform_api()"
   ]
  }
 ],
 "metadata": {
  "kernelspec": {
   "display_name": "Python 3",
   "language": "python",
   "name": "python3"
  },
  "language_info": {
   "codemirror_mode": {
    "name": "ipython",
    "version": 3
   },
   "file_extension": ".py",
   "mimetype": "text/x-python",
   "name": "python",
   "nbconvert_exporter": "python",
   "pygments_lexer": "ipython3",
   "version": "3.12.2"
  }
 },
 "nbformat": 4,
 "nbformat_minor": 2
}
