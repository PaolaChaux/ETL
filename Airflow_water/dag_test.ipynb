{
 "cells": [
  {
   "cell_type": "code",
   "execution_count": 4,
   "metadata": {},
   "outputs": [],
   "source": [
    "import pandas as pd\n",
    "import numpy as np\n",
    "from sqlalchemy import create_engine\n",
    "import json\n",
    "import psycopg2\n",
    "from sodapy import Socrata\n",
    "from transform_dag import transformations_api_data"
   ]
  },
  {
   "cell_type": "code",
   "execution_count": 2,
   "metadata": {},
   "outputs": [],
   "source": [
    "def read_db_water():\n",
    "    with open('db_config.json') as file:\n",
    "        db_config = json.load(file)\n",
    "\n",
    "    engine = create_engine(f'postgresql+psycopg2://{db_config[\"user\"]}:{db_config[\"password\"]}@{db_config[\"host\"]}:5432/{db_config[\"dbname\"]}')\n",
    "\n",
    "    water = pd.read_sql('SELECT * FROM water_table', engine)\n",
    "    \n",
    "    return water"
   ]
  },
  {
   "cell_type": "code",
   "execution_count": 3,
   "metadata": {},
   "outputs": [
    {
     "name": "stderr",
     "output_type": "stream",
     "text": [
      "2024-05-03 12:59:25,578 - INFO - Starting transformations on water data.\n",
      "2024-05-03 12:59:25,815 - INFO - Standardized place names.\n",
      "2024-05-03 12:59:25,846 - INFO - Scaled numerical columns.\n",
      "2024-05-03 12:59:25,908 - INFO - Filtered top influential parameters.\n",
      "2024-05-03 12:59:26,010 - INFO - Classified IRCA values into categories.\n",
      "2024-05-03 12:59:28,655 - INFO - Categorized treatment data.\n",
      "2024-05-03 12:59:32,809 - INFO - Critical Proportion.\n",
      "2024-05-03 12:59:32,860 - INFO - Dropped unnecessary columns.\n",
      "2024-05-03 12:59:32,861 - INFO - Column names standardized\n",
      "2024-05-03 12:59:32,861 - INFO - Standardized column names.\n",
      "2024-05-03 12:59:32,862 - INFO - All transformations applied successfully.\n"
     ]
    },
    {
     "name": "stdout",
     "output_type": "stream",
     "text": [
      "          año nombredepartamento  div_dpto nombremunicipio  divi_muni  \\\n",
      "0  2010-01-01            Bolívar        13        El Guamo      13248   \n",
      "1  2010-01-01            Bolívar        13        El Guamo      13248   \n",
      "2  2010-01-01            Bolívar        13        El Guamo      13248   \n",
      "3  2010-01-01            Bolívar        13        El Guamo      13248   \n",
      "4  2010-01-01            Bolívar        13        El Guamo      13248   \n",
      "\n",
      "   ircaminimo  ircamaximo  ircapromedio nombreparametroanalisis2  \\\n",
      "0         0.0       100.0         37.32        Alcanilidad Total   \n",
      "1         0.0       100.0         37.32                 Aluminio   \n",
      "2         0.0       100.0         37.32                 Arsénico   \n",
      "3         0.0       100.0         37.32                   Cadmio   \n",
      "4         0.0       100.0         37.32                   Calcio   \n",
      "\n",
      "   numeroparametrospromedio  is_top_15   rango_irca tratamientocategoría  \\\n",
      "0                         2       True  Riesgo alto  Tratamiento parcial   \n",
      "1                         2      False  Riesgo alto  Tratamiento parcial   \n",
      "2                         2      False  Riesgo alto  Tratamiento parcial   \n",
      "3                         2      False  Riesgo alto  Tratamiento parcial   \n",
      "4                         2      False  Riesgo alto  Tratamiento parcial   \n",
      "\n",
      "   proporción_crítica  \n",
      "0                 0.5  \n",
      "1                 0.5  \n",
      "2                 0.5  \n",
      "3                 0.5  \n",
      "4                 0.5  \n"
     ]
    }
   ],
   "source": [
    "from transform_dag import apply_transformations\n",
    "\n",
    "def transform_water():\n",
    "    \n",
    "    water = read_db_water()\n",
    "    \n",
    "    water = apply_transformations(water)\n",
    "    \n",
    "    print(water.head())\n",
    "\n",
    "# Llamar a la función principal para procesar los datos\n",
    "transform_water()\n",
    "\n"
   ]
  },
  {
   "cell_type": "code",
   "execution_count": 6,
   "metadata": {},
   "outputs": [],
   "source": [
    "def extract_api(endpoint):\n",
    "    try:\n",
    "        # Inicializa el cliente de Socrata sin token de aplicación\n",
    "        client = Socrata(\"www.datos.gov.co\", None)\n",
    "\n",
    "        # Obtiene los datos desde el endpoint especificado\n",
    "        results = client.get(endpoint, limit=2000)\n",
    "\n",
    "        # Convierte los resultados en un DataFrame\n",
    "        api = pd.DataFrame.from_records(results)\n",
    "\n",
    "        return api\n",
    "    except Exception as e:\n",
    "        print(f\"Se produjo un error: {e}\")\n",
    "        return pd.DataFrame()  # Devuelve un DataFrame vacío en caso de error\n"
   ]
  },
  {
   "cell_type": "code",
   "execution_count": 20,
   "metadata": {},
   "outputs": [
    {
     "name": "stderr",
     "output_type": "stream",
     "text": [
      "2024-05-03 18:20:15,307 - WARNING - Requests made without an app_token will be subject to strict throttling limits.\n",
      "2024-05-03 18:20:16,379 - INFO - Starting transformations on API data.\n",
      "2024-05-03 18:20:16,385 - INFO - Dates converted successfully.\n",
      "2024-05-03 18:20:16,394 - INFO - Text columns normalized successfully.\n",
      "2024-05-03 18:20:16,396 - INFO - Number of municipalities computed successfully.\n",
      "2024-05-03 18:20:16,400 - INFO - Regions mapped successfully.\n",
      "2024-05-03 18:20:16,402 - INFO - Project financing calculated successfully.\n",
      "2024-05-03 18:20:16,405 - INFO - Project duration calculated successfully.\n",
      "2024-05-03 18:20:16,408 - INFO - Unnecessary columns dropped successfully.\n",
      "2024-05-03 18:20:16,411 - INFO - All transformations applied successfully.\n"
     ]
    },
    {
     "name": "stdout",
     "output_type": "stream",
     "text": [
      "  c_digo_divipola_departamento departamento c_digo_divipola_municipio  \\\n",
      "0                           18      CAQUETA       18029, 18205, 18610   \n",
      "1                           15       BOYACA                     15693   \n",
      "2                           17       CALDAS                     17050   \n",
      "3                           17       CALDAS                     17446   \n",
      "4                           05    ANTIOQUIA                      5250   \n",
      "\n",
      "                                           municipio  \\\n",
      "0  albania(caq), curillo(caq), san jose de fragua...   \n",
      "1                         santa rosa de viterbo(boy)   \n",
      "2                                      aranzazu(cal)   \n",
      "3                                     marulanda(cal)   \n",
      "4                                      el bagre(ant)   \n",
      "\n",
      "                                           indicador  \\\n",
      "0       nueva población beneficiada acueducto urbano   \n",
      "1       nueva población beneficiada acueducto urbano   \n",
      "2  nueva población beneficiada alcantarillado urbano   \n",
      "3        nueva población beneficiada acueducto rural   \n",
      "4       nueva población beneficiada acueducto urbano   \n",
      "\n",
      "                                     nombre_proyecto origen  \\\n",
      "0  construccion sistema de acueducto regional par...    pda   \n",
      "1  construccion red de conduccion, redes de distr...    pda   \n",
      "2  optimizacion sistemas de acueducto y alcantari...    pda   \n",
      "3  mejoramiento sistema de acueducto en el correg...    pda   \n",
      "4  construccion del plan maestro de acueducto urb...    pda   \n",
      "\n",
      "  estado_seguimiento  num_municipios           región  total_financiamiento  \\\n",
      "0     en liquidación               3  Región Amazonía  12110573518953340488   \n",
      "1     en liquidación               1    Región Andina   5573452192236932650   \n",
      "2          terminado               1    Región Andina    491820256664819896   \n",
      "3          terminado               1    Región Andina    286128295540512429   \n",
      "4          liquidado               1    Región Andina           04773790842   \n",
      "\n",
      "   duracion_proyecto_dias  \n",
      "0                    1921  \n",
      "1                    1997  \n",
      "2                    2005  \n",
      "3                    1769  \n",
      "4                    1878  \n"
     ]
    }
   ],
   "source": [
    "\n",
    "def transform_api():\n",
    "    \n",
    "    pd.set_option('display.max_columns', None)  # Ninguna limitación en el número de columnas a mostrar\n",
    "    pd.set_option('display.max_rows', None)  # Ninguna limitación en el número de filas a mostrar\n",
    "    \n",
    "    api = extract_api(\"tcwu-r53g\")\n",
    "    \n",
    "    api = transformations_api_data(api)\n",
    "    \n",
    "    print(api.head())\n",
    "\n",
    "transform_api()"
   ]
  }
 ],
 "metadata": {
  "kernelspec": {
   "display_name": "Python 3",
   "language": "python",
   "name": "python3"
  },
  "language_info": {
   "codemirror_mode": {
    "name": "ipython",
    "version": 3
   },
   "file_extension": ".py",
   "mimetype": "text/x-python",
   "name": "python",
   "nbconvert_exporter": "python",
   "pygments_lexer": "ipython3",
   "version": "3.12.2"
  }
 },
 "nbformat": 4,
 "nbformat_minor": 2
}
