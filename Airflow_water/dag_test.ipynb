{
 "cells": [
  {
   "cell_type": "code",
   "execution_count": 1,
   "metadata": {},
   "outputs": [],
   "source": [
    "import pandas as pd\n",
    "import numpy as np\n",
    "import matplotlib.pyplot as plt\n",
    "import seaborn as sns\n",
    "from sqlalchemy import create_engine\n",
    "import json\n",
    "import psycopg2"
   ]
  },
  {
   "cell_type": "code",
   "execution_count": 1,
   "metadata": {},
   "outputs": [
    {
     "name": "stdout",
     "output_type": "stream",
     "text": [
      "          Año NombreDepartamento  Div_dpto NombreMunicipio  Divi_muni  \\\n",
      "0  2010-01-01            Bolívar        13        El Guamo      13248   \n",
      "1  2010-01-01            Bolívar        13        El Guamo      13248   \n",
      "2  2010-01-01            Bolívar        13        El Guamo      13248   \n",
      "3  2010-01-01            Bolívar        13        El Guamo      13248   \n",
      "4  2010-01-01            Bolívar        13        El Guamo      13248   \n",
      "\n",
      "   IrcaMinimo  IrcaMaximo  IrcaPromedio NombreParametroAnalisis2  \\\n",
      "0         0.0       100.0         37.32        Alcanilidad Total   \n",
      "1         0.0       100.0         37.32                 Aluminio   \n",
      "2         0.0       100.0         37.32                 Arsénico   \n",
      "3         0.0       100.0         37.32                   Cadmio   \n",
      "4         0.0       100.0         37.32                   Calcio   \n",
      "\n",
      "   MuestrasEvaluadas  MuestrasTratadas  MuestrasSinTratar  \\\n",
      "0                 67                67                  0   \n",
      "1                 67                67                  0   \n",
      "2                 67                67                  0   \n",
      "3                 67                67                  0   \n",
      "4                 67                67                  0   \n",
      "\n",
      "   NumeroParametrosMinimo  NumeroParametrosMaximo  NumeroParametrosPromedio  \\\n",
      "0                       2                       7                         2   \n",
      "1                       2                       7                         2   \n",
      "2                       2                       7                         2   \n",
      "3                       2                       7                         2   \n",
      "4                       2                       7                         2   \n",
      "\n",
      "   ResultadoMinimo  ResultadoMaximo  ResultadoPromedio  \n",
      "0             23.0             23.0               23.0  \n",
      "1              NaN              NaN                NaN  \n",
      "2              NaN              NaN                NaN  \n",
      "3              NaN              NaN                NaN  \n",
      "4             14.0             14.0               14.0  \n"
     ]
    }
   ],
   "source": [
    "def read_db_water():\n",
    "    with open('db_config.json') as file:\n",
    "        db_config = json.load(file)\n",
    "\n",
    "    engine = create_engine(f'postgresql+psycopg2://{db_config[\"user\"]}:{db_config[\"password\"]}@{db_config[\"host\"]}:5432/{db_config[\"dbname\"]}')\n",
    "\n",
    "    water = pd.read_sql('SELECT * FROM water_table', engine)\n",
    "\n",
    "    print(water.head())\n",
    "\n",
    "read_db_water()\n"
   ]
  },
  {
   "cell_type": "code",
   "execution_count": null,
   "metadata": {},
   "outputs": [],
   "source": []
  }
 ],
 "metadata": {
  "kernelspec": {
   "display_name": "Python 3",
   "language": "python",
   "name": "python3"
  },
  "language_info": {
   "codemirror_mode": {
    "name": "ipython",
    "version": 3
   },
   "file_extension": ".py",
   "mimetype": "text/x-python",
   "name": "python",
   "nbconvert_exporter": "python",
   "pygments_lexer": "ipython3",
   "version": "3.12.2"
  }
 },
 "nbformat": 4,
 "nbformat_minor": 2
}
