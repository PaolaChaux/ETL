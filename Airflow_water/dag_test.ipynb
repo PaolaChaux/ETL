{
 "cells": [
  {
   "cell_type": "markdown",
   "metadata": {},
   "source": [
    "#### Profe este notebook no entra en la entrega de segundo corte, este hace parte del desarollo del 3er corte"
   ]
  },
  {
   "cell_type": "code",
   "execution_count": 3,
   "metadata": {},
   "outputs": [
    {
     "name": "stdout",
     "output_type": "stream",
     "text": [
      "          año nombre_departamento  div_dpto     nombre_municipio  divi_muni  \\\n",
      "0  2010-01-01             Bolivar        13  San Juan Nepomuceno      13657   \n",
      "1  2010-01-01             Bolivar        13  San Juan Nepomuceno      13657   \n",
      "2  2010-01-01             Bolivar        13  San Juan Nepomuceno      13657   \n",
      "3  2010-01-01             Bolivar        13  San Juan Nepomuceno      13657   \n",
      "4  2010-01-01             Bolivar        13  San Juan Nepomuceno      13657   \n",
      "\n",
      "   irca_minimo  irca_maximo  irca_promedio nombre_parametro_analisis  \\\n",
      "0          0.0        100.0           38.2         Alcanilidad Total   \n",
      "1          0.0        100.0           38.2               Cromo total   \n",
      "2          0.0        100.0           38.2              Dureza total   \n",
      "3          0.0        100.0           38.2                    E.coli   \n",
      "4          0.0        100.0           38.2                 Fluoruros   \n",
      "\n",
      "   numero_parametros_promedio  ...                 municipio  \\\n",
      "0                           2  ...  san juan nepomuceno(bol)   \n",
      "1                           2  ...  san juan nepomuceno(bol)   \n",
      "2                           2  ...  san juan nepomuceno(bol)   \n",
      "3                           2  ...  san juan nepomuceno(bol)   \n",
      "4                           2  ...  san juan nepomuceno(bol)   \n",
      "\n",
      "                                      indicador  aporte_nacion contrapartida  \\\n",
      "0  nueva población beneficiada acueducto urbano              0    4758252788   \n",
      "1  nueva población beneficiada acueducto urbano              0    4758252788   \n",
      "2  nueva población beneficiada acueducto urbano              0    4758252788   \n",
      "3  nueva población beneficiada acueducto urbano              0    4758252788   \n",
      "4  nueva población beneficiada acueducto urbano              0    4758252788   \n",
      "\n",
      "  estado_seguimiento  num_municipios         región total_financiamiento  \\\n",
      "0     en liquidación               1  Región Caribe           4758252788   \n",
      "1     en liquidación               1  Región Caribe           4758252788   \n",
      "2     en liquidación               1  Región Caribe           4758252788   \n",
      "3     en liquidación               1  Región Caribe           4758252788   \n",
      "4     en liquidación               1  Región Caribe           4758252788   \n",
      "\n",
      "  duracion_proyecto_dias    municipio_cleaned  \n",
      "0                   1127  San Juan Nepomuceno  \n",
      "1                   1127  San Juan Nepomuceno  \n",
      "2                   1127  San Juan Nepomuceno  \n",
      "3                   1127  San Juan Nepomuceno  \n",
      "4                   1127  San Juan Nepomuceno  \n",
      "\n",
      "[5 rows x 28 columns]\n"
     ]
    }
   ],
   "source": [
    "import pandas as pd\n",
    "import re\n",
    "\n",
    "# Función para limpiar y dividir los nombres de los municipios en el dataset api_done\n",
    "def clean_and_split_municipalities(municipality_string):\n",
    "    cleaned_list = re.sub(r\"\\(.+?\\)\", \"\", municipality_string).split(',')\n",
    "    return [muni.strip().title() for muni in cleaned_list if muni.strip()]\n",
    "\n",
    "# Cargar los datasets\n",
    "water_cleaned = pd.read_csv(\"C:/Users/JSLV3/Documents/5to Semestre/ETL/Proyecto Water Quality/1ra parte/Water_project/ETL-Proyect/Main_Aqua_Quality/water_cleaned.csv\")\n",
    "api_done = pd.read_csv(\"C:/Users/JSLV3/Documents/5to Semestre/ETL/Proyecto Water Quality/1ra parte/Water_project/ETL-Proyect/Entrega 2do corte/API/api_done.csv\")\n",
    "\n",
    "# Limpiar y preparar el dataset api_done\n",
    "api_done['municipio_cleaned'] = api_done['municipio'].apply(clean_and_split_municipalities)\n",
    "api_done_exploded = api_done.explode('municipio_cleaned')\n",
    "\n",
    "# Excluir las columnas 'nombre_proyecto' y 'origen'\n",
    "api_done_filtered = api_done_exploded.drop(['nombre_proyecto', 'origen'], axis=1)\n",
    "\n",
    "# Realizar el merge\n",
    "merged_data = pd.merge(water_cleaned, api_done_filtered, left_on='nombre_municipio', right_on='municipio_cleaned', how='inner')\n",
    "\n",
    "# Mostrar las primeras filas del dataset resultante\n",
    "print(merged_data.head())\n"
   ]
  },
  {
   "cell_type": "code",
   "execution_count": 5,
   "metadata": {},
   "outputs": [
    {
     "name": "stdout",
     "output_type": "stream",
     "text": [
      "El dataset ha sido guardado como 'merged_dataset.csv'.\n"
     ]
    }
   ],
   "source": [
    "# Guardar el dataset resultante en un archivo CSV\n",
    "merged_data.to_csv('merged_dataset.csv', index=False)\n",
    "\n",
    "print(\"El dataset ha sido guardado como 'merged_dataset.csv'.\")\n",
    "\n"
   ]
  }
 ],
 "metadata": {
  "kernelspec": {
   "display_name": "Python 3",
   "language": "python",
   "name": "python3"
  },
  "language_info": {
   "codemirror_mode": {
    "name": "ipython",
    "version": 3
   },
   "file_extension": ".py",
   "mimetype": "text/x-python",
   "name": "python",
   "nbconvert_exporter": "python",
   "pygments_lexer": "ipython3",
   "version": "3.12.2"
  }
 },
 "nbformat": 4,
 "nbformat_minor": 2
}
