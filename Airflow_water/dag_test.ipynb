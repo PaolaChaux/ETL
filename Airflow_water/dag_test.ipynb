{
 "cells": [
  {
   "cell_type": "code",
   "execution_count": 1,
   "metadata": {},
   "outputs": [],
   "source": [
    "import pandas as pd\n",
    "import numpy as np\n",
    "import matplotlib.pyplot as plt\n",
    "import seaborn as sns\n",
    "from sqlalchemy import create_engine\n",
    "import json\n",
    "import psycopg2"
   ]
  },
  {
   "cell_type": "code",
   "execution_count": 4,
   "metadata": {},
   "outputs": [
    {
     "name": "stdout",
     "output_type": "stream",
     "text": [
      "          Año NombreDepartamento  Div_dpto NombreMunicipio  Divi_muni  \\\n",
      "0  2010-01-01            Bolívar        13        El Guamo      13248   \n",
      "1  2010-01-01            Bolívar        13        El Guamo      13248   \n",
      "2  2010-01-01            Bolívar        13        El Guamo      13248   \n",
      "3  2010-01-01            Bolívar        13        El Guamo      13248   \n",
      "4  2010-01-01            Bolívar        13        El Guamo      13248   \n",
      "\n",
      "   IrcaMinimo  IrcaMaximo  IrcaPromedio NombreParametroAnalisis2  \\\n",
      "0         0.0       100.0         37.32        Alcanilidad Total   \n",
      "1         0.0       100.0         37.32                 Aluminio   \n",
      "2         0.0       100.0         37.32                 Arsénico   \n",
      "3         0.0       100.0         37.32                   Cadmio   \n",
      "4         0.0       100.0         37.32                   Calcio   \n",
      "\n",
      "   MuestrasEvaluadas  MuestrasTratadas  MuestrasSinTratar  \\\n",
      "0                 67                67                  0   \n",
      "1                 67                67                  0   \n",
      "2                 67                67                  0   \n",
      "3                 67                67                  0   \n",
      "4                 67                67                  0   \n",
      "\n",
      "   NumeroParametrosMinimo  NumeroParametrosMaximo  NumeroParametrosPromedio  \\\n",
      "0                       2                       7                         2   \n",
      "1                       2                       7                         2   \n",
      "2                       2                       7                         2   \n",
      "3                       2                       7                         2   \n",
      "4                       2                       7                         2   \n",
      "\n",
      "   ResultadoMinimo  ResultadoMaximo  ResultadoPromedio  \n",
      "0             23.0             23.0               23.0  \n",
      "1              NaN              NaN                NaN  \n",
      "2              NaN              NaN                NaN  \n",
      "3              NaN              NaN                NaN  \n",
      "4             14.0             14.0               14.0  \n"
     ]
    }
   ],
   "source": [
    "# def read_db_water():\n",
    "#     with open('db_config.json') as file:\n",
    "#         db_config = json.load(file)\n",
    "\n",
    "#     engine = create_engine(f'postgresql+psycopg2://{db_config[\"user\"]}:{db_config[\"password\"]}@{db_config[\"host\"]}:5432/{db_config[\"dbname\"]}')\n",
    "\n",
    "#     water = pd.read_sql('SELECT * FROM water_table', engine)\n",
    "\n",
    "#     print(water.head())\n",
    "\n",
    "# read_db_water()\n"
   ]
  },
  {
   "cell_type": "code",
   "execution_count": 7,
   "metadata": {},
   "outputs": [],
   "source": [
    "\n",
    "def read_db_water():\n",
    "    try:\n",
    "        with open('db_config.json', 'r') as file:\n",
    "            db_config = json.load(file)\n",
    "\n",
    "        engine = create_engine(f'postgresql+psycopg2://{db_config[\"user\"]}:{db_config[\"password\"]}@{db_config[\"host\"]}:5432/{db_config[\"dbname\"]}')\n",
    "        water = pd.read_sql('SELECT * FROM water_table', engine)\n",
    "        return water\n",
    "    except Exception as e:\n",
    "        print(f\"Error reading from database or file: {e}\")\n",
    "        return pd.DataFrame()  # Retorna un DataFrame vacío en caso de error\n"
   ]
  },
  {
   "cell_type": "code",
   "execution_count": 8,
   "metadata": {},
   "outputs": [
    {
     "name": "stderr",
     "output_type": "stream",
     "text": [
      "2024-05-02 22:08:59,119 - INFO - Starting transformations on water data.\n"
     ]
    },
    {
     "ename": "AttributeError",
     "evalue": "Can only use .str accessor with string values!",
     "output_type": "error",
     "traceback": [
      "\u001b[1;31m---------------------------------------------------------------------------\u001b[0m",
      "\u001b[1;31mAttributeError\u001b[0m                            Traceback (most recent call last)",
      "Cell \u001b[1;32mIn[8], line 14\u001b[0m\n\u001b[0;32m     11\u001b[0m     \u001b[38;5;28mprint\u001b[39m(transformed_water_df\u001b[38;5;241m.\u001b[39mhead())\n\u001b[0;32m     13\u001b[0m \u001b[38;5;66;03m# Llamar a la función principal para procesar los datos\u001b[39;00m\n\u001b[1;32m---> 14\u001b[0m \u001b[43mprocess_water_data\u001b[49m\u001b[43m(\u001b[49m\u001b[43m)\u001b[49m\n",
      "Cell \u001b[1;32mIn[8], line 8\u001b[0m, in \u001b[0;36mprocess_water_data\u001b[1;34m()\u001b[0m\n\u001b[0;32m      5\u001b[0m water_df \u001b[38;5;241m=\u001b[39m read_db_water()\n\u001b[0;32m      7\u001b[0m \u001b[38;5;66;03m# Aplicar transformaciones\u001b[39;00m\n\u001b[1;32m----> 8\u001b[0m transformed_water_df \u001b[38;5;241m=\u001b[39m \u001b[43mapply_transformations\u001b[49m\u001b[43m(\u001b[49m\u001b[43mwater_df\u001b[49m\u001b[43m)\u001b[49m\n\u001b[0;32m     10\u001b[0m \u001b[38;5;66;03m# Aquí podrías agregar más lógica, como guardar los resultados, enviarlos a otro sistema, etc.\u001b[39;00m\n\u001b[0;32m     11\u001b[0m \u001b[38;5;28mprint\u001b[39m(transformed_water_df\u001b[38;5;241m.\u001b[39mhead())\n",
      "File \u001b[1;32mc:\\Users\\JSLV3\\Documents\\5to Semestre\\ETL\\Proyecto Water Quality\\1ra parte\\Water_project\\ETL-Proyect\\Airflow_water\\transform.py:97\u001b[0m, in \u001b[0;36mapply_transformations\u001b[1;34m(water)\u001b[0m\n\u001b[0;32m     95\u001b[0m \u001b[38;5;28;01mdef\u001b[39;00m \u001b[38;5;21mapply_transformations\u001b[39m(water):\n\u001b[0;32m     96\u001b[0m     logging\u001b[38;5;241m.\u001b[39minfo(\u001b[38;5;124m\"\u001b[39m\u001b[38;5;124mStarting transformations on water data.\u001b[39m\u001b[38;5;124m\"\u001b[39m)\n\u001b[1;32m---> 97\u001b[0m     water \u001b[38;5;241m=\u001b[39m \u001b[43mconvert_irca_columns\u001b[49m\u001b[43m(\u001b[49m\u001b[43mwater\u001b[49m\u001b[43m)\u001b[49m\n\u001b[0;32m     98\u001b[0m     logging\u001b[38;5;241m.\u001b[39minfo(\u001b[38;5;124m\"\u001b[39m\u001b[38;5;124mConverted IRCA columns to float.\u001b[39m\u001b[38;5;124m\"\u001b[39m)\n\u001b[0;32m    100\u001b[0m     water \u001b[38;5;241m=\u001b[39m standardize_place_names(water)\n",
      "File \u001b[1;32mc:\\Users\\JSLV3\\Documents\\5to Semestre\\ETL\\Proyecto Water Quality\\1ra parte\\Water_project\\ETL-Proyect\\Airflow_water\\transform.py:9\u001b[0m, in \u001b[0;36mconvert_irca_columns\u001b[1;34m(water)\u001b[0m\n\u001b[0;32m      8\u001b[0m \u001b[38;5;28;01mdef\u001b[39;00m \u001b[38;5;21mconvert_irca_columns\u001b[39m(water):\n\u001b[1;32m----> 9\u001b[0m     water[\u001b[38;5;124m'\u001b[39m\u001b[38;5;124mIrcaMinimo\u001b[39m\u001b[38;5;124m'\u001b[39m] \u001b[38;5;241m=\u001b[39m \u001b[43mwater\u001b[49m\u001b[43m[\u001b[49m\u001b[38;5;124;43m'\u001b[39;49m\u001b[38;5;124;43mIrcaMinimo\u001b[39;49m\u001b[38;5;124;43m'\u001b[39;49m\u001b[43m]\u001b[49m\u001b[38;5;241;43m.\u001b[39;49m\u001b[43mstr\u001b[49m\u001b[38;5;241m.\u001b[39mreplace(\u001b[38;5;124m'\u001b[39m\u001b[38;5;124m,\u001b[39m\u001b[38;5;124m'\u001b[39m, \u001b[38;5;124m'\u001b[39m\u001b[38;5;124m.\u001b[39m\u001b[38;5;124m'\u001b[39m)\u001b[38;5;241m.\u001b[39mastype(\u001b[38;5;28mfloat\u001b[39m)\n\u001b[0;32m     10\u001b[0m     water[\u001b[38;5;124m'\u001b[39m\u001b[38;5;124mIrcaMaximo\u001b[39m\u001b[38;5;124m'\u001b[39m] \u001b[38;5;241m=\u001b[39m water[\u001b[38;5;124m'\u001b[39m\u001b[38;5;124mIrcaMaximo\u001b[39m\u001b[38;5;124m'\u001b[39m]\u001b[38;5;241m.\u001b[39mstr\u001b[38;5;241m.\u001b[39mreplace(\u001b[38;5;124m'\u001b[39m\u001b[38;5;124m,\u001b[39m\u001b[38;5;124m'\u001b[39m, \u001b[38;5;124m'\u001b[39m\u001b[38;5;124m.\u001b[39m\u001b[38;5;124m'\u001b[39m)\u001b[38;5;241m.\u001b[39mastype(\u001b[38;5;28mfloat\u001b[39m)\n\u001b[0;32m     11\u001b[0m     water[\u001b[38;5;124m'\u001b[39m\u001b[38;5;124mIrcaPromedio\u001b[39m\u001b[38;5;124m'\u001b[39m] \u001b[38;5;241m=\u001b[39m water[\u001b[38;5;124m'\u001b[39m\u001b[38;5;124mIrcaPromedio\u001b[39m\u001b[38;5;124m'\u001b[39m]\u001b[38;5;241m.\u001b[39mstr\u001b[38;5;241m.\u001b[39mreplace(\u001b[38;5;124m'\u001b[39m\u001b[38;5;124m,\u001b[39m\u001b[38;5;124m'\u001b[39m, \u001b[38;5;124m'\u001b[39m\u001b[38;5;124m.\u001b[39m\u001b[38;5;124m'\u001b[39m)\u001b[38;5;241m.\u001b[39mastype(\u001b[38;5;28mfloat\u001b[39m)\n",
      "File \u001b[1;32mc:\\Users\\JSLV3\\AppData\\Local\\Programs\\Python\\Python312\\Lib\\site-packages\\pandas\\core\\generic.py:6296\u001b[0m, in \u001b[0;36mNDFrame.__getattr__\u001b[1;34m(self, name)\u001b[0m\n\u001b[0;32m   6289\u001b[0m \u001b[38;5;28;01mif\u001b[39;00m (\n\u001b[0;32m   6290\u001b[0m     name \u001b[38;5;129;01mnot\u001b[39;00m \u001b[38;5;129;01min\u001b[39;00m \u001b[38;5;28mself\u001b[39m\u001b[38;5;241m.\u001b[39m_internal_names_set\n\u001b[0;32m   6291\u001b[0m     \u001b[38;5;129;01mand\u001b[39;00m name \u001b[38;5;129;01mnot\u001b[39;00m \u001b[38;5;129;01min\u001b[39;00m \u001b[38;5;28mself\u001b[39m\u001b[38;5;241m.\u001b[39m_metadata\n\u001b[0;32m   6292\u001b[0m     \u001b[38;5;129;01mand\u001b[39;00m name \u001b[38;5;129;01mnot\u001b[39;00m \u001b[38;5;129;01min\u001b[39;00m \u001b[38;5;28mself\u001b[39m\u001b[38;5;241m.\u001b[39m_accessors\n\u001b[0;32m   6293\u001b[0m     \u001b[38;5;129;01mand\u001b[39;00m \u001b[38;5;28mself\u001b[39m\u001b[38;5;241m.\u001b[39m_info_axis\u001b[38;5;241m.\u001b[39m_can_hold_identifiers_and_holds_name(name)\n\u001b[0;32m   6294\u001b[0m ):\n\u001b[0;32m   6295\u001b[0m     \u001b[38;5;28;01mreturn\u001b[39;00m \u001b[38;5;28mself\u001b[39m[name]\n\u001b[1;32m-> 6296\u001b[0m \u001b[38;5;28;01mreturn\u001b[39;00m \u001b[38;5;28;43mobject\u001b[39;49m\u001b[38;5;241;43m.\u001b[39;49m\u001b[38;5;21;43m__getattribute__\u001b[39;49m\u001b[43m(\u001b[49m\u001b[38;5;28;43mself\u001b[39;49m\u001b[43m,\u001b[49m\u001b[43m \u001b[49m\u001b[43mname\u001b[49m\u001b[43m)\u001b[49m\n",
      "File \u001b[1;32mc:\\Users\\JSLV3\\AppData\\Local\\Programs\\Python\\Python312\\Lib\\site-packages\\pandas\\core\\accessor.py:224\u001b[0m, in \u001b[0;36mCachedAccessor.__get__\u001b[1;34m(self, obj, cls)\u001b[0m\n\u001b[0;32m    221\u001b[0m \u001b[38;5;28;01mif\u001b[39;00m obj \u001b[38;5;129;01mis\u001b[39;00m \u001b[38;5;28;01mNone\u001b[39;00m:\n\u001b[0;32m    222\u001b[0m     \u001b[38;5;66;03m# we're accessing the attribute of the class, i.e., Dataset.geo\u001b[39;00m\n\u001b[0;32m    223\u001b[0m     \u001b[38;5;28;01mreturn\u001b[39;00m \u001b[38;5;28mself\u001b[39m\u001b[38;5;241m.\u001b[39m_accessor\n\u001b[1;32m--> 224\u001b[0m accessor_obj \u001b[38;5;241m=\u001b[39m \u001b[38;5;28;43mself\u001b[39;49m\u001b[38;5;241;43m.\u001b[39;49m\u001b[43m_accessor\u001b[49m\u001b[43m(\u001b[49m\u001b[43mobj\u001b[49m\u001b[43m)\u001b[49m\n\u001b[0;32m    225\u001b[0m \u001b[38;5;66;03m# Replace the property with the accessor object. Inspired by:\u001b[39;00m\n\u001b[0;32m    226\u001b[0m \u001b[38;5;66;03m# https://www.pydanny.com/cached-property.html\u001b[39;00m\n\u001b[0;32m    227\u001b[0m \u001b[38;5;66;03m# We need to use object.__setattr__ because we overwrite __setattr__ on\u001b[39;00m\n\u001b[0;32m    228\u001b[0m \u001b[38;5;66;03m# NDFrame\u001b[39;00m\n\u001b[0;32m    229\u001b[0m \u001b[38;5;28mobject\u001b[39m\u001b[38;5;241m.\u001b[39m\u001b[38;5;21m__setattr__\u001b[39m(obj, \u001b[38;5;28mself\u001b[39m\u001b[38;5;241m.\u001b[39m_name, accessor_obj)\n",
      "File \u001b[1;32mc:\\Users\\JSLV3\\AppData\\Local\\Programs\\Python\\Python312\\Lib\\site-packages\\pandas\\core\\strings\\accessor.py:191\u001b[0m, in \u001b[0;36mStringMethods.__init__\u001b[1;34m(self, data)\u001b[0m\n\u001b[0;32m    188\u001b[0m \u001b[38;5;28;01mdef\u001b[39;00m \u001b[38;5;21m__init__\u001b[39m(\u001b[38;5;28mself\u001b[39m, data) \u001b[38;5;241m-\u001b[39m\u001b[38;5;241m>\u001b[39m \u001b[38;5;28;01mNone\u001b[39;00m:\n\u001b[0;32m    189\u001b[0m     \u001b[38;5;28;01mfrom\u001b[39;00m \u001b[38;5;21;01mpandas\u001b[39;00m\u001b[38;5;21;01m.\u001b[39;00m\u001b[38;5;21;01mcore\u001b[39;00m\u001b[38;5;21;01m.\u001b[39;00m\u001b[38;5;21;01marrays\u001b[39;00m\u001b[38;5;21;01m.\u001b[39;00m\u001b[38;5;21;01mstring_\u001b[39;00m \u001b[38;5;28;01mimport\u001b[39;00m StringDtype\n\u001b[1;32m--> 191\u001b[0m     \u001b[38;5;28mself\u001b[39m\u001b[38;5;241m.\u001b[39m_inferred_dtype \u001b[38;5;241m=\u001b[39m \u001b[38;5;28;43mself\u001b[39;49m\u001b[38;5;241;43m.\u001b[39;49m\u001b[43m_validate\u001b[49m\u001b[43m(\u001b[49m\u001b[43mdata\u001b[49m\u001b[43m)\u001b[49m\n\u001b[0;32m    192\u001b[0m     \u001b[38;5;28mself\u001b[39m\u001b[38;5;241m.\u001b[39m_is_categorical \u001b[38;5;241m=\u001b[39m \u001b[38;5;28misinstance\u001b[39m(data\u001b[38;5;241m.\u001b[39mdtype, CategoricalDtype)\n\u001b[0;32m    193\u001b[0m     \u001b[38;5;28mself\u001b[39m\u001b[38;5;241m.\u001b[39m_is_string \u001b[38;5;241m=\u001b[39m \u001b[38;5;28misinstance\u001b[39m(data\u001b[38;5;241m.\u001b[39mdtype, StringDtype)\n",
      "File \u001b[1;32mc:\\Users\\JSLV3\\AppData\\Local\\Programs\\Python\\Python312\\Lib\\site-packages\\pandas\\core\\strings\\accessor.py:245\u001b[0m, in \u001b[0;36mStringMethods._validate\u001b[1;34m(data)\u001b[0m\n\u001b[0;32m    242\u001b[0m inferred_dtype \u001b[38;5;241m=\u001b[39m lib\u001b[38;5;241m.\u001b[39minfer_dtype(values, skipna\u001b[38;5;241m=\u001b[39m\u001b[38;5;28;01mTrue\u001b[39;00m)\n\u001b[0;32m    244\u001b[0m \u001b[38;5;28;01mif\u001b[39;00m inferred_dtype \u001b[38;5;129;01mnot\u001b[39;00m \u001b[38;5;129;01min\u001b[39;00m allowed_types:\n\u001b[1;32m--> 245\u001b[0m     \u001b[38;5;28;01mraise\u001b[39;00m \u001b[38;5;167;01mAttributeError\u001b[39;00m(\u001b[38;5;124m\"\u001b[39m\u001b[38;5;124mCan only use .str accessor with string values!\u001b[39m\u001b[38;5;124m\"\u001b[39m)\n\u001b[0;32m    246\u001b[0m \u001b[38;5;28;01mreturn\u001b[39;00m inferred_dtype\n",
      "\u001b[1;31mAttributeError\u001b[0m: Can only use .str accessor with string values!"
     ]
    }
   ],
   "source": [
    "from transform import apply_transformations\n",
    "\n",
    "def process_water_data():\n",
    "    # Leer datos de la base de datos\n",
    "    water_df = read_db_water()\n",
    "    \n",
    "    # Aplicar transformaciones\n",
    "    transformed_water_df = apply_transformations(water_df)\n",
    "    \n",
    "    # Aquí podrías agregar más lógica, como guardar los resultados, enviarlos a otro sistema, etc.\n",
    "    print(transformed_water_df.head())\n",
    "\n",
    "# Llamar a la función principal para procesar los datos\n",
    "process_water_data()\n"
   ]
  }
 ],
 "metadata": {
  "kernelspec": {
   "display_name": "Python 3",
   "language": "python",
   "name": "python3"
  },
  "language_info": {
   "codemirror_mode": {
    "name": "ipython",
    "version": 3
   },
   "file_extension": ".py",
   "mimetype": "text/x-python",
   "name": "python",
   "nbconvert_exporter": "python",
   "pygments_lexer": "ipython3",
   "version": "3.12.2"
  }
 },
 "nbformat": 4,
 "nbformat_minor": 2
}
