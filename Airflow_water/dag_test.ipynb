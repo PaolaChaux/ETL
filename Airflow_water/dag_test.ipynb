{
 "cells": [
  {
   "cell_type": "code",
   "execution_count": 1,
   "metadata": {},
   "outputs": [],
   "source": [
    "import pandas as pd\n",
    "import numpy as np\n",
    "from sqlalchemy import create_engine\n",
    "import json\n",
    "import psycopg2\n",
    "from sodapy import Socrata"
   ]
  },
  {
   "cell_type": "code",
   "execution_count": 2,
   "metadata": {},
   "outputs": [],
   "source": [
    "# def read_db_water():\n",
    "#     with open('db_config.json') as file:\n",
    "#         db_config = json.load(file)\n",
    "\n",
    "#     engine = create_engine(f'postgresql+psycopg2://{db_config[\"user\"]}:{db_config[\"password\"]}@{db_config[\"host\"]}:5432/{db_config[\"dbname\"]}')\n",
    "\n",
    "#     water = pd.read_sql('SELECT * FROM water_table', engine)\n",
    "\n",
    "#     print(water.head())\n",
    "\n",
    "# read_db_water()\n"
   ]
  },
  {
   "cell_type": "code",
   "execution_count": 2,
   "metadata": {},
   "outputs": [],
   "source": [
    "def read_db_water():\n",
    "    with open('db_config.json') as file:\n",
    "        db_config = json.load(file)\n",
    "\n",
    "    engine = create_engine(f'postgresql+psycopg2://{db_config[\"user\"]}:{db_config[\"password\"]}@{db_config[\"host\"]}:5432/{db_config[\"dbname\"]}')\n",
    "\n",
    "    water = pd.read_sql('SELECT * FROM water_table', engine)\n",
    "    \n",
    "    return water"
   ]
  },
  {
   "cell_type": "code",
   "execution_count": 3,
   "metadata": {},
   "outputs": [
    {
     "name": "stderr",
     "output_type": "stream",
     "text": [
      "2024-05-03 12:59:25,578 - INFO - Starting transformations on water data.\n",
      "2024-05-03 12:59:25,815 - INFO - Standardized place names.\n",
      "2024-05-03 12:59:25,846 - INFO - Scaled numerical columns.\n",
      "2024-05-03 12:59:25,908 - INFO - Filtered top influential parameters.\n",
      "2024-05-03 12:59:26,010 - INFO - Classified IRCA values into categories.\n",
      "2024-05-03 12:59:28,655 - INFO - Categorized treatment data.\n",
      "2024-05-03 12:59:32,809 - INFO - Critical Proportion.\n",
      "2024-05-03 12:59:32,860 - INFO - Dropped unnecessary columns.\n",
      "2024-05-03 12:59:32,861 - INFO - Column names standardized\n",
      "2024-05-03 12:59:32,861 - INFO - Standardized column names.\n",
      "2024-05-03 12:59:32,862 - INFO - All transformations applied successfully.\n"
     ]
    },
    {
     "name": "stdout",
     "output_type": "stream",
     "text": [
      "          año nombredepartamento  div_dpto nombremunicipio  divi_muni  \\\n",
      "0  2010-01-01            Bolívar        13        El Guamo      13248   \n",
      "1  2010-01-01            Bolívar        13        El Guamo      13248   \n",
      "2  2010-01-01            Bolívar        13        El Guamo      13248   \n",
      "3  2010-01-01            Bolívar        13        El Guamo      13248   \n",
      "4  2010-01-01            Bolívar        13        El Guamo      13248   \n",
      "\n",
      "   ircaminimo  ircamaximo  ircapromedio nombreparametroanalisis2  \\\n",
      "0         0.0       100.0         37.32        Alcanilidad Total   \n",
      "1         0.0       100.0         37.32                 Aluminio   \n",
      "2         0.0       100.0         37.32                 Arsénico   \n",
      "3         0.0       100.0         37.32                   Cadmio   \n",
      "4         0.0       100.0         37.32                   Calcio   \n",
      "\n",
      "   numeroparametrospromedio  is_top_15   rango_irca tratamientocategoría  \\\n",
      "0                         2       True  Riesgo alto  Tratamiento parcial   \n",
      "1                         2      False  Riesgo alto  Tratamiento parcial   \n",
      "2                         2      False  Riesgo alto  Tratamiento parcial   \n",
      "3                         2      False  Riesgo alto  Tratamiento parcial   \n",
      "4                         2      False  Riesgo alto  Tratamiento parcial   \n",
      "\n",
      "   proporción_crítica  \n",
      "0                 0.5  \n",
      "1                 0.5  \n",
      "2                 0.5  \n",
      "3                 0.5  \n",
      "4                 0.5  \n"
     ]
    }
   ],
   "source": [
    "from transform_dag import apply_transformations\n",
    "\n",
    "def transform_water():\n",
    "    \n",
    "    water = read_db_water()\n",
    "    \n",
    "    water = apply_transformations(water)\n",
    "    \n",
    "    print(water.head())\n",
    "\n",
    "# Llamar a la función principal para procesar los datos\n",
    "transform_water()\n",
    "\n"
   ]
  },
  {
   "cell_type": "code",
   "execution_count": null,
   "metadata": {},
   "outputs": [
    {
     "name": "stderr",
     "output_type": "stream",
     "text": [
      "2024-05-03 11:12:42,021 - WARNING - Requests made without an app_token will be subject to strict throttling limits.\n"
     ]
    },
    {
     "name": "stdout",
     "output_type": "stream",
     "text": [
      "Archivo descargado con éxito.\n"
     ]
    }
   ],
   "source": [
    "def extrat_api(dataset_id, output_filename, limit=2000):\n",
    "    client = Socrata(\"www.datos.gov.co\", None)\n",
    "    \n",
    "    results = client.get(dataset_id, limit=limit)\n",
    "    \n",
    "    api = pd.DataFrame.from_records(results)\n",
    "    \n",
    "    api.to_csv(output_filename, index=False)\n",
    "    \n",
    "    print(\"Archivo descargado con éxito.\")\n",
    "\n",
    "extrat_api(\"tcwu-r53g\", \"datos_descargados.csv\")\n"
   ]
  },
  {
   "cell_type": "code",
   "execution_count": 5,
   "metadata": {},
   "outputs": [
    {
     "ename": "ImportError",
     "evalue": "cannot import name 'transformations_api_data' from 'transform_dag' (c:\\Users\\JSLV3\\Documents\\5to Semestre\\ETL\\Proyecto Water Quality\\1ra parte\\Water_project\\ETL-Proyect\\Airflow_water\\transform_dag.py)",
     "output_type": "error",
     "traceback": [
      "\u001b[1;31m---------------------------------------------------------------------------\u001b[0m",
      "\u001b[1;31mImportError\u001b[0m                               Traceback (most recent call last)",
      "Cell \u001b[1;32mIn[5], line 1\u001b[0m\n\u001b[1;32m----> 1\u001b[0m \u001b[38;5;28;01mfrom\u001b[39;00m \u001b[38;5;21;01mtransform_dag\u001b[39;00m \u001b[38;5;28;01mimport\u001b[39;00m transformations_api_data\n\u001b[0;32m      3\u001b[0m \u001b[38;5;28;01mdef\u001b[39;00m \u001b[38;5;21mtransform_api\u001b[39m():\n\u001b[0;32m      5\u001b[0m     api \u001b[38;5;241m=\u001b[39m extrat_api()\n",
      "\u001b[1;31mImportError\u001b[0m: cannot import name 'transformations_api_data' from 'transform_dag' (c:\\Users\\JSLV3\\Documents\\5to Semestre\\ETL\\Proyecto Water Quality\\1ra parte\\Water_project\\ETL-Proyect\\Airflow_water\\transform_dag.py)"
     ]
    }
   ],
   "source": [
    "from transform_dag import transformations_api_data\n",
    "\n",
    "def transform_api():\n",
    "    \n",
    "    api = extrat_api()\n",
    "    \n",
    "    api = transformations_api_data(api)\n",
    "    \n",
    "    print(api.head())\n",
    "\n",
    "# Llamar a la función principal para procesar los datos\n",
    "transform_api()\n"
   ]
  }
 ],
 "metadata": {
  "kernelspec": {
   "display_name": "Python 3",
   "language": "python",
   "name": "python3"
  },
  "language_info": {
   "codemirror_mode": {
    "name": "ipython",
    "version": 3
   },
   "file_extension": ".py",
   "mimetype": "text/x-python",
   "name": "python",
   "nbconvert_exporter": "python",
   "pygments_lexer": "ipython3",
   "version": "3.12.2"
  }
 },
 "nbformat": 4,
 "nbformat_minor": 2
}
