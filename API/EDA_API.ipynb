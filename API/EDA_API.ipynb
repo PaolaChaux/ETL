{
 "cells": [
  {
   "cell_type": "code",
   "execution_count": 1,
   "metadata": {},
   "outputs": [],
   "source": [
    "import pandas as pd\n",
    "import numpy as np\n",
    "import matplotlib.pyplot as plt\n",
    "import seaborn as sns\n",
    "from sqlalchemy import create_engine\n"
   ]
  },
  {
   "cell_type": "code",
   "execution_count": 18,
   "metadata": {},
   "outputs": [
    {
     "data": {
      "text/html": [
       "<div>\n",
       "<style scoped>\n",
       "    .dataframe tbody tr th:only-of-type {\n",
       "        vertical-align: middle;\n",
       "    }\n",
       "\n",
       "    .dataframe tbody tr th {\n",
       "        vertical-align: top;\n",
       "    }\n",
       "\n",
       "    .dataframe thead th {\n",
       "        text-align: right;\n",
       "    }\n",
       "</style>\n",
       "<table border=\"1\" class=\"dataframe\">\n",
       "  <thead>\n",
       "    <tr style=\"text-align: right;\">\n",
       "      <th></th>\n",
       "      <th>fecha_terminacion_proyecto</th>\n",
       "      <th>fecha_de_corte</th>\n",
       "      <th>c_digo_divipola_departamento</th>\n",
       "      <th>departamento</th>\n",
       "      <th>c_digo_divipola_municipio</th>\n",
       "      <th>municipio</th>\n",
       "      <th>indicador</th>\n",
       "      <th>nombre_proyecto</th>\n",
       "      <th>origen</th>\n",
       "      <th>aporte_nacion</th>\n",
       "      <th>contrapartida</th>\n",
       "      <th>estado_seguimiento</th>\n",
       "    </tr>\n",
       "  </thead>\n",
       "  <tbody>\n",
       "    <tr>\n",
       "      <th>0</th>\n",
       "      <td>2018-12-31T00:00:00.000</td>\n",
       "      <td>2024-04-04T00:00:00.000</td>\n",
       "      <td>18</td>\n",
       "      <td>CAQUETA</td>\n",
       "      <td>18029, 18205, 18610</td>\n",
       "      <td>Albania(CAQ), Curillo(CAQ), San Jose De Fragua...</td>\n",
       "      <td>Nueva Población Beneficiada Acueducto Urbano</td>\n",
       "      <td>CONSTRUCCION SISTEMA DE ACUEDUCTO REGIONAL PAR...</td>\n",
       "      <td>PDA</td>\n",
       "      <td>12110573518</td>\n",
       "      <td>953340488</td>\n",
       "      <td>En Liquidación</td>\n",
       "    </tr>\n",
       "    <tr>\n",
       "      <th>1</th>\n",
       "      <td>2018-10-16T00:00:00.000</td>\n",
       "      <td>2024-04-04T00:00:00.000</td>\n",
       "      <td>15</td>\n",
       "      <td>BOYACA</td>\n",
       "      <td>15693</td>\n",
       "      <td>Santa Rosa De Viterbo(BOY)</td>\n",
       "      <td>Nueva Población Beneficiada Acueducto Urbano</td>\n",
       "      <td>CONSTRUCCION RED DE CONDUCCION, REDES DE DISTR...</td>\n",
       "      <td>PDA</td>\n",
       "      <td>557345219</td>\n",
       "      <td>2236932650</td>\n",
       "      <td>En Liquidación</td>\n",
       "    </tr>\n",
       "    <tr>\n",
       "      <th>2</th>\n",
       "      <td>2018-10-08T00:00:00.000</td>\n",
       "      <td>2024-04-04T00:00:00.000</td>\n",
       "      <td>17</td>\n",
       "      <td>CALDAS</td>\n",
       "      <td>17050</td>\n",
       "      <td>Aranzazu(CAL)</td>\n",
       "      <td>Nueva Población Beneficiada Alcantarillado Urbano</td>\n",
       "      <td>OPTIMIZACION SISTEMAS DE ACUEDUCTO Y ALCANTARI...</td>\n",
       "      <td>PDA</td>\n",
       "      <td>491820256</td>\n",
       "      <td>664819896</td>\n",
       "      <td>Terminado</td>\n",
       "    </tr>\n",
       "    <tr>\n",
       "      <th>3</th>\n",
       "      <td>2019-06-01T00:00:00.000</td>\n",
       "      <td>2024-04-04T00:00:00.000</td>\n",
       "      <td>17</td>\n",
       "      <td>CALDAS</td>\n",
       "      <td>17446</td>\n",
       "      <td>Marulanda(CAL)</td>\n",
       "      <td>Nueva Población Beneficiada Acueducto Rural</td>\n",
       "      <td>MEJORAMIENTO SISTEMA DE ACUEDUCTO EN EL CORREG...</td>\n",
       "      <td>PDA</td>\n",
       "      <td>286128295</td>\n",
       "      <td>540512429</td>\n",
       "      <td>Terminado</td>\n",
       "    </tr>\n",
       "    <tr>\n",
       "      <th>4</th>\n",
       "      <td>2019-02-12T00:00:00.000</td>\n",
       "      <td>2024-04-04T00:00:00.000</td>\n",
       "      <td>5</td>\n",
       "      <td>ANTIOQUIA</td>\n",
       "      <td>5250</td>\n",
       "      <td>El Bagre(ANT)</td>\n",
       "      <td>Nueva Población Beneficiada Acueducto Urbano</td>\n",
       "      <td>CONSTRUCCION DEL PLAN MAESTRO DE ACUEDUCTO URB...</td>\n",
       "      <td>PDA</td>\n",
       "      <td>0</td>\n",
       "      <td>4773790842</td>\n",
       "      <td>Liquidado</td>\n",
       "    </tr>\n",
       "  </tbody>\n",
       "</table>\n",
       "</div>"
      ],
      "text/plain": [
       "  fecha_terminacion_proyecto           fecha_de_corte  \\\n",
       "0    2018-12-31T00:00:00.000  2024-04-04T00:00:00.000   \n",
       "1    2018-10-16T00:00:00.000  2024-04-04T00:00:00.000   \n",
       "2    2018-10-08T00:00:00.000  2024-04-04T00:00:00.000   \n",
       "3    2019-06-01T00:00:00.000  2024-04-04T00:00:00.000   \n",
       "4    2019-02-12T00:00:00.000  2024-04-04T00:00:00.000   \n",
       "\n",
       "   c_digo_divipola_departamento departamento c_digo_divipola_municipio  \\\n",
       "0                            18      CAQUETA       18029, 18205, 18610   \n",
       "1                            15       BOYACA                     15693   \n",
       "2                            17       CALDAS                     17050   \n",
       "3                            17       CALDAS                     17446   \n",
       "4                             5    ANTIOQUIA                      5250   \n",
       "\n",
       "                                           municipio  \\\n",
       "0  Albania(CAQ), Curillo(CAQ), San Jose De Fragua...   \n",
       "1                         Santa Rosa De Viterbo(BOY)   \n",
       "2                                      Aranzazu(CAL)   \n",
       "3                                     Marulanda(CAL)   \n",
       "4                                      El Bagre(ANT)   \n",
       "\n",
       "                                           indicador  \\\n",
       "0       Nueva Población Beneficiada Acueducto Urbano   \n",
       "1       Nueva Población Beneficiada Acueducto Urbano   \n",
       "2  Nueva Población Beneficiada Alcantarillado Urbano   \n",
       "3        Nueva Población Beneficiada Acueducto Rural   \n",
       "4       Nueva Población Beneficiada Acueducto Urbano   \n",
       "\n",
       "                                     nombre_proyecto origen  aporte_nacion  \\\n",
       "0  CONSTRUCCION SISTEMA DE ACUEDUCTO REGIONAL PAR...    PDA    12110573518   \n",
       "1  CONSTRUCCION RED DE CONDUCCION, REDES DE DISTR...    PDA      557345219   \n",
       "2  OPTIMIZACION SISTEMAS DE ACUEDUCTO Y ALCANTARI...    PDA      491820256   \n",
       "3  MEJORAMIENTO SISTEMA DE ACUEDUCTO EN EL CORREG...    PDA      286128295   \n",
       "4  CONSTRUCCION DEL PLAN MAESTRO DE ACUEDUCTO URB...    PDA              0   \n",
       "\n",
       "   contrapartida estado_seguimiento  \n",
       "0      953340488     En Liquidación  \n",
       "1     2236932650     En Liquidación  \n",
       "2      664819896          Terminado  \n",
       "3      540512429          Terminado  \n",
       "4     4773790842          Liquidado  "
      ]
     },
     "execution_count": 18,
     "metadata": {},
     "output_type": "execute_result"
    }
   ],
   "source": [
    "api = pd.read_csv(\"C:\\\\Users\\\\JSLV3\\\\Documents\\\\datos_descargados.csv\")\n",
    "api.head()\n"
   ]
  },
  {
   "cell_type": "code",
   "execution_count": 19,
   "metadata": {},
   "outputs": [
    {
     "name": "stdout",
     "output_type": "stream",
     "text": [
      "<class 'pandas.core.frame.DataFrame'>\n",
      "RangeIndex: 268 entries, 0 to 267\n",
      "Data columns (total 12 columns):\n",
      " #   Column                        Non-Null Count  Dtype \n",
      "---  ------                        --------------  ----- \n",
      " 0   fecha_terminacion_proyecto    268 non-null    object\n",
      " 1   fecha_de_corte                268 non-null    object\n",
      " 2   c_digo_divipola_departamento  268 non-null    int64 \n",
      " 3   departamento                  268 non-null    object\n",
      " 4   c_digo_divipola_municipio     268 non-null    object\n",
      " 5   municipio                     268 non-null    object\n",
      " 6   indicador                     268 non-null    object\n",
      " 7   nombre_proyecto               268 non-null    object\n",
      " 8   origen                        268 non-null    object\n",
      " 9   aporte_nacion                 268 non-null    int64 \n",
      " 10  contrapartida                 268 non-null    int64 \n",
      " 11  estado_seguimiento            268 non-null    object\n",
      "dtypes: int64(3), object(9)\n",
      "memory usage: 25.3+ KB\n"
     ]
    }
   ],
   "source": [
    "api.info()"
   ]
  },
  {
   "cell_type": "code",
   "execution_count": 20,
   "metadata": {},
   "outputs": [
    {
     "data": {
      "text/html": [
       "<div>\n",
       "<style scoped>\n",
       "    .dataframe tbody tr th:only-of-type {\n",
       "        vertical-align: middle;\n",
       "    }\n",
       "\n",
       "    .dataframe tbody tr th {\n",
       "        vertical-align: top;\n",
       "    }\n",
       "\n",
       "    .dataframe thead th {\n",
       "        text-align: right;\n",
       "    }\n",
       "</style>\n",
       "<table border=\"1\" class=\"dataframe\">\n",
       "  <thead>\n",
       "    <tr style=\"text-align: right;\">\n",
       "      <th></th>\n",
       "      <th>fecha_terminacion_proyecto</th>\n",
       "      <th>fecha_de_corte</th>\n",
       "      <th>c_digo_divipola_departamento</th>\n",
       "      <th>departamento</th>\n",
       "      <th>c_digo_divipola_municipio</th>\n",
       "      <th>municipio</th>\n",
       "      <th>indicador</th>\n",
       "      <th>nombre_proyecto</th>\n",
       "      <th>origen</th>\n",
       "      <th>aporte_nacion</th>\n",
       "      <th>contrapartida</th>\n",
       "      <th>estado_seguimiento</th>\n",
       "    </tr>\n",
       "  </thead>\n",
       "  <tbody>\n",
       "    <tr>\n",
       "      <th>count</th>\n",
       "      <td>268</td>\n",
       "      <td>268</td>\n",
       "      <td>268.000000</td>\n",
       "      <td>268</td>\n",
       "      <td>268</td>\n",
       "      <td>268</td>\n",
       "      <td>268</td>\n",
       "      <td>268</td>\n",
       "      <td>268</td>\n",
       "      <td>2.680000e+02</td>\n",
       "      <td>2.680000e+02</td>\n",
       "      <td>268</td>\n",
       "    </tr>\n",
       "    <tr>\n",
       "      <th>unique</th>\n",
       "      <td>222</td>\n",
       "      <td>1</td>\n",
       "      <td>NaN</td>\n",
       "      <td>29</td>\n",
       "      <td>194</td>\n",
       "      <td>193</td>\n",
       "      <td>4</td>\n",
       "      <td>248</td>\n",
       "      <td>11</td>\n",
       "      <td>NaN</td>\n",
       "      <td>NaN</td>\n",
       "      <td>4</td>\n",
       "    </tr>\n",
       "    <tr>\n",
       "      <th>top</th>\n",
       "      <td>2018-12-31T00:00:00.000</td>\n",
       "      <td>2024-04-04T00:00:00.000</td>\n",
       "      <td>NaN</td>\n",
       "      <td>NARIÑO</td>\n",
       "      <td>44430</td>\n",
       "      <td>Maicao(LA )</td>\n",
       "      <td>Nueva Población Beneficiada Alcantarillado Urbano</td>\n",
       "      <td>CONSTRUCCIÓN DE CONEXIONES INTRADOMICILIARIAS ...</td>\n",
       "      <td>PDA</td>\n",
       "      <td>NaN</td>\n",
       "      <td>NaN</td>\n",
       "      <td>Terminado</td>\n",
       "    </tr>\n",
       "    <tr>\n",
       "      <th>freq</th>\n",
       "      <td>7</td>\n",
       "      <td>268</td>\n",
       "      <td>NaN</td>\n",
       "      <td>30</td>\n",
       "      <td>6</td>\n",
       "      <td>6</td>\n",
       "      <td>98</td>\n",
       "      <td>4</td>\n",
       "      <td>141</td>\n",
       "      <td>NaN</td>\n",
       "      <td>NaN</td>\n",
       "      <td>102</td>\n",
       "    </tr>\n",
       "    <tr>\n",
       "      <th>mean</th>\n",
       "      <td>NaN</td>\n",
       "      <td>NaN</td>\n",
       "      <td>43.298507</td>\n",
       "      <td>NaN</td>\n",
       "      <td>NaN</td>\n",
       "      <td>NaN</td>\n",
       "      <td>NaN</td>\n",
       "      <td>NaN</td>\n",
       "      <td>NaN</td>\n",
       "      <td>2.759527e+09</td>\n",
       "      <td>2.829967e+09</td>\n",
       "      <td>NaN</td>\n",
       "    </tr>\n",
       "    <tr>\n",
       "      <th>std</th>\n",
       "      <td>NaN</td>\n",
       "      <td>NaN</td>\n",
       "      <td>24.237443</td>\n",
       "      <td>NaN</td>\n",
       "      <td>NaN</td>\n",
       "      <td>NaN</td>\n",
       "      <td>NaN</td>\n",
       "      <td>NaN</td>\n",
       "      <td>NaN</td>\n",
       "      <td>6.160276e+09</td>\n",
       "      <td>4.588786e+09</td>\n",
       "      <td>NaN</td>\n",
       "    </tr>\n",
       "    <tr>\n",
       "      <th>min</th>\n",
       "      <td>NaN</td>\n",
       "      <td>NaN</td>\n",
       "      <td>5.000000</td>\n",
       "      <td>NaN</td>\n",
       "      <td>NaN</td>\n",
       "      <td>NaN</td>\n",
       "      <td>NaN</td>\n",
       "      <td>NaN</td>\n",
       "      <td>NaN</td>\n",
       "      <td>0.000000e+00</td>\n",
       "      <td>0.000000e+00</td>\n",
       "      <td>NaN</td>\n",
       "    </tr>\n",
       "    <tr>\n",
       "      <th>25%</th>\n",
       "      <td>NaN</td>\n",
       "      <td>NaN</td>\n",
       "      <td>20.000000</td>\n",
       "      <td>NaN</td>\n",
       "      <td>NaN</td>\n",
       "      <td>NaN</td>\n",
       "      <td>NaN</td>\n",
       "      <td>NaN</td>\n",
       "      <td>NaN</td>\n",
       "      <td>0.000000e+00</td>\n",
       "      <td>0.000000e+00</td>\n",
       "      <td>NaN</td>\n",
       "    </tr>\n",
       "    <tr>\n",
       "      <th>50%</th>\n",
       "      <td>NaN</td>\n",
       "      <td>NaN</td>\n",
       "      <td>44.000000</td>\n",
       "      <td>NaN</td>\n",
       "      <td>NaN</td>\n",
       "      <td>NaN</td>\n",
       "      <td>NaN</td>\n",
       "      <td>NaN</td>\n",
       "      <td>NaN</td>\n",
       "      <td>3.800891e+08</td>\n",
       "      <td>1.277241e+09</td>\n",
       "      <td>NaN</td>\n",
       "    </tr>\n",
       "    <tr>\n",
       "      <th>75%</th>\n",
       "      <td>NaN</td>\n",
       "      <td>NaN</td>\n",
       "      <td>63.000000</td>\n",
       "      <td>NaN</td>\n",
       "      <td>NaN</td>\n",
       "      <td>NaN</td>\n",
       "      <td>NaN</td>\n",
       "      <td>NaN</td>\n",
       "      <td>NaN</td>\n",
       "      <td>3.302808e+09</td>\n",
       "      <td>3.914618e+09</td>\n",
       "      <td>NaN</td>\n",
       "    </tr>\n",
       "    <tr>\n",
       "      <th>max</th>\n",
       "      <td>NaN</td>\n",
       "      <td>NaN</td>\n",
       "      <td>95.000000</td>\n",
       "      <td>NaN</td>\n",
       "      <td>NaN</td>\n",
       "      <td>NaN</td>\n",
       "      <td>NaN</td>\n",
       "      <td>NaN</td>\n",
       "      <td>NaN</td>\n",
       "      <td>6.152706e+10</td>\n",
       "      <td>3.112689e+10</td>\n",
       "      <td>NaN</td>\n",
       "    </tr>\n",
       "  </tbody>\n",
       "</table>\n",
       "</div>"
      ],
      "text/plain": [
       "       fecha_terminacion_proyecto           fecha_de_corte  \\\n",
       "count                         268                      268   \n",
       "unique                        222                        1   \n",
       "top       2018-12-31T00:00:00.000  2024-04-04T00:00:00.000   \n",
       "freq                            7                      268   \n",
       "mean                          NaN                      NaN   \n",
       "std                           NaN                      NaN   \n",
       "min                           NaN                      NaN   \n",
       "25%                           NaN                      NaN   \n",
       "50%                           NaN                      NaN   \n",
       "75%                           NaN                      NaN   \n",
       "max                           NaN                      NaN   \n",
       "\n",
       "        c_digo_divipola_departamento departamento c_digo_divipola_municipio  \\\n",
       "count                     268.000000          268                       268   \n",
       "unique                           NaN           29                       194   \n",
       "top                              NaN       NARIÑO                     44430   \n",
       "freq                             NaN           30                         6   \n",
       "mean                       43.298507          NaN                       NaN   \n",
       "std                        24.237443          NaN                       NaN   \n",
       "min                         5.000000          NaN                       NaN   \n",
       "25%                        20.000000          NaN                       NaN   \n",
       "50%                        44.000000          NaN                       NaN   \n",
       "75%                        63.000000          NaN                       NaN   \n",
       "max                        95.000000          NaN                       NaN   \n",
       "\n",
       "          municipio                                          indicador  \\\n",
       "count           268                                                268   \n",
       "unique          193                                                  4   \n",
       "top     Maicao(LA )  Nueva Población Beneficiada Alcantarillado Urbano   \n",
       "freq              6                                                 98   \n",
       "mean            NaN                                                NaN   \n",
       "std             NaN                                                NaN   \n",
       "min             NaN                                                NaN   \n",
       "25%             NaN                                                NaN   \n",
       "50%             NaN                                                NaN   \n",
       "75%             NaN                                                NaN   \n",
       "max             NaN                                                NaN   \n",
       "\n",
       "                                          nombre_proyecto origen  \\\n",
       "count                                                 268    268   \n",
       "unique                                                248     11   \n",
       "top     CONSTRUCCIÓN DE CONEXIONES INTRADOMICILIARIAS ...    PDA   \n",
       "freq                                                    4    141   \n",
       "mean                                                  NaN    NaN   \n",
       "std                                                   NaN    NaN   \n",
       "min                                                   NaN    NaN   \n",
       "25%                                                   NaN    NaN   \n",
       "50%                                                   NaN    NaN   \n",
       "75%                                                   NaN    NaN   \n",
       "max                                                   NaN    NaN   \n",
       "\n",
       "        aporte_nacion  contrapartida estado_seguimiento  \n",
       "count    2.680000e+02   2.680000e+02                268  \n",
       "unique            NaN            NaN                  4  \n",
       "top               NaN            NaN          Terminado  \n",
       "freq              NaN            NaN                102  \n",
       "mean     2.759527e+09   2.829967e+09                NaN  \n",
       "std      6.160276e+09   4.588786e+09                NaN  \n",
       "min      0.000000e+00   0.000000e+00                NaN  \n",
       "25%      0.000000e+00   0.000000e+00                NaN  \n",
       "50%      3.800891e+08   1.277241e+09                NaN  \n",
       "75%      3.302808e+09   3.914618e+09                NaN  \n",
       "max      6.152706e+10   3.112689e+10                NaN  "
      ]
     },
     "execution_count": 20,
     "metadata": {},
     "output_type": "execute_result"
    }
   ],
   "source": [
    "api.describe(include='all')\n"
   ]
  },
  {
   "cell_type": "markdown",
   "metadata": {},
   "source": [
    "•\tFecha de terminación del proyecto: Las fechas varían desde el 8 de marzo de 2017 hasta el 27 de febrero de 2024, con una fecha media de terminación alrededor del 24 de diciembre de 2020.\n",
    "\n",
    "•\tFecha de corte: Todas las observaciones tienen la misma fecha de corte, el 4 de abril de 2024.\n",
    "\n",
    "•\tCódigo DIVIPOLA del departamento: Hay 29 categorías únicas, con Nariño teniendo la mayor frecuencia (30 veces).\n",
    "\n",
    "•\tMunicipio: Hay 193 municipios únicos mencionados, con 'Maicao (La Guajira)' apareciendo más frecuentemente (6 veces).\n",
    "\n",
    "•\tIndicador: Hay 4 indicadores diferentes de beneficios proporcionados por los proyectos. El más común es \"Nueva Población Beneficiada Alcantarillado Urbano\" (98 veces).\n",
    "\n",
    "•\tNombre del proyecto: Hay 248 nombres de proyectos únicos, con el nombre más común siendo sobre construcción de conexiones intradomiciliarias, apareciendo 4 veces.\n",
    "\n",
    "•\tOrigen: Hay 11 orígenes diferentes de financiamiento, con PDA siendo el más frecuente (141 veces).\n",
    "\n",
    "•\tAporte de la nación y contrapartida: Estos campos son numéricos con valores que varían ampliamente, reflejando la diversidad de escala y tipo de financiamiento de los proyectos.\n",
    "\n",
    "•\tEstado de seguimiento: Los proyectos tienen uno de cuatro estados de seguimiento, siendo \"Terminado\" el más común (102 veces).\n"
   ]
  },
  {
   "cell_type": "markdown",
   "metadata": {},
   "source": [
    "Conversión de Fechas"
   ]
  },
  {
   "cell_type": "code",
   "execution_count": 21,
   "metadata": {},
   "outputs": [],
   "source": [
    "api['fecha_terminacion_proyecto'] = pd.to_datetime(api['fecha_terminacion_proyecto'])\n",
    "api['fecha_de_corte'] = pd.to_datetime(api['fecha_de_corte'])"
   ]
  },
  {
   "cell_type": "markdown",
   "metadata": {},
   "source": [
    "Las columnas fecha_terminacion_proyecto y fecha_de_corte estaban originalmente en formato de texto (string), lo cual no es óptimo para realizar operaciones relacionadas con fechas y tiempos, así que, convertimos estas columnas al tipo datetime."
   ]
  },
  {
   "cell_type": "markdown",
   "metadata": {},
   "source": [
    "Normalización de Textos en Columnas Categóricas"
   ]
  },
  {
   "cell_type": "code",
   "execution_count": 22,
   "metadata": {},
   "outputs": [],
   "source": [
    "str_cols = api.select_dtypes(include=['object']).columns\n",
    "\n",
    "api[str_cols] = api[str_cols].apply(lambda x: x.str.lower().str.strip())"
   ]
  },
  {
   "cell_type": "markdown",
   "metadata": {},
   "source": [
    "Las discrepancias en el formato de texto, como las diferencias entre mayúsculas y minúsculas o la presencia de espacios en blanco adicionales, pueden crear categorías artificiales que distorsionan el análisis. Por ejemplo, \"CALDAS\", \"Caldas\" y \" caldas \" se tratarían como tres categorías separadas cuando, en realidad, representan la misma entidad.\n",
    "Para abordar estos problemas y garantizar la consistencia en el análisis, realizamos la siguiente normalización en todas las columnas de texto:\n",
    "\n",
    "1.\tConvertimos todas las cadenas de texto a minúsculas, asegurando que la capitalización no cree duplicados artificiales.\n",
    "\n",
    "2.\tEliminamos los espacios en blanco al principio y al final de las cadenas, evitando discrepancias debidas a errores de formato o tipografía.\n"
   ]
  },
  {
   "cell_type": "markdown",
   "metadata": {},
   "source": [
    "Verificación de Valores Nulos"
   ]
  },
  {
   "cell_type": "code",
   "execution_count": 23,
   "metadata": {},
   "outputs": [
    {
     "data": {
      "text/plain": [
       "fecha_terminacion_proyecto      0\n",
       "fecha_de_corte                  0\n",
       "c_digo_divipola_departamento    0\n",
       "departamento                    0\n",
       "c_digo_divipola_municipio       0\n",
       "municipio                       0\n",
       "indicador                       0\n",
       "nombre_proyecto                 0\n",
       "origen                          0\n",
       "aporte_nacion                   0\n",
       "contrapartida                   0\n",
       "estado_seguimiento              0\n",
       "dtype: int64"
      ]
     },
     "execution_count": 23,
     "metadata": {},
     "output_type": "execute_result"
    }
   ],
   "source": [
    "api.isnull().sum()"
   ]
  },
  {
   "cell_type": "markdown",
   "metadata": {},
   "source": [
    "Los resultados confirman que no hay ausencia de datos en ninguna parte del conjunto de datos."
   ]
  },
  {
   "cell_type": "markdown",
   "metadata": {},
   "source": [
    " Filas Duplicadas"
   ]
  },
  {
   "cell_type": "code",
   "execution_count": 24,
   "metadata": {},
   "outputs": [
    {
     "data": {
      "text/plain": [
       "0"
      ]
     },
     "execution_count": 24,
     "metadata": {},
     "output_type": "execute_result"
    }
   ],
   "source": [
    "api.duplicated().sum()"
   ]
  },
  {
   "cell_type": "markdown",
   "metadata": {},
   "source": [
    "El resultado de esta operación es cero, lo que indica que no hay filas duplicadas en nuestro conjunto de datos."
   ]
  },
  {
   "cell_type": "markdown",
   "metadata": {},
   "source": [
    "Análisis de la Distribución de Proyectos por Municipios:"
   ]
  },
  {
   "cell_type": "code",
   "execution_count": 25,
   "metadata": {},
   "outputs": [],
   "source": [
    "api['num_municipios'] = api['c_digo_divipola_municipio'].apply(lambda x: len(x.split(',')))\n"
   ]
  },
  {
   "cell_type": "markdown",
   "metadata": {},
   "source": [
    "La nueva columna num_municipios fue creada para cuantificar el alcance de cada proyecto en términos del número de municipios afectados. En el dataset original, la columna c_digo_divipola_municipio contenía listas de códigos de municipios, indicando que algunos proyectos tienen influencia sobre múltiples localidades. Sin embargo, esta información estaba condensada en una sola cadena de texto, lo cual dificulta realizar análisis estadísticos o comparativos sobre ella."
   ]
  },
  {
   "cell_type": "markdown",
   "metadata": {},
   "source": [
    "Agrupación de Proyectos por Región Geográfica"
   ]
  },
  {
   "cell_type": "code",
   "execution_count": 26,
   "metadata": {},
   "outputs": [
    {
     "data": {
      "text/html": [
       "<div>\n",
       "<style scoped>\n",
       "    .dataframe tbody tr th:only-of-type {\n",
       "        vertical-align: middle;\n",
       "    }\n",
       "\n",
       "    .dataframe tbody tr th {\n",
       "        vertical-align: top;\n",
       "    }\n",
       "\n",
       "    .dataframe thead th {\n",
       "        text-align: right;\n",
       "    }\n",
       "</style>\n",
       "<table border=\"1\" class=\"dataframe\">\n",
       "  <thead>\n",
       "    <tr style=\"text-align: right;\">\n",
       "      <th></th>\n",
       "      <th>departamento</th>\n",
       "      <th>región</th>\n",
       "    </tr>\n",
       "  </thead>\n",
       "  <tbody>\n",
       "    <tr>\n",
       "      <th>0</th>\n",
       "      <td>caqueta</td>\n",
       "      <td>Región Amazonía</td>\n",
       "    </tr>\n",
       "    <tr>\n",
       "      <th>1</th>\n",
       "      <td>boyaca</td>\n",
       "      <td>Región Andina</td>\n",
       "    </tr>\n",
       "    <tr>\n",
       "      <th>2</th>\n",
       "      <td>caldas</td>\n",
       "      <td>Región Andina</td>\n",
       "    </tr>\n",
       "    <tr>\n",
       "      <th>3</th>\n",
       "      <td>caldas</td>\n",
       "      <td>Región Andina</td>\n",
       "    </tr>\n",
       "    <tr>\n",
       "      <th>4</th>\n",
       "      <td>antioquia</td>\n",
       "      <td>Región Andina</td>\n",
       "    </tr>\n",
       "    <tr>\n",
       "      <th>...</th>\n",
       "      <td>...</td>\n",
       "      <td>...</td>\n",
       "    </tr>\n",
       "    <tr>\n",
       "      <th>263</th>\n",
       "      <td>santander</td>\n",
       "      <td>Región Andina</td>\n",
       "    </tr>\n",
       "    <tr>\n",
       "      <th>264</th>\n",
       "      <td>boyaca</td>\n",
       "      <td>Región Andina</td>\n",
       "    </tr>\n",
       "    <tr>\n",
       "      <th>265</th>\n",
       "      <td>casanare</td>\n",
       "      <td>Región Orinoquía</td>\n",
       "    </tr>\n",
       "    <tr>\n",
       "      <th>266</th>\n",
       "      <td>risaralda</td>\n",
       "      <td>Región Andina</td>\n",
       "    </tr>\n",
       "    <tr>\n",
       "      <th>267</th>\n",
       "      <td>la guajira</td>\n",
       "      <td>Región Caribe</td>\n",
       "    </tr>\n",
       "  </tbody>\n",
       "</table>\n",
       "<p>268 rows × 2 columns</p>\n",
       "</div>"
      ],
      "text/plain": [
       "    departamento            región\n",
       "0        caqueta   Región Amazonía\n",
       "1         boyaca     Región Andina\n",
       "2         caldas     Región Andina\n",
       "3         caldas     Región Andina\n",
       "4      antioquia     Región Andina\n",
       "..           ...               ...\n",
       "263    santander     Región Andina\n",
       "264       boyaca     Región Andina\n",
       "265     casanare  Región Orinoquía\n",
       "266    risaralda     Región Andina\n",
       "267   la guajira     Región Caribe\n",
       "\n",
       "[268 rows x 2 columns]"
      ]
     },
     "execution_count": 26,
     "metadata": {},
     "output_type": "execute_result"
    }
   ],
   "source": [
    "region_mapping = {\n",
    "    'CHOCO': 'Región Pacífica',\n",
    "    'CAUCA': 'Región Pacífica',\n",
    "    'NARIÑO': 'Región Pacífica',\n",
    "    'VALLE DEL CAUCA': 'Región Pacífica',\n",
    "    'ARAUCA': 'Región Orinoquía',\n",
    "    'CASANARE': 'Región Orinoquía',\n",
    "    'GUAINÍA': 'Región Orinoquía',\n",
    "    'GUAVIARE': 'Región Orinoquía',\n",
    "    'META': 'Región Orinoquía',\n",
    "    'VICHADA': 'Región Orinoquía',\n",
    "    'AMAZONAS': 'Región Amazonía',\n",
    "    'CAQUETA': 'Región Amazonía',\n",
    "    'PUTUMAYO': 'Región Amazonía',\n",
    "    'VAUPES': 'Región Amazonía',\n",
    "    'ANTIOQUIA': 'Región Andina',\n",
    "    'BOYACA': 'Región Andina',\n",
    "    'CALDAS': 'Región Andina',\n",
    "    'CUNDINAMARCA': 'Región Andina',\n",
    "    'HUILA': 'Región Andina',\n",
    "    'NORTE DE SANTANDER': 'Región Andina',\n",
    "    'QUINDIO': 'Región Andina',\n",
    "    'RISARALDA': 'Región Andina',\n",
    "    'SANTANDER': 'Región Andina',\n",
    "    'TOLIMA': 'Región Andina',\n",
    "    'SAN ANDRES Y PROVIDENCIA': 'Región Insular',\n",
    "    'ATLANTICO': 'Región Caribe',\n",
    "    'BOLIVAR': 'Región Caribe',\n",
    "    'CESAR': 'Región Caribe',\n",
    "    'CORDOBA': 'Región Caribe',\n",
    "    'LA GUAJIRA': 'Región Caribe',\n",
    "    'MAGDALENA': 'Región Caribe',\n",
    "    'SUCRE': 'Región Caribe'\n",
    "}\n",
    "\n",
    "# Corrección de nombres en el dataset\n",
    "api['departamento'] = api['departamento'].replace({\n",
    "    'SAN ANDRES': 'SAN ANDRES Y PROVIDENCIA',\n",
    "    'N DE SANTANDER': 'NORTE DE SANTANDER'\n",
    "})\n",
    "\n",
    "# Aplicación del mapeo para crear la columna de región\n",
    "api['región'] = api['departamento'].str.upper().map(region_mapping)\n",
    "\n",
    "# Manejo de posibles valores no mapeados\n",
    "api['región'] = api['región'].fillna('Región Desconocida')\n",
    "\n",
    "# Mostrar el mapeo aplicado\n",
    "api[['departamento', 'región']]\n",
    "\n"
   ]
  },
  {
   "cell_type": "markdown",
   "metadata": {},
   "source": [
    "La columna creada \"región\", representa una clasificación estratégica de los departamentos en regiones geográficas más amplias. El propósito de esta agrupación es simplificar el análisis de los datos y permitir una interpretación más clara de las tendencias y patrones a un nivel regional, en lugar de hacerlo por departamentos individuales, que son más numerosos y podrían conducir a un análisis más fragmentado y complejo."
   ]
  },
  {
   "cell_type": "markdown",
   "metadata": {},
   "source": []
  },
  {
   "cell_type": "markdown",
   "metadata": {},
   "source": [
    "Distribución de Proyectos por Región Geográfica en Colombia"
   ]
  },
  {
   "cell_type": "code",
   "execution_count": 27,
   "metadata": {},
   "outputs": [
    {
     "name": "stderr",
     "output_type": "stream",
     "text": [
      "C:\\Users\\JSLV3\\AppData\\Local\\Temp\\ipykernel_21160\\406557688.py:6: FutureWarning: \n",
      "\n",
      "Passing `palette` without assigning `hue` is deprecated and will be removed in v0.14.0. Assign the `x` variable to `hue` and set `legend=False` for the same effect.\n",
      "\n",
      "  sns.barplot(x=proyectos_por_region.index, y=proyectos_por_region.values, palette=\"viridis\")\n"
     ]
    },
    {
     "data": {
      "image/png": "[encoded data removed]",
      "text/plain": [
       "<Figure size 800x600 with 1 Axes>"
      ]
     },
     "metadata": {},
     "output_type": "display_data"
    }
   ],
   "source": [
    "proyectos_por_region = api['región'].value_counts()\n",
    "\n",
    "# Configuración del gráfico\n",
    "plt.figure(figsize=(8, 6))\n",
    "\n",
    "sns.barplot(x=proyectos_por_region.index, y=proyectos_por_region.values, palette=\"viridis\")\n",
    "\n",
    "plt.title('Número de Proyectos por Región Geográfica')\n",
    "plt.xlabel('Región Geográfica')\n",
    "plt.ylabel('Cantidad de Proyectos')\n",
    "\n",
    "plt.xticks(rotation=40, ha='right')\n",
    "\n",
    "plt.tight_layout()\n",
    "plt.show()\n"
   ]
  },
  {
   "cell_type": "markdown",
   "metadata": {},
   "source": [
    "Este gráfico de barras ilustra la distribución de una serie de proyectos de infraestructura y desarrollo entre las diversas regiones geográficas de Colombia. La Región Andina lidera con la mayor cantidad de proyectos, lo cual refleja su densidad poblacional y su importancia económica para el país. La Región Caribe sigue en segundo lugar, destacando su papel significativo en el desarrollo regional. Las regiones Pacífica, Orinoquía y Amazonía muestran un menor número de proyectos, lo que puede estar relacionado con factores como la accesibilidad, la población y la economía regional. "
   ]
  },
  {
   "cell_type": "markdown",
   "metadata": {},
   "source": [
    "Estado de Avance de los Proyectos de Infraestructura en Colombia"
   ]
  },
  {
   "cell_type": "code",
   "execution_count": 16,
   "metadata": {},
   "outputs": [
    {
     "name": "stderr",
     "output_type": "stream",
     "text": [
      "C:\\Users\\JSLV3\\AppData\\Local\\Temp\\ipykernel_21160\\3663969950.py:5: FutureWarning: \n",
      "\n",
      "Passing `palette` without assigning `hue` is deprecated and will be removed in v0.14.0. Assign the `x` variable to `hue` and set `legend=False` for the same effect.\n",
      "\n",
      "  sns.barplot(x=estado_seguimiento_counts.index, y=estado_seguimiento_counts.values, palette=\"coolwarm\")\n"
     ]
    },
    {
     "data": {
      "image/png": "[encoded data removed]",
      "text/plain": [
       "<Figure size 800x600 with 1 Axes>"
      ]
     },
     "metadata": {},
     "output_type": "display_data"
    }
   ],
   "source": [
    "estado_seguimiento_counts = api['estado_seguimiento'].value_counts()\n",
    "\n",
    "plt.figure(figsize=(8, 6))\n",
    "\n",
    "sns.barplot(x=estado_seguimiento_counts.index, y=estado_seguimiento_counts.values, palette=\"coolwarm\")\n",
    "\n",
    "plt.title('Distribución del Estado de Seguimiento de los Proyectos')\n",
    "plt.xlabel('Estado de Seguimiento')\n",
    "plt.ylabel('Cantidad de Proyectos')\n",
    "\n",
    "plt.xticks(rotation=45, ha='right')\n",
    "\n",
    "plt.tight_layout()\n",
    "plt.show()"
   ]
  },
  {
   "cell_type": "markdown",
   "metadata": {},
   "source": [
    "La visualización presenta un conteo de los proyectos de infraestructura clasificados según su estado actual de seguimiento en Colombia. Los estados mostrados incluyen \"Terminado\", \"Liquidado\", \"En Liquidación\" y \"Liquidado Contrato Obra\". Este desglose es esencial para evaluar la eficacia y la velocidad del desarrollo de la infraestructura a lo largo del país.\n",
    "\n",
    "La barra más alta corresponde a los proyectos \"Terminados\", lo cual es un indicativo positivo de que muchos proyectos han alcanzado su conclusión satisfactoriamente. La siguiente categoría con mayor cantidad es \"Liquidado\", sugiriendo que un número significativo de proyectos ha pasado por el proceso de cierre formal y están contablemente completos. \"En Liquidación\" representa aquellos proyectos que están en proceso de ser cerrados, mientras que \"Liquidado Contrato Obra\" podría referirse a proyectos que han completado la fase de construcción y están en fases finales administrativas."
   ]
  },
  {
   "cell_type": "markdown",
   "metadata": {},
   "source": [
    "Estado de avance de los proyectos por Región"
   ]
  },
  {
   "cell_type": "code",
   "execution_count": 17,
   "metadata": {},
   "outputs": [
    {
     "data": {
      "image/png": "[encoded data removed]",
      "text/plain": [
       "<Figure size 1400x800 with 1 Axes>"
      ]
     },
     "metadata": {},
     "output_type": "display_data"
    }
   ],
   "source": [
    "pivot_data = api.pivot_table(index='región', columns='estado_seguimiento', aggfunc='size', fill_value=0)\n",
    "\n",
    "pivot_data.plot(kind='bar', stacked=True, figsize=(14, 8), colormap='viridis')\n",
    "\n",
    "plt.title('Estado de Avance de los Proyectos por Región Geográfica')\n",
    "plt.xlabel('Región Geográfica')\n",
    "plt.ylabel('Cantidad de Proyectos')\n",
    "plt.legend(title='Estado de Seguimiento', bbox_to_anchor=(1.05, 1), loc='upper left')\n",
    "\n",
    "plt.tight_layout()\n",
    "\n",
    "plt.show()"
   ]
  },
  {
   "cell_type": "markdown",
   "metadata": {},
   "source": [
    "•\tRegión Andina: Presenta la mayor cantidad de proyectos en todos los estados de seguimiento, lo cual es consistente con ser una región densamente poblada y económicamente activa.\n",
    "\n",
    "•\tRegión Caribe: Sigue en número de proyectos, pero con una notable cantidad de proyectos \"terminados\", señalando una alta tasa de finalización.\n",
    "\n",
    "•\tRegión Pacífica: Aunque tiene menos proyectos en comparación con las regiones Andina y Caribe, hay un balance significativo entre proyectos \"terminados\" y aquellos aún en fases de cierre financiero y administrativo.\n",
    "\n",
    "•\tRegiones Orinoquía y Amazonía: Muestran volúmenes menores de proyectos, reflejando posiblemente desafíos logísticos o de priorización en estas áreas más remotas. La presencia de proyectos \"liquidado contrato obra\" indica proyectos que han completado la fase constructiva.\n"
   ]
  },
  {
   "cell_type": "code",
   "execution_count": 28,
   "metadata": {},
   "outputs": [
    {
     "name": "stdout",
     "output_type": "stream",
     "text": [
      "<class 'pandas.core.frame.DataFrame'>\n",
      "RangeIndex: 268 entries, 0 to 267\n",
      "Data columns (total 14 columns):\n",
      " #   Column                        Non-Null Count  Dtype         \n",
      "---  ------                        --------------  -----         \n",
      " 0   fecha_terminacion_proyecto    268 non-null    datetime64[ns]\n",
      " 1   fecha_de_corte                268 non-null    datetime64[ns]\n",
      " 2   c_digo_divipola_departamento  268 non-null    int64         \n",
      " 3   departamento                  268 non-null    object        \n",
      " 4   c_digo_divipola_municipio     268 non-null    object        \n",
      " 5   municipio                     268 non-null    object        \n",
      " 6   indicador                     268 non-null    object        \n",
      " 7   nombre_proyecto               268 non-null    object        \n",
      " 8   origen                        268 non-null    object        \n",
      " 9   aporte_nacion                 268 non-null    int64         \n",
      " 10  contrapartida                 268 non-null    int64         \n",
      " 11  estado_seguimiento            268 non-null    object        \n",
      " 12  num_municipios                268 non-null    int64         \n",
      " 13  región                        268 non-null    object        \n",
      "dtypes: datetime64[ns](2), int64(4), object(8)\n",
      "memory usage: 29.4+ KB\n",
      "None\n"
     ]
    }
   ],
   "source": [
    "api.to_csv('api_done.csv', index=False)\n",
    "print(api.info())"
   ]
  }
 ],
 "metadata": {
  "kernelspec": {
   "display_name": "Python 3",
   "language": "python",
   "name": "python3"
  },
  "language_info": {
   "codemirror_mode": {
    "name": "ipython",
    "version": 3
   },
   "file_extension": ".py",
   "mimetype": "text/x-python",
   "name": "python",
   "nbconvert_exporter": "python",
   "pygments_lexer": "ipython3",
   "version": "3.12.2"
  }
 },
 "nbformat": 4,
 "nbformat_minor": 2
}
