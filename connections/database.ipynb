{
 "cells": [
  {
   "cell_type": "code",
   "execution_count": 1,
   "metadata": {},
   "outputs": [],
   "source": [
    "import json\n",
    "import psycopg2\n",
    "import pandas as pd\n",
    "import datetime"
   ]
  },
  {
   "cell_type": "code",
   "execution_count": 2,
   "metadata": {},
   "outputs": [],
   "source": [
    "water = pd.read_csv('watersucia.csv', sep=';')"
   ]
  },
  {
   "cell_type": "code",
   "execution_count": 3,
   "metadata": {},
   "outputs": [
    {
     "name": "stdout",
     "output_type": "stream",
     "text": [
      "Base de datos db_water creada exitosamente!\n"
     ]
    }
   ],
   "source": [
    "def read_db_config(filename):\n",
    "    with open(filename, 'r') as file:\n",
    "        return json.load(file)\n",
    "\n",
    "def create_database(config):\n",
    "    connection = None\n",
    "    try:\n",
    "        connection = psycopg2.connect(\n",
    "            host=config['host'],\n",
    "            user=config['user'],\n",
    "            password=config['password']\n",
    "        )\n",
    "        connection.autocommit = True\n",
    "        cursor = connection.cursor()\n",
    "\n",
    "        cursor.execute(\"SELECT 1 FROM pg_database WHERE datname='db_water';\")\n",
    "        if cursor.fetchone():\n",
    "            print(\"La base de datos db_water ya existe.\")\n",
    "        else:\n",
    "            cursor.execute(\"CREATE DATABASE db_water;\")\n",
    "            print(\"Base de datos db_water creada exitosamente!\")\n",
    "\n",
    "        cursor.close()\n",
    "    except psycopg2.Error as e:\n",
    "        print(f\"No se puede crear la base de datos: {e}\")\n",
    "    finally:\n",
    "        if connection:\n",
    "            connection.close()\n",
    "\n",
    "if __name__ == \"__main__\":\n",
    "    config = read_db_config('db_config.json')\n",
    "    create_database(config)\n"
   ]
  },
  {
   "cell_type": "code",
   "execution_count": 4,
   "metadata": {},
   "outputs": [
    {
     "name": "stdout",
     "output_type": "stream",
     "text": [
      "Tabla creada con éxito.\n"
     ]
    }
   ],
   "source": [
    "def create_table(config, db_name):\n",
    "    connection = None\n",
    "    try:\n",
    "\n",
    "        config['database'] = db_name\n",
    "        connection = psycopg2.connect(**config)\n",
    "        cursor = connection.cursor()\n",
    "        cursor.execute(\"\"\"\n",
    "            CREATE TABLE IF NOT EXISTS water_table (\n",
    "                \"Año\" DATE,\n",
    "                \"NombreDepartamento\" VARCHAR(255),\n",
    "                \"Div_dpto\" INT,\n",
    "                \"NombreMunicipio\" VARCHAR(255),\n",
    "                \"Divi_muni\" INT,\n",
    "                \"IrcaMinimo\" FLOAT,\n",
    "                \"IrcaMaximo\" FLOAT,\n",
    "                \"IrcaPromedio\" FLOAT,\n",
    "                \"NombreParametroAnalisis2\" VARCHAR(255),\n",
    "                \"MuestrasEvaluadas\" INT,\n",
    "                \"MuestrasTratadas\" INT,\n",
    "                \"MuestrasSinTratar\" INT,\n",
    "                \"NumeroParametrosMinimo\" INT,\n",
    "                \"NumeroParametrosMaximo\" INT,\n",
    "                \"NumeroParametrosPromedio\" INT,\n",
    "                \"ResultadoMinimo\" FLOAT,\n",
    "                \"ResultadoMaximo\" FLOAT,\n",
    "                \"ResultadoPromedio\" FLOAT\n",
    "            );\n",
    "        \"\"\")\n",
    "        print(\"Tabla creada con éxito.\")\n",
    "        connection.commit()\n",
    "        cursor.close()\n",
    "    except psycopg2.Error as e:\n",
    "        print(f\"No se puede crear la tabla: {e}\")\n",
    "    finally:\n",
    "        if connection:\n",
    "            connection.close()\n",
    "\n",
    "if __name__ == \"__main__\":\n",
    "    config = read_db_config('db_config.json')\n",
    "    db_name = 'db_water'\n",
    "    create_table(config, db_name)\n",
    "\n"
   ]
  },
  {
   "cell_type": "code",
   "execution_count": 6,
   "metadata": {},
   "outputs": [
    {
     "name": "stdout",
     "output_type": "stream",
     "text": [
      "Datos insertados exitosamente\n"
     ]
    },
    {
     "ename": "",
     "evalue": "",
     "output_type": "error",
     "traceback": [
      "\u001b[1;31mThe Kernel crashed while executing code in the current cell or a previous cell. \n",
      "\u001b[1;31mPlease review the code in the cell(s) to identify a possible cause of the failure. \n",
      "\u001b[1;31mClick <a href='https://aka.ms/vscodeJupyterKernelCrash'>here</a> for more info. \n",
      "\u001b[1;31mView Jupyter <a href='command:jupyter.viewOutput'>log</a> for further details."
     ]
    }
   ],
   "source": [
    "def insertar_datos(water, config, db_name):\n",
    "    connection = None\n",
    "    try:\n",
    "        config['database'] = db_name\n",
    "        connection = psycopg2.connect(**config)\n",
    "        cursor = connection.cursor()\n",
    "        query = \"\"\"\n",
    "        INSERT INTO water_table (\"Año\", \"NombreDepartamento\", \"Div_dpto\", \"NombreMunicipio\", \"Divi_muni\", \"IrcaMinimo\", \"IrcaMaximo\", \"IrcaPromedio\", \"NombreParametroAnalisis2\", \"MuestrasEvaluadas\", \"MuestrasTratadas\", \"MuestrasSinTratar\", \"NumeroParametrosMinimo\", \"NumeroParametrosMaximo\", \"NumeroParametrosPromedio\", \"ResultadoMinimo\", \"ResultadoMaximo\", \"ResultadoPromedio\")\n",
    "        VALUES (%s, %s, %s, %s, %s, %s, %s, %s, %s, %s, %s, %s, %s, %s, %s, %s, %s, %s)\n",
    "        \"\"\"\n",
    "        for index, row in water.iterrows():\n",
    "            year = datetime.date(int(row[\"Año\"]), 1, 1)\n",
    "            def convert_decimal(value):\n",
    "                return float(str(value).replace(',', '.')) if pd.notnull(value) else None\n",
    "            \n",
    "            data = (\n",
    "                year,\n",
    "                row[\"NombreDepartamento\"],\n",
    "                row[\"Div_dpto\"],\n",
    "                row[\"NombreMunicipio\"],\n",
    "                row[\"Divi_muni\"],\n",
    "                convert_decimal(row[\"IrcaMinimo\"]),\n",
    "                convert_decimal(row[\"IrcaMaximo\"]),\n",
    "                convert_decimal(row[\"IrcaPromedio\"]),\n",
    "                row[\"NombreParametroAnalisis2\"],\n",
    "                row[\"MuestrasEvaluadas\"],\n",
    "                row[\"MuestrasTratadas\"],\n",
    "                row[\"MuestrasSinTratar\"],\n",
    "                row[\"NumeroParametrosMinimo\"],\n",
    "                row[\"NumeroParametrosMaximo\"],\n",
    "                row[\"NumeroParametrosPromedio\"],\n",
    "                convert_decimal(row[\"ResultadoMinimo\"]),\n",
    "                convert_decimal(row[\"ResultadoMaximo\"]),\n",
    "                convert_decimal(row[\"ResultadoPromedio\"])\n",
    "            )\n",
    "            \n",
    "            cursor.execute(query, data)\n",
    "        connection.commit()\n",
    "        print(\"Datos insertados exitosamente\")\n",
    "    except psycopg2.Error as e:\n",
    "        print(f\"No se puede insertar los datos: {e}\")\n",
    "    finally:\n",
    "        if connection:\n",
    "            connection.close()\n",
    "\n",
    "if __name__ == \"__main__\":\n",
    "    config = read_db_config('db_config.json')\n",
    "    db_name = 'db_water'\n",
    "    insertar_datos(water, config, db_name)\n",
    "  "
   ]
  }
 ],
 "metadata": {
  "kernelspec": {
   "display_name": "Python 3",
   "language": "python",
   "name": "python3"
  },
  "language_info": {
   "codemirror_mode": {
    "name": "ipython",
    "version": 3
   },
   "file_extension": ".py",
   "mimetype": "text/x-python",
   "name": "python",
   "nbconvert_exporter": "python",
   "pygments_lexer": "ipython3",
   "version": "3.11.5"
  }
 },
 "nbformat": 4,
 "nbformat_minor": 2
}
