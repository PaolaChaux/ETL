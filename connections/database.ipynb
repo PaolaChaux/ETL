{
 "cells": [
  {
   "cell_type": "code",
   "execution_count": 1,
   "metadata": {},
   "outputs": [],
   "source": [
    "import json\n",
    "import psycopg2\n",
    "import pandas as pd\n",
    "import datetime"
   ]
  },
  {
   "cell_type": "code",
   "execution_count": 5,
   "metadata": {},
   "outputs": [],
   "source": [
    "water = pd.read_csv('C:/Users/JSLV3/Documents/5to Semestre/ETL/Proyecto Water Quality/1ra parte/watersucia.csv', sep=';')\n"
   ]
  },
  {
   "cell_type": "code",
   "execution_count": 7,
   "metadata": {},
   "outputs": [
    {
     "ename": "FileNotFoundError",
     "evalue": "[Errno 2] No such file or directory: 'db_config.json'",
     "output_type": "error",
     "traceback": [
      "\u001b[1;31m---------------------------------------------------------------------------\u001b[0m",
      "\u001b[1;31mFileNotFoundError\u001b[0m                         Traceback (most recent call last)",
      "Cell \u001b[1;32mIn[7], line 35\u001b[0m\n\u001b[0;32m     32\u001b[0m             connection\u001b[38;5;241m.\u001b[39mclose()\n\u001b[0;32m     34\u001b[0m \u001b[38;5;28;01mif\u001b[39;00m \u001b[38;5;18m__name__\u001b[39m \u001b[38;5;241m==\u001b[39m \u001b[38;5;124m\"\u001b[39m\u001b[38;5;124m__main__\u001b[39m\u001b[38;5;124m\"\u001b[39m:\n\u001b[1;32m---> 35\u001b[0m     config \u001b[38;5;241m=\u001b[39m \u001b[43mread_db_config\u001b[49m\u001b[43m(\u001b[49m\u001b[38;5;124;43m'\u001b[39;49m\u001b[38;5;124;43mdb_config.json\u001b[39;49m\u001b[38;5;124;43m'\u001b[39;49m\u001b[43m)\u001b[49m\n\u001b[0;32m     36\u001b[0m     create_database(config)\n",
      "Cell \u001b[1;32mIn[7], line 2\u001b[0m, in \u001b[0;36mread_db_config\u001b[1;34m(filename)\u001b[0m\n\u001b[0;32m      1\u001b[0m \u001b[38;5;28;01mdef\u001b[39;00m \u001b[38;5;21mread_db_config\u001b[39m(filename):\n\u001b[1;32m----> 2\u001b[0m     \u001b[38;5;28;01mwith\u001b[39;00m \u001b[38;5;28;43mopen\u001b[39;49m\u001b[43m(\u001b[49m\u001b[43mfilename\u001b[49m\u001b[43m,\u001b[49m\u001b[43m \u001b[49m\u001b[38;5;124;43m'\u001b[39;49m\u001b[38;5;124;43mr\u001b[39;49m\u001b[38;5;124;43m'\u001b[39;49m\u001b[43m)\u001b[49m \u001b[38;5;28;01mas\u001b[39;00m file:\n\u001b[0;32m      3\u001b[0m         \u001b[38;5;28;01mreturn\u001b[39;00m json\u001b[38;5;241m.\u001b[39mload(file)\n",
      "File \u001b[1;32m~\\AppData\\Roaming\\Python\\Python312\\site-packages\\IPython\\core\\interactiveshell.py:324\u001b[0m, in \u001b[0;36m_modified_open\u001b[1;34m(file, *args, **kwargs)\u001b[0m\n\u001b[0;32m    317\u001b[0m \u001b[38;5;28;01mif\u001b[39;00m file \u001b[38;5;129;01min\u001b[39;00m {\u001b[38;5;241m0\u001b[39m, \u001b[38;5;241m1\u001b[39m, \u001b[38;5;241m2\u001b[39m}:\n\u001b[0;32m    318\u001b[0m     \u001b[38;5;28;01mraise\u001b[39;00m \u001b[38;5;167;01mValueError\u001b[39;00m(\n\u001b[0;32m    319\u001b[0m         \u001b[38;5;124mf\u001b[39m\u001b[38;5;124m\"\u001b[39m\u001b[38;5;124mIPython won\u001b[39m\u001b[38;5;124m'\u001b[39m\u001b[38;5;124mt let you open fd=\u001b[39m\u001b[38;5;132;01m{\u001b[39;00mfile\u001b[38;5;132;01m}\u001b[39;00m\u001b[38;5;124m by default \u001b[39m\u001b[38;5;124m\"\u001b[39m\n\u001b[0;32m    320\u001b[0m         \u001b[38;5;124m\"\u001b[39m\u001b[38;5;124mas it is likely to crash IPython. If you know what you are doing, \u001b[39m\u001b[38;5;124m\"\u001b[39m\n\u001b[0;32m    321\u001b[0m         \u001b[38;5;124m\"\u001b[39m\u001b[38;5;124myou can use builtins\u001b[39m\u001b[38;5;124m'\u001b[39m\u001b[38;5;124m open.\u001b[39m\u001b[38;5;124m\"\u001b[39m\n\u001b[0;32m    322\u001b[0m     )\n\u001b[1;32m--> 324\u001b[0m \u001b[38;5;28;01mreturn\u001b[39;00m \u001b[43mio_open\u001b[49m\u001b[43m(\u001b[49m\u001b[43mfile\u001b[49m\u001b[43m,\u001b[49m\u001b[43m \u001b[49m\u001b[38;5;241;43m*\u001b[39;49m\u001b[43margs\u001b[49m\u001b[43m,\u001b[49m\u001b[43m \u001b[49m\u001b[38;5;241;43m*\u001b[39;49m\u001b[38;5;241;43m*\u001b[39;49m\u001b[43mkwargs\u001b[49m\u001b[43m)\u001b[49m\n",
      "\u001b[1;31mFileNotFoundError\u001b[0m: [Errno 2] No such file or directory: 'db_config.json'"
     ]
    }
   ],
   "source": [
    "def read_db_config(filename):\n",
    "    with open(filename, 'r') as file:\n",
    "        return json.load(file)\n",
    "\n",
    "def create_database(config):\n",
    "    connection = None\n",
    "    try:\n",
    "        connection = psycopg2.connect(\n",
    "            host =\"localhost\",\n",
    "            user = \"admisteven\",\n",
    "            password = \"Steven12345\",\n",
    "            dbname = \"water\",\n",
    "            port = \"5433\"\n",
    "  \n",
    "        )\n",
    "        \n",
    "        connection.autocommit = True\n",
    "        cursor = connection.cursor()\n",
    "\n",
    "        cursor.execute(\"SELECT 1 FROM pg_database WHERE datname='water';\")\n",
    "        if cursor.fetchone():\n",
    "            print(\"La base de datos db_water ya existe.\")\n",
    "        else:\n",
    "            cursor.execute(\"CREATE DATABASE db_water;\")\n",
    "            print(\"Base de datos db_water creada exitosamente!\")\n",
    "\n",
    "        cursor.close()\n",
    "    except psycopg2.Error as e:\n",
    "        print(f\"No se puede crear la base de datos: {e}\")\n",
    "    finally:\n",
    "        if connection:\n",
    "            connection.close()\n",
    "\n",
    "if __name__ == \"__main__\":\n",
    "    config = read_db_config('db_config.json')\n",
    "    create_database(config)\n"
   ]
  },
  {
   "cell_type": "code",
   "execution_count": 8,
   "metadata": {},
   "outputs": [
    {
     "ename": "NameError",
     "evalue": "name 'config' is not defined",
     "output_type": "error",
     "traceback": [
      "\u001b[1;31m---------------------------------------------------------------------------\u001b[0m",
      "\u001b[1;31mNameError\u001b[0m                                 Traceback (most recent call last)",
      "Cell \u001b[1;32mIn[8], line 48\u001b[0m\n\u001b[0;32m     46\u001b[0m \u001b[38;5;28;01mif\u001b[39;00m \u001b[38;5;18m__name__\u001b[39m \u001b[38;5;241m==\u001b[39m \u001b[38;5;124m\"\u001b[39m\u001b[38;5;124m__main__\u001b[39m\u001b[38;5;124m\"\u001b[39m:\n\u001b[0;32m     47\u001b[0m     db_name \u001b[38;5;241m=\u001b[39m \u001b[38;5;124m'\u001b[39m\u001b[38;5;124mwater\u001b[39m\u001b[38;5;124m'\u001b[39m\n\u001b[1;32m---> 48\u001b[0m     \u001b[43mcreate_table\u001b[49m\u001b[43m(\u001b[49m\u001b[43mdb_name\u001b[49m\u001b[43m)\u001b[49m\n",
      "Cell \u001b[1;32mIn[8], line 5\u001b[0m, in \u001b[0;36mcreate_table\u001b[1;34m(db_name)\u001b[0m\n\u001b[0;32m      2\u001b[0m connection \u001b[38;5;241m=\u001b[39m \u001b[38;5;28;01mNone\u001b[39;00m\n\u001b[0;32m      3\u001b[0m \u001b[38;5;28;01mtry\u001b[39;00m:\n\u001b[1;32m----> 5\u001b[0m     \u001b[43mconfig\u001b[49m[\u001b[38;5;124m'\u001b[39m\u001b[38;5;124mdatabase\u001b[39m\u001b[38;5;124m'\u001b[39m] \u001b[38;5;241m=\u001b[39m db_name\n\u001b[0;32m      6\u001b[0m     connection \u001b[38;5;241m=\u001b[39m psycopg2\u001b[38;5;241m.\u001b[39mconnect(\n\u001b[0;32m      7\u001b[0m         host \u001b[38;5;241m=\u001b[39m\u001b[38;5;124m\"\u001b[39m\u001b[38;5;124mlocalhost\u001b[39m\u001b[38;5;124m\"\u001b[39m,\n\u001b[0;32m      8\u001b[0m         user \u001b[38;5;241m=\u001b[39m \u001b[38;5;124m\"\u001b[39m\u001b[38;5;124madmisteven\u001b[39m\u001b[38;5;124m\"\u001b[39m,\n\u001b[1;32m   (...)\u001b[0m\n\u001b[0;32m     12\u001b[0m \n\u001b[0;32m     13\u001b[0m     )\n\u001b[0;32m     14\u001b[0m     cursor \u001b[38;5;241m=\u001b[39m connection\u001b[38;5;241m.\u001b[39mcursor()\n",
      "\u001b[1;31mNameError\u001b[0m: name 'config' is not defined"
     ]
    }
   ],
   "source": [
    "def create_table(db_name):\n",
    "    connection = None\n",
    "    try:\n",
    "        connection = psycopg2.connect(\n",
    "            host =\"localhost\",\n",
    "            user = \"admisteven\",\n",
    "            password = \"Steven12345\",\n",
    "            database = \"water\",\n",
    "            port = \"5433\"\n",
    "  \n",
    "        )\n",
    "        cursor = connection.cursor()\n",
    "        cursor.execute(\"\"\"\n",
    "            CREATE TABLE IF NOT EXISTS water_table (\n",
    "                \"Año\" DATE,\n",
    "                \"NombreDepartamento\" VARCHAR(255),\n",
    "                \"Div_dpto\" INT,\n",
    "                \"NombreMunicipio\" VARCHAR(255),\n",
    "                \"Divi_muni\" INT,\n",
    "                \"IrcaMinimo\" FLOAT,\n",
    "                \"IrcaMaximo\" FLOAT,\n",
    "                \"IrcaPromedio\" FLOAT,\n",
    "                \"NombreParametroAnalisis2\" VARCHAR(255),\n",
    "                \"MuestrasEvaluadas\" INT,\n",
    "                \"MuestrasTratadas\" INT,\n",
    "                \"MuestrasSinTratar\" INT,\n",
    "                \"NumeroParametrosMinimo\" INT,\n",
    "                \"NumeroParametrosMaximo\" INT,\n",
    "                \"NumeroParametrosPromedio\" INT,\n",
    "                \"ResultadoMinimo\" FLOAT,\n",
    "                \"ResultadoMaximo\" FLOAT,\n",
    "                \"ResultadoPromedio\" FLOAT\n",
    "            );\n",
    "        \"\"\")\n",
    "        print(\"Tabla creada con éxito.\")\n",
    "        connection.commit()\n",
    "        cursor.close()\n",
    "    except psycopg2.Error as e:\n",
    "        print(f\"No se puede crear la tabla: {e}\")\n",
    "    finally:\n",
    "        if connection:\n",
    "            connection.close()\n",
    "\n",
    "if __name__ == \"__main__\":\n",
    "    db_name = 'water'\n",
    "    create_table(db_name)\n",
    "\n"
   ]
  },
  {
   "cell_type": "code",
   "execution_count": 6,
   "metadata": {},
   "outputs": [
    {
     "name": "stdout",
     "output_type": "stream",
     "text": [
      "Datos insertados exitosamente\n"
     ]
    },
    {
     "ename": "",
     "evalue": "",
     "output_type": "error",
     "traceback": [
      "\u001b[1;31mThe Kernel crashed while executing code in the current cell or a previous cell. \n",
      "\u001b[1;31mPlease review the code in the cell(s) to identify a possible cause of the failure. \n",
      "\u001b[1;31mClick <a href='https://aka.ms/vscodeJupyterKernelCrash'>here</a> for more info. \n",
      "\u001b[1;31mView Jupyter <a href='command:jupyter.viewOutput'>log</a> for further details."
     ]
    }
   ],
   "source": [
    "def insertar_datos(water, config, db_name):\n",
    "    connection = None\n",
    "    try:\n",
    "        config['database'] = db_name\n",
    "        connection = psycopg2.connect(**config)\n",
    "        cursor = connection.cursor()\n",
    "        query = \"\"\"\n",
    "        INSERT INTO water_table (\"Año\", \"NombreDepartamento\", \"Div_dpto\", \"NombreMunicipio\", \"Divi_muni\", \"IrcaMinimo\", \"IrcaMaximo\", \"IrcaPromedio\", \"NombreParametroAnalisis2\", \"MuestrasEvaluadas\", \"MuestrasTratadas\", \"MuestrasSinTratar\", \"NumeroParametrosMinimo\", \"NumeroParametrosMaximo\", \"NumeroParametrosPromedio\", \"ResultadoMinimo\", \"ResultadoMaximo\", \"ResultadoPromedio\")\n",
    "        VALUES (%s, %s, %s, %s, %s, %s, %s, %s, %s, %s, %s, %s, %s, %s, %s, %s, %s, %s)\n",
    "        \"\"\"\n",
    "        for index, row in water.iterrows():\n",
    "            year = datetime.date(int(row[\"Año\"]), 1, 1)\n",
    "            def convert_decimal(value):\n",
    "                return float(str(value).replace(',', '.')) if pd.notnull(value) else None\n",
    "            \n",
    "            data = (\n",
    "                year,\n",
    "                row[\"NombreDepartamento\"],\n",
    "                row[\"Div_dpto\"],\n",
    "                row[\"NombreMunicipio\"],\n",
    "                row[\"Divi_muni\"],\n",
    "                convert_decimal(row[\"IrcaMinimo\"]),\n",
    "                convert_decimal(row[\"IrcaMaximo\"]),\n",
    "                convert_decimal(row[\"IrcaPromedio\"]),\n",
    "                row[\"NombreParametroAnalisis2\"],\n",
    "                row[\"MuestrasEvaluadas\"],\n",
    "                row[\"MuestrasTratadas\"],\n",
    "                row[\"MuestrasSinTratar\"],\n",
    "                row[\"NumeroParametrosMinimo\"],\n",
    "                row[\"NumeroParametrosMaximo\"],\n",
    "                row[\"NumeroParametrosPromedio\"],\n",
    "                convert_decimal(row[\"ResultadoMinimo\"]),\n",
    "                convert_decimal(row[\"ResultadoMaximo\"]),\n",
    "                convert_decimal(row[\"ResultadoPromedio\"])\n",
    "            )\n",
    "            \n",
    "            cursor.execute(query, data)\n",
    "        connection.commit()\n",
    "        print(\"Datos insertados exitosamente\")\n",
    "    except psycopg2.Error as e:\n",
    "        print(f\"No se puede insertar los datos: {e}\")\n",
    "    finally:\n",
    "        if connection:\n",
    "            connection.close()\n",
    "\n",
    "if __name__ == \"__main__\":\n",
    "    config = read_db_config('db_config.json')\n",
    "    db_name = 'db_water'\n",
    "    insertar_datos(water, config, db_name)\n",
    "  "
   ]
  }
 ],
 "metadata": {
  "kernelspec": {
   "display_name": "Python 3",
   "language": "python",
   "name": "python3"
  },
  "language_info": {
   "codemirror_mode": {
    "name": "ipython",
    "version": 3
   },
   "file_extension": ".py",
   "mimetype": "text/x-python",
   "name": "python",
   "nbconvert_exporter": "python",
   "pygments_lexer": "ipython3",
   "version": "3.12.2"
  }
 },
 "nbformat": 4,
 "nbformat_minor": 2
}
